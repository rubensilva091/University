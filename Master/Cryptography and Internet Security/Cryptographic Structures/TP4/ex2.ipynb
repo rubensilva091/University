{
 "cells": [
  {
   "cell_type": "markdown",
   "id": "b62e749e",
   "metadata": {},
   "source": [
    "# Exercício 2 (BIKE) - Trabalho Prático 3\n",
    "\n",
    "**Grupo 6:** \n",
    "\n",
    "\n",
    "Ruben Silva - pg57900\n",
    "\n",
    "Luís Costa - pg55970"
   ]
  },
  {
   "cell_type": "markdown",
   "id": "aa91056e",
   "metadata": {},
   "source": [
    "### imports"
   ]
  },
  {
   "cell_type": "code",
   "execution_count": null,
   "id": "6da63ff5",
   "metadata": {},
   "outputs": [],
   "source": [
    "import hashlib\n",
    "import os\n",
    "from sage.all import GF, PolynomialRing, ceil\n",
    "import math\n"
   ]
  },
  {
   "cell_type": "markdown",
   "id": "049ea21d",
   "metadata": {},
   "source": [
    "### Paramêtros"
   ]
  },
  {
   "cell_type": "markdown",
   "id": "7b3607b1",
   "metadata": {},
   "source": [
    "**Tamanho Polinomial**  $\\rightarrow$ $r = 12323$: .\n",
    "\n",
    "**Row weight** ($w/2 = 71$)  $\\rightarrow$ $w = 142$: .\n",
    "\n",
    "**Error weight** $\\rightarrow$ $t = 134$: .\n",
    "\n",
    "**Length of $m$, $\\sigma$, and $K$**. $\\rightarrow$ $\\ell = 256$: \n"
   ]
  },
  {
   "cell_type": "code",
   "execution_count": null,
   "id": "c7c9663e",
   "metadata": {},
   "outputs": [],
   "source": [
    "# Parametros\n",
    "# Tamanho do anel\n",
    "r = 12323\n",
    "w = 142    # Row weight\n",
    "t = 134    # Error weight\n",
    "ell = 256  # Shared secret size in bits\n",
    "\n",
    "# Anel R = F₂[X] / (Xʳ - 1)\n",
    "F2 = GF(2)          # Campo finito com 2 elementos\n",
    "P = PolynomialRing(F2, 'x')  # Anel de polinômios F₂[x]\n",
    "x = P.gen()         # Gerador do anel de polinômios\n",
    "R = P.quotient(x**r - 1)  # Anel quociente F₂[x]/(x^r - 1)"
   ]
  },
  {
   "cell_type": "markdown",
   "id": "74adbc11",
   "metadata": {},
   "source": [
    "## Funções Auxiliares"
   ]
  },
  {
   "cell_type": "markdown",
   "id": "9da75c81",
   "metadata": {},
   "source": [
    "`poly_to_bytes`\n",
    "1. Converte um polinômio em uma sequência de bytes:\n",
    "    * Garante que os coeficientes tenham o comprimento correto;\n",
    "    * Transforma em uma string de bits e converte em bytes."
   ]
  },
  {
   "cell_type": "code",
   "execution_count": null,
   "id": "4c77d741",
   "metadata": {},
   "outputs": [],
   "source": [
    "def poly_to_bytes(p, length):\n",
    "    # Converter o Coeficiente do polinômio para uma string de bits\n",
    "    coeffs = p.list() + [0] * (length - len(p.list())) \n",
    "\n",
    "    # Juntar os coeficientes em uma string de bits\n",
    "    bitstr = ''.join(str(int(c)) for c in coeffs)\n",
    "\n",
    "    # Calcular o comprimento necessário em bytes\n",
    "    byte_length = ceil(length / 8)\n",
    "\n",
    "    # Preencher com zeros se necessário\n",
    "    padded_bitstr = bitstr.ljust(byte_length * 8, '0')\n",
    "\n",
    "    # Converter a string de bits em bytes\n",
    "    return bytes(int(padded_bitstr[i:i+8], 2) for i in range(0, len(padded_bitstr), 8))\n",
    "\n"
   ]
  },
  {
   "cell_type": "markdown",
   "id": "ff5b04cf",
   "metadata": {},
   "source": [
    "`xor_bytes`\n",
    "1. Realiza o XOR entre duas sequências de bytes."
   ]
  },
  {
   "cell_type": "code",
   "execution_count": null,
   "id": "33b6967d",
   "metadata": {},
   "outputs": [],
   "source": [
    "def xor_bytes(a, b):\n",
    "    return bytes(x ^ y for x, y in zip(a, b))"
   ]
  },
  {
   "cell_type": "markdown",
   "id": "14ed275d",
   "metadata": {},
   "source": [
    "`WSHAKE256_PRF`\n",
    "1. Gera posições distintas para polinômios esparsos usando SHAKE256:\n",
    "\n",
    "    * Utiliza hashlib.shake_256 para gerar bytes;\n",
    "    * Converte em inteiros de 32 bits;\n",
    "    * Calcula posições distintas com base na especificação."
   ]
  },
  {
   "cell_type": "code",
   "execution_count": null,
   "id": "48b5a60c",
   "metadata": {},
   "outputs": [],
   "source": [
    "def WSHAKE256_PRF(seed, length, wt):\n",
    "\n",
    "    # Shake256\n",
    "    shake = hashlib.shake_256()\n",
    "    shake.update(seed)\n",
    "    stream_bytes = shake.digest(wt * 4)  # wt 32-bit ints\n",
    "\n",
    "    # Converter o stream de bytes em inteiros\n",
    "    s = [int.from_bytes(stream_bytes[i*4:(i+1)*4], 'big') for i in range(wt)]\n",
    "    wlist = []\n",
    "    present = set()\n",
    "\n",
    "    # Gerar a lista de posições\n",
    "    for i in range(wt - 1, -1, -1):\n",
    "        pos = i + (length - i) * s[i] // 2**32\n",
    "        if pos not in present and pos < length:\n",
    "            wlist.append(pos)\n",
    "            present.add(pos)\n",
    "        else:\n",
    "            wlist.append(i)\n",
    "            present.add(i)\n",
    "    return wlist"
   ]
  },
  {
   "cell_type": "markdown",
   "id": "e4e1083b",
   "metadata": {},
   "source": [
    "`sample_polynomial_from_positions`\n",
    "1. Cria um polinômio em $\\mathcal{R}$ com coeficientes 1 nas posições indicadas"
   ]
  },
  {
   "cell_type": "code",
   "execution_count": null,
   "id": "d55a1ed7",
   "metadata": {},
   "outputs": [],
   "source": [
    "def sample_polynomial_from_positions(positions, length):\n",
    "    # Criar um polinômio com coeficientes 0  de comprimento 'length'\n",
    "    coeffs = [0] * length\n",
    "\n",
    "    # Definir os coeficientes 1 nas posições especificadas\n",
    "    for pos in positions:\n",
    "        coeffs[pos] = 1\n",
    "    \n",
    "    # Criar o polinômio a partir dos coeficientes\n",
    "    return R(P(coeffs))"
   ]
  },
  {
   "cell_type": "markdown",
   "id": "9ee1ffd2",
   "metadata": {},
   "source": [
    "### Hashing Functions"
   ]
  },
  {
   "cell_type": "markdown",
   "id": "e7522f59",
   "metadata": {},
   "source": [
    "`H(m, r, t)`\n",
    "\n",
    "1. Mapeia uma mensagem de 256 bits para dois polinômios $(\\mathbf{e}_0, \\mathbf{e}_1)$ com peso total $t$:\n",
    "\n",
    "    * Usa WSHAKE256_PRF para gerar $t$ posições distintas;\n",
    "    * Distribui as posições entre $\\mathbf{e}_0$ e $\\mathbf{e}_1$."
   ]
  },
  {
   "cell_type": "code",
   "execution_count": null,
   "id": "a7b99e56",
   "metadata": {},
   "outputs": [],
   "source": [
    "# Hash function H: {0,1}²⁵⁶ → E_t\n",
    "def H(m, r, t):\n",
    "    positions = WSHAKE256_PRF(m, 2 * r, t)\n",
    "    e0_coeffs = [0] * r\n",
    "    e1_coeffs = [0] * r\n",
    "    for pos in positions:\n",
    "        if pos < r:\n",
    "            e0_coeffs[pos] = 1\n",
    "        else:\n",
    "            e1_coeffs[pos - r] = 1\n",
    "    e0 = R(P(e0_coeffs))\n",
    "    e1 = R(P(e1_coeffs))\n",
    "    return e0, e1"
   ]
  },
  {
   "cell_type": "markdown",
   "id": "04a0b08e",
   "metadata": {},
   "source": [
    "`L(e0, e1, r)`\n",
    "\n",
    "1. Mapeia dois polinômios para uma string de 256 bits:\n",
    "\n",
    "    * Converte os polinômios em bytes;\n",
    "    * Aplica SHA384 e retorna os primeiros 32 bytes."
   ]
  },
  {
   "cell_type": "code",
   "execution_count": null,
   "id": "6d6cadad",
   "metadata": {},
   "outputs": [],
   "source": [
    "def L(e0, e1, r):\n",
    "    input_bytes = poly_to_bytes(e0, r) + poly_to_bytes(e1, r)\n",
    "    return hashlib.sha384(input_bytes).digest()[:32]  # 256 bits = 32 bytes\n"
   ]
  },
  {
   "cell_type": "markdown",
   "id": "73db0ca3",
   "metadata": {},
   "source": [
    "`K(m, c, r)`\n",
    "\n",
    "1. Mapeia a mensagem e o ciphertext para a chave partilhada:\n",
    "\n",
    "    * Concatena $m$, $c_0$ (em bytes) e $c_1$;\n",
    "    * Usa SHA384 para gerar 256 bits."
   ]
  },
  {
   "cell_type": "code",
   "execution_count": null,
   "id": "a8f2b979",
   "metadata": {},
   "outputs": [],
   "source": [
    "def K(m, c, r):\n",
    "    c0, c1 = c\n",
    "    input_bytes = m + poly_to_bytes(c0, r) + c1\n",
    "    return hashlib.sha384(input_bytes).digest()[:32]"
   ]
  },
  {
   "cell_type": "markdown",
   "id": "dd7f1db0",
   "metadata": {},
   "source": [
    "## BGF (Black-Gray-Flip)"
   ]
  },
  {
   "cell_type": "markdown",
   "id": "f1ad99b3",
   "metadata": {},
   "source": [
    "`getHammingWeight`\n",
    "1. Calcula o peso de Hamming (número de bits 1) de uma sequência binária de comprimento especificado."
   ]
  },
  {
   "cell_type": "code",
   "execution_count": null,
   "id": "db0c038f",
   "metadata": {},
   "outputs": [],
   "source": [
    "def getHammingWeight(tmp, length):\n",
    "    return sum(int(tmp[i]) for i in range(length))"
   ]
  },
  {
   "cell_type": "markdown",
   "id": "cca040e4",
   "metadata": {},
   "source": [
    "`recompute_syndrome`\n",
    "1. Atualiza o síndrome $  s  $ após a inversão de um bit na posição pos do vetor de erro, considerando as matrizes de paridade compactadas $  \\mathbf{h}_0  $ e $  \\mathbf{h}_1  $."
   ]
  },
  {
   "cell_type": "code",
   "execution_count": null,
   "id": "bd9143a4",
   "metadata": {},
   "outputs": [],
   "source": [
    "def recompute_syndrome(s, pos, h0_compact, h1_compact, r):\n",
    "\n",
    "    # se pos < r, atualiza o síndrome usando h0_compact\n",
    "    if pos < r:\n",
    "        for j in range(len(h0_compact)):\n",
    "            if h0_compact[j] <= pos:\n",
    "                s[(pos - h0_compact[j]) % r] ^= 1\n",
    "            else:\n",
    "                s[(r - h0_compact[j] + pos) % r] ^= 1\n",
    "\n",
    "    # se pos >= r, atualiza o síndrome usando h1_compact\n",
    "    else:\n",
    "        pos -= r\n",
    "        for j in range(len(h1_compact)):\n",
    "            if h1_compact[j] <= pos:\n",
    "                s[(pos - h1_compact[j]) % r] ^= 1\n",
    "            else:\n",
    "                s[(r - h1_compact[j] + pos) % r] ^= 1"
   ]
  },
  {
   "cell_type": "markdown",
   "id": "1f0d6d02",
   "metadata": {},
   "source": [
    "`ctr`\n",
    "1. Calcula o contador de paridade insatisfeita (número de verificações de paridade violadas) para uma coluna específica da matriz de paridade, dado o síndrome."
   ]
  },
  {
   "cell_type": "code",
   "execution_count": null,
   "id": "f360cdf8",
   "metadata": {},
   "outputs": [],
   "source": [
    "def ctr(h_compact_col, position, s, r):\n",
    "    count = 0\n",
    "    for i in range(len(h_compact_col)):\n",
    "        index = (h_compact_col[i] + position) % r\n",
    "        if s[index]:\n",
    "            count += 1\n",
    "    return count"
   ]
  },
  {
   "cell_type": "markdown",
   "id": "bfc96d48",
   "metadata": {},
   "source": [
    "`getCol`\n",
    "1. Converte uma representação compactada de uma linha da matriz de paridade ($\\mathbf{h}_0$ ou $\\mathbf{h}_1$) em uma representação compactada da coluna correspondente."
   ]
  },
  {
   "cell_type": "code",
   "execution_count": null,
   "id": "fe74f26e",
   "metadata": {},
   "outputs": [],
   "source": [
    "def getCol(h_compact_row, r):\n",
    "    h_compact_col = [0] * len(h_compact_row)\n",
    "    if h_compact_row[0] == 0:\n",
    "        h_compact_col[0] = 0\n",
    "        for i in range(1, len(h_compact_row)):\n",
    "            h_compact_col[i] = r - h_compact_row[len(h_compact_row) - i]\n",
    "    else:\n",
    "        for i in range(len(h_compact_row)):\n",
    "            h_compact_col[i] = r - h_compact_row[len(h_compact_row) - 1 - i]\n",
    "    return h_compact_col"
   ]
  },
  {
   "cell_type": "markdown",
   "id": "325879f8",
   "metadata": {},
   "source": [
    "`flipAdjustedErrorPosition`\n",
    "1. Inverte um bit na posição ajustada do vetor de erro, considerando a estrutura do BIKE."
   ]
  },
  {
   "cell_type": "code",
   "execution_count": null,
   "id": "bc92f987",
   "metadata": {},
   "outputs": [],
   "source": [
    "def flipAdjustedErrorPosition(e, position, r):\n",
    "    adjustedPosition = position\n",
    "    if position != 0 and position != r:\n",
    "        adjustedPosition = (position > r) and ((2 * r - position) + r) or (r - position)\n",
    "    e[adjustedPosition] ^= 1"
   ]
  },
  {
   "cell_type": "markdown",
   "id": "9856efef",
   "metadata": {},
   "source": [
    "`BFMaskedIter`\n",
    "1. Executa uma iteração mascarada do algoritmo de decodificação, invertendo bits no vetor de erro com base em uma máscara e um limiar."
   ]
  },
  {
   "cell_type": "code",
   "execution_count": null,
   "id": "b39e36ac",
   "metadata": {},
   "outputs": [],
   "source": [
    "def BFMaskedIter(e, s, mask, T, h0_compact, h1_compact, h0_compact_col, h1_compact_col, r):\n",
    "    pos = [0] * (2 * r)\n",
    "    for j in range(r):\n",
    "        counter = ctr(h0_compact_col, j, s, r)\n",
    "        if counter >= T and mask[j]:\n",
    "            flipAdjustedErrorPosition(e, j, r)\n",
    "            pos[j] = 1\n",
    "    for j in range(r, 2 * r):\n",
    "        counter = ctr(h1_compact_col, j - r, s, r)\n",
    "        if counter >= T and mask[j]:\n",
    "            flipAdjustedErrorPosition(e, j, r)\n",
    "            pos[j] = 1\n",
    "    for j in range(2 * r):\n",
    "        if pos[j]:\n",
    "            recompute_syndrome(s, j, h0_compact, h1_compact, r)\n"
   ]
  },
  {
   "cell_type": "markdown",
   "id": "a41a6383",
   "metadata": {},
   "source": [
    "`BFIter`\n",
    "1. Executa uma iteração principal do algoritmo BGF, classificando posições como \"black\" ou \"gray\" com base em contadores de paridade e ajustando o vetor de erro."
   ]
  },
  {
   "cell_type": "code",
   "execution_count": null,
   "id": "a1fa24cb",
   "metadata": {},
   "outputs": [],
   "source": [
    "def BFIter(e, black, gray, s, T, tau, h0_compact, h1_compact, h0_compact_col, h1_compact_col, r):\n",
    "    pos = [0] * (2 * r)\n",
    "    for j in range(r):\n",
    "        counter = ctr(h0_compact_col, j, s, r)\n",
    "        if counter >= T:\n",
    "            flipAdjustedErrorPosition(e, j, r)\n",
    "            pos[j] = 1\n",
    "            black[j] = 1\n",
    "        elif counter >= T - tau:\n",
    "            gray[j] = 1\n",
    "    for j in range(r, 2 * r):\n",
    "        counter = ctr(h1_compact_col, j - r, s, r)\n",
    "        if counter >= T:\n",
    "            flipAdjustedErrorPosition(e, j, r)\n",
    "            pos[j] = 1\n",
    "            black[j] = 1\n",
    "        elif counter >= T - tau:\n",
    "            gray[j] = 1\n",
    "    for j in range(2 * r):\n",
    "        if pos[j]:\n",
    "            recompute_syndrome(s, j, h0_compact, h1_compact, r)\n"
   ]
  },
  {
   "cell_type": "markdown",
   "id": "e36b1d0b",
   "metadata": {},
   "source": [
    "`BGF_decoder`\n",
    "1. Implementa o decodificador BGF completo, executando iterações para corrigir erros no vetor de erro com base no síndrome e nas matrizes de paridade."
   ]
  },
  {
   "cell_type": "code",
   "execution_count": null,
   "id": "7410a92e",
   "metadata": {},
   "outputs": [],
   "source": [
    "def BGF_decoder(e, s, h0_compact, h1_compact, r, w, t, NbIter=5, tau=3):\n",
    "    e = [0] * (2 * r)\n",
    "    h0_compact_col = getCol(h0_compact, r)\n",
    "    h1_compact_col = getCol(h1_compact, r)\n",
    "    black = [0] * (2 * r)\n",
    "    gray = [0] * (2 * r)\n",
    "    for i in range(1, NbIter + 1):\n",
    "        black = [0] * (2 * r)\n",
    "        gray = [0] * (2 * r)\n",
    "        S = getHammingWeight(s, r)\n",
    "        T = max(math.ceil(0.0069722 * S + 13.530), 36)  # Threshold ajustado para nível 1\n",
    "        BFIter(e, black, gray, s, T, tau, h0_compact, h1_compact, h0_compact_col, h1_compact_col, r)\n",
    "        if i == 1:\n",
    "            T_mask = (w // 2 + 1) // 2 + 1\n",
    "            BFMaskedIter(e, s, black, T_mask, h0_compact, h1_compact, h0_compact_col, h1_compact_col, r)\n",
    "            BFMaskedIter(e, s, gray, T_mask, h0_compact, h1_compact, h0_compact_col, h1_compact_col, r)\n",
    "        if getHammingWeight(s, r) == 0:\n",
    "            print(\"Decodificação bem-sucedida!\\n\")\n",
    "            return e\n",
    "            \n",
    "    return None  # Falha na decodificação"
   ]
  },
  {
   "cell_type": "markdown",
   "id": "844074a7",
   "metadata": {},
   "source": [
    "# BIKE Implementatioon"
   ]
  },
  {
   "cell_type": "markdown",
   "id": "953ef1c6",
   "metadata": {},
   "source": [
    "A função `KeyGen`  é responsável por gerar o par de chaves pública e privada:\n",
    "\n",
    "1. Gerar Componentes da Chave Privada:\n",
    "    * Criar dois polinómios esparsos, $\\mathbf{h}_0$ e $\\mathbf{h}_1$, no anel $\\mathcal{R} $;\n",
    "    * Cada polinómio deve ter exatamente $w/2$ coeficientes iguais a 1, onde $w$ é o peso da linha;\n",
    "    * Utilizar uma função pseudoaleatória, como `WSHAKE256-PRF`, com uma semente, para escolher $w/2$ posições distintas para os coeficientes 1 em cada polinómio.\n",
    "\n",
    "\n",
    "2. Calcular a Chave Pública:\n",
    "\n",
    "    * Calcular $\\mathbf{h} = \\mathbf{h}_1 \\cdot \\mathbf{h}_0^{-1}$ em $\\mathcal{R}$.\n",
    "    * Para que $\\mathbf{h}_0$ seja invertível, $w/2$ é definido como um número ímpar, garantindo esta propriedade no anel.\n",
    "\n",
    "\n",
    "3. Gerar uma String Aleatória:\n",
    "\n",
    "    * Produzir uma string $\\sigma \\in \\{0,1\\}^{256}$ de 256 bits, utilizando um gerador de números aleatórios seguro. Esta string é usada como recurso de reserva no desencapsulamento, caso a decodificação falhe."
   ]
  },
  {
   "cell_type": "code",
   "execution_count": null,
   "id": "2815a987",
   "metadata": {},
   "outputs": [],
   "source": [
    "# Key Generation\n",
    "def KeyGen(r, w):\n",
    "    seed_h0 = os.urandom(32)\n",
    "    positions_h0 = WSHAKE256_PRF(seed_h0, r, w // 2)\n",
    "    h0 = sample_polynomial_from_positions(positions_h0, r)\n",
    "    \n",
    "    seed_h1 = os.urandom(32)\n",
    "    positions_h1 = WSHAKE256_PRF(seed_h1, r, w // 2)\n",
    "    h1 = sample_polynomial_from_positions(positions_h1, r)\n",
    "    \n",
    "    h = h1 * h0.inverse_of_unit()  # Compute h = h₁ * h₀⁻¹ in R\n",
    "    sigma = os.urandom(32)\n",
    "    \n",
    "    sk = (h0, h1, sigma)  # Private key\n",
    "    pk = h               # Public key\n",
    "    return sk, pk"
   ]
  },
  {
   "cell_type": "markdown",
   "id": "52f40307",
   "metadata": {},
   "source": [
    "A função `Encaps`  é responsável por gerar uma chave secreta partilhada e o seu ciphertext utilizando a chave pública.\n",
    "\n",
    "1. Escolher uma Mensagem Aleatória:\n",
    "    * Gerar uma string aleatória $m \\in \\{0,1\\}^{256}$ de 256 bits com um gerador seguro.\n",
    "\n",
    "\n",
    "2. Gerar Vetores de Erro:\n",
    "\n",
    "    * Aplicar uma função hash $\\mathbf{H}$ (ex.: SHAKE256) a $m$ para criar os vetores de erro $(\\mathbf{e}_0, \\mathbf{e}_1)$, com peso total de Hamming $t$ (ex.: $t = 134$ para nível 1).\n",
    "\n",
    "\n",
    "3. Calcular o Ciphertext:\n",
    "\n",
    "    * $c_0 = \\mathbf{e}_0 + \\mathbf{e}_1 \\cdot \\mathbf{h}$ em $\\mathcal{R}$;\n",
    "    * $c_1 = m \\oplus \\mathbf{L}(\\mathbf{e}_0, \\mathbf{e}_1)$, onde $\\mathbf{L}$ (ex.: SHA384) mapeia os vetores de erro para uma string de 256 bits;\n",
    "    * O ciphertext é $c = (c_0, c_1)$.\n",
    "\n",
    "4. Calcular a Chave Secreta:\n",
    "\n",
    "    * $K = \\mathbf{K}(m, c)$, onde $\\mathbf{K}$ (ex.: SHA384) faz hash de $m$ e $c$."
   ]
  },
  {
   "cell_type": "code",
   "execution_count": null,
   "id": "388bc93c",
   "metadata": {},
   "outputs": [],
   "source": [
    "# Encapsulation\n",
    "def Encaps(pk, r, t):\n",
    "    h = pk\n",
    "    m = os.urandom(32)  # m ←$ {0,1}²⁵⁶\n",
    "    e0, e1 = H(m, r, t)\n",
    "    c0 = e0 + e1 * h\n",
    "    c1 = xor_bytes(m, L(e0, e1, r))\n",
    "    c = (c0, c1)\n",
    "    K_shared = K(m, c, r)\n",
    "    return K_shared, c"
   ]
  },
  {
   "cell_type": "markdown",
   "id": "1fd36ab0",
   "metadata": {},
   "source": [
    "A função `Decaps`  é responsável por recuperar a chave secreta partilhada a partir do ciphertext usando a chave privada.\n",
    "\n",
    "1. Decodificar o Ciphertext:\n",
    "    * Calcular o síndrome $s = c_0 \\cdot \\mathbf{h}_0$ em $\\mathcal{R}$.\n",
    "    * Usar um decodificador (BGF) para recuperar os vetores de erro $\\mathbf{e}' = (\\mathbf{e}_0', \\mathbf{e}_1')$.\n",
    "\n",
    "2. Recuperar a Mensagem:\n",
    "\n",
    "    * $m' = c_1 \\oplus \\mathbf{L}(\\mathbf{e}_0', \\mathbf{e}_1')$, com $\\mathbf{L}$ igual à usada em `Encaps`\n",
    "\n",
    "\n",
    "3. Verificar e Calcular a Chave:\n",
    "\n",
    "    * Verificar se $\\mathbf{e}' = \\mathbf{H}(m')$ (usando a mesma $\\mathbf{H}$ de `Encaps`)\n",
    "    * Se verdadeiro: $K = \\mathbf{K}(m', c)$.\n",
    "    * Se falso (falha na decodificação): $K = \\mathbf{K}(\\sigma, c)$, usando $\\sigma$ como reserva."
   ]
  },
  {
   "cell_type": "code",
   "execution_count": null,
   "id": "22def7bc",
   "metadata": {},
   "outputs": [],
   "source": [
    "# Decapsulation (with simulated decoder)\n",
    "def Decaps(sk, c, r, t):\n",
    "    h0, h1, sigma = sk\n",
    "    c0, c1 = c\n",
    "    \n",
    "    # Simulate decoder: assume it correctly recovers e0 and e1\n",
    "    h0 = sk[0]  # Primeira parte da chave privada\n",
    "    c0 = c[0]   # Primeira parte do ciphertext\n",
    "    s = (c0 * h0).list()  # Síndrome como lista\n",
    "    s = [int(coeff) for coeff in s]  # Converter para inteiros Python\n",
    "    h0_list = [int(coeff) for coeff in sk[0].list()]\n",
    "    h1_list = [int(coeff) for coeff in sk[1].list()]\n",
    "\n",
    "    dec = BGF_decoder([0] * (2 * r), r * [0], h0_list, h1_list, r, w, t)\n",
    "    e0_prime = R(P(dec[:r]))\n",
    "    e1_prime = R(P(dec[r:2 * r]))\n",
    "    \n",
    "    m_prime = xor_bytes(c1, L(e0_prime, e1_prime, r))\n",
    "    \n",
    "    e0_check, e1_check = H(m_prime, r, t)\n",
    "    c0_prime = e0_check + e1_check * (h1 * h0.inverse_of_unit())\n",
    "    c1_prime = xor_bytes(m_prime, L(e0_check, e1_check, r))\n",
    "    \n",
    "    if c0 == c0_prime and c1 == c1_prime:\n",
    "        return K(m_prime, c, r)\n",
    "    else:\n",
    "        return K(sigma, c, r)"
   ]
  },
  {
   "cell_type": "markdown",
   "id": "5e4a9bce",
   "metadata": {},
   "source": [
    "### Run"
   ]
  },
  {
   "cell_type": "code",
   "execution_count": null,
   "id": "f790a31d",
   "metadata": {},
   "outputs": [
    {
     "name": "stdout",
     "output_type": "stream",
     "text": [
      "======= BIKE - Key Encapsulation Mechanism ======= \n",
      "\n",
      "Chave Gerada com sucesso.\n",
      "Chave Pública: xbar^12322 + xbar^12318 + xbar^12315 + xbar^12314 + xbar^12313 + xbar^12311 + xbar^12309 + xbar^12308 + xbar^12306 + xbar^12300 + xbar^12299 + xbar^12298 + xbar^12295 + xbar^12294 + xbar^12293 + xbar^12292 + xbar^12290 + xbar^12287 + xbar^12285 + xbar^12284 + xbar^12278 + xbar^12276 + xbar^12275 + xbar^12274 + xbar^12273 + xbar^12268 + xbar^12266 + xbar^12264 + xbar^12263 + xbar^12262 + xbar^12260 + xbar^12258 + xbar^12253 + xbar^12252 + xbar^12251 + xbar^12249 + xbar^12248 + xbar^12247 + xbar^12246 + xbar^12241 + xbar^12240 + xbar^12239 + xbar^12230 + xbar^12229 + xbar^12228 + xbar^12225 + xbar^12223 + xbar^12220 + xbar^12213 + xbar^12212 + xbar^12210 + xbar^12208 + xbar^12207 + xbar^12206 + xbar^12204 + xbar^12203 + xbar^12202 + xbar^12200 + xbar^12199 + xbar^12198 + xbar^12196 + xbar^12194 + xbar^12191 + xbar^12190 + xbar^12185 + xbar^12184 + xbar^12183 + xbar^12182 + xbar^12181 + xbar^12180 + xbar^12179 + xbar^12178 + xbar^12176 + xbar^12175 + xbar^12174 + xbar^12173 + xbar^12169 + xbar^12165 + xbar^12159 + xbar^12158 + xbar^12156 + xbar^12152 + xbar^12151 + xbar^12150 + xbar^12149 + xbar^12148 + xbar^12147 + xbar^12145 + xbar^12143 + xbar^12142 + xbar^12141 + xbar^12139 + xbar^12138 + xbar^12137 + xbar^12136 + xbar^12133 + xbar^12132 + xbar^12131 + xbar^12127 + xbar^12126 + xbar^12125 + xbar^12123 + xbar^12121 + xbar^12120 + xbar^12118 + xbar^12117 + xbar^12110 + xbar^12109 + xbar^12106 + xbar^12105 + xbar^12104 + xbar^12102 + xbar^12099 + xbar^12098 + xbar^12097 + xbar^12095 + xbar^12094 + xbar^12093 + xbar^12091 + xbar^12084 + xbar^12083 + xbar^12081 + xbar^12079 + xbar^12078 + xbar^12077 + xbar^12068 + xbar^12065 + xbar^12062 + xbar^12060 + xbar^12059 + xbar^12057 + xbar^12056 + xbar^12051 + xbar^12050 + xbar^12048 + xbar^12039 + xbar^12037 + xbar^12036 + xbar^12030 + xbar^12029 + xbar^12028 + xbar^12024 + xbar^12023 + xbar^12019 + xbar^12018 + xbar^12017 + xbar^12014 + xbar^12013 + xbar^12009 + xbar^12008 + xbar^12002 + xbar^11999 + xbar^11998 + xbar^11995 + xbar^11994 + xbar^11992 + xbar^11990 + xbar^11988 + xbar^11987 + xbar^11984 + xbar^11983 + xbar^11982 + xbar^11980 + xbar^11978 + xbar^11977 + xbar^11975 + xbar^11973 + xbar^11970 + xbar^11968 + xbar^11967 + xbar^11963 + xbar^11961 + xbar^11959 + xbar^11957 + xbar^11956 + xbar^11954 + xbar^11953 + xbar^11947 + xbar^11946 + xbar^11942 + xbar^11941 + xbar^11939 + xbar^11937 + xbar^11936 + xbar^11935 + xbar^11932 + xbar^11929 + xbar^11927 + xbar^11926 + xbar^11924 + xbar^11919 + xbar^11916 + xbar^11915 + xbar^11914 + xbar^11911 + xbar^11910 + xbar^11909 + xbar^11908 + xbar^11907 + xbar^11905 + xbar^11902 + xbar^11898 + xbar^11895 + xbar^11894 + xbar^11893 + xbar^11891 + xbar^11889 + xbar^11888 + xbar^11887 + xbar^11886 + xbar^11885 + xbar^11884 + xbar^11882 + xbar^11880 + xbar^11878 + xbar^11877 + xbar^11875 + xbar^11874 + xbar^11873 + xbar^11872 + xbar^11868 + xbar^11866 + xbar^11865 + xbar^11863 + xbar^11862 + xbar^11858 + xbar^11857 + xbar^11852 + xbar^11851 + xbar^11848 + xbar^11842 + xbar^11841 + xbar^11840 + xbar^11839 + xbar^11837 + xbar^11833 + xbar^11831 + xbar^11830 + xbar^11826 + xbar^11825 + xbar^11824 + xbar^11821 + xbar^11820 + xbar^11818 + xbar^11817 + xbar^11816 + xbar^11813 + xbar^11812 + xbar^11809 + xbar^11806 + xbar^11805 + xbar^11802 + xbar^11798 + xbar^11797 + xbar^11794 + xbar^11789 + xbar^11780 + xbar^11776 + xbar^11775 + xbar^11773 + xbar^11771 + xbar^11770 + xbar^11767 + xbar^11766 + xbar^11764 + xbar^11763 + xbar^11758 + xbar^11757 + xbar^11754 + xbar^11746 + xbar^11745 + xbar^11744 + xbar^11737 + xbar^11736 + xbar^11735 + xbar^11734 + xbar^11730 + xbar^11728 + xbar^11723 + xbar^11722 + xbar^11715 + xbar^11714 + xbar^11713 + xbar^11712 + xbar^11709 + xbar^11705 + xbar^11704 + xbar^11703 + xbar^11701 + xbar^11694 + xbar^11690 + xbar^11689 + xbar^11685 + xbar^11684 + xbar^11682 + xbar^11681 + xbar^11679 + xbar^11678 + xbar^11675 + xbar^11672 + xbar^11670 + xbar^11668 + xbar^11665 + xbar^11664 + xbar^11663 + xbar^11661 + xbar^11660 + xbar^11659 + xbar^11656 + xbar^11655 + xbar^11654 + xbar^11653 + xbar^11652 + xbar^11651 + xbar^11650 + xbar^11649 + xbar^11647 + xbar^11643 + xbar^11641 + xbar^11639 + xbar^11638 + xbar^11637 + xbar^11636 + xbar^11634 + xbar^11631 + xbar^11629 + xbar^11625 + xbar^11624 + xbar^11623 + xbar^11619 + xbar^11618 + xbar^11617 + xbar^11616 + xbar^11614 + xbar^11609 + xbar^11608 + xbar^11605 + xbar^11604 + xbar^11602 + xbar^11601 + xbar^11598 + xbar^11597 + xbar^11594 + xbar^11593 + xbar^11592 + xbar^11591 + xbar^11590 + xbar^11589 + xbar^11588 + xbar^11587 + xbar^11586 + xbar^11585 + xbar^11581 + xbar^11580 + xbar^11576 + xbar^11575 + xbar^11574 + xbar^11572 + xbar^11571 + xbar^11570 + xbar^11567 + xbar^11565 + xbar^11563 + xbar^11562 + xbar^11560 + xbar^11559 + xbar^11558 + xbar^11557 + xbar^11555 + xbar^11554 + xbar^11549 + xbar^11548 + xbar^11546 + xbar^11545 + xbar^11544 + xbar^11543 + xbar^11542 + xbar^11540 + xbar^11539 + xbar^11538 + xbar^11537 + xbar^11536 + xbar^11535 + xbar^11534 + xbar^11533 + xbar^11530 + xbar^11529 + xbar^11527 + xbar^11526 + xbar^11524 + xbar^11520 + xbar^11514 + xbar^11513 + xbar^11510 + xbar^11508 + xbar^11506 + xbar^11501 + xbar^11498 + xbar^11496 + xbar^11492 + xbar^11491 + xbar^11490 + xbar^11488 + xbar^11485 + xbar^11483 + xbar^11481 + xbar^11479 + xbar^11476 + xbar^11475 + xbar^11472 + xbar^11467 + xbar^11465 + xbar^11462 + xbar^11461 + xbar^11457 + xbar^11455 + xbar^11453 + xbar^11452 + xbar^11451 + xbar^11450 + xbar^11446 + xbar^11443 + xbar^11441 + xbar^11440 + xbar^11438 + xbar^11436 + xbar^11435 + xbar^11434 + xbar^11433 + xbar^11432 + xbar^11429 + xbar^11428 + xbar^11427 + xbar^11425 + xbar^11422 + xbar^11420 + xbar^11418 + xbar^11417 + xbar^11414 + xbar^11413 + xbar^11410 + xbar^11407 + xbar^11404 + xbar^11402 + xbar^11398 + xbar^11397 + xbar^11395 + xbar^11394 + xbar^11393 + xbar^11392 + xbar^11390 + xbar^11388 + xbar^11383 + xbar^11381 + xbar^11380 + xbar^11378 + xbar^11377 + xbar^11376 + xbar^11375 + xbar^11373 + xbar^11370 + xbar^11369 + xbar^11368 + xbar^11366 + xbar^11362 + xbar^11361 + xbar^11360 + xbar^11352 + xbar^11351 + xbar^11347 + xbar^11344 + xbar^11343 + xbar^11340 + xbar^11339 + xbar^11338 + xbar^11336 + xbar^11334 + xbar^11333 + xbar^11330 + xbar^11329 + xbar^11324 + xbar^11323 + xbar^11322 + xbar^11320 + xbar^11318 + xbar^11315 + xbar^11314 + xbar^11311 + xbar^11310 + xbar^11309 + xbar^11308 + xbar^11306 + xbar^11304 + xbar^11303 + xbar^11296 + xbar^11295 + xbar^11294 + xbar^11291 + xbar^11288 + xbar^11287 + xbar^11286 + xbar^11283 + xbar^11280 + xbar^11277 + xbar^11275 + xbar^11273 + xbar^11271 + xbar^11269 + xbar^11268 + xbar^11267 + xbar^11263 + xbar^11262 + xbar^11261 + xbar^11258 + xbar^11257 + xbar^11256 + xbar^11255 + xbar^11254 + xbar^11253 + xbar^11252 + xbar^11251 + xbar^11250 + xbar^11246 + xbar^11245 + xbar^11243 + xbar^11242 + xbar^11239 + xbar^11238 + xbar^11237 + xbar^11236 + xbar^11235 + xbar^11234 + xbar^11232 + xbar^11231 + xbar^11229 + xbar^11228 + xbar^11227 + xbar^11224 + xbar^11222 + xbar^11218 + xbar^11215 + xbar^11211 + xbar^11208 + xbar^11206 + xbar^11204 + xbar^11199 + xbar^11197 + xbar^11195 + xbar^11193 + xbar^11191 + xbar^11184 + xbar^11183 + xbar^11180 + xbar^11179 + xbar^11176 + xbar^11174 + xbar^11173 + xbar^11172 + xbar^11170 + xbar^11168 + xbar^11167 + xbar^11163 + xbar^11162 + xbar^11160 + xbar^11157 + xbar^11153 + xbar^11152 + xbar^11149 + xbar^11148 + xbar^11147 + xbar^11146 + xbar^11145 + xbar^11144 + xbar^11141 + xbar^11135 + xbar^11134 + xbar^11132 + xbar^11130 + xbar^11129 + xbar^11128 + xbar^11127 + xbar^11126 + xbar^11125 + xbar^11123 + xbar^11120 + xbar^11119 + xbar^11118 + xbar^11113 + xbar^11111 + xbar^11110 + xbar^11109 + xbar^11107 + xbar^11104 + xbar^11103 + xbar^11102 + xbar^11099 + xbar^11098 + xbar^11097 + xbar^11095 + xbar^11090 + xbar^11087 + xbar^11085 + xbar^11082 + xbar^11080 + xbar^11075 + xbar^11074 + xbar^11068 + xbar^11063 + xbar^11061 + xbar^11056 + xbar^11053 + xbar^11050 + xbar^11049 + xbar^11048 + xbar^11046 + xbar^11045 + xbar^11044 + xbar^11043 + xbar^11039 + xbar^11038 + xbar^11035 + xbar^11034 + xbar^11033 + xbar^11031 + xbar^11028 + xbar^11026 + xbar^11020 + xbar^11019 + xbar^11016 + xbar^11015 + xbar^11012 + xbar^11009 + xbar^11007 + xbar^11006 + xbar^11005 + xbar^11004 + xbar^11003 + xbar^11001 + xbar^11000 + xbar^10998 + xbar^10996 + xbar^10993 + xbar^10987 + xbar^10986 + xbar^10984 + xbar^10983 + xbar^10982 + xbar^10979 + xbar^10978 + xbar^10977 + xbar^10976 + xbar^10975 + xbar^10972 + xbar^10968 + xbar^10964 + xbar^10963 + xbar^10962 + xbar^10961 + xbar^10960 + xbar^10959 + xbar^10956 + xbar^10955 + xbar^10947 + xbar^10946 + xbar^10945 + xbar^10943 + xbar^10942 + xbar^10940 + xbar^10939 + xbar^10934 + xbar^10932 + xbar^10931 + xbar^10929 + xbar^10927 + xbar^10926 + xbar^10924 + xbar^10922 + xbar^10921 + xbar^10920 + xbar^10919 + xbar^10918 + xbar^10916 + xbar^10912 + xbar^10911 + xbar^10910 + xbar^10906 + xbar^10905 + xbar^10901 + xbar^10900 + xbar^10897 + xbar^10896 + xbar^10887 + xbar^10886 + xbar^10885 + xbar^10884 + xbar^10882 + xbar^10880 + xbar^10879 + xbar^10878 + xbar^10877 + xbar^10875 + xbar^10874 + xbar^10873 + xbar^10870 + xbar^10867 + xbar^10866 + xbar^10865 + xbar^10859 + xbar^10851 + xbar^10846 + xbar^10843 + xbar^10842 + xbar^10841 + xbar^10839 + xbar^10838 + xbar^10837 + xbar^10836 + xbar^10835 + xbar^10833 + xbar^10832 + xbar^10830 + xbar^10828 + xbar^10827 + xbar^10826 + xbar^10825 + xbar^10824 + xbar^10822 + xbar^10820 + xbar^10819 + xbar^10818 + xbar^10816 + xbar^10815 + xbar^10814 + xbar^10813 + xbar^10809 + xbar^10808 + xbar^10806 + xbar^10802 + xbar^10799 + xbar^10797 + xbar^10795 + xbar^10791 + xbar^10785 + xbar^10784 + xbar^10783 + xbar^10782 + xbar^10781 + xbar^10780 + xbar^10777 + xbar^10774 + xbar^10768 + xbar^10766 + xbar^10765 + xbar^10764 + xbar^10762 + xbar^10761 + xbar^10760 + xbar^10759 + xbar^10757 + xbar^10756 + xbar^10755 + xbar^10754 + xbar^10753 + xbar^10752 + xbar^10751 + xbar^10750 + xbar^10746 + xbar^10745 + xbar^10742 + xbar^10740 + xbar^10739 + xbar^10735 + xbar^10734 + xbar^10733 + xbar^10732 + xbar^10731 + xbar^10730 + xbar^10728 + xbar^10725 + xbar^10724 + xbar^10723 + xbar^10722 + xbar^10721 + xbar^10719 + xbar^10717 + xbar^10716 + xbar^10714 + xbar^10713 + xbar^10711 + xbar^10709 + xbar^10708 + xbar^10706 + xbar^10701 + xbar^10699 + xbar^10698 + xbar^10697 + xbar^10696 + xbar^10691 + xbar^10688 + xbar^10687 + xbar^10686 + xbar^10685 + xbar^10684 + xbar^10683 + xbar^10682 + xbar^10681 + xbar^10678 + xbar^10677 + xbar^10676 + xbar^10674 + xbar^10673 + xbar^10671 + xbar^10670 + xbar^10669 + xbar^10667 + xbar^10666 + xbar^10663 + xbar^10662 + xbar^10660 + xbar^10659 + xbar^10658 + xbar^10654 + xbar^10651 + xbar^10650 + xbar^10649 + xbar^10648 + xbar^10646 + xbar^10644 + xbar^10642 + xbar^10641 + xbar^10638 + xbar^10636 + xbar^10631 + xbar^10630 + xbar^10629 + xbar^10625 + xbar^10624 + xbar^10623 + xbar^10622 + xbar^10619 + xbar^10618 + xbar^10616 + xbar^10615 + xbar^10613 + xbar^10612 + xbar^10609 + xbar^10605 + xbar^10599 + xbar^10597 + xbar^10595 + xbar^10593 + xbar^10592 + xbar^10591 + xbar^10589 + xbar^10588 + xbar^10586 + xbar^10584 + xbar^10583 + xbar^10581 + xbar^10580 + xbar^10578 + xbar^10575 + xbar^10573 + xbar^10572 + xbar^10568 + xbar^10566 + xbar^10564 + xbar^10563 + xbar^10562 + xbar^10560 + xbar^10559 + xbar^10558 + xbar^10557 + xbar^10556 + xbar^10555 + xbar^10551 + xbar^10550 + xbar^10548 + xbar^10547 + xbar^10546 + xbar^10542 + xbar^10541 + xbar^10537 + xbar^10535 + xbar^10533 + xbar^10532 + xbar^10530 + xbar^10528 + xbar^10522 + xbar^10521 + xbar^10519 + xbar^10518 + xbar^10512 + xbar^10510 + xbar^10509 + xbar^10508 + xbar^10507 + xbar^10506 + xbar^10505 + xbar^10504 + xbar^10503 + xbar^10502 + xbar^10501 + xbar^10500 + xbar^10499 + xbar^10496 + xbar^10495 + xbar^10492 + xbar^10491 + xbar^10489 + xbar^10488 + xbar^10487 + xbar^10482 + xbar^10480 + xbar^10479 + xbar^10478 + xbar^10472 + xbar^10470 + xbar^10464 + xbar^10461 + xbar^10460 + xbar^10459 + xbar^10458 + xbar^10457 + xbar^10456 + xbar^10455 + xbar^10454 + xbar^10453 + xbar^10451 + xbar^10449 + xbar^10448 + xbar^10446 + xbar^10445 + xbar^10444 + xbar^10443 + xbar^10440 + xbar^10438 + xbar^10437 + xbar^10436 + xbar^10435 + xbar^10434 + xbar^10432 + xbar^10430 + xbar^10429 + xbar^10428 + xbar^10427 + xbar^10426 + xbar^10425 + xbar^10422 + xbar^10420 + xbar^10418 + xbar^10417 + xbar^10416 + xbar^10414 + xbar^10413 + xbar^10411 + xbar^10410 + xbar^10408 + xbar^10400 + xbar^10399 + xbar^10396 + xbar^10391 + xbar^10389 + xbar^10382 + xbar^10381 + xbar^10378 + xbar^10377 + xbar^10376 + xbar^10375 + xbar^10370 + xbar^10368 + xbar^10367 + xbar^10366 + xbar^10365 + xbar^10364 + xbar^10361 + xbar^10359 + xbar^10355 + xbar^10354 + xbar^10353 + xbar^10350 + xbar^10347 + xbar^10345 + xbar^10344 + xbar^10342 + xbar^10338 + xbar^10336 + xbar^10334 + xbar^10331 + xbar^10329 + xbar^10324 + xbar^10323 + xbar^10321 + xbar^10320 + xbar^10319 + xbar^10316 + xbar^10314 + xbar^10313 + xbar^10311 + xbar^10307 + xbar^10306 + xbar^10302 + xbar^10300 + xbar^10299 + xbar^10297 + xbar^10296 + xbar^10293 + xbar^10291 + xbar^10288 + xbar^10287 + xbar^10286 + xbar^10285 + xbar^10282 + xbar^10281 + xbar^10278 + xbar^10277 + xbar^10276 + xbar^10275 + xbar^10273 + xbar^10272 + xbar^10270 + xbar^10267 + xbar^10266 + xbar^10264 + xbar^10259 + xbar^10257 + xbar^10256 + xbar^10255 + xbar^10254 + xbar^10253 + xbar^10252 + xbar^10251 + xbar^10250 + xbar^10249 + xbar^10247 + xbar^10246 + xbar^10244 + xbar^10242 + xbar^10240 + xbar^10238 + xbar^10235 + xbar^10234 + xbar^10233 + xbar^10232 + xbar^10231 + xbar^10229 + xbar^10228 + xbar^10225 + xbar^10223 + xbar^10219 + xbar^10218 + xbar^10217 + xbar^10216 + xbar^10215 + xbar^10214 + xbar^10213 + xbar^10212 + xbar^10210 + xbar^10209 + xbar^10205 + xbar^10204 + xbar^10202 + xbar^10198 + xbar^10197 + xbar^10195 + xbar^10194 + xbar^10193 + xbar^10191 + xbar^10185 + xbar^10184 + xbar^10183 + xbar^10179 + xbar^10176 + xbar^10174 + xbar^10173 + xbar^10172 + xbar^10171 + xbar^10168 + xbar^10166 + xbar^10163 + xbar^10162 + xbar^10160 + xbar^10157 + xbar^10156 + xbar^10155 + xbar^10154 + xbar^10152 + xbar^10151 + xbar^10150 + xbar^10149 + xbar^10147 + xbar^10143 + xbar^10141 + xbar^10139 + xbar^10138 + xbar^10137 + xbar^10136 + xbar^10134 + xbar^10133 + xbar^10129 + xbar^10126 + xbar^10124 + xbar^10123 + xbar^10121 + xbar^10120 + xbar^10118 + xbar^10117 + xbar^10116 + xbar^10115 + xbar^10114 + xbar^10113 + xbar^10112 + xbar^10111 + xbar^10110 + xbar^10108 + xbar^10105 + xbar^10104 + xbar^10103 + xbar^10097 + xbar^10095 + xbar^10094 + xbar^10090 + xbar^10089 + xbar^10088 + xbar^10084 + xbar^10080 + xbar^10079 + xbar^10078 + xbar^10077 + xbar^10074 + xbar^10071 + xbar^10070 + xbar^10069 + xbar^10066 + xbar^10064 + xbar^10060 + xbar^10058 + xbar^10057 + xbar^10054 + xbar^10050 + xbar^10047 + xbar^10046 + xbar^10044 + xbar^10040 + xbar^10037 + xbar^10036 + xbar^10034 + xbar^10033 + xbar^10030 + xbar^10028 + xbar^10026 + xbar^10025 + xbar^10024 + xbar^10021 + xbar^10020 + xbar^10019 + xbar^10018 + xbar^10016 + xbar^10014 + xbar^10012 + xbar^10007 + xbar^10001 + xbar^10000 + xbar^9999 + xbar^9996 + xbar^9994 + xbar^9991 + xbar^9987 + xbar^9984 + xbar^9983 + xbar^9981 + xbar^9980 + xbar^9977 + xbar^9976 + xbar^9974 + xbar^9973 + xbar^9972 + xbar^9971 + xbar^9970 + xbar^9969 + xbar^9968 + xbar^9965 + xbar^9963 + xbar^9962 + xbar^9956 + xbar^9955 + xbar^9954 + xbar^9951 + xbar^9950 + xbar^9949 + xbar^9946 + xbar^9945 + xbar^9944 + xbar^9943 + xbar^9942 + xbar^9941 + xbar^9936 + xbar^9935 + xbar^9934 + xbar^9933 + xbar^9932 + xbar^9931 + xbar^9930 + xbar^9927 + xbar^9926 + xbar^9924 + xbar^9922 + xbar^9921 + xbar^9920 + xbar^9919 + xbar^9913 + xbar^9906 + xbar^9905 + xbar^9904 + xbar^9900 + xbar^9899 + xbar^9898 + xbar^9897 + xbar^9896 + xbar^9894 + xbar^9890 + xbar^9889 + xbar^9887 + xbar^9885 + xbar^9882 + xbar^9878 + xbar^9877 + xbar^9875 + xbar^9873 + xbar^9871 + xbar^9867 + xbar^9865 + xbar^9864 + xbar^9862 + xbar^9861 + xbar^9859 + xbar^9858 + xbar^9857 + xbar^9854 + xbar^9850 + xbar^9849 + xbar^9848 + xbar^9847 + xbar^9843 + xbar^9842 + xbar^9840 + xbar^9838 + xbar^9833 + xbar^9832 + xbar^9829 + xbar^9828 + xbar^9827 + xbar^9825 + xbar^9823 + xbar^9820 + xbar^9817 + xbar^9816 + xbar^9815 + xbar^9814 + xbar^9811 + xbar^9810 + xbar^9809 + xbar^9808 + xbar^9807 + xbar^9805 + xbar^9804 + xbar^9800 + xbar^9799 + xbar^9798 + xbar^9795 + xbar^9794 + xbar^9792 + xbar^9788 + xbar^9784 + xbar^9782 + xbar^9780 + xbar^9777 + xbar^9775 + xbar^9774 + xbar^9772 + xbar^9771 + xbar^9770 + xbar^9769 + xbar^9768 + xbar^9766 + xbar^9765 + xbar^9764 + xbar^9763 + xbar^9760 + xbar^9757 + xbar^9754 + xbar^9751 + xbar^9750 + xbar^9749 + xbar^9743 + xbar^9740 + xbar^9739 + xbar^9736 + xbar^9731 + xbar^9730 + xbar^9729 + xbar^9726 + xbar^9724 + xbar^9723 + xbar^9722 + xbar^9718 + xbar^9717 + xbar^9716 + xbar^9714 + xbar^9713 + xbar^9710 + xbar^9709 + xbar^9708 + xbar^9707 + xbar^9705 + xbar^9704 + xbar^9698 + xbar^9697 + xbar^9695 + xbar^9694 + xbar^9690 + xbar^9688 + xbar^9686 + xbar^9684 + xbar^9683 + xbar^9681 + xbar^9680 + xbar^9678 + xbar^9677 + xbar^9676 + xbar^9675 + xbar^9673 + xbar^9670 + xbar^9667 + xbar^9666 + xbar^9664 + xbar^9662 + xbar^9655 + xbar^9653 + xbar^9650 + xbar^9649 + xbar^9648 + xbar^9646 + xbar^9645 + xbar^9644 + xbar^9643 + xbar^9642 + xbar^9641 + xbar^9640 + xbar^9638 + xbar^9637 + xbar^9633 + xbar^9632 + xbar^9631 + xbar^9630 + xbar^9629 + xbar^9628 + xbar^9626 + xbar^9624 + xbar^9623 + xbar^9620 + xbar^9619 + xbar^9618 + xbar^9616 + xbar^9613 + xbar^9612 + xbar^9611 + xbar^9610 + xbar^9608 + xbar^9606 + xbar^9605 + xbar^9602 + xbar^9598 + xbar^9597 + xbar^9595 + xbar^9594 + xbar^9593 + xbar^9591 + xbar^9590 + xbar^9589 + xbar^9588 + xbar^9587 + xbar^9585 + xbar^9581 + xbar^9580 + xbar^9579 + xbar^9577 + xbar^9574 + xbar^9571 + xbar^9570 + xbar^9569 + xbar^9568 + xbar^9567 + xbar^9566 + xbar^9565 + xbar^9563 + xbar^9562 + xbar^9557 + xbar^9556 + xbar^9555 + xbar^9554 + xbar^9552 + xbar^9551 + xbar^9550 + xbar^9548 + xbar^9545 + xbar^9543 + xbar^9542 + xbar^9541 + xbar^9538 + xbar^9536 + xbar^9535 + xbar^9534 + xbar^9531 + xbar^9530 + xbar^9529 + xbar^9526 + xbar^9525 + xbar^9522 + xbar^9520 + xbar^9517 + xbar^9516 + xbar^9515 + xbar^9514 + xbar^9508 + xbar^9506 + xbar^9503 + xbar^9502 + xbar^9497 + xbar^9496 + xbar^9495 + xbar^9493 + xbar^9492 + xbar^9491 + xbar^9488 + xbar^9487 + xbar^9486 + xbar^9484 + xbar^9482 + xbar^9481 + xbar^9478 + xbar^9477 + xbar^9475 + xbar^9474 + xbar^9472 + xbar^9468 + xbar^9467 + xbar^9461 + xbar^9460 + xbar^9457 + xbar^9456 + xbar^9452 + xbar^9449 + xbar^9448 + xbar^9447 + xbar^9446 + xbar^9445 + xbar^9442 + xbar^9441 + xbar^9440 + xbar^9439 + xbar^9435 + xbar^9434 + xbar^9432 + xbar^9430 + xbar^9428 + xbar^9427 + xbar^9424 + xbar^9420 + xbar^9418 + xbar^9416 + xbar^9415 + xbar^9414 + xbar^9412 + xbar^9411 + xbar^9409 + xbar^9407 + xbar^9398 + xbar^9397 + xbar^9395 + xbar^9394 + xbar^9391 + xbar^9390 + xbar^9389 + xbar^9387 + xbar^9383 + xbar^9382 + xbar^9378 + xbar^9377 + xbar^9376 + xbar^9367 + xbar^9364 + xbar^9358 + xbar^9356 + xbar^9352 + xbar^9351 + xbar^9349 + xbar^9347 + xbar^9346 + xbar^9345 + xbar^9343 + xbar^9341 + xbar^9337 + xbar^9335 + xbar^9334 + xbar^9333 + xbar^9332 + xbar^9329 + xbar^9328 + xbar^9325 + xbar^9324 + xbar^9323 + xbar^9322 + xbar^9320 + xbar^9319 + xbar^9315 + xbar^9313 + xbar^9312 + xbar^9311 + xbar^9310 + xbar^9305 + xbar^9304 + xbar^9303 + xbar^9302 + xbar^9301 + xbar^9299 + xbar^9298 + xbar^9294 + xbar^9293 + xbar^9291 + xbar^9287 + xbar^9285 + xbar^9284 + xbar^9281 + xbar^9280 + xbar^9278 + xbar^9275 + xbar^9274 + xbar^9273 + xbar^9272 + xbar^9271 + xbar^9270 + xbar^9269 + xbar^9268 + xbar^9267 + xbar^9266 + xbar^9264 + xbar^9261 + xbar^9255 + xbar^9252 + xbar^9251 + xbar^9248 + xbar^9245 + xbar^9244 + xbar^9241 + xbar^9238 + xbar^9236 + xbar^9233 + xbar^9232 + xbar^9229 + xbar^9226 + xbar^9223 + xbar^9221 + xbar^9220 + xbar^9218 + xbar^9216 + xbar^9213 + xbar^9208 + xbar^9205 + xbar^9204 + xbar^9202 + xbar^9201 + xbar^9200 + xbar^9199 + xbar^9198 + xbar^9197 + xbar^9195 + xbar^9194 + xbar^9191 + xbar^9190 + xbar^9189 + xbar^9187 + xbar^9186 + xbar^9185 + xbar^9184 + xbar^9183 + xbar^9182 + xbar^9180 + xbar^9179 + xbar^9178 + xbar^9177 + xbar^9175 + xbar^9174 + xbar^9171 + xbar^9169 + xbar^9168 + xbar^9165 + xbar^9164 + xbar^9161 + xbar^9160 + xbar^9157 + xbar^9156 + xbar^9150 + xbar^9148 + xbar^9146 + xbar^9145 + xbar^9144 + xbar^9141 + xbar^9140 + xbar^9139 + xbar^9137 + xbar^9135 + xbar^9134 + xbar^9133 + xbar^9132 + xbar^9131 + xbar^9127 + xbar^9125 + xbar^9124 + xbar^9120 + xbar^9119 + xbar^9117 + xbar^9115 + xbar^9113 + xbar^9111 + xbar^9110 + xbar^9107 + xbar^9102 + xbar^9101 + xbar^9100 + xbar^9099 + xbar^9098 + xbar^9097 + xbar^9095 + xbar^9094 + xbar^9092 + xbar^9089 + xbar^9087 + xbar^9086 + xbar^9083 + xbar^9074 + xbar^9072 + xbar^9071 + xbar^9069 + xbar^9066 + xbar^9065 + xbar^9064 + xbar^9060 + xbar^9058 + xbar^9054 + xbar^9053 + xbar^9050 + xbar^9049 + xbar^9048 + xbar^9046 + xbar^9044 + xbar^9043 + xbar^9042 + xbar^9040 + xbar^9038 + xbar^9036 + xbar^9035 + xbar^9034 + xbar^9033 + xbar^9032 + xbar^9030 + xbar^9028 + xbar^9024 + xbar^9019 + xbar^9018 + xbar^9017 + xbar^9016 + xbar^9014 + xbar^9013 + xbar^9012 + xbar^9007 + xbar^9005 + xbar^9004 + xbar^9002 + xbar^9000 + xbar^8998 + xbar^8994 + xbar^8993 + xbar^8991 + xbar^8988 + xbar^8987 + xbar^8986 + xbar^8984 + xbar^8979 + xbar^8978 + xbar^8976 + xbar^8975 + xbar^8974 + xbar^8971 + xbar^8970 + xbar^8969 + xbar^8968 + xbar^8967 + xbar^8966 + xbar^8964 + xbar^8962 + xbar^8959 + xbar^8958 + xbar^8957 + xbar^8956 + xbar^8954 + xbar^8953 + xbar^8952 + xbar^8950 + xbar^8949 + xbar^8947 + xbar^8945 + xbar^8939 + xbar^8938 + xbar^8935 + xbar^8934 + xbar^8932 + xbar^8929 + xbar^8928 + xbar^8926 + xbar^8924 + xbar^8923 + xbar^8922 + xbar^8921 + xbar^8920 + xbar^8916 + xbar^8915 + xbar^8912 + xbar^8911 + xbar^8907 + xbar^8903 + xbar^8900 + xbar^8898 + xbar^8894 + xbar^8893 + xbar^8890 + xbar^8889 + xbar^8887 + xbar^8886 + xbar^8885 + xbar^8884 + xbar^8883 + xbar^8882 + xbar^8879 + xbar^8876 + xbar^8873 + xbar^8871 + xbar^8868 + xbar^8866 + xbar^8864 + xbar^8862 + xbar^8859 + xbar^8858 + xbar^8856 + xbar^8855 + xbar^8854 + xbar^8853 + xbar^8852 + xbar^8850 + xbar^8849 + xbar^8848 + xbar^8843 + xbar^8842 + xbar^8840 + xbar^8836 + xbar^8835 + xbar^8834 + xbar^8833 + xbar^8830 + xbar^8826 + xbar^8825 + xbar^8823 + xbar^8821 + xbar^8820 + xbar^8819 + xbar^8814 + xbar^8813 + xbar^8811 + xbar^8809 + xbar^8808 + xbar^8807 + xbar^8806 + xbar^8805 + xbar^8804 + xbar^8803 + xbar^8802 + xbar^8800 + xbar^8799 + xbar^8797 + xbar^8795 + xbar^8792 + xbar^8790 + xbar^8786 + xbar^8785 + xbar^8781 + xbar^8779 + xbar^8778 + xbar^8777 + xbar^8776 + xbar^8775 + xbar^8770 + xbar^8769 + xbar^8768 + xbar^8767 + xbar^8765 + xbar^8762 + xbar^8761 + xbar^8749 + xbar^8747 + xbar^8746 + xbar^8740 + xbar^8739 + xbar^8738 + xbar^8737 + xbar^8736 + xbar^8735 + xbar^8733 + xbar^8729 + xbar^8726 + xbar^8725 + xbar^8722 + xbar^8720 + xbar^8719 + xbar^8718 + xbar^8717 + xbar^8716 + xbar^8714 + xbar^8713 + xbar^8711 + xbar^8709 + xbar^8707 + xbar^8706 + xbar^8704 + xbar^8700 + xbar^8698 + xbar^8697 + xbar^8694 + xbar^8691 + xbar^8690 + xbar^8689 + xbar^8686 + xbar^8684 + xbar^8683 + xbar^8682 + xbar^8680 + xbar^8678 + xbar^8677 + xbar^8676 + xbar^8675 + xbar^8674 + xbar^8672 + xbar^8671 + xbar^8666 + xbar^8665 + xbar^8663 + xbar^8660 + xbar^8658 + xbar^8657 + xbar^8655 + xbar^8653 + xbar^8652 + xbar^8651 + xbar^8649 + xbar^8648 + xbar^8647 + xbar^8643 + xbar^8642 + xbar^8639 + xbar^8637 + xbar^8636 + xbar^8635 + xbar^8634 + xbar^8632 + xbar^8631 + xbar^8630 + xbar^8629 + xbar^8623 + xbar^8622 + xbar^8620 + xbar^8619 + xbar^8615 + xbar^8611 + xbar^8610 + xbar^8608 + xbar^8607 + xbar^8606 + xbar^8604 + xbar^8603 + xbar^8601 + xbar^8598 + xbar^8594 + xbar^8589 + xbar^8588 + xbar^8587 + xbar^8584 + xbar^8583 + xbar^8581 + xbar^8580 + xbar^8579 + xbar^8578 + xbar^8575 + xbar^8571 + xbar^8569 + xbar^8567 + xbar^8566 + xbar^8564 + xbar^8563 + xbar^8561 + xbar^8557 + xbar^8556 + xbar^8555 + xbar^8552 + xbar^8551 + xbar^8550 + xbar^8548 + xbar^8546 + xbar^8544 + xbar^8543 + xbar^8541 + xbar^8540 + xbar^8535 + xbar^8534 + xbar^8533 + xbar^8530 + xbar^8528 + xbar^8526 + xbar^8525 + xbar^8522 + xbar^8521 + xbar^8516 + xbar^8515 + xbar^8506 + xbar^8503 + xbar^8497 + xbar^8496 + xbar^8495 + xbar^8491 + xbar^8490 + xbar^8484 + xbar^8481 + xbar^8476 + xbar^8473 + xbar^8472 + xbar^8471 + xbar^8470 + xbar^8468 + xbar^8466 + xbar^8463 + xbar^8461 + xbar^8460 + xbar^8459 + xbar^8455 + xbar^8454 + xbar^8453 + xbar^8452 + xbar^8451 + xbar^8450 + xbar^8449 + xbar^8448 + xbar^8447 + xbar^8446 + xbar^8445 + xbar^8444 + xbar^8442 + xbar^8441 + xbar^8440 + xbar^8437 + xbar^8436 + xbar^8434 + xbar^8433 + xbar^8431 + xbar^8430 + xbar^8428 + xbar^8426 + xbar^8425 + xbar^8424 + xbar^8422 + xbar^8421 + xbar^8420 + xbar^8418 + xbar^8415 + xbar^8414 + xbar^8413 + xbar^8410 + xbar^8409 + xbar^8406 + xbar^8405 + xbar^8404 + xbar^8403 + xbar^8400 + xbar^8397 + xbar^8396 + xbar^8395 + xbar^8393 + xbar^8390 + xbar^8389 + xbar^8388 + xbar^8386 + xbar^8385 + xbar^8384 + xbar^8380 + xbar^8379 + xbar^8375 + xbar^8370 + xbar^8369 + xbar^8368 + xbar^8366 + xbar^8361 + xbar^8355 + xbar^8354 + xbar^8353 + xbar^8348 + xbar^8347 + xbar^8346 + xbar^8345 + xbar^8344 + xbar^8340 + xbar^8337 + xbar^8335 + xbar^8334 + xbar^8333 + xbar^8330 + xbar^8328 + xbar^8327 + xbar^8321 + xbar^8318 + xbar^8314 + xbar^8313 + xbar^8312 + xbar^8311 + xbar^8303 + xbar^8300 + xbar^8299 + xbar^8298 + xbar^8297 + xbar^8291 + xbar^8289 + xbar^8288 + xbar^8286 + xbar^8283 + xbar^8282 + xbar^8280 + xbar^8279 + xbar^8278 + xbar^8277 + xbar^8276 + xbar^8274 + xbar^8273 + xbar^8272 + xbar^8271 + xbar^8270 + xbar^8269 + xbar^8268 + xbar^8265 + xbar^8264 + xbar^8263 + xbar^8260 + xbar^8259 + xbar^8256 + xbar^8255 + xbar^8253 + xbar^8251 + xbar^8249 + xbar^8245 + xbar^8243 + xbar^8242 + xbar^8241 + xbar^8240 + xbar^8239 + xbar^8237 + xbar^8236 + xbar^8233 + xbar^8229 + xbar^8228 + xbar^8227 + xbar^8225 + xbar^8224 + xbar^8221 + xbar^8219 + xbar^8218 + xbar^8216 + xbar^8215 + xbar^8209 + xbar^8208 + xbar^8206 + xbar^8204 + xbar^8203 + xbar^8202 + xbar^8196 + xbar^8193 + xbar^8192 + xbar^8183 + xbar^8180 + xbar^8178 + xbar^8177 + xbar^8176 + xbar^8175 + xbar^8174 + xbar^8169 + xbar^8165 + xbar^8164 + xbar^8163 + xbar^8161 + xbar^8159 + xbar^8158 + xbar^8157 + xbar^8151 + xbar^8150 + xbar^8147 + xbar^8146 + xbar^8144 + xbar^8143 + xbar^8140 + xbar^8139 + xbar^8137 + xbar^8135 + xbar^8134 + xbar^8133 + xbar^8129 + xbar^8128 + xbar^8124 + xbar^8122 + xbar^8118 + xbar^8116 + xbar^8115 + xbar^8114 + xbar^8112 + xbar^8111 + xbar^8110 + xbar^8109 + xbar^8108 + xbar^8104 + xbar^8103 + xbar^8102 + xbar^8101 + xbar^8100 + xbar^8099 + xbar^8098 + xbar^8096 + xbar^8095 + xbar^8093 + xbar^8089 + xbar^8088 + xbar^8085 + xbar^8084 + xbar^8082 + xbar^8080 + xbar^8079 + xbar^8078 + xbar^8077 + xbar^8076 + xbar^8073 + xbar^8072 + xbar^8071 + xbar^8070 + xbar^8067 + xbar^8065 + xbar^8064 + xbar^8063 + xbar^8062 + xbar^8061 + xbar^8058 + xbar^8055 + xbar^8052 + xbar^8051 + xbar^8049 + xbar^8048 + xbar^8047 + xbar^8046 + xbar^8044 + xbar^8043 + xbar^8041 + xbar^8037 + xbar^8032 + xbar^8030 + xbar^8025 + xbar^8024 + xbar^8018 + xbar^8014 + xbar^8012 + xbar^8011 + xbar^8005 + xbar^8002 + xbar^8001 + xbar^7999 + xbar^7998 + xbar^7997 + xbar^7996 + xbar^7995 + xbar^7994 + xbar^7993 + xbar^7992 + xbar^7990 + xbar^7989 + xbar^7988 + xbar^7987 + xbar^7986 + xbar^7984 + xbar^7983 + xbar^7980 + xbar^7978 + xbar^7977 + xbar^7976 + xbar^7975 + xbar^7973 + xbar^7971 + xbar^7969 + xbar^7968 + xbar^7963 + xbar^7961 + xbar^7960 + xbar^7958 + xbar^7957 + xbar^7956 + xbar^7952 + xbar^7950 + xbar^7945 + xbar^7943 + xbar^7939 + xbar^7936 + xbar^7931 + xbar^7928 + xbar^7924 + xbar^7922 + xbar^7921 + xbar^7920 + xbar^7919 + xbar^7918 + xbar^7914 + xbar^7913 + xbar^7912 + xbar^7910 + xbar^7908 + xbar^7905 + xbar^7902 + xbar^7901 + xbar^7898 + xbar^7897 + xbar^7896 + xbar^7895 + xbar^7892 + xbar^7891 + xbar^7890 + xbar^7889 + xbar^7888 + xbar^7887 + xbar^7883 + xbar^7882 + xbar^7880 + xbar^7879 + xbar^7878 + xbar^7877 + xbar^7869 + xbar^7863 + xbar^7859 + xbar^7857 + xbar^7856 + xbar^7855 + xbar^7854 + xbar^7852 + xbar^7851 + xbar^7850 + xbar^7840 + xbar^7839 + xbar^7836 + xbar^7834 + xbar^7833 + xbar^7832 + xbar^7831 + xbar^7830 + xbar^7829 + xbar^7828 + xbar^7824 + xbar^7821 + xbar^7818 + xbar^7816 + xbar^7815 + xbar^7812 + xbar^7809 + xbar^7808 + xbar^7807 + xbar^7806 + xbar^7804 + xbar^7803 + xbar^7802 + xbar^7801 + xbar^7798 + xbar^7793 + xbar^7792 + xbar^7790 + xbar^7789 + xbar^7788 + xbar^7787 + xbar^7784 + xbar^7782 + xbar^7781 + xbar^7780 + xbar^7779 + xbar^7778 + xbar^7777 + xbar^7774 + xbar^7773 + xbar^7771 + xbar^7770 + xbar^7769 + xbar^7768 + xbar^7766 + xbar^7762 + xbar^7761 + xbar^7760 + xbar^7759 + xbar^7758 + xbar^7757 + xbar^7755 + xbar^7754 + xbar^7753 + xbar^7752 + xbar^7747 + xbar^7744 + xbar^7742 + xbar^7740 + xbar^7739 + xbar^7737 + xbar^7736 + xbar^7735 + xbar^7734 + xbar^7733 + xbar^7728 + xbar^7727 + xbar^7722 + xbar^7719 + xbar^7712 + xbar^7711 + xbar^7709 + xbar^7706 + xbar^7705 + xbar^7703 + xbar^7700 + xbar^7699 + xbar^7698 + xbar^7697 + xbar^7695 + xbar^7693 + xbar^7692 + xbar^7688 + xbar^7686 + xbar^7685 + xbar^7683 + xbar^7680 + xbar^7678 + xbar^7677 + xbar^7676 + xbar^7675 + xbar^7674 + xbar^7673 + xbar^7671 + xbar^7667 + xbar^7666 + xbar^7665 + xbar^7664 + xbar^7663 + xbar^7662 + xbar^7660 + xbar^7658 + xbar^7656 + xbar^7655 + xbar^7654 + xbar^7652 + xbar^7651 + xbar^7650 + xbar^7649 + xbar^7648 + xbar^7647 + xbar^7646 + xbar^7643 + xbar^7641 + xbar^7639 + xbar^7635 + xbar^7634 + xbar^7633 + xbar^7631 + xbar^7630 + xbar^7629 + xbar^7628 + xbar^7625 + xbar^7624 + xbar^7623 + xbar^7621 + xbar^7618 + xbar^7616 + xbar^7612 + xbar^7611 + xbar^7610 + xbar^7609 + xbar^7607 + xbar^7605 + xbar^7603 + xbar^7602 + xbar^7601 + xbar^7599 + xbar^7598 + xbar^7597 + xbar^7592 + xbar^7588 + xbar^7587 + xbar^7586 + xbar^7585 + xbar^7582 + xbar^7581 + xbar^7580 + xbar^7579 + xbar^7578 + xbar^7577 + xbar^7576 + xbar^7572 + xbar^7570 + xbar^7566 + xbar^7564 + xbar^7563 + xbar^7561 + xbar^7560 + xbar^7559 + xbar^7558 + xbar^7557 + xbar^7555 + xbar^7552 + xbar^7551 + xbar^7550 + xbar^7549 + xbar^7548 + xbar^7544 + xbar^7540 + xbar^7538 + xbar^7536 + xbar^7534 + xbar^7533 + xbar^7530 + xbar^7529 + xbar^7527 + xbar^7526 + xbar^7525 + xbar^7523 + xbar^7522 + xbar^7521 + xbar^7519 + xbar^7517 + xbar^7512 + xbar^7509 + xbar^7508 + xbar^7507 + xbar^7505 + xbar^7503 + xbar^7500 + xbar^7499 + xbar^7494 + xbar^7489 + xbar^7487 + xbar^7485 + xbar^7483 + xbar^7479 + xbar^7478 + xbar^7476 + xbar^7470 + xbar^7469 + xbar^7468 + xbar^7467 + xbar^7465 + xbar^7464 + xbar^7463 + xbar^7458 + xbar^7456 + xbar^7455 + xbar^7452 + xbar^7451 + xbar^7450 + xbar^7448 + xbar^7446 + xbar^7445 + xbar^7439 + xbar^7438 + xbar^7434 + xbar^7433 + xbar^7431 + xbar^7430 + xbar^7428 + xbar^7427 + xbar^7425 + xbar^7424 + xbar^7423 + xbar^7421 + xbar^7418 + xbar^7417 + xbar^7416 + xbar^7410 + xbar^7409 + xbar^7408 + xbar^7404 + xbar^7403 + xbar^7401 + xbar^7400 + xbar^7398 + xbar^7395 + xbar^7394 + xbar^7393 + xbar^7392 + xbar^7391 + xbar^7390 + xbar^7387 + xbar^7386 + xbar^7385 + xbar^7384 + xbar^7383 + xbar^7382 + xbar^7381 + xbar^7380 + xbar^7378 + xbar^7377 + xbar^7375 + xbar^7367 + xbar^7365 + xbar^7363 + xbar^7362 + xbar^7361 + xbar^7360 + xbar^7357 + xbar^7355 + xbar^7354 + xbar^7352 + xbar^7351 + xbar^7349 + xbar^7348 + xbar^7345 + xbar^7344 + xbar^7343 + xbar^7340 + xbar^7339 + xbar^7338 + xbar^7337 + xbar^7336 + xbar^7334 + xbar^7333 + xbar^7332 + xbar^7331 + xbar^7329 + xbar^7328 + xbar^7326 + xbar^7325 + xbar^7322 + xbar^7321 + xbar^7320 + xbar^7319 + xbar^7318 + xbar^7314 + xbar^7310 + xbar^7308 + xbar^7306 + xbar^7303 + xbar^7301 + xbar^7298 + xbar^7293 + xbar^7292 + xbar^7291 + xbar^7290 + xbar^7287 + xbar^7286 + xbar^7285 + xbar^7284 + xbar^7282 + xbar^7280 + xbar^7275 + xbar^7274 + xbar^7271 + xbar^7268 + xbar^7267 + xbar^7266 + xbar^7264 + xbar^7261 + xbar^7260 + xbar^7258 + xbar^7257 + xbar^7255 + xbar^7253 + xbar^7252 + xbar^7251 + xbar^7250 + xbar^7248 + xbar^7245 + xbar^7242 + xbar^7239 + xbar^7238 + xbar^7237 + xbar^7234 + xbar^7232 + xbar^7231 + xbar^7230 + xbar^7228 + xbar^7227 + xbar^7226 + xbar^7225 + xbar^7223 + xbar^7218 + xbar^7217 + xbar^7216 + xbar^7214 + xbar^7213 + xbar^7212 + xbar^7208 + xbar^7205 + xbar^7204 + xbar^7203 + xbar^7198 + xbar^7197 + xbar^7195 + xbar^7194 + xbar^7193 + xbar^7190 + xbar^7187 + xbar^7186 + xbar^7185 + xbar^7183 + xbar^7179 + xbar^7178 + xbar^7174 + xbar^7173 + xbar^7172 + xbar^7170 + xbar^7169 + xbar^7168 + xbar^7167 + xbar^7166 + xbar^7165 + xbar^7162 + xbar^7160 + xbar^7153 + xbar^7152 + xbar^7148 + xbar^7147 + xbar^7146 + xbar^7145 + xbar^7144 + xbar^7141 + xbar^7139 + xbar^7137 + xbar^7136 + xbar^7134 + xbar^7132 + xbar^7127 + xbar^7126 + xbar^7125 + xbar^7124 + xbar^7122 + xbar^7121 + xbar^7115 + xbar^7112 + xbar^7110 + xbar^7108 + xbar^7107 + xbar^7105 + xbar^7103 + xbar^7100 + xbar^7098 + xbar^7097 + xbar^7096 + xbar^7092 + xbar^7091 + xbar^7090 + xbar^7089 + xbar^7085 + xbar^7084 + xbar^7079 + xbar^7078 + xbar^7077 + xbar^7076 + xbar^7075 + xbar^7074 + xbar^7072 + xbar^7071 + xbar^7070 + xbar^7067 + xbar^7066 + xbar^7065 + xbar^7062 + xbar^7061 + xbar^7059 + xbar^7054 + xbar^7053 + xbar^7051 + xbar^7049 + xbar^7048 + xbar^7045 + xbar^7044 + xbar^7042 + xbar^7040 + xbar^7039 + xbar^7037 + xbar^7036 + xbar^7034 + xbar^7033 + xbar^7032 + xbar^7030 + xbar^7029 + xbar^7028 + xbar^7023 + xbar^7022 + xbar^7020 + xbar^7018 + xbar^7015 + xbar^7014 + xbar^7012 + xbar^7011 + xbar^7010 + xbar^7003 + xbar^7002 + xbar^6999 + xbar^6998 + xbar^6997 + xbar^6996 + xbar^6995 + xbar^6994 + xbar^6993 + xbar^6992 + xbar^6991 + xbar^6989 + xbar^6987 + xbar^6984 + xbar^6982 + xbar^6974 + xbar^6973 + xbar^6972 + xbar^6968 + xbar^6967 + xbar^6966 + xbar^6963 + xbar^6960 + xbar^6957 + xbar^6956 + xbar^6955 + xbar^6953 + xbar^6952 + xbar^6950 + xbar^6946 + xbar^6945 + xbar^6937 + xbar^6936 + xbar^6933 + xbar^6931 + xbar^6930 + xbar^6929 + xbar^6928 + xbar^6927 + xbar^6921 + xbar^6919 + xbar^6918 + xbar^6917 + xbar^6916 + xbar^6915 + xbar^6913 + xbar^6912 + xbar^6911 + xbar^6909 + xbar^6907 + xbar^6906 + xbar^6905 + xbar^6899 + xbar^6898 + xbar^6887 + xbar^6882 + xbar^6881 + xbar^6880 + xbar^6874 + xbar^6872 + xbar^6871 + xbar^6870 + xbar^6869 + xbar^6868 + xbar^6867 + xbar^6865 + xbar^6864 + xbar^6863 + xbar^6862 + xbar^6861 + xbar^6860 + xbar^6859 + xbar^6857 + xbar^6856 + xbar^6855 + xbar^6854 + xbar^6853 + xbar^6851 + xbar^6850 + xbar^6848 + xbar^6846 + xbar^6845 + xbar^6844 + xbar^6843 + xbar^6841 + xbar^6840 + xbar^6836 + xbar^6831 + xbar^6826 + xbar^6824 + xbar^6821 + xbar^6820 + xbar^6819 + xbar^6817 + xbar^6815 + xbar^6812 + xbar^6807 + xbar^6806 + xbar^6801 + xbar^6798 + xbar^6796 + xbar^6795 + xbar^6794 + xbar^6793 + xbar^6783 + xbar^6782 + xbar^6781 + xbar^6776 + xbar^6775 + xbar^6774 + xbar^6773 + xbar^6771 + xbar^6768 + xbar^6766 + xbar^6765 + xbar^6764 + xbar^6761 + xbar^6758 + xbar^6755 + xbar^6751 + xbar^6750 + xbar^6748 + xbar^6747 + xbar^6745 + xbar^6744 + xbar^6743 + xbar^6739 + xbar^6737 + xbar^6734 + xbar^6731 + xbar^6729 + xbar^6728 + xbar^6726 + xbar^6725 + xbar^6719 + xbar^6718 + xbar^6717 + xbar^6713 + xbar^6711 + xbar^6707 + xbar^6704 + xbar^6702 + xbar^6701 + xbar^6700 + xbar^6698 + xbar^6697 + xbar^6691 + xbar^6690 + xbar^6689 + xbar^6688 + xbar^6687 + xbar^6686 + xbar^6685 + xbar^6684 + xbar^6679 + xbar^6678 + xbar^6676 + xbar^6675 + xbar^6673 + xbar^6669 + xbar^6666 + xbar^6664 + xbar^6663 + xbar^6659 + xbar^6658 + xbar^6657 + xbar^6655 + xbar^6654 + xbar^6653 + xbar^6652 + xbar^6651 + xbar^6650 + xbar^6646 + xbar^6644 + xbar^6642 + xbar^6641 + xbar^6640 + xbar^6639 + xbar^6638 + xbar^6637 + xbar^6636 + xbar^6633 + xbar^6632 + xbar^6631 + xbar^6630 + xbar^6629 + xbar^6628 + xbar^6627 + xbar^6626 + xbar^6625 + xbar^6621 + xbar^6620 + xbar^6619 + xbar^6617 + xbar^6613 + xbar^6611 + xbar^6609 + xbar^6608 + xbar^6601 + xbar^6599 + xbar^6598 + xbar^6597 + xbar^6592 + xbar^6591 + xbar^6589 + xbar^6587 + xbar^6585 + xbar^6584 + xbar^6583 + xbar^6580 + xbar^6579 + xbar^6578 + xbar^6577 + xbar^6576 + xbar^6573 + xbar^6569 + xbar^6566 + xbar^6565 + xbar^6563 + xbar^6559 + xbar^6555 + xbar^6553 + xbar^6550 + xbar^6549 + xbar^6548 + xbar^6547 + xbar^6545 + xbar^6544 + xbar^6542 + xbar^6541 + xbar^6540 + xbar^6538 + xbar^6537 + xbar^6536 + xbar^6535 + xbar^6533 + xbar^6532 + xbar^6531 + xbar^6529 + xbar^6527 + xbar^6526 + xbar^6518 + xbar^6515 + xbar^6513 + xbar^6511 + xbar^6510 + xbar^6509 + xbar^6504 + xbar^6499 + xbar^6496 + xbar^6494 + xbar^6493 + xbar^6492 + xbar^6489 + xbar^6488 + xbar^6486 + xbar^6484 + xbar^6481 + xbar^6480 + xbar^6477 + xbar^6470 + xbar^6469 + xbar^6468 + xbar^6467 + xbar^6459 + xbar^6457 + xbar^6456 + xbar^6455 + xbar^6454 + xbar^6451 + xbar^6450 + xbar^6448 + xbar^6447 + xbar^6446 + xbar^6445 + xbar^6443 + xbar^6440 + xbar^6439 + xbar^6438 + xbar^6437 + xbar^6435 + xbar^6433 + xbar^6431 + xbar^6430 + xbar^6429 + xbar^6426 + xbar^6424 + xbar^6423 + xbar^6421 + xbar^6419 + xbar^6418 + xbar^6417 + xbar^6416 + xbar^6415 + xbar^6413 + xbar^6412 + xbar^6409 + xbar^6407 + xbar^6406 + xbar^6402 + xbar^6401 + xbar^6400 + xbar^6399 + xbar^6397 + xbar^6395 + xbar^6391 + xbar^6390 + xbar^6389 + xbar^6388 + xbar^6387 + xbar^6385 + xbar^6384 + xbar^6382 + xbar^6381 + xbar^6378 + xbar^6376 + xbar^6374 + xbar^6372 + xbar^6371 + xbar^6369 + xbar^6368 + xbar^6366 + xbar^6365 + xbar^6364 + xbar^6363 + xbar^6357 + xbar^6354 + xbar^6350 + xbar^6347 + xbar^6345 + xbar^6344 + xbar^6341 + xbar^6339 + xbar^6337 + xbar^6336 + xbar^6335 + xbar^6334 + xbar^6333 + xbar^6331 + xbar^6330 + xbar^6328 + xbar^6326 + xbar^6324 + xbar^6323 + xbar^6321 + xbar^6320 + xbar^6319 + xbar^6317 + xbar^6313 + xbar^6312 + xbar^6311 + xbar^6307 + xbar^6306 + xbar^6305 + xbar^6304 + xbar^6303 + xbar^6302 + xbar^6299 + xbar^6297 + xbar^6294 + xbar^6293 + xbar^6291 + xbar^6288 + xbar^6287 + xbar^6286 + xbar^6284 + xbar^6283 + xbar^6279 + xbar^6277 + xbar^6273 + xbar^6271 + xbar^6270 + xbar^6269 + xbar^6268 + xbar^6264 + xbar^6263 + xbar^6255 + xbar^6250 + xbar^6249 + xbar^6245 + xbar^6243 + xbar^6242 + xbar^6240 + xbar^6239 + xbar^6235 + xbar^6234 + xbar^6233 + xbar^6231 + xbar^6230 + xbar^6229 + xbar^6228 + xbar^6227 + xbar^6223 + xbar^6218 + xbar^6217 + xbar^6214 + xbar^6213 + xbar^6205 + xbar^6204 + xbar^6202 + xbar^6200 + xbar^6199 + xbar^6198 + xbar^6195 + xbar^6194 + xbar^6193 + xbar^6190 + xbar^6189 + xbar^6187 + xbar^6185 + xbar^6184 + xbar^6180 + xbar^6178 + xbar^6177 + xbar^6172 + xbar^6171 + xbar^6168 + xbar^6167 + xbar^6166 + xbar^6164 + xbar^6162 + xbar^6160 + xbar^6157 + xbar^6155 + xbar^6154 + xbar^6152 + xbar^6150 + xbar^6149 + xbar^6148 + xbar^6146 + xbar^6145 + xbar^6143 + xbar^6142 + xbar^6140 + xbar^6139 + xbar^6138 + xbar^6135 + xbar^6133 + xbar^6131 + xbar^6126 + xbar^6122 + xbar^6121 + xbar^6119 + xbar^6113 + xbar^6112 + xbar^6110 + xbar^6109 + xbar^6106 + xbar^6098 + xbar^6097 + xbar^6093 + xbar^6091 + xbar^6089 + xbar^6087 + xbar^6085 + xbar^6081 + xbar^6079 + xbar^6076 + xbar^6075 + xbar^6074 + xbar^6073 + xbar^6068 + xbar^6067 + xbar^6066 + xbar^6059 + xbar^6058 + xbar^6049 + xbar^6048 + xbar^6047 + xbar^6044 + xbar^6042 + xbar^6041 + xbar^6039 + xbar^6037 + xbar^6035 + xbar^6032 + xbar^6030 + xbar^6029 + xbar^6026 + xbar^6025 + xbar^6023 + xbar^6020 + xbar^6017 + xbar^6015 + xbar^6012 + xbar^6011 + xbar^6010 + xbar^6009 + xbar^6008 + xbar^6007 + xbar^6005 + xbar^6004 + xbar^6002 + xbar^5999 + xbar^5998 + xbar^5997 + xbar^5993 + xbar^5992 + xbar^5990 + xbar^5988 + xbar^5987 + xbar^5985 + xbar^5981 + xbar^5979 + xbar^5978 + xbar^5976 + xbar^5974 + xbar^5971 + xbar^5969 + xbar^5967 + xbar^5965 + xbar^5963 + xbar^5962 + xbar^5961 + xbar^5960 + xbar^5958 + xbar^5957 + xbar^5956 + xbar^5955 + xbar^5953 + xbar^5952 + xbar^5951 + xbar^5949 + xbar^5947 + xbar^5946 + xbar^5945 + xbar^5943 + xbar^5942 + xbar^5940 + xbar^5939 + xbar^5938 + xbar^5937 + xbar^5936 + xbar^5935 + xbar^5933 + xbar^5930 + xbar^5929 + xbar^5925 + xbar^5924 + xbar^5923 + xbar^5921 + xbar^5920 + xbar^5918 + xbar^5916 + xbar^5909 + xbar^5908 + xbar^5907 + xbar^5904 + xbar^5902 + xbar^5901 + xbar^5900 + xbar^5899 + xbar^5898 + xbar^5896 + xbar^5894 + xbar^5890 + xbar^5889 + xbar^5887 + xbar^5886 + xbar^5885 + xbar^5883 + xbar^5881 + xbar^5877 + xbar^5876 + xbar^5874 + xbar^5870 + xbar^5868 + xbar^5866 + xbar^5861 + xbar^5859 + xbar^5857 + xbar^5856 + xbar^5848 + xbar^5846 + xbar^5845 + xbar^5842 + xbar^5841 + xbar^5840 + xbar^5837 + xbar^5836 + xbar^5835 + xbar^5832 + xbar^5830 + xbar^5829 + xbar^5828 + xbar^5827 + xbar^5821 + xbar^5819 + xbar^5815 + xbar^5814 + xbar^5813 + xbar^5812 + xbar^5810 + xbar^5809 + xbar^5808 + xbar^5806 + xbar^5804 + xbar^5803 + xbar^5801 + xbar^5798 + xbar^5797 + xbar^5793 + xbar^5791 + xbar^5790 + xbar^5789 + xbar^5787 + xbar^5783 + xbar^5778 + xbar^5774 + xbar^5772 + xbar^5768 + xbar^5765 + xbar^5764 + xbar^5760 + xbar^5756 + xbar^5754 + xbar^5753 + xbar^5752 + xbar^5747 + xbar^5745 + xbar^5743 + xbar^5742 + xbar^5741 + xbar^5740 + xbar^5738 + xbar^5731 + xbar^5730 + xbar^5728 + xbar^5725 + xbar^5724 + xbar^5723 + xbar^5722 + xbar^5717 + xbar^5716 + xbar^5715 + xbar^5714 + xbar^5713 + xbar^5710 + xbar^5709 + xbar^5708 + xbar^5706 + xbar^5705 + xbar^5700 + xbar^5699 + xbar^5697 + xbar^5696 + xbar^5689 + xbar^5684 + xbar^5683 + xbar^5680 + xbar^5676 + xbar^5675 + xbar^5674 + xbar^5673 + xbar^5672 + xbar^5665 + xbar^5663 + xbar^5662 + xbar^5660 + xbar^5659 + xbar^5658 + xbar^5657 + xbar^5654 + xbar^5653 + xbar^5652 + xbar^5650 + xbar^5646 + xbar^5645 + xbar^5644 + xbar^5643 + xbar^5639 + xbar^5638 + xbar^5636 + xbar^5634 + xbar^5628 + xbar^5624 + xbar^5623 + xbar^5621 + xbar^5617 + xbar^5614 + xbar^5613 + xbar^5611 + xbar^5609 + xbar^5606 + xbar^5605 + xbar^5603 + xbar^5602 + xbar^5601 + xbar^5600 + xbar^5599 + xbar^5597 + xbar^5595 + xbar^5594 + xbar^5592 + xbar^5591 + xbar^5590 + xbar^5588 + xbar^5585 + xbar^5581 + xbar^5578 + xbar^5575 + xbar^5573 + xbar^5572 + xbar^5571 + xbar^5570 + xbar^5569 + xbar^5567 + xbar^5564 + xbar^5559 + xbar^5558 + xbar^5557 + xbar^5556 + xbar^5555 + xbar^5553 + xbar^5547 + xbar^5542 + xbar^5541 + xbar^5536 + xbar^5530 + xbar^5529 + xbar^5528 + xbar^5527 + xbar^5526 + xbar^5524 + xbar^5523 + xbar^5522 + xbar^5520 + xbar^5519 + xbar^5518 + xbar^5517 + xbar^5516 + xbar^5513 + xbar^5512 + xbar^5511 + xbar^5510 + xbar^5508 + xbar^5507 + xbar^5502 + xbar^5496 + xbar^5494 + xbar^5493 + xbar^5492 + xbar^5487 + xbar^5486 + xbar^5483 + xbar^5482 + xbar^5481 + xbar^5480 + xbar^5478 + xbar^5475 + xbar^5474 + xbar^5470 + xbar^5469 + xbar^5468 + xbar^5466 + xbar^5464 + xbar^5462 + xbar^5461 + xbar^5460 + xbar^5455 + xbar^5454 + xbar^5453 + xbar^5450 + xbar^5449 + xbar^5447 + xbar^5443 + xbar^5441 + xbar^5440 + xbar^5439 + xbar^5437 + xbar^5434 + xbar^5432 + xbar^5431 + xbar^5430 + xbar^5428 + xbar^5425 + xbar^5424 + xbar^5422 + xbar^5420 + xbar^5418 + xbar^5416 + xbar^5413 + xbar^5409 + xbar^5408 + xbar^5407 + xbar^5406 + xbar^5405 + xbar^5401 + xbar^5400 + xbar^5398 + xbar^5397 + xbar^5395 + xbar^5392 + xbar^5389 + xbar^5386 + xbar^5383 + xbar^5381 + xbar^5379 + xbar^5375 + xbar^5374 + xbar^5373 + xbar^5371 + xbar^5369 + xbar^5368 + xbar^5366 + xbar^5365 + xbar^5364 + xbar^5362 + xbar^5360 + xbar^5357 + xbar^5355 + xbar^5353 + xbar^5352 + xbar^5350 + xbar^5347 + xbar^5345 + xbar^5344 + xbar^5343 + xbar^5342 + xbar^5331 + xbar^5330 + xbar^5329 + xbar^5328 + xbar^5326 + xbar^5325 + xbar^5320 + xbar^5319 + xbar^5318 + xbar^5316 + xbar^5314 + xbar^5312 + xbar^5309 + xbar^5307 + xbar^5305 + xbar^5304 + xbar^5303 + xbar^5301 + xbar^5299 + xbar^5298 + xbar^5297 + xbar^5296 + xbar^5294 + xbar^5292 + xbar^5291 + xbar^5289 + xbar^5285 + xbar^5280 + xbar^5270 + xbar^5268 + xbar^5267 + xbar^5266 + xbar^5261 + xbar^5260 + xbar^5259 + xbar^5258 + xbar^5256 + xbar^5253 + xbar^5252 + xbar^5251 + xbar^5250 + xbar^5249 + xbar^5246 + xbar^5242 + xbar^5240 + xbar^5237 + xbar^5234 + xbar^5233 + xbar^5232 + xbar^5230 + xbar^5227 + xbar^5226 + xbar^5225 + xbar^5223 + xbar^5222 + xbar^5221 + xbar^5219 + xbar^5217 + xbar^5216 + xbar^5215 + xbar^5214 + xbar^5213 + xbar^5212 + xbar^5210 + xbar^5209 + xbar^5208 + xbar^5204 + xbar^5203 + xbar^5199 + xbar^5198 + xbar^5196 + xbar^5195 + xbar^5194 + xbar^5189 + xbar^5188 + xbar^5187 + xbar^5184 + xbar^5183 + xbar^5182 + xbar^5181 + xbar^5180 + xbar^5178 + xbar^5175 + xbar^5172 + xbar^5170 + xbar^5169 + xbar^5167 + xbar^5166 + xbar^5165 + xbar^5164 + xbar^5163 + xbar^5161 + xbar^5160 + xbar^5157 + xbar^5156 + xbar^5155 + xbar^5154 + xbar^5153 + xbar^5152 + xbar^5150 + xbar^5149 + xbar^5148 + xbar^5147 + xbar^5146 + xbar^5143 + xbar^5138 + xbar^5136 + xbar^5135 + xbar^5134 + xbar^5132 + xbar^5131 + xbar^5130 + xbar^5129 + xbar^5127 + xbar^5125 + xbar^5122 + xbar^5119 + xbar^5118 + xbar^5117 + xbar^5116 + xbar^5114 + xbar^5112 + xbar^5111 + xbar^5109 + xbar^5106 + xbar^5103 + xbar^5100 + xbar^5099 + xbar^5096 + xbar^5094 + xbar^5091 + xbar^5087 + xbar^5086 + xbar^5085 + xbar^5079 + xbar^5077 + xbar^5072 + xbar^5070 + xbar^5067 + xbar^5066 + xbar^5064 + xbar^5061 + xbar^5058 + xbar^5054 + xbar^5052 + xbar^5051 + xbar^5050 + xbar^5049 + xbar^5047 + xbar^5044 + xbar^5039 + xbar^5037 + xbar^5033 + xbar^5030 + xbar^5029 + xbar^5027 + xbar^5025 + xbar^5024 + xbar^5020 + xbar^5018 + xbar^5016 + xbar^5015 + xbar^5014 + xbar^5013 + xbar^5012 + xbar^5010 + xbar^5007 + xbar^5005 + xbar^5004 + xbar^5001 + xbar^4998 + xbar^4997 + xbar^4996 + xbar^4995 + xbar^4993 + xbar^4989 + xbar^4987 + xbar^4986 + xbar^4982 + xbar^4981 + xbar^4980 + xbar^4979 + xbar^4978 + xbar^4973 + xbar^4970 + xbar^4968 + xbar^4967 + xbar^4963 + xbar^4962 + xbar^4957 + xbar^4956 + xbar^4955 + xbar^4954 + xbar^4950 + xbar^4949 + xbar^4948 + xbar^4945 + xbar^4944 + xbar^4942 + xbar^4941 + xbar^4938 + xbar^4937 + xbar^4932 + xbar^4930 + xbar^4928 + xbar^4926 + xbar^4925 + xbar^4924 + xbar^4923 + xbar^4921 + xbar^4918 + xbar^4917 + xbar^4912 + xbar^4911 + xbar^4909 + xbar^4907 + xbar^4905 + xbar^4903 + xbar^4898 + xbar^4897 + xbar^4896 + xbar^4895 + xbar^4893 + xbar^4892 + xbar^4890 + xbar^4888 + xbar^4887 + xbar^4886 + xbar^4885 + xbar^4883 + xbar^4879 + xbar^4878 + xbar^4877 + xbar^4875 + xbar^4874 + xbar^4872 + xbar^4871 + xbar^4870 + xbar^4869 + xbar^4867 + xbar^4860 + xbar^4857 + xbar^4855 + xbar^4853 + xbar^4852 + xbar^4849 + xbar^4846 + xbar^4845 + xbar^4844 + xbar^4843 + xbar^4841 + xbar^4832 + xbar^4831 + xbar^4830 + xbar^4827 + xbar^4826 + xbar^4825 + xbar^4824 + xbar^4821 + xbar^4820 + xbar^4817 + xbar^4816 + xbar^4815 + xbar^4814 + xbar^4813 + xbar^4811 + xbar^4808 + xbar^4805 + xbar^4804 + xbar^4803 + xbar^4802 + xbar^4801 + xbar^4800 + xbar^4795 + xbar^4794 + xbar^4792 + xbar^4791 + xbar^4789 + xbar^4788 + xbar^4787 + xbar^4784 + xbar^4783 + xbar^4782 + xbar^4780 + xbar^4779 + xbar^4778 + xbar^4777 + xbar^4775 + xbar^4771 + xbar^4770 + xbar^4767 + xbar^4766 + xbar^4764 + xbar^4761 + xbar^4754 + xbar^4753 + xbar^4751 + xbar^4749 + xbar^4747 + xbar^4746 + xbar^4745 + xbar^4744 + xbar^4743 + xbar^4742 + xbar^4740 + xbar^4733 + xbar^4732 + xbar^4728 + xbar^4727 + xbar^4725 + xbar^4723 + xbar^4722 + xbar^4720 + xbar^4719 + xbar^4718 + xbar^4716 + xbar^4712 + xbar^4711 + xbar^4709 + xbar^4707 + xbar^4701 + xbar^4699 + xbar^4696 + xbar^4694 + xbar^4691 + xbar^4688 + xbar^4687 + xbar^4685 + xbar^4684 + xbar^4681 + xbar^4679 + xbar^4678 + xbar^4675 + xbar^4672 + xbar^4670 + xbar^4667 + xbar^4666 + xbar^4665 + xbar^4664 + xbar^4660 + xbar^4657 + xbar^4656 + xbar^4653 + xbar^4652 + xbar^4648 + xbar^4647 + xbar^4644 + xbar^4643 + xbar^4642 + xbar^4641 + xbar^4640 + xbar^4639 + xbar^4633 + xbar^4632 + xbar^4631 + xbar^4630 + xbar^4628 + xbar^4627 + xbar^4626 + xbar^4623 + xbar^4622 + xbar^4615 + xbar^4614 + xbar^4613 + xbar^4612 + xbar^4608 + xbar^4607 + xbar^4606 + xbar^4604 + xbar^4600 + xbar^4598 + xbar^4594 + xbar^4593 + xbar^4592 + xbar^4591 + xbar^4590 + xbar^4586 + xbar^4585 + xbar^4583 + xbar^4581 + xbar^4579 + xbar^4578 + xbar^4576 + xbar^4575 + xbar^4574 + xbar^4573 + xbar^4571 + xbar^4570 + xbar^4569 + xbar^4568 + xbar^4564 + xbar^4561 + xbar^4560 + xbar^4559 + xbar^4558 + xbar^4557 + xbar^4556 + xbar^4555 + xbar^4551 + xbar^4548 + xbar^4546 + xbar^4545 + xbar^4542 + xbar^4541 + xbar^4538 + xbar^4535 + xbar^4533 + xbar^4531 + xbar^4528 + xbar^4526 + xbar^4523 + xbar^4518 + xbar^4516 + xbar^4514 + xbar^4508 + xbar^4507 + xbar^4506 + xbar^4505 + xbar^4504 + xbar^4502 + xbar^4500 + xbar^4497 + xbar^4496 + xbar^4495 + xbar^4494 + xbar^4493 + xbar^4491 + xbar^4489 + xbar^4488 + xbar^4484 + xbar^4483 + xbar^4482 + xbar^4479 + xbar^4478 + xbar^4477 + xbar^4475 + xbar^4470 + xbar^4468 + xbar^4467 + xbar^4465 + xbar^4463 + xbar^4460 + xbar^4459 + xbar^4458 + xbar^4452 + xbar^4451 + xbar^4449 + xbar^4448 + xbar^4446 + xbar^4445 + xbar^4442 + xbar^4440 + xbar^4438 + xbar^4435 + xbar^4434 + xbar^4433 + xbar^4432 + xbar^4431 + xbar^4426 + xbar^4425 + xbar^4422 + xbar^4417 + xbar^4415 + xbar^4414 + xbar^4412 + xbar^4411 + xbar^4410 + xbar^4409 + xbar^4408 + xbar^4405 + xbar^4403 + xbar^4401 + xbar^4400 + xbar^4399 + xbar^4396 + xbar^4395 + xbar^4394 + xbar^4393 + xbar^4392 + xbar^4391 + xbar^4389 + xbar^4387 + xbar^4386 + xbar^4385 + xbar^4384 + xbar^4383 + xbar^4379 + xbar^4378 + xbar^4374 + xbar^4373 + xbar^4371 + xbar^4368 + xbar^4367 + xbar^4366 + xbar^4365 + xbar^4361 + xbar^4356 + xbar^4354 + xbar^4353 + xbar^4351 + xbar^4346 + xbar^4342 + xbar^4341 + xbar^4340 + xbar^4339 + xbar^4338 + xbar^4336 + xbar^4334 + xbar^4332 + xbar^4329 + xbar^4326 + xbar^4325 + xbar^4324 + xbar^4323 + xbar^4322 + xbar^4317 + xbar^4315 + xbar^4314 + xbar^4313 + xbar^4312 + xbar^4310 + xbar^4305 + xbar^4304 + xbar^4301 + xbar^4299 + xbar^4297 + xbar^4296 + xbar^4294 + xbar^4293 + xbar^4292 + xbar^4287 + xbar^4286 + xbar^4285 + xbar^4284 + xbar^4283 + xbar^4282 + xbar^4280 + xbar^4279 + xbar^4274 + xbar^4272 + xbar^4271 + xbar^4270 + xbar^4269 + xbar^4267 + xbar^4266 + xbar^4262 + xbar^4261 + xbar^4260 + xbar^4259 + xbar^4258 + xbar^4256 + xbar^4255 + xbar^4254 + xbar^4253 + xbar^4252 + xbar^4249 + xbar^4247 + xbar^4246 + xbar^4245 + xbar^4244 + xbar^4242 + xbar^4241 + xbar^4240 + xbar^4239 + xbar^4237 + xbar^4236 + xbar^4234 + xbar^4231 + xbar^4227 + xbar^4222 + xbar^4221 + xbar^4217 + xbar^4214 + xbar^4206 + xbar^4203 + xbar^4201 + xbar^4200 + xbar^4196 + xbar^4192 + xbar^4191 + xbar^4188 + xbar^4187 + xbar^4186 + xbar^4185 + xbar^4184 + xbar^4180 + xbar^4179 + xbar^4178 + xbar^4175 + xbar^4174 + xbar^4172 + xbar^4170 + xbar^4169 + xbar^4168 + xbar^4164 + xbar^4163 + xbar^4162 + xbar^4160 + xbar^4159 + xbar^4158 + xbar^4155 + xbar^4152 + xbar^4150 + xbar^4147 + xbar^4142 + xbar^4140 + xbar^4138 + xbar^4137 + xbar^4136 + xbar^4135 + xbar^4133 + xbar^4130 + xbar^4129 + xbar^4127 + xbar^4125 + xbar^4124 + xbar^4122 + xbar^4119 + xbar^4117 + xbar^4111 + xbar^4103 + xbar^4101 + xbar^4100 + xbar^4096 + xbar^4094 + xbar^4092 + xbar^4089 + xbar^4087 + xbar^4086 + xbar^4085 + xbar^4084 + xbar^4082 + xbar^4081 + xbar^4078 + xbar^4075 + xbar^4074 + xbar^4073 + xbar^4072 + xbar^4067 + xbar^4066 + xbar^4065 + xbar^4064 + xbar^4063 + xbar^4059 + xbar^4056 + xbar^4054 + xbar^4052 + xbar^4051 + xbar^4049 + xbar^4048 + xbar^4045 + xbar^4044 + xbar^4043 + xbar^4042 + xbar^4041 + xbar^4038 + xbar^4036 + xbar^4035 + xbar^4033 + xbar^4031 + xbar^4030 + xbar^4027 + xbar^4024 + xbar^4022 + xbar^4020 + xbar^4019 + xbar^4018 + xbar^4017 + xbar^4014 + xbar^4011 + xbar^4008 + xbar^4005 + xbar^4003 + xbar^3996 + xbar^3995 + xbar^3994 + xbar^3993 + xbar^3992 + xbar^3980 + xbar^3974 + xbar^3973 + xbar^3971 + xbar^3968 + xbar^3967 + xbar^3965 + xbar^3963 + xbar^3961 + xbar^3958 + xbar^3955 + xbar^3954 + xbar^3953 + xbar^3952 + xbar^3951 + xbar^3944 + xbar^3942 + xbar^3941 + xbar^3936 + xbar^3934 + xbar^3932 + xbar^3931 + xbar^3930 + xbar^3929 + xbar^3928 + xbar^3922 + xbar^3921 + xbar^3920 + xbar^3918 + xbar^3915 + xbar^3914 + xbar^3913 + xbar^3910 + xbar^3907 + xbar^3906 + xbar^3905 + xbar^3904 + xbar^3903 + xbar^3902 + xbar^3901 + xbar^3900 + xbar^3897 + xbar^3892 + xbar^3891 + xbar^3890 + xbar^3888 + xbar^3887 + xbar^3885 + xbar^3882 + xbar^3879 + xbar^3878 + xbar^3876 + xbar^3875 + xbar^3870 + xbar^3865 + xbar^3864 + xbar^3863 + xbar^3859 + xbar^3858 + xbar^3857 + xbar^3856 + xbar^3855 + xbar^3852 + xbar^3850 + xbar^3849 + xbar^3847 + xbar^3846 + xbar^3844 + xbar^3840 + xbar^3839 + xbar^3838 + xbar^3837 + xbar^3835 + xbar^3834 + xbar^3833 + xbar^3831 + xbar^3829 + xbar^3828 + xbar^3826 + xbar^3822 + xbar^3821 + xbar^3819 + xbar^3817 + xbar^3815 + xbar^3814 + xbar^3812 + xbar^3808 + xbar^3804 + xbar^3802 + xbar^3798 + xbar^3796 + xbar^3790 + xbar^3788 + xbar^3787 + xbar^3786 + xbar^3781 + xbar^3780 + xbar^3777 + xbar^3776 + xbar^3772 + xbar^3770 + xbar^3769 + xbar^3765 + xbar^3764 + xbar^3762 + xbar^3759 + xbar^3758 + xbar^3756 + xbar^3752 + xbar^3751 + xbar^3750 + xbar^3748 + xbar^3747 + xbar^3746 + xbar^3744 + xbar^3743 + xbar^3741 + xbar^3738 + xbar^3737 + xbar^3735 + xbar^3734 + xbar^3730 + xbar^3729 + xbar^3724 + xbar^3723 + xbar^3721 + xbar^3719 + xbar^3718 + xbar^3716 + xbar^3706 + xbar^3705 + xbar^3704 + xbar^3702 + xbar^3701 + xbar^3695 + xbar^3692 + xbar^3691 + xbar^3689 + xbar^3688 + xbar^3687 + xbar^3686 + xbar^3685 + xbar^3683 + xbar^3681 + xbar^3678 + xbar^3677 + xbar^3676 + xbar^3675 + xbar^3674 + xbar^3672 + xbar^3670 + xbar^3668 + xbar^3667 + xbar^3666 + xbar^3665 + xbar^3664 + xbar^3663 + xbar^3660 + xbar^3659 + xbar^3655 + xbar^3653 + xbar^3647 + xbar^3641 + xbar^3640 + xbar^3639 + xbar^3637 + xbar^3636 + xbar^3635 + xbar^3633 + xbar^3632 + xbar^3629 + xbar^3628 + xbar^3626 + xbar^3622 + xbar^3615 + xbar^3614 + xbar^3613 + xbar^3612 + xbar^3608 + xbar^3606 + xbar^3605 + xbar^3604 + xbar^3603 + xbar^3602 + xbar^3601 + xbar^3599 + xbar^3598 + xbar^3595 + xbar^3594 + xbar^3589 + xbar^3585 + xbar^3580 + xbar^3579 + xbar^3572 + xbar^3571 + xbar^3570 + xbar^3569 + xbar^3568 + xbar^3567 + xbar^3566 + xbar^3565 + xbar^3563 + xbar^3562 + xbar^3561 + xbar^3560 + xbar^3555 + xbar^3553 + xbar^3552 + xbar^3551 + xbar^3550 + xbar^3549 + xbar^3548 + xbar^3546 + xbar^3545 + xbar^3544 + xbar^3543 + xbar^3540 + xbar^3539 + xbar^3537 + xbar^3534 + xbar^3532 + xbar^3529 + xbar^3527 + xbar^3525 + xbar^3522 + xbar^3521 + xbar^3519 + xbar^3517 + xbar^3515 + xbar^3514 + xbar^3510 + xbar^3509 + xbar^3507 + xbar^3506 + xbar^3505 + xbar^3504 + xbar^3503 + xbar^3502 + xbar^3498 + xbar^3497 + xbar^3489 + xbar^3486 + xbar^3484 + xbar^3483 + xbar^3482 + xbar^3481 + xbar^3480 + xbar^3479 + xbar^3474 + xbar^3473 + xbar^3471 + xbar^3470 + xbar^3469 + xbar^3466 + xbar^3465 + xbar^3463 + xbar^3460 + xbar^3458 + xbar^3453 + xbar^3452 + xbar^3450 + xbar^3448 + xbar^3446 + xbar^3445 + xbar^3443 + xbar^3440 + xbar^3438 + xbar^3433 + xbar^3431 + xbar^3430 + xbar^3427 + xbar^3426 + xbar^3425 + xbar^3424 + xbar^3423 + xbar^3422 + xbar^3421 + xbar^3420 + xbar^3414 + xbar^3413 + xbar^3408 + xbar^3406 + xbar^3403 + xbar^3400 + xbar^3399 + xbar^3397 + xbar^3393 + xbar^3391 + xbar^3389 + xbar^3388 + xbar^3382 + xbar^3379 + xbar^3378 + xbar^3377 + xbar^3373 + xbar^3372 + xbar^3371 + xbar^3370 + xbar^3369 + xbar^3368 + xbar^3366 + xbar^3364 + xbar^3363 + xbar^3362 + xbar^3361 + xbar^3359 + xbar^3357 + xbar^3355 + xbar^3352 + xbar^3349 + xbar^3347 + xbar^3346 + xbar^3343 + xbar^3342 + xbar^3339 + xbar^3338 + xbar^3337 + xbar^3336 + xbar^3335 + xbar^3334 + xbar^3330 + xbar^3329 + xbar^3327 + xbar^3325 + xbar^3323 + xbar^3322 + xbar^3320 + xbar^3319 + xbar^3313 + xbar^3312 + xbar^3309 + xbar^3308 + xbar^3306 + xbar^3305 + xbar^3304 + xbar^3298 + xbar^3297 + xbar^3296 + xbar^3293 + xbar^3291 + xbar^3290 + xbar^3289 + xbar^3286 + xbar^3283 + xbar^3281 + xbar^3279 + xbar^3277 + xbar^3276 + xbar^3272 + xbar^3268 + xbar^3265 + xbar^3262 + xbar^3261 + xbar^3256 + xbar^3255 + xbar^3252 + xbar^3250 + xbar^3247 + xbar^3245 + xbar^3244 + xbar^3243 + xbar^3241 + xbar^3239 + xbar^3238 + xbar^3236 + xbar^3231 + xbar^3230 + xbar^3229 + xbar^3227 + xbar^3225 + xbar^3217 + xbar^3216 + xbar^3214 + xbar^3211 + xbar^3209 + xbar^3208 + xbar^3204 + xbar^3202 + xbar^3201 + xbar^3195 + xbar^3193 + xbar^3192 + xbar^3191 + xbar^3190 + xbar^3189 + xbar^3187 + xbar^3186 + xbar^3185 + xbar^3184 + xbar^3183 + xbar^3179 + xbar^3176 + xbar^3175 + xbar^3174 + xbar^3172 + xbar^3170 + xbar^3168 + xbar^3167 + xbar^3166 + xbar^3164 + xbar^3162 + xbar^3160 + xbar^3158 + xbar^3157 + xbar^3154 + xbar^3153 + xbar^3146 + xbar^3145 + xbar^3144 + xbar^3143 + xbar^3142 + xbar^3141 + xbar^3139 + xbar^3136 + xbar^3134 + xbar^3132 + xbar^3130 + xbar^3127 + xbar^3125 + xbar^3124 + xbar^3122 + xbar^3119 + xbar^3117 + xbar^3114 + xbar^3112 + xbar^3104 + xbar^3103 + xbar^3102 + xbar^3101 + xbar^3099 + xbar^3098 + xbar^3097 + xbar^3096 + xbar^3095 + xbar^3093 + xbar^3090 + xbar^3089 + xbar^3088 + xbar^3086 + xbar^3085 + xbar^3084 + xbar^3083 + xbar^3082 + xbar^3081 + xbar^3079 + xbar^3074 + xbar^3072 + xbar^3068 + xbar^3065 + xbar^3064 + xbar^3060 + xbar^3058 + xbar^3056 + xbar^3055 + xbar^3053 + xbar^3052 + xbar^3049 + xbar^3045 + xbar^3044 + xbar^3042 + xbar^3040 + xbar^3039 + xbar^3038 + xbar^3037 + xbar^3033 + xbar^3032 + xbar^3030 + xbar^3028 + xbar^3025 + xbar^3024 + xbar^3023 + xbar^3022 + xbar^3019 + xbar^3018 + xbar^3017 + xbar^3015 + xbar^3014 + xbar^3013 + xbar^3012 + xbar^3011 + xbar^3009 + xbar^3008 + xbar^3007 + xbar^3005 + xbar^3004 + xbar^3003 + xbar^2997 + xbar^2995 + xbar^2994 + xbar^2992 + xbar^2991 + xbar^2990 + xbar^2988 + xbar^2987 + xbar^2986 + xbar^2984 + xbar^2983 + xbar^2978 + xbar^2977 + xbar^2972 + xbar^2971 + xbar^2970 + xbar^2968 + xbar^2966 + xbar^2965 + xbar^2964 + xbar^2963 + xbar^2962 + xbar^2961 + xbar^2957 + xbar^2956 + xbar^2954 + xbar^2953 + xbar^2950 + xbar^2948 + xbar^2947 + xbar^2940 + xbar^2939 + xbar^2938 + xbar^2937 + xbar^2933 + xbar^2932 + xbar^2931 + xbar^2930 + xbar^2929 + xbar^2927 + xbar^2924 + xbar^2922 + xbar^2920 + xbar^2917 + xbar^2915 + xbar^2911 + xbar^2910 + xbar^2909 + xbar^2907 + xbar^2905 + xbar^2901 + xbar^2900 + xbar^2897 + xbar^2896 + xbar^2894 + xbar^2893 + xbar^2891 + xbar^2890 + xbar^2889 + xbar^2888 + xbar^2884 + xbar^2883 + xbar^2881 + xbar^2879 + xbar^2878 + xbar^2877 + xbar^2876 + xbar^2874 + xbar^2872 + xbar^2868 + xbar^2865 + xbar^2864 + xbar^2863 + xbar^2860 + xbar^2858 + xbar^2857 + xbar^2856 + xbar^2855 + xbar^2854 + xbar^2852 + xbar^2849 + xbar^2847 + xbar^2846 + xbar^2844 + xbar^2843 + xbar^2842 + xbar^2841 + xbar^2838 + xbar^2836 + xbar^2835 + xbar^2834 + xbar^2833 + xbar^2830 + xbar^2829 + xbar^2828 + xbar^2826 + xbar^2825 + xbar^2823 + xbar^2819 + xbar^2817 + xbar^2814 + xbar^2812 + xbar^2811 + xbar^2808 + xbar^2807 + xbar^2806 + xbar^2803 + xbar^2800 + xbar^2799 + xbar^2798 + xbar^2796 + xbar^2794 + xbar^2789 + xbar^2788 + xbar^2787 + xbar^2786 + xbar^2785 + xbar^2782 + xbar^2781 + xbar^2780 + xbar^2777 + xbar^2776 + xbar^2774 + xbar^2771 + xbar^2770 + xbar^2767 + xbar^2766 + xbar^2762 + xbar^2761 + xbar^2759 + xbar^2758 + xbar^2757 + xbar^2753 + xbar^2752 + xbar^2750 + xbar^2749 + xbar^2748 + xbar^2747 + xbar^2746 + xbar^2744 + xbar^2742 + xbar^2740 + xbar^2739 + xbar^2737 + xbar^2733 + xbar^2729 + xbar^2727 + xbar^2726 + xbar^2725 + xbar^2723 + xbar^2719 + xbar^2716 + xbar^2715 + xbar^2714 + xbar^2713 + xbar^2712 + xbar^2711 + xbar^2708 + xbar^2707 + xbar^2706 + xbar^2704 + xbar^2700 + xbar^2699 + xbar^2696 + xbar^2694 + xbar^2692 + xbar^2690 + xbar^2689 + xbar^2687 + xbar^2686 + xbar^2685 + xbar^2682 + xbar^2681 + xbar^2679 + xbar^2677 + xbar^2676 + xbar^2675 + xbar^2665 + xbar^2662 + xbar^2660 + xbar^2659 + xbar^2658 + xbar^2657 + xbar^2656 + xbar^2653 + xbar^2652 + xbar^2651 + xbar^2650 + xbar^2649 + xbar^2648 + xbar^2647 + xbar^2644 + xbar^2642 + xbar^2641 + xbar^2640 + xbar^2639 + xbar^2638 + xbar^2637 + xbar^2635 + xbar^2633 + xbar^2631 + xbar^2630 + xbar^2629 + xbar^2626 + xbar^2621 + xbar^2614 + xbar^2612 + xbar^2611 + xbar^2610 + xbar^2609 + xbar^2608 + xbar^2603 + xbar^2602 + xbar^2601 + xbar^2597 + xbar^2596 + xbar^2591 + xbar^2590 + xbar^2589 + xbar^2586 + xbar^2585 + xbar^2584 + xbar^2583 + xbar^2579 + xbar^2578 + xbar^2577 + xbar^2575 + xbar^2573 + xbar^2570 + xbar^2569 + xbar^2566 + xbar^2565 + xbar^2562 + xbar^2561 + xbar^2560 + xbar^2558 + xbar^2557 + xbar^2556 + xbar^2552 + xbar^2551 + xbar^2550 + xbar^2544 + xbar^2540 + xbar^2539 + xbar^2538 + xbar^2532 + xbar^2531 + xbar^2528 + xbar^2526 + xbar^2525 + xbar^2521 + xbar^2519 + xbar^2518 + xbar^2517 + xbar^2516 + xbar^2514 + xbar^2513 + xbar^2512 + xbar^2511 + xbar^2510 + xbar^2508 + xbar^2507 + xbar^2506 + xbar^2504 + xbar^2501 + xbar^2499 + xbar^2498 + xbar^2497 + xbar^2495 + xbar^2494 + xbar^2493 + xbar^2492 + xbar^2491 + xbar^2490 + xbar^2489 + xbar^2488 + xbar^2485 + xbar^2484 + xbar^2483 + xbar^2480 + xbar^2476 + xbar^2472 + xbar^2471 + xbar^2469 + xbar^2468 + xbar^2467 + xbar^2466 + xbar^2465 + xbar^2463 + xbar^2461 + xbar^2459 + xbar^2458 + xbar^2456 + xbar^2453 + xbar^2447 + xbar^2446 + xbar^2445 + xbar^2443 + xbar^2442 + xbar^2441 + xbar^2440 + xbar^2439 + xbar^2438 + xbar^2437 + xbar^2431 + xbar^2429 + xbar^2424 + xbar^2423 + xbar^2422 + xbar^2421 + xbar^2419 + xbar^2417 + xbar^2415 + xbar^2411 + xbar^2408 + xbar^2407 + xbar^2406 + xbar^2405 + xbar^2404 + xbar^2402 + xbar^2399 + xbar^2397 + xbar^2396 + xbar^2395 + xbar^2391 + xbar^2390 + xbar^2389 + xbar^2388 + xbar^2387 + xbar^2385 + xbar^2383 + xbar^2382 + xbar^2381 + xbar^2380 + xbar^2378 + xbar^2377 + xbar^2374 + xbar^2373 + xbar^2368 + xbar^2367 + xbar^2366 + xbar^2362 + xbar^2360 + xbar^2359 + xbar^2358 + xbar^2357 + xbar^2356 + xbar^2355 + xbar^2354 + xbar^2350 + xbar^2346 + xbar^2344 + xbar^2342 + xbar^2340 + xbar^2337 + xbar^2335 + xbar^2333 + xbar^2331 + xbar^2330 + xbar^2327 + xbar^2326 + xbar^2325 + xbar^2323 + xbar^2321 + xbar^2319 + xbar^2316 + xbar^2315 + xbar^2314 + xbar^2311 + xbar^2310 + xbar^2309 + xbar^2304 + xbar^2303 + xbar^2302 + xbar^2296 + xbar^2295 + xbar^2294 + xbar^2292 + xbar^2289 + xbar^2287 + xbar^2285 + xbar^2284 + xbar^2281 + xbar^2280 + xbar^2279 + xbar^2278 + xbar^2277 + xbar^2276 + xbar^2274 + xbar^2273 + xbar^2271 + xbar^2270 + xbar^2269 + xbar^2267 + xbar^2266 + xbar^2263 + xbar^2260 + xbar^2258 + xbar^2255 + xbar^2252 + xbar^2249 + xbar^2248 + xbar^2246 + xbar^2244 + xbar^2242 + xbar^2236 + xbar^2234 + xbar^2227 + xbar^2225 + xbar^2224 + xbar^2222 + xbar^2219 + xbar^2218 + xbar^2217 + xbar^2214 + xbar^2212 + xbar^2211 + xbar^2210 + xbar^2209 + xbar^2203 + xbar^2201 + xbar^2197 + xbar^2196 + xbar^2195 + xbar^2194 + xbar^2192 + xbar^2190 + xbar^2189 + xbar^2188 + xbar^2186 + xbar^2185 + xbar^2184 + xbar^2183 + xbar^2181 + xbar^2180 + xbar^2179 + xbar^2176 + xbar^2175 + xbar^2174 + xbar^2173 + xbar^2172 + xbar^2170 + xbar^2167 + xbar^2166 + xbar^2165 + xbar^2164 + xbar^2160 + xbar^2153 + xbar^2152 + xbar^2151 + xbar^2150 + xbar^2148 + xbar^2147 + xbar^2146 + xbar^2144 + xbar^2143 + xbar^2137 + xbar^2136 + xbar^2135 + xbar^2132 + xbar^2131 + xbar^2129 + xbar^2127 + xbar^2125 + xbar^2124 + xbar^2123 + xbar^2122 + xbar^2118 + xbar^2116 + xbar^2115 + xbar^2114 + xbar^2113 + xbar^2111 + xbar^2110 + xbar^2109 + xbar^2107 + xbar^2104 + xbar^2103 + xbar^2102 + xbar^2098 + xbar^2096 + xbar^2094 + xbar^2089 + xbar^2086 + xbar^2085 + xbar^2084 + xbar^2083 + xbar^2082 + xbar^2081 + xbar^2079 + xbar^2076 + xbar^2075 + xbar^2073 + xbar^2071 + xbar^2068 + xbar^2067 + xbar^2066 + xbar^2064 + xbar^2063 + xbar^2062 + xbar^2061 + xbar^2060 + xbar^2058 + xbar^2052 + xbar^2049 + xbar^2046 + xbar^2045 + xbar^2044 + xbar^2041 + xbar^2040 + xbar^2039 + xbar^2037 + xbar^2036 + xbar^2034 + xbar^2033 + xbar^2032 + xbar^2028 + xbar^2026 + xbar^2024 + xbar^2020 + xbar^2019 + xbar^2018 + xbar^2017 + xbar^2014 + xbar^2012 + xbar^2011 + xbar^2010 + xbar^2009 + xbar^2007 + xbar^2006 + xbar^2005 + xbar^2003 + xbar^2002 + xbar^1999 + xbar^1997 + xbar^1995 + xbar^1993 + xbar^1992 + xbar^1991 + xbar^1989 + xbar^1985 + xbar^1982 + xbar^1981 + xbar^1978 + xbar^1974 + xbar^1973 + xbar^1969 + xbar^1967 + xbar^1965 + xbar^1963 + xbar^1962 + xbar^1954 + xbar^1951 + xbar^1949 + xbar^1948 + xbar^1947 + xbar^1945 + xbar^1941 + xbar^1938 + xbar^1934 + xbar^1932 + xbar^1930 + xbar^1929 + xbar^1928 + xbar^1926 + xbar^1918 + xbar^1917 + xbar^1915 + xbar^1913 + xbar^1911 + xbar^1909 + xbar^1908 + xbar^1907 + xbar^1906 + xbar^1905 + xbar^1902 + xbar^1896 + xbar^1891 + xbar^1890 + xbar^1889 + xbar^1887 + xbar^1885 + xbar^1882 + xbar^1881 + xbar^1880 + xbar^1878 + xbar^1877 + xbar^1875 + xbar^1874 + xbar^1871 + xbar^1869 + xbar^1867 + xbar^1863 + xbar^1862 + xbar^1860 + xbar^1859 + xbar^1856 + xbar^1855 + xbar^1854 + xbar^1853 + xbar^1851 + xbar^1849 + xbar^1847 + xbar^1844 + xbar^1843 + xbar^1842 + xbar^1841 + xbar^1838 + xbar^1837 + xbar^1834 + xbar^1832 + xbar^1831 + xbar^1830 + xbar^1826 + xbar^1825 + xbar^1824 + xbar^1821 + xbar^1819 + xbar^1817 + xbar^1816 + xbar^1815 + xbar^1814 + xbar^1802 + xbar^1801 + xbar^1797 + xbar^1795 + xbar^1792 + xbar^1790 + xbar^1788 + xbar^1786 + xbar^1785 + xbar^1784 + xbar^1783 + xbar^1782 + xbar^1781 + xbar^1780 + xbar^1776 + xbar^1775 + xbar^1772 + xbar^1771 + xbar^1769 + xbar^1768 + xbar^1767 + xbar^1766 + xbar^1763 + xbar^1762 + xbar^1760 + xbar^1759 + xbar^1758 + xbar^1757 + xbar^1756 + xbar^1754 + xbar^1752 + xbar^1750 + xbar^1749 + xbar^1747 + xbar^1743 + xbar^1742 + xbar^1741 + xbar^1740 + xbar^1739 + xbar^1738 + xbar^1737 + xbar^1735 + xbar^1731 + xbar^1730 + xbar^1729 + xbar^1728 + xbar^1727 + xbar^1725 + xbar^1719 + xbar^1717 + xbar^1715 + xbar^1714 + xbar^1712 + xbar^1711 + xbar^1708 + xbar^1706 + xbar^1703 + xbar^1701 + xbar^1699 + xbar^1698 + xbar^1695 + xbar^1693 + xbar^1688 + xbar^1686 + xbar^1685 + xbar^1683 + xbar^1682 + xbar^1681 + xbar^1680 + xbar^1678 + xbar^1676 + xbar^1675 + xbar^1672 + xbar^1671 + xbar^1669 + xbar^1668 + xbar^1667 + xbar^1666 + xbar^1665 + xbar^1664 + xbar^1663 + xbar^1662 + xbar^1660 + xbar^1659 + xbar^1650 + xbar^1649 + xbar^1647 + xbar^1646 + xbar^1645 + xbar^1643 + xbar^1642 + xbar^1639 + xbar^1638 + xbar^1637 + xbar^1634 + xbar^1631 + xbar^1629 + xbar^1627 + xbar^1626 + xbar^1625 + xbar^1624 + xbar^1621 + xbar^1617 + xbar^1615 + xbar^1611 + xbar^1607 + xbar^1606 + xbar^1604 + xbar^1603 + xbar^1602 + xbar^1598 + xbar^1597 + xbar^1593 + xbar^1589 + xbar^1588 + xbar^1587 + xbar^1586 + xbar^1584 + xbar^1583 + xbar^1581 + xbar^1580 + xbar^1578 + xbar^1576 + xbar^1571 + xbar^1568 + xbar^1567 + xbar^1566 + xbar^1564 + xbar^1562 + xbar^1560 + xbar^1559 + xbar^1556 + xbar^1553 + xbar^1551 + xbar^1549 + xbar^1548 + xbar^1546 + xbar^1544 + xbar^1543 + xbar^1542 + xbar^1538 + xbar^1535 + xbar^1534 + xbar^1530 + xbar^1528 + xbar^1526 + xbar^1523 + xbar^1522 + xbar^1521 + xbar^1520 + xbar^1518 + xbar^1517 + xbar^1516 + xbar^1515 + xbar^1514 + xbar^1513 + xbar^1512 + xbar^1508 + xbar^1506 + xbar^1502 + xbar^1501 + xbar^1500 + xbar^1499 + xbar^1498 + xbar^1497 + xbar^1496 + xbar^1495 + xbar^1494 + xbar^1491 + xbar^1490 + xbar^1486 + xbar^1485 + xbar^1483 + xbar^1480 + xbar^1477 + xbar^1475 + xbar^1473 + xbar^1470 + xbar^1469 + xbar^1468 + xbar^1465 + xbar^1463 + xbar^1462 + xbar^1461 + xbar^1458 + xbar^1457 + xbar^1454 + xbar^1453 + xbar^1451 + xbar^1449 + xbar^1448 + xbar^1445 + xbar^1443 + xbar^1442 + xbar^1441 + xbar^1439 + xbar^1437 + xbar^1434 + xbar^1431 + xbar^1430 + xbar^1429 + xbar^1424 + xbar^1422 + xbar^1421 + xbar^1418 + xbar^1417 + xbar^1416 + xbar^1415 + xbar^1413 + xbar^1405 + xbar^1404 + xbar^1402 + xbar^1401 + xbar^1400 + xbar^1399 + xbar^1397 + xbar^1394 + xbar^1392 + xbar^1389 + xbar^1388 + xbar^1387 + xbar^1385 + xbar^1384 + xbar^1383 + xbar^1380 + xbar^1379 + xbar^1378 + xbar^1377 + xbar^1376 + xbar^1375 + xbar^1374 + xbar^1373 + xbar^1371 + xbar^1367 + xbar^1366 + xbar^1363 + xbar^1361 + xbar^1358 + xbar^1356 + xbar^1355 + xbar^1353 + xbar^1350 + xbar^1345 + xbar^1343 + xbar^1342 + xbar^1340 + xbar^1331 + xbar^1330 + xbar^1329 + xbar^1327 + xbar^1326 + xbar^1324 + xbar^1323 + xbar^1322 + xbar^1321 + xbar^1320 + xbar^1319 + xbar^1316 + xbar^1314 + xbar^1313 + xbar^1310 + xbar^1309 + xbar^1307 + xbar^1301 + xbar^1300 + xbar^1299 + xbar^1295 + xbar^1292 + xbar^1291 + xbar^1289 + xbar^1287 + xbar^1285 + xbar^1284 + xbar^1283 + xbar^1282 + xbar^1279 + xbar^1278 + xbar^1277 + xbar^1273 + xbar^1271 + xbar^1264 + xbar^1263 + xbar^1260 + xbar^1258 + xbar^1256 + xbar^1255 + xbar^1254 + xbar^1252 + xbar^1251 + xbar^1250 + xbar^1249 + xbar^1247 + xbar^1246 + xbar^1245 + xbar^1244 + xbar^1243 + xbar^1242 + xbar^1241 + xbar^1234 + xbar^1233 + xbar^1232 + xbar^1231 + xbar^1230 + xbar^1227 + xbar^1223 + xbar^1219 + xbar^1218 + xbar^1217 + xbar^1216 + xbar^1215 + xbar^1213 + xbar^1212 + xbar^1211 + xbar^1210 + xbar^1209 + xbar^1208 + xbar^1207 + xbar^1205 + xbar^1203 + xbar^1202 + xbar^1201 + xbar^1199 + xbar^1198 + xbar^1196 + xbar^1194 + xbar^1193 + xbar^1187 + xbar^1183 + xbar^1180 + xbar^1174 + xbar^1171 + xbar^1170 + xbar^1169 + xbar^1168 + xbar^1165 + xbar^1164 + xbar^1162 + xbar^1161 + xbar^1158 + xbar^1155 + xbar^1153 + xbar^1151 + xbar^1149 + xbar^1148 + xbar^1147 + xbar^1146 + xbar^1145 + xbar^1144 + xbar^1143 + xbar^1142 + xbar^1139 + xbar^1133 + xbar^1130 + xbar^1127 + xbar^1126 + xbar^1124 + xbar^1123 + xbar^1122 + xbar^1121 + xbar^1114 + xbar^1113 + xbar^1111 + xbar^1110 + xbar^1107 + xbar^1104 + xbar^1103 + xbar^1102 + xbar^1101 + xbar^1098 + xbar^1094 + xbar^1093 + xbar^1091 + xbar^1089 + xbar^1087 + xbar^1086 + xbar^1083 + xbar^1078 + xbar^1070 + xbar^1069 + xbar^1068 + xbar^1067 + xbar^1066 + xbar^1062 + xbar^1060 + xbar^1059 + xbar^1058 + xbar^1057 + xbar^1055 + xbar^1053 + xbar^1052 + xbar^1051 + xbar^1049 + xbar^1047 + xbar^1045 + xbar^1041 + xbar^1038 + xbar^1035 + xbar^1033 + xbar^1032 + xbar^1031 + xbar^1025 + xbar^1024 + xbar^1023 + xbar^1020 + xbar^1017 + xbar^1014 + xbar^1010 + xbar^1009 + xbar^1007 + xbar^1004 + xbar^1001 + xbar^1000 + xbar^997 + xbar^995 + xbar^994 + xbar^993 + xbar^992 + xbar^988 + xbar^987 + xbar^984 + xbar^979 + xbar^978 + xbar^977 + xbar^976 + xbar^974 + xbar^969 + xbar^966 + xbar^964 + xbar^962 + xbar^960 + xbar^959 + xbar^957 + xbar^956 + xbar^954 + xbar^949 + xbar^948 + xbar^946 + xbar^945 + xbar^937 + xbar^927 + xbar^926 + xbar^925 + xbar^924 + xbar^922 + xbar^921 + xbar^920 + xbar^918 + xbar^916 + xbar^915 + xbar^914 + xbar^913 + xbar^910 + xbar^908 + xbar^907 + xbar^905 + xbar^903 + xbar^900 + xbar^899 + xbar^898 + xbar^897 + xbar^896 + xbar^895 + xbar^894 + xbar^892 + xbar^891 + xbar^890 + xbar^887 + xbar^886 + xbar^885 + xbar^884 + xbar^883 + xbar^881 + xbar^880 + xbar^875 + xbar^874 + xbar^873 + xbar^870 + xbar^866 + xbar^864 + xbar^863 + xbar^860 + xbar^855 + xbar^854 + xbar^852 + xbar^851 + xbar^848 + xbar^846 + xbar^845 + xbar^840 + xbar^839 + xbar^838 + xbar^837 + xbar^835 + xbar^834 + xbar^831 + xbar^830 + xbar^829 + xbar^828 + xbar^827 + xbar^824 + xbar^823 + xbar^819 + xbar^818 + xbar^817 + xbar^816 + xbar^814 + xbar^812 + xbar^808 + xbar^807 + xbar^805 + xbar^804 + xbar^803 + xbar^800 + xbar^799 + xbar^798 + xbar^797 + xbar^795 + xbar^794 + xbar^791 + xbar^790 + xbar^788 + xbar^787 + xbar^785 + xbar^783 + xbar^781 + xbar^779 + xbar^776 + xbar^775 + xbar^774 + xbar^773 + xbar^772 + xbar^770 + xbar^766 + xbar^762 + xbar^761 + xbar^759 + xbar^758 + xbar^754 + xbar^753 + xbar^752 + xbar^751 + xbar^745 + xbar^744 + xbar^743 + xbar^741 + xbar^737 + xbar^736 + xbar^734 + xbar^732 + xbar^731 + xbar^729 + xbar^728 + xbar^727 + xbar^725 + xbar^723 + xbar^720 + xbar^719 + xbar^717 + xbar^716 + xbar^715 + xbar^710 + xbar^709 + xbar^708 + xbar^703 + xbar^702 + xbar^699 + xbar^698 + xbar^697 + xbar^696 + xbar^695 + xbar^692 + xbar^691 + xbar^690 + xbar^688 + xbar^687 + xbar^684 + xbar^679 + xbar^674 + xbar^672 + xbar^668 + xbar^664 + xbar^661 + xbar^659 + xbar^657 + xbar^654 + xbar^652 + xbar^650 + xbar^645 + xbar^644 + xbar^643 + xbar^642 + xbar^640 + xbar^639 + xbar^638 + xbar^637 + xbar^633 + xbar^632 + xbar^631 + xbar^629 + xbar^628 + xbar^626 + xbar^625 + xbar^622 + xbar^621 + xbar^620 + xbar^619 + xbar^616 + xbar^613 + xbar^611 + xbar^609 + xbar^608 + xbar^607 + xbar^606 + xbar^601 + xbar^600 + xbar^597 + xbar^596 + xbar^593 + xbar^592 + xbar^591 + xbar^589 + xbar^587 + xbar^585 + xbar^583 + xbar^582 + xbar^580 + xbar^579 + xbar^578 + xbar^575 + xbar^574 + xbar^571 + xbar^570 + xbar^569 + xbar^567 + xbar^564 + xbar^563 + xbar^562 + xbar^561 + xbar^560 + xbar^559 + xbar^557 + xbar^556 + xbar^554 + xbar^552 + xbar^549 + xbar^548 + xbar^547 + xbar^546 + xbar^545 + xbar^537 + xbar^536 + xbar^533 + xbar^532 + xbar^531 + xbar^524 + xbar^523 + xbar^520 + xbar^517 + xbar^513 + xbar^511 + xbar^510 + xbar^509 + xbar^508 + xbar^507 + xbar^506 + xbar^504 + xbar^503 + xbar^498 + xbar^497 + xbar^496 + xbar^494 + xbar^493 + xbar^492 + xbar^491 + xbar^489 + xbar^487 + xbar^486 + xbar^483 + xbar^479 + xbar^476 + xbar^474 + xbar^473 + xbar^472 + xbar^470 + xbar^469 + xbar^468 + xbar^467 + xbar^466 + xbar^465 + xbar^464 + xbar^461 + xbar^458 + xbar^456 + xbar^453 + xbar^445 + xbar^444 + xbar^443 + xbar^442 + xbar^439 + xbar^436 + xbar^435 + xbar^434 + xbar^430 + xbar^428 + xbar^427 + xbar^426 + xbar^425 + xbar^423 + xbar^419 + xbar^416 + xbar^415 + xbar^413 + xbar^411 + xbar^410 + xbar^406 + xbar^404 + xbar^402 + xbar^401 + xbar^397 + xbar^395 + xbar^394 + xbar^393 + xbar^392 + xbar^391 + xbar^390 + xbar^389 + xbar^387 + xbar^386 + xbar^382 + xbar^380 + xbar^378 + xbar^375 + xbar^372 + xbar^371 + xbar^370 + xbar^367 + xbar^366 + xbar^364 + xbar^363 + xbar^362 + xbar^361 + xbar^359 + xbar^358 + xbar^357 + xbar^354 + xbar^352 + xbar^351 + xbar^350 + xbar^348 + xbar^346 + xbar^345 + xbar^344 + xbar^343 + xbar^342 + xbar^341 + xbar^340 + xbar^338 + xbar^334 + xbar^331 + xbar^329 + xbar^327 + xbar^326 + xbar^325 + xbar^322 + xbar^317 + xbar^316 + xbar^315 + xbar^314 + xbar^311 + xbar^308 + xbar^306 + xbar^305 + xbar^303 + xbar^302 + xbar^301 + xbar^299 + xbar^297 + xbar^295 + xbar^293 + xbar^290 + xbar^289 + xbar^288 + xbar^287 + xbar^286 + xbar^284 + xbar^283 + xbar^281 + xbar^280 + xbar^279 + xbar^278 + xbar^277 + xbar^276 + xbar^274 + xbar^273 + xbar^271 + xbar^270 + xbar^268 + xbar^267 + xbar^263 + xbar^262 + xbar^259 + xbar^258 + xbar^257 + xbar^256 + xbar^254 + xbar^253 + xbar^251 + xbar^250 + xbar^248 + xbar^246 + xbar^244 + xbar^243 + xbar^242 + xbar^237 + xbar^232 + xbar^229 + xbar^227 + xbar^226 + xbar^223 + xbar^222 + xbar^220 + xbar^219 + xbar^217 + xbar^211 + xbar^210 + xbar^207 + xbar^198 + xbar^191 + xbar^187 + xbar^185 + xbar^184 + xbar^182 + xbar^179 + xbar^178 + xbar^175 + xbar^173 + xbar^171 + xbar^167 + xbar^165 + xbar^163 + xbar^162 + xbar^161 + xbar^159 + xbar^157 + xbar^155 + xbar^154 + xbar^152 + xbar^145 + xbar^142 + xbar^141 + xbar^140 + xbar^138 + xbar^134 + xbar^132 + xbar^131 + xbar^129 + xbar^128 + xbar^125 + xbar^124 + xbar^122 + xbar^121 + xbar^119 + xbar^118 + xbar^116 + xbar^115 + xbar^111 + xbar^110 + xbar^106 + xbar^105 + xbar^104 + xbar^102 + xbar^101 + xbar^100 + xbar^99 + xbar^97 + xbar^95 + xbar^94 + xbar^93 + xbar^91 + xbar^88 + xbar^85 + xbar^84 + xbar^83 + xbar^82 + xbar^81 + xbar^78 + xbar^77 + xbar^76 + xbar^74 + xbar^73 + xbar^72 + xbar^70 + xbar^69 + xbar^68 + xbar^67 + xbar^66 + xbar^65 + xbar^64 + xbar^63 + xbar^62 + xbar^60 + xbar^56 + xbar^55 + xbar^54 + xbar^53 + xbar^48 + xbar^46 + xbar^43 + xbar^42 + xbar^41 + xbar^39 + xbar^38 + xbar^37 + xbar^34 + xbar^24 + xbar^23 + xbar^19 + xbar^18 + xbar^12 + xbar^7 + xbar^5 + xbar^4 + xbar^3 + xbar + 1\n",
      "Chave Privada: (xbar^12188 + xbar^11882 + xbar^11852 + xbar^11351 + xbar^11331 + xbar^11246 + xbar^11078 + xbar^10860 + xbar^10731 + xbar^10175 + xbar^10025 + xbar^9930 + xbar^9906 + xbar^9748 + xbar^9400 + xbar^9387 + xbar^9258 + xbar^9180 + xbar^9088 + xbar^8861 + xbar^8404 + xbar^8391 + xbar^8337 + xbar^8238 + xbar^8233 + xbar^8144 + xbar^7985 + xbar^7939 + xbar^7906 + xbar^7736 + xbar^7467 + xbar^7316 + xbar^7080 + xbar^6769 + xbar^6723 + xbar^6683 + xbar^6642 + xbar^6561 + xbar^6400 + xbar^5841 + xbar^5635 + xbar^5595 + xbar^5559 + xbar^5499 + xbar^4908 + xbar^4627 + xbar^4417 + xbar^4177 + xbar^4148 + xbar^4020 + xbar^4000 + xbar^3359 + xbar^3023 + xbar^2579 + xbar^2398 + xbar^2060 + xbar^2059 + xbar^1913 + xbar^1890 + xbar^1667 + xbar^1224 + xbar^1059 + xbar^1005 + xbar^985 + xbar^668 + xbar^528 + xbar^289 + xbar^169 + xbar^81 + xbar^25 + xbar^11, xbar^12281 + xbar^12043 + xbar^11835 + xbar^11702 + xbar^11572 + xbar^11468 + xbar^11385 + xbar^11136 + xbar^10658 + xbar^10540 + xbar^10259 + xbar^10190 + xbar^9938 + xbar^9718 + xbar^9602 + xbar^9320 + xbar^9210 + xbar^9191 + xbar^8732 + xbar^8730 + xbar^8172 + xbar^7898 + xbar^7609 + xbar^7550 + xbar^7187 + xbar^7063 + xbar^6738 + xbar^6518 + xbar^6324 + xbar^6116 + xbar^6078 + xbar^5579 + xbar^5402 + xbar^5400 + xbar^5259 + xbar^5248 + xbar^5247 + xbar^5073 + xbar^4970 + xbar^4939 + xbar^4718 + xbar^4647 + xbar^4620 + xbar^4495 + xbar^4362 + xbar^4175 + xbar^4128 + xbar^4034 + xbar^3964 + xbar^3954 + xbar^3933 + xbar^3925 + xbar^3888 + xbar^3647 + xbar^2962 + xbar^2882 + xbar^2794 + xbar^2193 + xbar^2021 + xbar^1735 + xbar^1673 + xbar^1454 + xbar^1369 + xbar^1236 + xbar^774 + xbar^771 + xbar^520 + xbar^512 + xbar^200 + xbar^193 + xbar^184, b'\\xee&\\x18\\x10\\xdd\\xc3\\x01m\\xdeg\\xcc,\\xb9k\\x074\\xc0\\x9fDq\\xf0\\x94\\x98\\xdfD\\xdb\\x1f\\xc3\\x8c-+X')\n"
     ]
    },
    {
     "name": "stdout",
     "output_type": "stream",
     "text": [
      "\n",
      "Encapsulação completa!\n",
      "\n",
      "======= DESCOMPACTANDO =======\n",
      "Decodificação bem-sucedida!\n",
      "\n"
     ]
    }
   ],
   "source": [
    "print(\"======= BIKE - Key Encapsulation Mechanism ======= \\n\")\n",
    "sk, pk = KeyGen(r, w)\n",
    "print(\"Chave Gerada com sucesso.\")\n",
    "print(\"Chave Pública:\", pk)\n",
    "print(\"Chave Privada:\", sk)\n",
    "\n",
    "# Encapsulate\n",
    "K_enc, c = Encaps(pk, r, t)\n",
    "print(\"\\nEncapsulação completa!\")\n",
    "\n",
    "# Decapsulate\n",
    "print(\"\\n======= DESCOMPACTANDO =======\")\n",
    "K_dec = Decaps(sk, c, r, t)"
   ]
  }
 ],
 "metadata": {
  "kernelspec": {
   "display_name": "SageMath 10.5",
   "language": "sage",
   "name": "sagemath"
  },
  "language_info": {
   "codemirror_mode": {
    "name": "ipython",
    "version": 3
   },
   "file_extension": ".py",
   "mimetype": "text/x-python",
   "name": "sage",
   "nbconvert_exporter": "python",
   "pygments_lexer": "ipython3",
   "version": "3.11.11"
  }
 },
 "nbformat": 4,
 "nbformat_minor": 5
}
