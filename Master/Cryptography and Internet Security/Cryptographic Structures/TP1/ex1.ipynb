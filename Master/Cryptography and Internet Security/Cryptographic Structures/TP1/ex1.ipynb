{
 "cells": [
  {
   "cell_type": "markdown",
   "metadata": {},
   "source": [
    "# Exercício 1 - Trabalho Prático 1\n",
    "\n",
    "**Grupo 6:** \n",
    "\n",
    "\n",
    "Ruben Silva - pg57900\n",
    "\n",
    "Luís Costa - pg55970"
   ]
  },
  {
   "cell_type": "markdown",
   "metadata": {},
   "source": [
    "# Problema: \n",
    "\n",
    "\n",
    "1. Use a package **cryptography** para  criar um comunicação privada assíncrona entre um agente _Emitter_ e um agente _Receiver_ que cubra os seguintes aspectos:\n",
    "    1. Comunicação cliente-servidor que use o package python `asyncio`.\n",
    "    2. Usar como cifra AEAD   o “hash” SHAKE-256  em modo XOFHash\n",
    "    3. As chaves de cifra  e  os “nounces” são gerados por um gerador KDF . As diferentes chaves para inicialização KDF  são inputs do emissor e do receptor."
   ]
  },
  {
   "cell_type": "markdown",
   "metadata": {},
   "source": [
    "# Implementação do Problema"
   ]
  },
  {
   "cell_type": "markdown",
   "metadata": {},
   "source": [
    "**Import**\n",
    "1. Instalar/importar as funcionalidades necessárias do `crypography`\n",
    "2. Instalar/importar o `asyncio` para ser possível a criação do cliente-servidor assíncrono"
   ]
  },
  {
   "cell_type": "code",
   "execution_count": 2,
   "metadata": {},
   "outputs": [
    {
     "name": "stdout",
     "output_type": "stream",
     "text": [
      "Requirement already satisfied: cryptography in c:\\users\\ruben\\desktop\\minho\\mei\\csi\\ec\\.venv\\lib\\site-packages (44.0.1)\n",
      "Requirement already satisfied: asyncio in c:\\users\\ruben\\desktop\\minho\\mei\\csi\\ec\\.venv\\lib\\site-packages (3.4.3)\n",
      "Requirement already satisfied: cffi>=1.12 in c:\\users\\ruben\\desktop\\minho\\mei\\csi\\ec\\.venv\\lib\\site-packages (from cryptography) (1.17.1)\n",
      "Requirement already satisfied: pycparser in c:\\users\\ruben\\desktop\\minho\\mei\\csi\\ec\\.venv\\lib\\site-packages (from cffi>=1.12->cryptography) (2.22)\n",
      "Note: you may need to restart the kernel to use updated packages.\n"
     ]
    }
   ],
   "source": [
    "%pip install cryptography asyncio\n",
    "import asyncio\n",
    "\n",
    "from cryptography.hazmat.primitives import hashes\n",
    "from cryptography.hazmat.backends import default_backend\n",
    "from cryptography.hazmat.primitives.kdf.hkdf import HKDF"
   ]
  },
  {
   "cell_type": "markdown",
   "metadata": {},
   "source": [
    "Inicialmente é necessário criar uma variável global pra garantir que os nounces gerados são únicos e não se repetem"
   ]
  },
  {
   "cell_type": "code",
   "execution_count": 14,
   "metadata": {},
   "outputs": [],
   "source": [
    "nounce_list=[]"
   ]
  },
  {
   "cell_type": "markdown",
   "metadata": {},
   "source": [
    "### Funções Importantes"
   ]
  },
  {
   "cell_type": "markdown",
   "metadata": {},
   "source": [
    "1. É definido a função \"shake256XOF\" com return do hash final\n",
    "    1. Verificação se a strig passada está em bytes\n",
    "    2. Executar o código que implementa o SHAKE256XOF\n",
    "\n",
    "Esta função iniciliza o modelo sponge, sendo seguido do `absorve` e do `squeeze`, o que implica que é `XOF` \n",
    "    \n",
    "[Fonte - Documentação de \"cryptography\"](https://cryptography.io/en/latest/hazmat/primitives/cryptographic-hashes/)"
   ]
  },
  {
   "cell_type": "code",
   "execution_count": 15,
   "metadata": {},
   "outputs": [],
   "source": [
    "def shake256XOF(text , length=32):\n",
    "    if isinstance(text, str):\n",
    "        text = text.encode('utf-8')\n",
    "    elif not isinstance(text, bytes):\n",
    "        raise TypeError(\"Input must be string or bytes\")\n",
    "    \n",
    "    \n",
    "    digest = hashes.Hash(hashes.SHAKE256(length),  backend=default_backend()) #sponge\n",
    "    digest.update(text) #Absorve\n",
    "    return digest.finalize() #Squeeze"
   ]
  },
  {
   "cell_type": "markdown",
   "metadata": {},
   "source": [
    "1. É definido a função \"derive_nounce\" com return do nounce final\n",
    "    1. Verificação se a strig passada está em bytes\n",
    "    2. Executar \n",
    "\n",
    "Função muito semelhante à anterior, mas desta vez usando SHA256\n",
    "\n",
    "[Fonte - Documentação de \"cryptography\"](https://cryptography.io/en/latest/development/custom-vectors/hkdf/#hkdf-vector-creation)"
   ]
  },
  {
   "cell_type": "code",
   "execution_count": 16,
   "metadata": {},
   "outputs": [],
   "source": [
    "\n",
    "def derive_nounce(text: bytes):\n",
    "    if isinstance(text, str):\n",
    "        text = text.encode('utf-8')\n",
    "    elif not isinstance(text, bytes):\n",
    "        raise TypeError(\"Input must be string or bytes\")\n",
    "\n",
    "    #Sponge\n",
    "    hkdf = HKDF(\n",
    "        algorithm=hashes.SHA256(),\n",
    "        length=12,\n",
    "        salt=None,\n",
    "        info=b\"Nonce Generation\",\n",
    "        backend=default_backend()\n",
    "    )\n",
    "    return hkdf.derive(text) #Absorve n Squeeze\n"
   ]
  },
  {
   "cell_type": "markdown",
   "metadata": {},
   "source": [
    "1. É definido a função \"cipher_ex1\" para cifrar\n",
    "    1. Verificação se a strig passada está em bytes\n",
    "    2. Obter um `nounce` **único** evita ataques de repitação para os mesmos _inputs_ dando origem a um `keystream` **único**\n",
    "    3. É gerado o `keystream` usando a função previamente criada (_shake256XOF_)\n",
    "    4. É criado o `ciphertext` aplicando `XOR` entre o _plaintext_ e _keystream_. A utilização permite que seja facilmente revertido, **SENDO FUNDAMENTAL**, que o _keystream_ seja não reutilizado (unicicidade)\n",
    "    5. `TAG` - É aplicado `shake256XOF` com o a concatenação entre _key_, _nounce_, _ciphertext_ para garantir que é uma cifra `AEAD` e assim evitar ataques de modificação obtendo assim conhecimento se existir uma `violação da integridade` da mensagem\n",
    "\n",
    "[Fonte - Estruturas Criptograficas UM](https://www.dropbox.com/scl/fi/g5vq72hi2fs3ceny7u6bn/Estruturas-Criptograficas-2024-2025.paper?rlkey=0aklld7aud44twg9yepzjo9mf&dl=0)"
   ]
  },
  {
   "cell_type": "code",
   "execution_count": 17,
   "metadata": {},
   "outputs": [],
   "source": [
    "def cipher_ex1(plaintext: str, key: bytes):\n",
    "    global nounce_list\n",
    "    \n",
    "    if isinstance(plaintext, str):\n",
    "        plaintext = plaintext.encode('utf-8')\n",
    "    \n",
    "    nounce = derive_nounce(key)\n",
    "    while nounce in nounce_list:\n",
    "        nounce = shake256XOF(nounce)\n",
    "    nounce_list.append(nounce)\n",
    "    \n",
    "    try:\n",
    "\n",
    "        keystream = shake256XOF(key + nounce, length=len(plaintext))\n",
    "        \n",
    "        ciphertext = bytes(p ^ k for p, k in zip(plaintext, keystream))\n",
    "        \n",
    "        tag_input = key + nounce + ciphertext\n",
    "        tag = shake256XOF(tag_input)\n",
    "        \n",
    "        return nounce, ciphertext, tag\n",
    "        \n",
    "    except Exception as e:\n",
    "        print(e)\n",
    "        return None\n"
   ]
  },
  {
   "cell_type": "markdown",
   "metadata": {},
   "source": [
    "1. É definido a função \"de_cipher_ex1\" para decifrar\n",
    "    1. `TAG` - É aplicado `shake256XOF` com o a concatenação entre _key_, _nounce_, _ciphertext_ para garantir que é uma cifra `AEAD` e assim evitar ataques de modificação obtendo assim conhecimento se existir uma `violação da integridade` da mensagem.\n",
    "    2. Verificar se efetivamente a mensagem sofreu `violação de integrdidade`\n",
    "    3. Se não sofreu, é necssário voltar a gerar a `keystream` tendo em cosideração que o hashing é um processo deterministico.\n",
    "    4. É descuberto o `plaintext` aplicando `XOR` entre o _ciphertext_ e _keystream_\n",
    "\n",
    "[Fonte - Estruturas Criptograficas UM](https://www.dropbox.com/scl/fi/g5vq72hi2fs3ceny7u6bn/Estruturas-Criptograficas-2024-2025.paper?rlkey=0aklld7aud44twg9yepzjo9mf&dl=0)"
   ]
  },
  {
   "cell_type": "code",
   "execution_count": 18,
   "metadata": {},
   "outputs": [],
   "source": [
    "def de_cipher_ex1(ciphertext: bytes, key: bytes, nounce: bytes, tag: bytes):\n",
    "    try:\n",
    "        \n",
    "        tag_input = key + nounce + ciphertext\n",
    "        expected_tag = shake256XOF(tag_input)\n",
    "        \n",
    "        if tag != expected_tag:\n",
    "            raise ValueError(\"Authentication failed - Tag mismatch\")\n",
    "\n",
    "        keystream = shake256XOF(key + nounce, length=len(ciphertext))\n",
    "        \n",
    "        plaintext = bytes(c ^ k for c, k in zip(ciphertext, keystream))\n",
    "        \n",
    "        return plaintext\n",
    "        \n",
    "    except ValueError as e:\n",
    "        print(e)\n",
    "        return None\n",
    "    except Exception as e:\n",
    "        print(e)\n",
    "        return None\n"
   ]
  },
  {
   "cell_type": "markdown",
   "metadata": {},
   "source": [
    "### Emitter"
   ]
  },
  {
   "cell_type": "markdown",
   "metadata": {},
   "source": [
    "É definido a função `Emitter` que envia o _input_ do utilizador encriptado seguindo as diretrizes pedidas no enunciado\n",
    "\n",
    "A mensagem `\"0\"` permite desligar este programa\n",
    "\n",
    "[Fonte - Documentação de \"asyncio\"](https://docs.python.org/3/library/asyncio.html)"
   ]
  },
  {
   "cell_type": "code",
   "execution_count": 19,
   "metadata": {},
   "outputs": [],
   "source": [
    "async def emitter(queue,seed):\n",
    "    key = shake256XOF(seed)\n",
    "    print(f\"Emitter Key: {key}\")\n",
    "    message_id = 0\n",
    "    loop = asyncio.get_event_loop()\n",
    "    while True:\n",
    "        message=await loop.run_in_executor(None, input, \"MESSAGE: \")\n",
    "\n",
    "        if message==\"0\":\n",
    "            for task in asyncio.all_tasks():\n",
    "                task.cancel()  # Isso vai cancelar todas as tasks, incluindo a main\n",
    "            break\n",
    "\n",
    "        print(\"*\"*50)\n",
    "        print(f\"{message_id} - \")\n",
    "        print(f\"Message From EMITTER: {message}\")\n",
    "\n",
    "        print(\"-\"*20)\n",
    "        out=cipher_ex1(message,key)\n",
    "\n",
    "        message_id += 1\n",
    "        await queue.put(out)\n",
    "        "
   ]
  },
  {
   "cell_type": "markdown",
   "metadata": {},
   "source": [
    "### Receiver"
   ]
  },
  {
   "cell_type": "markdown",
   "metadata": {},
   "source": [
    "É definido a função `Receiver` que recebe o _input_ do utilizador encriptado e irá desencripta-lo mostrando a resposta final no terminal\n",
    "\n",
    "A mensagem `\"0\"` permite desligar este programa\n",
    "\n",
    "[Fonte - Documentação de \"asyncio\"](https://docs.python.org/3/library/asyncio.html)"
   ]
  },
  {
   "cell_type": "code",
   "execution_count": 20,
   "metadata": {},
   "outputs": [],
   "source": [
    "async def receiver(queue,seed):\n",
    "    key = shake256XOF(seed)\n",
    "    print(f\"Receiver Key: {key}\")\n",
    "    while True:\n",
    "        nounce, ciphertext, tag = await queue.get()\n",
    "        message=de_cipher_ex1(ciphertext,key,nounce, tag)\n",
    "        if message==\"0\":\n",
    "            for task in asyncio.all_tasks():\n",
    "                task.cancel()  # Isso vai cancelar todas as tasks, incluindo a main\n",
    "            break\n",
    "\n",
    "        print(f\"Received cipher: {ciphertext}\")\n",
    "        print(f\"Received tag: {tag}\")\n",
    "        print(f\"Received nounce: {nounce}\")\n",
    "        print(f\"The real message: {message}\")\n",
    "\n"
   ]
  },
  {
   "cell_type": "markdown",
   "metadata": {},
   "source": [
    "# Run"
   ]
  },
  {
   "cell_type": "markdown",
   "metadata": {},
   "source": [
    "As funções previamente criadas irão correr de forma assíncrona tendo como ponto de comunicação a class `Queue` da libraria _asyncio_"
   ]
  },
  {
   "cell_type": "code",
   "execution_count": 21,
   "metadata": {},
   "outputs": [],
   "source": [
    "async def main():\n",
    "    try:\n",
    "        queue = asyncio.Queue()\n",
    "        seed=input(\"Digite uma frase (seed):\")\n",
    "\n",
    "        # Emitter & Receiver Tasks\n",
    "        emitter_task = asyncio.create_task(emitter(queue,seed))\n",
    "        receiver_task = asyncio.create_task(receiver(queue, seed))\n",
    "\n",
    "        await asyncio.gather(emitter_task, receiver_task) # Espera as tasks terminarem\n",
    "\n",
    "        main_task = asyncio.create_task(main()) # Para matar a main task\n",
    "\n",
    "        await main_task\n",
    "    except asyncio.CancelledError:\n",
    "        print(\"\\n\\nAcabou!\")\n"
   ]
  },
  {
   "cell_type": "code",
   "execution_count": 22,
   "metadata": {},
   "outputs": [
    {
     "name": "stdout",
     "output_type": "stream",
     "text": [
      "Emitter Key: b'\\xd0\\xef\\t\\x14Z\\x83(\\xcd\\nz\\xc3\\x90\\xc6o\\xb6^\\x88\\x9c\\x0e\\n\\xe3\\xc9\\x13qj\\x1b\\x11\\xbf\\xe8\\xdb_\\xe8'\n",
      "Receiver Key: b'\\xd0\\xef\\t\\x14Z\\x83(\\xcd\\nz\\xc3\\x90\\xc6o\\xb6^\\x88\\x9c\\x0e\\n\\xe3\\xc9\\x13qj\\x1b\\x11\\xbf\\xe8\\xdb_\\xe8'\n",
      "**************************************************\n",
      "0 - \n",
      "Message From EMITTER: Ola, o meu nome e pedro e gosto muito de voar\n",
      "--------------------\n",
      "Received cipher: b'e\\xfd_\\xb9\\xdf\\xd2\\xca\\xa7\\x9d\\x85\\x81\\x91\\t\\xa3\\xeb\\x88\\xe5\\xa4O;<\\xba9\\xc1\\xf5\\x04\\xbb\\xfc$Q\\x18+\\x16\\xe8\\x84y\\x00\\x96\\x02|\\xc35\\x8a-@'\n",
      "Received tag: b';\\x02\\x9fE%\\xa3\\xd1\\x81\\x80\\xb6siq\\x11\\x1dB\\xccL\\x0b\\xe9\\x02\\xc5u\\xa6l\\x9c8\\xd3\\xe09\\xb3b'\n",
      "Received nounce: b'\\xf4\\xf0\\x97\\xe4\\x19#2\\xf0K\\xa7\\xb1\\xa8'\n",
      "The real message: b'Ola, o meu nome e pedro e gosto muito de voar'\n",
      "**************************************************\n",
      "1 - \n",
      "Message From EMITTER: a serio???? Podemos simplesmente voar entao\n",
      "--------------------\n",
      "Received cipher: b'5\\xc4\\xc4N\\x01\\xec3\\xf4\\x8d\\x82\\x8a\\x1ev\\x8cp*s&tk\\xf30\\xf6\\x89Y\\xefOyX\\xd8&\\x08\\x9e\\x0c\\xfd\\xae\\x8c\\xe2/\\xbf\\xd7\\x9d\\xc6'\n",
      "Received tag: b'J\\xa1\\xa6[d\\xfaKZ\\t\\xe4\\xd3\\xaf;i\\x02\\xb6\\xcb5Y\\xb5b\\xe0[\\xb8\\x1a\\x13\\xcd\\x0bL\\x8cU\\xbc'\n",
      "Received nounce: b'\\x95j\\xd6I@x\\xa0[\\x1cD\\xe8\\xd3+\\xb7[77\\xd7\\xe5\\xccp\\xd8\\x18:M\\xd9b[I}^-'\n",
      "The real message: b'a serio???? Podemos simplesmente voar entao'\n",
      "**************************************************\n",
      "2 - \n",
      "Message From EMITTER: ola mundo\n",
      "--------------------\n",
      "Received cipher: b'\\xf0\\t\\x9ab\\xd1\\xceB>\\xcb'\n",
      "Received tag: b'\\xc5\\x16\"\\xa8\\xe8\\xc6\\xa3^dq\\xe4\\xfe\\x97\\xb1\\xdai\\xfaA\\x14Fc\\x0co\\xbci\\xb4\\xbd\\xf1\\t\\xff\\xe5t'\n",
      "Received nounce: b'\\xf4s\\x87\\xcf\\xb9\\x87\\x9a\\xd8\\xcd\\xa9\\x87\\xe51\\x97\\xa8\\x00dX\\xcc\\x91U\\x8b\\x12DT\\xca\\x13\\x15\\xa3\\xf0\\xfa\\xf6'\n",
      "The real message: b'ola mundo'\n",
      "**************************************************\n",
      "3 - \n",
      "Message From EMITTER: ola mundo\n",
      "--------------------\n",
      "Received cipher: b'\\xc4:\\xbb\\xcfI\\xec\\xe7Rs'\n",
      "Received tag: b'\\nU*\\xfe2E\\x17\\xd0\\xce\\xba\\xecS\\x9a\\xa2LkB\\xe0\\x1e\\r=\\xafZ\\xda%\\xe1g\\x9a\\xfcB\\xde9'\n",
      "Received nounce: b'\\xd0\\x8bO<(!\\x81E\\xfbVk,K\\xb1v\\xad\\xc6\\xba\\xe0V`\\xa8I6\\xfd\\xb8\\x15\\xf2\\xf3\\xe7\\x07n'\n",
      "The real message: b'ola mundo'\n",
      "**************************************************\n",
      "4 - \n",
      "Message From EMITTER: ola\n",
      "--------------------\n",
      "Received cipher: b'\\xc9\\x872'\n",
      "Received tag: b'\\xd1z[*xQ\\xbd\\x96\\x9d\\x82\\x8e\\xdd\\xf2\\xdcl\\x86^\\xfb\\xe9X\\x87\\xaag1\\xa5\\x08E\\x95+\\x17\\x0c4'\n",
      "Received nounce: b'\\xbe\\xe8\\xe3\\xf2\\xb7:\\xb4\\xc6\\x01\\x9e\\x9d\\xb6NZ\\xf3@\\x99\\xf2X\\xc3\\x95\\x86\\x9cm\\xe0&+$s\\x0f\\xd6\\x85'\n",
      "The real message: b'ola'\n",
      "\n",
      "\n",
      "Acabou!\n"
     ]
    }
   ],
   "source": [
    "await main()"
   ]
  }
 ],
 "metadata": {
  "kernelspec": {
   "display_name": ".venv",
   "language": "python",
   "name": "python3"
  },
  "language_info": {
   "codemirror_mode": {
    "name": "ipython",
    "version": 3
   },
   "file_extension": ".py",
   "mimetype": "text/x-python",
   "name": "python",
   "nbconvert_exporter": "python",
   "pygments_lexer": "ipython3",
   "version": "3.12.9"
  }
 },
 "nbformat": 4,
 "nbformat_minor": 2
}
