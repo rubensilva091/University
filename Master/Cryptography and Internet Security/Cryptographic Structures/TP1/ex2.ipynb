{
 "cells": [
  {
   "cell_type": "markdown",
   "metadata": {},
   "source": [
    "# Exercício 2 - Trabalho Prático 1\n",
    "\n",
    "**Grupo 6:** \n",
    "\n",
    "\n",
    "Ruben Silva - pg57900\n",
    "\n",
    "Luís Costa - pg55970"
   ]
  },
  {
   "cell_type": "markdown",
   "metadata": {},
   "source": [
    "# Problema: \n",
    "\n",
    "\n",
    "1. Use o “package” cryptography para\n",
    "    1. Implementar uma AEAD com “Tweakable Block Ciphers” conforme está descrito na última secção do texto [+Capítulo 1: Primitivas Criptográficas Básicas](https://www.dropbox.com/scl/fi/g5vq72hi2fs3ceny7u6bn/Estruturas-Criptograficas-2024-2025.paper?rlkey=0aklld7aud44twg9yepzjo9mf&dl=0).  A cifra por blocos primitiva, usada para gerar a “tweakable block cipher”, é o AES-128.\n",
    "    2. Use esta cifra para construir um canal privado de informação assíncrona com acordo de chaves feito com `X25519 key exchange` e `Ed25519 Signing&Verification` para autenticação  dos agentes.  Deve incluir a confirmação da chave acordada."
   ]
  },
  {
   "cell_type": "markdown",
   "metadata": {},
   "source": [
    "# Implementação do Problema"
   ]
  },
  {
   "cell_type": "markdown",
   "metadata": {},
   "source": [
    "## Parte I"
   ]
  },
  {
   "cell_type": "markdown",
   "metadata": {},
   "source": [
    "_Import_\n",
    "1. Instalar/importar as funcionalidades necessárias do `crypography`\n",
    "2. Instalar/importar o `asyncio` para ser possível a criação do cliente-servidor assíncrono\n",
    "3. Importar librarias internas do sistema como `sys` e `os`"
   ]
  },
  {
   "cell_type": "code",
   "execution_count": 1,
   "metadata": {},
   "outputs": [
    {
     "name": "stdout",
     "output_type": "stream",
     "text": [
      "Requirement already satisfied: cryptography in c:\\users\\ruben\\desktop\\minho\\mei\\csi\\ec\\.venv\\lib\\site-packages (44.0.1)\n",
      "Requirement already satisfied: asyncio in c:\\users\\ruben\\desktop\\minho\\mei\\csi\\ec\\.venv\\lib\\site-packages (3.4.3)\n",
      "Requirement already satisfied: cffi>=1.12 in c:\\users\\ruben\\desktop\\minho\\mei\\csi\\ec\\.venv\\lib\\site-packages (from cryptography) (1.17.1)\n",
      "Requirement already satisfied: pycparser in c:\\users\\ruben\\desktop\\minho\\mei\\csi\\ec\\.venv\\lib\\site-packages (from cffi>=1.12->cryptography) (2.22)\n",
      "Note: you may need to restart the kernel to use updated packages.\n"
     ]
    }
   ],
   "source": [
    "%pip install cryptography asyncio\n",
    "import os\n",
    "import asyncio\n",
    "import sys\n",
    "\n",
    "from cryptography.hazmat.backends import default_backend\n",
    "from cryptography.hazmat.primitives import hashes, serialization\n",
    "from cryptography.hazmat.primitives.asymmetric import x25519, ed25519\n",
    "from cryptography.hazmat.primitives.ciphers import Cipher, algorithms, modes\n",
    "from cryptography.hazmat.primitives.kdf.hkdf import HKDF"
   ]
  },
  {
   "cell_type": "markdown",
   "metadata": {},
   "source": [
    "Inicialmente é necessário criar uma variável global pra garantir que os nounces gerados são únicos e não se repetem"
   ]
  },
  {
   "cell_type": "code",
   "execution_count": 2,
   "metadata": {},
   "outputs": [],
   "source": [
    "nounce_list = []"
   ]
  },
  {
   "cell_type": "markdown",
   "metadata": {},
   "source": [
    "### Funções Importantes Part I"
   ]
  },
  {
   "cell_type": "markdown",
   "metadata": {},
   "source": [
    "1. É definido a função **xor_bytes** com return da cifragem\n",
    "\n",
    "Esta função gera um keystream aplicando `XOR` entre os parametros. Isto é de extrema relevância pois permite facilmente reverter a cifragem\n",
    "    \n",
    "[Fonte - XOR Keystream](https://www.reddit.com/r/learnpython/comments/zz76oc/how_would_i_xor_2_bytes_objects/)"
   ]
  },
  {
   "cell_type": "code",
   "execution_count": 3,
   "metadata": {},
   "outputs": [],
   "source": [
    "def xor_bytes(a, b):\n",
    "    return bytes(x ^ y for x, y in zip(a, b))"
   ]
  },
  {
   "cell_type": "markdown",
   "metadata": {},
   "source": [
    "1. É definido a função \"shake256XOF\" com return do hash final\n",
    "    1. Verificação se a strig passada está em bytes\n",
    "    2. Executar o código que implementa o SHAKE256XOF\n",
    "\n",
    "Esta função iniciliza o modelo sponge, sendo seguido do `absorve` e do `squeeze`, o que implica que é `XOF` \n",
    "    \n",
    "[Fonte - Documentação de \"cryptography\"](https://cryptography.io/en/latest/hazmat/primitives/cryptographic-hashes/)"
   ]
  },
  {
   "cell_type": "code",
   "execution_count": 4,
   "metadata": {},
   "outputs": [],
   "source": [
    "def shake256XOF(text , length=32):\n",
    "    if isinstance(text, str):\n",
    "        text = text.encode('utf-8')\n",
    "    elif not isinstance(text, bytes):\n",
    "        raise TypeError(\"Input must be string or bytes\")\n",
    "    \n",
    "    \n",
    "    digest = hashes.Hash(hashes.SHAKE256(length),  backend=default_backend()) #sponge\n",
    "    digest.update(text) #Absorve\n",
    "    return digest.finalize() #Squeeze"
   ]
  },
  {
   "cell_type": "markdown",
   "metadata": {},
   "source": [
    "1. É definido a função **contruct_tweak** que retorna o `tweak` (chave de curta direção)\n",
    "    1. Obter um `nounce` **único** evita ataques de repitação para os mesmos _inputs_ dando origem a um keystream **único**\n",
    "    2. A função é colocada em big-endian concactenando o `nounce` no inicio e o `tweak` no final tendo em conta se qual o propósito desta última, `\\x01` para autentição e `\\x00` para cifragem. Neste caso, o `\\x01` é colocado no último chunk de `16` bytes e o `\\x00` ao longo da construção do `tweak`\n",
    "\n",
    "[Fonte - Documentação de \"cryptography\"](https://www.dropbox.com/scl/fi/g5vq72hi2fs3ceny7u6bn/Estruturas-Criptograficas-2024-2025.paper?rlkey=0aklld7aud44twg9yepzjo9mf&dl=0)"
   ]
  },
  {
   "cell_type": "code",
   "execution_count": 5,
   "metadata": {},
   "outputs": [],
   "source": [
    "def construct_tweak(nounce, index):\n",
    "    b_half = len(nounce)\n",
    "    tweak = nounce + index.to_bytes(b_half, 'big') + b'\\x00'\n",
    "    return tweak"
   ]
  },
  {
   "cell_type": "markdown",
   "metadata": {},
   "source": [
    "1. É definido a função **tweakable_encrypt** que retorna o _ciphertext_ e a _tag_\n",
    "    1. A  usa [`AES`](https://cryptography.io/en/latest/hazmat/primitives/symmetric-encryption/#cryptography.hazmat.primitives.ciphers.Cipher) no modo ECB como primitiva básica, o que está alinhado com a construção de _Tweakable Block Ciphers_.\n",
    "    2. O _plaintext_ é dividido em blocos de `16 bytes` (tamanho padrão do AES).\n",
    "    3. A função _construct_tweak_ gera um tweak para cada bloco com base no nounce e no índice do bloco\n",
    "    4. Cada bloco é `cifrado pela primeira vez` com AES. Em seguida, o resultado é `XORed` com o tweak, garantindo que cada bloco tenha uma transformação única.\n",
    "    5. O valor modificado pelo tweak é `cifrado novamente` com AES, garantindo que mesmo se um bloco se repetir, seu resultado seja diferente devido à introdução do tweak\n",
    "    6. Após cifrar todos os blocos, uma `tag` de autenticação é gerada usando _SHAKE-256_ no modo _XOF_. A escolha desta metodologia foi um ato experimental nosso para tentar convergir os dois exercícios e explorando as capacidades e conhecimentos lecionados, não saindo do escopo do exercício.\n",
    "\n",
    "Com esta função, conseguimos a finalização da implementação `cifra AEAD baseada em Tweakable Block Ciphers`\n",
    "\n",
    "[Fonte - Documentação de \"cryptography\"](https://www.dropbox.com/scl/fi/g5vq72hi2fs3ceny7u6bn/Estruturas-Criptograficas-2024-2025.paper?rlkey=0aklld7aud44twg9yepzjo9mf&dl=0)"
   ]
  },
  {
   "cell_type": "code",
   "execution_count": null,
   "metadata": {},
   "outputs": [],
   "source": [
    "def tweakable_encrypt(plaintext, key, nounce):\n",
    "    cipher = Cipher(algorithms.AES(key), modes.ECB(), backend=default_backend())\n",
    "    \n",
    "    ciphertext_blocks = []\n",
    "    for i in range(0, len(plaintext), 16):\n",
    "        block = plaintext[i:i+16].ljust(16, b'\\x00')\n",
    "        tweak = construct_tweak(nounce, i // 16)\n",
    "        \n",
    "        encryptor = cipher.encryptor()\n",
    "        first_pass = encryptor.update(block) + encryptor.finalize()\n",
    "        xored = xor_bytes(first_pass, tweak)\n",
    "        \n",
    "        encryptor = cipher.encryptor()\n",
    "        ciphertext_blocks.append(encryptor.update(xored) + encryptor.finalize())\n",
    "    \n",
    "    ciphertext = b''.join(ciphertext_blocks)\n",
    "\n",
    "    tagInput = key + nounce + ciphertext +  int(1).to_bytes(1, 'big')\n",
    "\n",
    "    tag = shake256XOF(tagInput, len(tagInput))   \n",
    "\n",
    "    return ciphertext, tag"
   ]
  },
  {
   "cell_type": "markdown",
   "metadata": {},
   "source": [
    "1. É definido a função **tweakable_decrypt** que retorna o `tweak` o _plaintext_ final\n",
    "    1. `TAG` - É aplicado _shake256XOF_ com o a concatenação entre _key_, _nounce_, _ciphertext_ e _\\x01_ para garantir que é uma cifra `AEAD` e assim evitar ataques de modificação obtendo assim conhecimento se existir uma `violação da integridade` da mensagem.\n",
    "    2. Verificar se efetivamente a mensagem sofreu `violação de integrdidade`\n",
    "    3. Se não sofreu, é necessário voltar a fazer o processo `reverso` do **tweakable_decrypt** voltando assim ao _plaintext_ original\n",
    "\n",
    "Com esta função, conseguimos a finalização da implementação desincriptação `cifra AEAD baseada em Tweakable Block Ciphers`\n",
    "\n",
    "[Fonte - Documentação de \"cryptography\"](https://www.dropbox.com/scl/fi/g5vq72hi2fs3ceny7u6bn/Estruturas-Criptograficas-2024-2025.paper?rlkey=0aklld7aud44twg9yepzjo9mf&dl=0)"
   ]
  },
  {
   "cell_type": "code",
   "execution_count": 7,
   "metadata": {},
   "outputs": [],
   "source": [
    "def tweakable_decrypt(ciphertext, key, nounce, tag):\n",
    "    cipher = Cipher(algorithms.AES(key), modes.ECB(), backend=default_backend())\n",
    "\n",
    "    tagInput = key + nounce + ciphertext +  int(1).to_bytes(1, 'big')\n",
    "\n",
    "    exceptedTag = shake256XOF(tagInput, len(tagInput))\n",
    "\n",
    "    if exceptedTag != tag:\n",
    "        raise ValueError(\"Authentication Failed!\")\n",
    "\n",
    "    plaintext_blocks = []\n",
    "    for i in range(0, len(ciphertext), 16):\n",
    "        block = ciphertext[i:i+16]\n",
    "        tweak = construct_tweak(nounce, i // 16)\n",
    "        \n",
    "        decryptor = cipher.decryptor()\n",
    "        first_pass = decryptor.update(block) + decryptor.finalize()\n",
    "        xored = xor_bytes(first_pass, tweak)\n",
    "        \n",
    "        decryptor = cipher.decryptor()\n",
    "        plaintext_blocks.append(decryptor.update(xored) + decryptor.finalize())\n",
    "    \n",
    "    plaintext = b''.join(plaintext_blocks).rstrip(b'\\x00')\n",
    "    return plaintext"
   ]
  },
  {
   "cell_type": "markdown",
   "metadata": {},
   "source": [
    "### Run Part I"
   ]
  },
  {
   "cell_type": "markdown",
   "metadata": {},
   "source": [
    "As funções previamente criadas irão ser `sequencialmente` executadas de modo a validar & testar a nossa implementação desta parte do exercício"
   ]
  },
  {
   "cell_type": "code",
   "execution_count": 8,
   "metadata": {},
   "outputs": [
    {
     "name": "stdout",
     "output_type": "stream",
     "text": [
      "Plaintext: b'Hello, World! Cipher is cooL!'\n",
      "Ciphertext: 2238e4fd5ec1737207e7ec16cb2e83ee9135d21fe44a2f7c5f1500cc3bb4e34e\n",
      "Decrypted: b'Hello, World! Cipher is cooL!'\n"
     ]
    }
   ],
   "source": [
    "global nounce_list\n",
    "\n",
    "key = os.urandom(16)\n",
    "nounce = os.urandom(8)\n",
    "\n",
    "while nounce in nounce_list:  #Garantir unicidade do nounce\n",
    "    nounce = os.urandom(8)\n",
    "\n",
    "plaintext = b\"Hello, World! Cipher is cooL!\"\n",
    "\n",
    "ciphertext, tag = tweakable_encrypt(plaintext, key, nounce)\n",
    "decrypted = tweakable_decrypt(ciphertext, key, nounce, tag)\n",
    "\n",
    "print(\"Plaintext:\", plaintext)\n",
    "print(\"Ciphertext:\", ciphertext.hex())\n",
    "print(\"Decrypted:\", decrypted)"
   ]
  },
  {
   "cell_type": "markdown",
   "metadata": {},
   "source": [
    "## Parte II"
   ]
  },
  {
   "cell_type": "markdown",
   "metadata": {},
   "source": [
    "### Funções Importantes Parte II\n"
   ]
  },
  {
   "cell_type": "markdown",
   "metadata": {},
   "source": [
    "A função assíncrona **generate_keys** gera dois pares de chaves criptográficas:\n",
    "\n",
    "1. `Ed25519` (Assinatura Digital)\n",
    "    1. _priv_ed_key_: Chave privada para assinar mensagens.\n",
    "    2. _pub_ed_key_: Chave pública correspondente para verificar assinaturas.\n",
    "\n",
    "1. `X25519` (Troca de Chaves - Key Exchange)\n",
    "    1. _priv_x_key_: Chave privada usada para derivar uma chave secreta partilhada.\n",
    "    2. _pub_x_key_: Chave pública correspondente para troca de chaves.\n",
    "\n",
    "A função retorna todas essas chaves para serem usadas em operações de **autenticação** e **estabelecimento de chave segura**.\n"
   ]
  },
  {
   "cell_type": "code",
   "execution_count": 9,
   "metadata": {},
   "outputs": [],
   "source": [
    "async def generate_keys():\n",
    "    priv_ed_key = ed25519.Ed25519PrivateKey.generate()\n",
    "    pub_ed_key = priv_ed_key.public_key()\n",
    "    \n",
    "    priv_x_key = x25519.X25519PrivateKey.generate()\n",
    "    pub_x_key = priv_x_key.public_key()\n",
    "    \n",
    "    return priv_ed_key, pub_ed_key, priv_x_key, pub_x_key"
   ]
  },
  {
   "cell_type": "markdown",
   "metadata": {},
   "source": [
    "A função **share_keys** envia chaves e suas assinaturas através de uma _queue_ assíncrona, permitindo que outro agente receba e verifique a autenticidade das chaves. O processo utiliza os seguintes algoritmos criptográficos:\n",
    "\n",
    "1. `Envio da Chave Pública Ed25519` (Assinatura Digital)  \n",
    "   1. A chave pública _Ed25519_ é colocada na fila.  \n",
    "   2. Em seguida, a função gera uma _assinatura digital_ dessa chave usando a _chave privada Ed25519_.   \n",
    "   3. A chave pública e a assinatura são enviadas na fila.\n",
    "\n",
    "2. `Envio da Chave Pública X25519 `(Troca de Chaves)\n",
    "   1. A chave pública _X25519_ é colocada na fila.  \n",
    "   2. Para garantir sua autenticidade, a função assina essa chave usando a _chave privada Ed25519_.  \n",
    "   3. A chave pública e a assinatura são enviadas na fila."
   ]
  },
  {
   "cell_type": "code",
   "execution_count": 10,
   "metadata": {},
   "outputs": [],
   "source": [
    "async def share_keys(queue, priv_ed_key, pub_ed_key, pub_x_key):\n",
    "    await queue.put(pub_ed_key)\n",
    "    sig_ed = priv_ed_key.sign(pub_ed_key.public_bytes(\n",
    "        encoding=serialization.Encoding.Raw, \n",
    "        format=serialization.PublicFormat.Raw\n",
    "    ))\n",
    "    await queue.put(sig_ed)\n",
    "\n",
    "    await queue.put(pub_x_key)\n",
    "    sig_x = priv_ed_key.sign(pub_x_key.public_bytes(\n",
    "        encoding=serialization.Encoding.Raw, \n",
    "        format=serialization.PublicFormat.Raw\n",
    "    ))\n",
    "    await queue.put(sig_x)"
   ]
  },
  {
   "cell_type": "markdown",
   "metadata": {},
   "source": [
    "A função **receive_keys** recebe e verifica chaves e suas assinaturas a partir de uma fila assíncrona e, em seguida, realiza o estabelecimento de uma chave compartilhada. O processo utiliza os seguintes algoritmos:\n",
    "\n",
    "1. Usa Ed25519 para verificar se a chave pública recebida foi realmente assinada pelo remetente, caso esta falha, a execução lançará uma exceção, prevenindo assim ataques de chave falsa.\n",
    "\n",
    "2. Recebe e Verifica a Chave Pública X25519 autêntica, usando a chave Ed25519 do remetente, impedindo assim que um atacante envie uma chave falsa para manipular a troca de chaves.\n",
    "\n",
    "3. Estabelece a Chave Compartilhada\n",
    "   1. Utiliza a chave privada X25519 local (`priv_x_key`) e a chave pública X25519 do par para realizar a troca de chaves (ECDH), gerando um **segredo compartilhado**.\n",
    "   2. Esse segredo é processado com o algoritmo **HKDF (HMAC-based Key Derivation Function)**, usando SHA256, para derivar uma chave simétrica de 16 bytes.\n",
    "   3. Essa chave derivada (`agreed_key`) será utilizada para a comunicação cifrada via AEAD."
   ]
  },
  {
   "cell_type": "code",
   "execution_count": 11,
   "metadata": {},
   "outputs": [],
   "source": [
    "async def receive_keys(queue, priv_x_key):\n",
    "    peer_pub_ed_key = await queue.get()\n",
    "    peer_sig_ed = await queue.get()\n",
    "    peer_pub_ed_key.verify(\n",
    "        peer_sig_ed, \n",
    "        peer_pub_ed_key.public_bytes(\n",
    "            encoding=serialization.Encoding.Raw, \n",
    "            format=serialization.PublicFormat.Raw\n",
    "        )\n",
    "    )\n",
    "    peer_verify_key = peer_pub_ed_key\n",
    "    \n",
    "    peer_pub_x_key = await queue.get()\n",
    "    peer_sig_x = await queue.get()\n",
    "    peer_verify_key.verify(\n",
    "        peer_sig_x, \n",
    "        peer_pub_x_key.public_bytes(\n",
    "            encoding=serialization.Encoding.Raw, \n",
    "            format=serialization.PublicFormat.Raw\n",
    "        )\n",
    "    )\n",
    "    \n",
    "    shared_secret = priv_x_key.exchange(peer_pub_x_key)\n",
    "    agreed_key = HKDF(\n",
    "        algorithm=hashes.SHA256(),\n",
    "        length=16,\n",
    "        salt=None,\n",
    "        info=b'key agreement',\n",
    "    ).derive(shared_secret)\n",
    "    \n",
    "    return peer_verify_key, agreed_key"
   ]
  },
  {
   "cell_type": "markdown",
   "metadata": {},
   "source": [
    "A função **send_message** envia uma mensagem criptografada junto com assinaturas que garantem a integridade e autenticidade dos componentes da mensagem. O processo é o seguinte:\n",
    "\n",
    "1. Geração do Nonce:\n",
    "   1. Um valor aleatório de 8 bytes (`nounce`) é gerado com `os.urandom(8)`.  \n",
    "   2. Esse nonce é usado para garantir que a criptografia seja única para cada mensagem.\n",
    "\n",
    "2. Criptografia com Tweakable Encryption:\n",
    "   1. A função `tweakable_encrypt` é chamada com o `plaintext`, a chave acordada (`agreed_key`) e o `nounce`.\n",
    "   2. Essa função retorna o `ciphertext` (texto cifrado) e um `tag` de autenticação, que serve para verificar a integridade da mensagem.\n",
    "\n",
    "3. Assinatura e Envio dos Dados: \n",
    "   1. O `ciphertext` é assinado com a chave privada Ed25519 (`priv_ed_key`) para garantir que ele não foi alterado.\n",
    "   2. Em seguida, a assinatura do `ciphertext` é enviada pela fila.\n",
    "   3. O `ciphertext` propriamente dito é colocado na fila.\n",
    "   4. Da mesma forma, o `nounce` é assinado e sua assinatura é enviada.\n",
    "   5. O próprio `nounce` é enviado logo após sua assinatura.\n",
    "   6. Por fim, o `tag` de autenticação é enviado, permitindo ao receptor confirmar que o `ciphertext` não foi modificado."
   ]
  },
  {
   "cell_type": "code",
   "execution_count": 12,
   "metadata": {},
   "outputs": [],
   "source": [
    "async def send_message(queue, plaintext, agreed_key, priv_ed_key):\n",
    "    nounce = os.urandom(8)\n",
    "    ciphertext, tag = tweakable_encrypt(plaintext, agreed_key, nounce)\n",
    "    print(f\"Encrypted: {ciphertext.hex()}\")\n",
    "    \n",
    "    await queue.put(priv_ed_key.sign(ciphertext))\n",
    "    await queue.put(ciphertext)\n",
    "    await queue.put(priv_ed_key.sign(nounce))\n",
    "    await queue.put(nounce)\n",
    "    await queue.put(tag)"
   ]
  },
  {
   "cell_type": "markdown",
   "metadata": {},
   "source": [
    "A função **receive_message** recebe uma mensagem criptografada e verifica sua autenticidade antes de decifrá-la. O processo segue estes passos:\n",
    "\n",
    "1. A assinatura do _ciphertext_ (sig_ct) é recebida da fila.\n",
    "2. O _ciphertext_ propriamente dito é recebido.\n",
    "3. O _peer_verify_key_ (chave pública do remetente) é usado para verificar a assinatura.\n",
    "Isso garante que o ciphertext não foi alterado e foi realmente enviado pelo remetente legítimo.\n",
    "\n",
    "4. A assinatura do _nounce_ (sig_nounce) é recebida da fila.\n",
    "5. O _nounce_ é recebido.\n",
    "6. O _peer_verify_key_ é usado para verificar a assinatura do nounce.\n",
    "Isso evita ataques de repetição e garante que o nonce foi realmente enviado pelo remetente legítimo.\n",
    "7. A tag de autenticação (_tag_) gerada durante a cifragem é recebida da fila.\n",
    "Essa tag permite verificar se a mensagem foi alterada durante a transmissão."
   ]
  },
  {
   "cell_type": "code",
   "execution_count": 13,
   "metadata": {},
   "outputs": [],
   "source": [
    "async def receive_message(queue, peer_verify_key, agreed_key):\n",
    "    sig_ct = await queue.get()\n",
    "    ciphertext = await queue.get()\n",
    "    peer_verify_key.verify(sig_ct, ciphertext)\n",
    "    \n",
    "    sig_nounce = await queue.get()\n",
    "    nounce = await queue.get()\n",
    "    peer_verify_key.verify(sig_nounce, nounce)\n",
    "    tag = await queue.get()\n",
    "    \n",
    "    plaintext = tweakable_decrypt(ciphertext, agreed_key, nounce, tag)\n",
    "    print(f\"Decrypted: {plaintext}\")"
   ]
  },
  {
   "cell_type": "markdown",
   "metadata": {},
   "source": [
    "### Run Parte II"
   ]
  },
  {
   "cell_type": "code",
   "execution_count": null,
   "metadata": {},
   "outputs": [
    {
     "name": "stdout",
     "output_type": "stream",
     "text": [
      "Key exchange successful!\n",
      "Message: b'Criptografia e Seguranca da Internet :D'\n",
      "Encrypted: b1ad691df7ebb8cd5924d496d112765cc72cbe70b8a9e04933785a9f91dbe025c0d4bbcf5a4dd91dcdea29e4f438ccbe\n",
      "Decrypted: b'Criptografia e Seguranca da Internet :D'\n"
     ]
    },
    {
     "ename": "",
     "evalue": "",
     "output_type": "error",
     "traceback": [
      "\u001b[1;31mThe Kernel crashed while executing code in the current cell or a previous cell. \n",
      "\u001b[1;31mPlease review the code in the cell(s) to identify a possible cause of the failure. \n",
      "\u001b[1;31mClick <a href='https://aka.ms/vscodeJupyterKernelCrash'>here</a> for more info. \n",
      "\u001b[1;31mView Jupyter <a href='command:jupyter.viewOutput'>log</a> for further details."
     ]
    }
   ],
   "source": [
    "async def main():\n",
    "    queue = asyncio.Queue()\n",
    "    \n",
    "    sender_priv_ed, sender_pub_ed, sender_priv_x, sender_pub_x = await generate_keys()\n",
    "    receiver_priv_ed, receiver_pub_ed, receiver_priv_x, receiver_pub_x = await generate_keys()\n",
    "    \n",
    "    await share_keys(queue, sender_priv_ed, sender_pub_ed, sender_pub_x)\n",
    "    receiver_verify_key, receiver_agreed_key = await receive_keys(queue, receiver_priv_x)\n",
    "    \n",
    "    await share_keys(queue, receiver_priv_ed, receiver_pub_ed, receiver_pub_x)\n",
    "    _, sender_agreed_key = await receive_keys(queue, sender_priv_x)\n",
    "    \n",
    "    if sender_agreed_key == receiver_agreed_key:\n",
    "        print(\"Key exchange successful!\")\n",
    "    else:\n",
    "        sys.exit(\"Key agreement failed!\")\n",
    "    \n",
    "    message = b\"Criptografia e Seguranca da Internet :D\"\n",
    "    print(f\"Message: {message}\")\n",
    "    await send_message(queue, message, sender_agreed_key, sender_priv_ed)\n",
    "\n",
    "    await receive_message(queue, receiver_verify_key, receiver_agreed_key)\n",
    "\n",
    "if __name__ == \"__main__\":\n",
    "    loop = asyncio.get_event_loop()\n",
    "    if loop.is_running():\n",
    "        asyncio.create_task(main())\n",
    "    else:\n",
    "        loop.run_until_complete(main())"
   ]
  }
 ],
 "metadata": {
  "kernelspec": {
   "display_name": ".venv",
   "language": "python",
   "name": "python3"
  },
  "language_info": {
   "codemirror_mode": {
    "name": "ipython",
    "version": 3
   },
   "file_extension": ".py",
   "mimetype": "text/x-python",
   "name": "python",
   "nbconvert_exporter": "python",
   "pygments_lexer": "ipython3",
   "version": "3.12.9"
  }
 },
 "nbformat": 4,
 "nbformat_minor": 2
}
