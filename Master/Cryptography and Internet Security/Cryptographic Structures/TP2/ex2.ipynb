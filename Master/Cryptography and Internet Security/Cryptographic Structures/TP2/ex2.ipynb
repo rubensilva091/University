{
 "cells": [
  {
   "cell_type": "markdown",
   "metadata": {},
   "source": [
    "# Exercício 2 - Trabalho Prático 2\n",
    "\n",
    "**Grupo 6:** \n",
    "\n",
    "\n",
    "Ruben Silva - pg57900\n",
    "\n",
    "Luís Costa - pg55970"
   ]
  },
  {
   "cell_type": "markdown",
   "metadata": {},
   "source": [
    "# Problema: \n",
    "\n",
    "1. Construir uma classe Python que implemente o  EcDSA a partir do “standard” FIPS186-5\n",
    "    1. A implementação deve conter funções para assinar digitalmente e verificar a assinatura.\n",
    "    2. A implementação da classe deve usar  uma das “Twisted Edwards Curves” definidas no standard e escolhida  na iniciação da classe: a curva  “edwards25519” ou “edwards448”."
   ]
  },
  {
   "cell_type": "markdown",
   "metadata": {},
   "source": [
    "## Edwards25519"
   ]
  },
  {
   "cell_type": "markdown",
   "metadata": {},
   "source": [
    "## Funções"
   ]
  },
  {
   "cell_type": "code",
   "execution_count": 403,
   "metadata": {},
   "outputs": [],
   "source": [
    "from sage.all import *\n",
    "import os\n",
    "import hashlib"
   ]
  },
  {
   "cell_type": "markdown",
   "metadata": {},
   "source": [
    "Toda a class a seguir criada foi basead nos seguintes ficheiros:\n",
    "\n",
    "1. [FIPS186-5](https://nvlpubs.nist.gov/nistpubs/FIPS/NIST.FIPS.186-5.pdf)\n",
    "2. [RFC8032](https://datatracker.ietf.org/doc/html/rfc8032)"
   ]
  },
  {
   "cell_type": "code",
   "execution_count": 404,
   "metadata": {},
   "outputs": [],
   "source": [
    "class Edwards25519():\n",
    "    #Private Functions\n",
    "    def __init__(self):\n",
    "        self.p = 2**255 - 19\n",
    "        self.d = -121665 * inverse_mod(121666, self.p) % self.p\n",
    "        self.q = 2**252 + 27742317777372353535851937790883648493\n",
    "        \n",
    "\n",
    "        self.gy = 4 * self.__modp_inv(5) % self.p\n",
    "        self.gx = self.__recover_x(self.gy, 0)\n",
    "        self.G = (self.gx, self.gy, 1, self.gx * self.gy % self.p)\n",
    "\n",
    "    def __sha512(self, data):\n",
    "        return hashlib.sha512(data).digest()\n",
    "    \n",
    "    def __sha512_modq(self, data):\n",
    "        return int.from_bytes(self.__sha512(data), 'little') % self.q\n",
    "    \n",
    "    def __point_add(self, P, Q):\n",
    "        A, B = (P[1]-P[0]) * (Q[1]-Q[0]) % self.p, (P[1]+P[0]) * (Q[1]+Q[0]) % self.p\n",
    "        C, D = 2 * P[3] * Q[3] * self.d % self.p, 2 * P[2] * Q[2] % self.p\n",
    "        E, F, G, H = B-A, D-C, D+C, B+A\n",
    "        return (E*F, G*H, F*G, E*H)\n",
    "    \n",
    "    def __point_mult(self,s,P):\n",
    "        Q = (0, 1, 1, 0)\n",
    "        while s > 0:\n",
    "            if s & 1:\n",
    "                Q = self.__point_add(Q, P)\n",
    "            P = self.__point_add(P, P)\n",
    "            s >>= 1\n",
    "        return Q\n",
    "    \n",
    "    def __point_equal(self,P,Q):\n",
    "        if (P[0] * Q[2] - Q[0] * P[2]) % self.p != 0:\n",
    "            return False\n",
    "        if (P[1] * Q[2] - Q[1] * P[2]) % self.p != 0:\n",
    "            return False\n",
    "        return True\n",
    "    \n",
    "\n",
    "    def __mod_sqrt(self):\n",
    "        return pow(2, (self.p-1)//4, self.p)\n",
    "    \n",
    "    def __modp_inv(self, x):\n",
    "        return pow(x, self.p-2, self.p)\n",
    "    \n",
    "    def __recover_x(self, y, sign):\n",
    "        if y >= self.p:\n",
    "            return None\n",
    "        x2 = (y*y-1) * self.__modp_inv(self.d*y*y+1)\n",
    "        if x2 == 0:\n",
    "            if sign:\n",
    "                return None\n",
    "            else:\n",
    "                return 0\n",
    "        x = pow(x2, (self.p+3) // 8, self.p)\n",
    "        if (x*x - x2) % self.p != 0:\n",
    "            x = x * self.__mod_sqrt() % self.p\n",
    "        if (x*x - x2) % self.p != 0:\n",
    "            return None\n",
    "        if (x & 1) != sign:\n",
    "            x = self.p - x\n",
    "        return x\n",
    "    \n",
    "    def __point_compress(self, P):\n",
    "        zinv = self.__modp_inv(P[2])\n",
    "        x = P[0] * zinv % self.p\n",
    "        y = P[1] * zinv % self.p\n",
    "        return int(y | ((x & 1) << 255)).to_bytes(32, 'little')\n",
    "    \n",
    "    def __point_decompress(self, s):\n",
    "        if len(s) != 32:\n",
    "            raise Exception(\"Invalid input length for decompression\")\n",
    "        y = int.from_bytes(s, \"little\")\n",
    "        sign = y >> 255\n",
    "        y &= (1 << 255) - 1\n",
    "        x = self.__recover_x(y, sign)\n",
    "\n",
    "        if x is None:\n",
    "            return None\n",
    "        else:\n",
    "            return (x, y, 1, x*y % self.p)\n",
    "        \n",
    "    def __secret_expand(self, secret):\n",
    "        if len(secret) != 32:\n",
    "            raise Exception(\"Invalid input length for secret key\")\n",
    "        h = self.__sha512(secret)\n",
    "        a = int.from_bytes(h[:32], \"little\")\n",
    "        a &= (1 << 254) - 8\n",
    "        a |= (1 << 254)\n",
    "        return (a, h[32:])\n",
    "    \n",
    "    #Public Functions\n",
    "    def secret_to_public(self, secret):\n",
    "        a, dummy = self.__secret_expand(secret)\n",
    "        return self.__point_compress(self.__point_mult(a, self.G))\n",
    "    \n",
    "    def sign(self, secret, message):\n",
    "        a, prefix = self.__secret_expand(secret)\n",
    "        A = self.__point_compress(self.__point_mult(a, self.G))\n",
    "        r = self.__sha512_modq(prefix + message)\n",
    "        R = self.__point_mult(r, self.G)\n",
    "        Rs = self.__point_compress(R)\n",
    "        h = self.__sha512_modq(Rs + A + message)\n",
    "        s = (r + h * a) % self.q\n",
    "        return Rs + int.to_bytes(s, 32, 'little')\n",
    "    \n",
    "    def verify(self, public, message, signature):\n",
    "        if len(public) != 32:\n",
    "            raise Exception(\"Bad public key length\")\n",
    "        if len(signature) != 64:\n",
    "            Exception(\"Bad signature length\")\n",
    "        A = self.__point_decompress(public)\n",
    "        if not A:\n",
    "            return False\n",
    "        Rs = signature[:32]\n",
    "        R = self.__point_decompress(Rs)\n",
    "        if not R:\n",
    "            return False\n",
    "        s = int.from_bytes(signature[32:], \"little\")\n",
    "        if s >= self.q: return False\n",
    "        h = self.__sha512_modq(Rs + public + message)\n",
    "        sB = self.__point_mult(s, self.G)\n",
    "        hA = self.__point_mult(h, A)\n",
    "        return self.__point_equal(sB, self.__point_add(R, hA))\n"
   ]
  },
  {
   "cell_type": "markdown",
   "metadata": {},
   "source": [
    "## Testar "
   ]
  },
  {
   "cell_type": "code",
   "execution_count": 405,
   "metadata": {},
   "outputs": [],
   "source": [
    "def test_edwards25519():\n",
    "    ed = Edwards25519()\n",
    "    secret = os.urandom(32)\n",
    "    message = f\"Hello, world!\"\n",
    "    print(f\"Secret:{secret}\")\n",
    "    \n",
    "\n",
    "    public = ed.secret_to_public(secret)\n",
    "    print(f\"Public:{public}\")\n",
    "    print(f\"Message:{message}\")\n",
    "    signature = ed.sign(secret, message.encode())\n",
    "    print(f\"Signature:{signature}\")\n",
    "    assert ed.verify(public, message.encode(), signature)\n",
    "\n",
    "    print(\"Edwards25519 test passed\")"
   ]
  },
  {
   "cell_type": "code",
   "execution_count": 406,
   "metadata": {},
   "outputs": [
    {
     "name": "stdout",
     "output_type": "stream",
     "text": [
      "Secret:b'\\xec\\x1f\\x10\\re\\x1e~\\x11ud3\\x9e\\xcbBS\\xa9<\\x8f\\xe1\\xd0&\\xda\\x06s\\xdb\\x07\\xf8\\x00%\\x19\\xf6\\x9a'\n",
      "Public:b'\\x12\\xee\\x85\\n\\xc8\\x14\\xfbHr\\xca~\\x19\\xadt\\x8c\\xcc\\xa0P\\xc6E\\x9e\\xb5BfL\\x85\\xa9\\x95\\xa3h\\xd7?'\n",
      "Message:Hello, world!\n",
      "Signature:b'\\xf3R\\x15\\x18\\xa5=\\xe9\\x90\\xbc]\\xae\\xb7\\xae\\r\\x13\\xa7v\\xa3\\x0b]{\\x0c,j\\r(\\xb1\\xfe\\\\1\\xde{\\x849\\xbd\\xe5_\\xaa\\xcfR\\x06P\\xd7JTC\\xaa\\x9b\\x9c\\x80U\\xaa-\\xf9\\xbb*\\xff%\\xa7\\xdae\\x1e\\x84\\t'\n",
      "Edwards25519 test passed\n"
     ]
    }
   ],
   "source": [
    "test_edwards25519()"
   ]
  }
 ],
 "metadata": {
  "kernelspec": {
   "display_name": "Python (SageMath)",
   "language": "python",
   "name": "sagemath"
  },
  "language_info": {
   "codemirror_mode": {
    "name": "ipython",
    "version": 3
   },
   "file_extension": ".py",
   "mimetype": "text/x-python",
   "name": "python",
   "nbconvert_exporter": "python",
   "pygments_lexer": "ipython3",
   "version": "3.11.11"
  }
 },
 "nbformat": 4,
 "nbformat_minor": 2
}
