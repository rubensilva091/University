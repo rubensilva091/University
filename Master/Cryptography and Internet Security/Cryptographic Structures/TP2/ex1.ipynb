{
 "cells": [
  {
   "cell_type": "markdown",
   "id": "ab170c5d",
   "metadata": {},
   "source": [
    "# Exercício 1 - Trabalho Prático 2\n",
    "\n",
    "**Grupo 6:** \n",
    "\n",
    "\n",
    "Ruben Silva - pg57900\n",
    "\n",
    "Luís Costa - pg55970"
   ]
  },
  {
   "cell_type": "markdown",
   "id": "ecdea7ca",
   "metadata": {},
   "source": [
    "# Problema: \n",
    "\n",
    "1. Pretende-se construir em torno de uma cifra assimétrica um conjunto de técnicas criptográficas destinadas a fins distintos. Apesar de todas as alíneas do problema poderem ser  respondidas com a maioria das cifras assimétricas clássicas ou pós-quânticas, neste problema vamos exemplificar o processo com uma técnica simples da família Diffie-Hellman nomeadamente a cifra assimétrica ElGamal com parâmetros de segurança $\\,\\lambda\\,$.\n",
    "    1. Implemente um esquema  PKE $\\,\\mathsf{ElGamal}(\\lambda)\\,$ (ver [Capítulo 4](https://www.dropbox.com/scl/fi/iqlklckd6qbvnr5x6zqrh/Cap-tulo-4_-Problemas-Dif-ceis.paper?rlkey=jt1hyoj1ehc21ybg6n2i93dsy&dl=0)) num subgrupo de ordem prima $\\,q\\,$,  com $\\,|q|\\geq \\lambda\\,$, do grupo multiplicativo $\\,\\mathbb{F}^\\ast_p\\,$ com $\\,p\\,$ um primo que verifica $\\,|p| \\geq \\lambda\\times|\\lambda|$ . Identifique o gerador de chaves e os algoritmos de cifra de decifra neste esquema. Identifique o núcleo deterministico do algoritmo de cifra.\n",
    "    2. Supondo que a cifra que implementou é IND-CPA segura (de novo Capítulo 4), usando a transformação de Fujisaki-Okamoto implemente um PKE que seja IND-CCA seguro.\n",
    "    3. A partir de **2** construa um esquema de KEM que seja IND-CCA seguro.\n",
    "    4. A partir de **2** construa uma implementação de um protocolo autenticado de “Oblivious Transfer” $\\,\\kappa$-out-of-$n\\,$."
   ]
  },
  {
   "cell_type": "markdown",
   "id": "fa5ea420",
   "metadata": {},
   "source": [
    "# Implementação do Problema"
   ]
  },
  {
   "cell_type": "code",
   "execution_count": 8,
   "id": "f9c659ae",
   "metadata": {},
   "outputs": [],
   "source": [
    "from sage.all import *\n",
    "from cryptography.hazmat.primitives import hashes\n",
    "import secrets\n",
    "import random"
   ]
  },
  {
   "cell_type": "markdown",
   "id": "4c67420b",
   "metadata": {},
   "source": [
    "## Parte I"
   ]
  },
  {
   "cell_type": "markdown",
   "id": "eee176d8",
   "metadata": {},
   "source": [
    "### Foi seguida a seguinte informação presente no material da UC\n",
    "\n",
    "**EL GAMAL**\n",
    "\n",
    "Qualquer PKE é determinado por três algoritmos: geração de chaves, cifra e decifra. No contexto de ataques `IND-CPA` apenas os dois primeiros são relevantes e apenas a chave pública  relevante.\n",
    "\n",
    " $\\text{GenKeys}(\\lambda)$ ... $\\lambda\\;$ é o parâmetro de segurança\n",
    "1. gerar aleatoriamente um primo $\\,q \\approx 2^\\lambda$\n",
    "2.  gerar um primo $p$  tal que  $\\,\\mathbb{F}_p^\\ast\\,$ tem um sub-grupo de ordem $\\,q\\,$  \n",
    "        * calcular um gerador $g$ desse sub-grupo<br>    \n",
    "3. gerar aleatoriamente  $\\,0 <s < q\\,$ ,  a chave privada<br>   \n",
    "4. calcular e  revelar  a chave pública   $\\,\\mathsf{pk} \\equiv \\langle p,q, g,g^s\\rangle$\n",
    "\n",
    "\n",
    "$\\text{Enc}(pk,m)$                                   …   a mensagem $m$ é um elemento de $\\mathbb{F}_p^\\ast$ \n",
    "1. obter elementos públicos  $\\,p,q,g,g^s \\,\\gets\\,\\mathsf{pk}$\n",
    "2. gerar aleatoriamente  $\\,0 <\\omega < q$ <br>\n",
    "3. calcular  $\\,\\gamma \\gets g^\\omega\\;$ e $\\,\\kappa \\gets (g^s)^\\omega\\,$.<br>  \n",
    "4. construir  o criptograma $\\,\\mathbf{c}\\gets \\langle\\,\\gamma\\,,\\, m\\times\\kappa\\,\\rangle\\,$\n",
    "\n",
    "\n",
    "**Note-se** que se verifica $\\,\\kappa = \\gamma^s\\,$\n"
   ]
  },
  {
   "cell_type": "markdown",
   "id": "5b52a39b",
   "metadata": {},
   "source": [
    "É forte contra `IND-CPA` porque:\n",
    "\n",
    "A criptografia ElGamal, com seu uso de \n",
    "$\\gamma$ e $\\omega$, é resistente a ataques de IND-CPA porque, sem a chave secreta \n",
    "$s$, o atacante não consegue obter informações sobre a mensagem original. O uso de \n",
    "$\\omega$ (um valor aleatório) e a estrutura de \n",
    "$\\kappa$ garantem que a cifra seja não-determinística. Ou seja, mesmo se o atacante cifrar a mesma mensagem várias vezes, ele obterá criptogramas diferentes devido à aleatoriedade de \n",
    "$\\omega$."
   ]
  },
  {
   "cell_type": "markdown",
   "id": "c29744f6",
   "metadata": {},
   "source": [
    "## Funções"
   ]
  },
  {
   "cell_type": "markdown",
   "id": "8b4c8503",
   "metadata": {},
   "source": [
    "1. É definido a função **find_p_q_g** que retorna p,q,g\n",
    "    1. É gerado um $q$ tal que $q \\approx 2^\\lambda$\n",
    "    2. É gerado um $p$ tal que $p = 2*q + 1$ que claramente sastifaz $\\,|p| \\geq \\lambda\\times|\\lambda|$\n",
    "    3. Verificamos se esse $p$ é primo.\n",
    "    4. Descubrir o subgrupo "
   ]
  },
  {
   "cell_type": "code",
   "execution_count": 9,
   "id": "8522c96b",
   "metadata": {},
   "outputs": [],
   "source": [
    "def find_p_q_g(lambda_bits):\n",
    "    while True:\n",
    "        q = random_prime(2**(lambda_bits-1), 2**lambda_bits)\n",
    "        \n",
    "        p = 2*q + 1 \n",
    "        \n",
    "        if is_prime(p):\n",
    "            # Encontrar o gerador\n",
    "            for g in range(2, p):\n",
    "                if pow(g, q, p) != 1 and pow(g, 2, p) != 1:\n",
    "                    return p, q, g"
   ]
  },
  {
   "cell_type": "markdown",
   "id": "b545879e",
   "metadata": {},
   "source": [
    "1. É definido a função **string_to_int** que retorna o inteiro da string\n",
    "2. É definido a função **int_to_string** que retorna a string apartir de uma inteiro"
   ]
  },
  {
   "cell_type": "code",
   "execution_count": 10,
   "id": "57dee1d4",
   "metadata": {},
   "outputs": [],
   "source": [
    "def string_to_int(s, p):\n",
    "    message_bytes = s.encode('utf-8')\n",
    "    \n",
    "    # Converte bytes para inteiro\n",
    "    message_int = int.from_bytes(message_bytes, byteorder='big')\n",
    "\n",
    "    if message_int >= p -1:\n",
    "        print(\"Mensagem muito grande para o campo Fp\")\n",
    "        print(\"Tente uma mensagem menor\")\n",
    "        print(\"ou\")\n",
    "        print(\"Aumente o tamanho do campo Fp (Aumentar lambda)\")\n",
    "        return None\n",
    "\n",
    "    # Garantir que o número esteja dentro de Fp*\n",
    "    return message_int % (p - 1)\n",
    "\n",
    "def int_to_string(n):\n",
    "    try:\n",
    "        # Calcula o número de bytes necessários para representar n\n",
    "        num_bytes = (n.bit_length() + 7) // 8\n",
    "        byte_data = n.to_bytes(num_bytes, byteorder=\"big\")\n",
    "\n",
    "        return byte_data.decode('utf-8')\n",
    "    except Exception as e:\n",
    "        return f\"Erro na decodificação: {e}\""
   ]
  },
  {
   "cell_type": "markdown",
   "id": "bdf130c5",
   "metadata": {},
   "source": [
    "1. É definido a função **ElGamal_GenKeys** que retorna a `public_key` e a `private_key`\n",
    "    1. É gerado um $q$, $p$ e $g$ usando a função _find\\_p\\_q\\_g($\\lambda$)_\n",
    "    2. É gerado a $\\,0 <$ `private_key` $< q\\,$ \n",
    "    3. É gerado o tuplo correspondente à `public_key` $\\equiv \\langle p,q, g,g^s\\rangle$\n",
    "    4. É devolvido o par de chaves "
   ]
  },
  {
   "cell_type": "code",
   "execution_count": 11,
   "id": "61fdbab1",
   "metadata": {},
   "outputs": [],
   "source": [
    "def ElGamal_GenKeys(lambdaa):\n",
    "    p, q, g = find_p_q_g(lambdaa)\n",
    "    \n",
    "    # Private key: nr entre 0 and q-1\n",
    "    private_key = secrets.randbelow(q)\n",
    "    \n",
    "    # Public key: (p, q, g, g^s)\n",
    "    public_key = (p, q, g, pow(g, private_key, p))\n",
    "    \n",
    "    return public_key, private_key"
   ]
  },
  {
   "cell_type": "markdown",
   "id": "caeda9c1",
   "metadata": {},
   "source": [
    "1. É definido a função **ElGamal_Enc** que retorna o `criptograma`\n",
    "    1. obter elementos públicos  $\\,p,q,g,g^s \\,\\gets\\,\\mathsf{pk}$\n",
    "    2. gerar aleatoriamente  $\\,0 <\\omega < q$ <br>\n",
    "    3. calcular  $\\,\\gamma \\gets g^\\omega\\;$ e $\\,\\kappa \\gets (g^s)^\\omega\\,$.<br>  \n",
    "    4. construir  o criptograma $\\,\\mathbf{c}\\gets \\langle\\,\\gamma\\,,\\, m\\times\\kappa\\,\\rangle\\,$"
   ]
  },
  {
   "cell_type": "code",
   "execution_count": 12,
   "id": "c342e0ea",
   "metadata": {},
   "outputs": [],
   "source": [
    "def ElGamal_Enc(public_key, message):\n",
    "    p, q, g, gs = public_key\n",
    "\n",
    "    message_int = string_to_int(message, p)\n",
    "\n",
    "    # gerar w entre 0 e q-1\n",
    "    w = secrets.randbelow(q)\n",
    "\n",
    "    # Calcular Gamma e Omega corretamente\n",
    "    gamma = pow(g, w, p)\n",
    "    omega = pow(gs, w, p)\n",
    "\n",
    "    # Calcular C\n",
    "    c = (gamma, (omega * message_int) % p)\n",
    "    return c"
   ]
  },
  {
   "cell_type": "markdown",
   "id": "7e4f3bcc",
   "metadata": {},
   "source": [
    "1. É definido a função **ElGamal_Dec** que retorna a mensagem decifrada\n",
    "    1. obter $p$ a partir da `public_key`\n",
    "    2. obter $\\gamma$ e o ciphertext a partir do `criptograma`\n",
    "    3. Fazer os cálculos inversos aplicados no **ElGamal_Enc**"
   ]
  },
  {
   "cell_type": "code",
   "execution_count": 13,
   "id": "696e51f6",
   "metadata": {},
   "outputs": [],
   "source": [
    "def ElGamal_Dec(secret_key, public_key, criptograma):\n",
    "    p = public_key[0]\n",
    "    gamma, ciphertext = criptograma\n",
    "\n",
    "    # Calcular kappa = gamma^secret_key mod p\n",
    "    kappa = pow(gamma, secret_key, p)\n",
    "\n",
    "    # Calcular inverso modular\n",
    "    kappa_inv = inverse_mod(kappa, p)\n",
    "\n",
    "    # Decifrar a mensagem\n",
    "    message_int = (ciphertext * kappa_inv) % p\n",
    "\n",
    "    return int_to_string(message_int)"
   ]
  },
  {
   "cell_type": "markdown",
   "id": "53245fb5",
   "metadata": {},
   "source": [
    "### Correr Ex1"
   ]
  },
  {
   "cell_type": "code",
   "execution_count": 14,
   "id": "b95974ee",
   "metadata": {},
   "outputs": [],
   "source": [
    "def ElGamal_ex1(lambdaa, mensagem):\n",
    "    print(\"\\n==== INICIANDO CIFRAGEM ELGAMAL ====\\n\")\n",
    "    \n",
    "    # Verificar se a mensagem pode ser representada em Fp*\n",
    "    if string_to_int(mensagem, 2**lambdaa) is None:\n",
    "        print(\"Erro: A mensagem não pode ser representada no espaço de Fp*. Aumente lambdaa.\")\n",
    "        return\n",
    "    \n",
    "    print(f\"Lambda selecionado: {lambdaa}-bits\")\n",
    "\n",
    "    # Gerar chaves pública e privada\n",
    "    public_key, private_key = ElGamal_GenKeys(lambdaa)\n",
    "    \n",
    "    print(\"\\n==== CHAVES GERADAS ====\")\n",
    "    print(f\"Chave Pública (p, q, g, g^s): \\n{public_key}\")\n",
    "    print(f\"Chave Privada (s): {private_key}\")\n",
    "    print(\"===================\\n\")\n",
    "    \n",
    "    # Cifrar a mensagem\n",
    "    criptograma = ElGamal_Enc(public_key, mensagem)\n",
    "    \n",
    "    print(\"\\n==== CIFRAGEM ====\")\n",
    "    print(f\"Mensagem original: {mensagem}\")\n",
    "    print(f\"Criptograma gerado (γ, m * κ): {criptograma}\")\n",
    "    print(\"===================\\n\")\n",
    "    \n",
    "    # Decifrar a mensagem\n",
    "    mensagem_decifrada = ElGamal_Dec(private_key, public_key, criptograma)\n",
    "    \n",
    "    print(\"\\n==== DECIFRAGEM ====\")\n",
    "    print(f\"Mensagem Decifrada: {mensagem_decifrada}\")\n",
    "    \n",
    "    \n",
    "    # Verificar a Cifragem\n",
    "    if mensagem_decifrada == mensagem:\n",
    "        print(\"\\nFuncionou! A mensagem foi recuperada corretamente.\")\n",
    "    else:\n",
    "        print(\"\\nErro! A decifração falhou.\")\n",
    "\n",
    "    print(\"\\n==== Nucleo Deterministico ====\")\n",
    "    print(f\"c -> {criptograma} \\nElGamal_Dec(private_key, public_key, criptograma)\")"
   ]
  },
  {
   "cell_type": "markdown",
   "id": "ef0264dd",
   "metadata": {},
   "source": [
    "#"
   ]
  },
  {
   "cell_type": "code",
   "execution_count": 15,
   "id": "5d7802da",
   "metadata": {},
   "outputs": [
    {
     "name": "stdout",
     "output_type": "stream",
     "text": [
      "\n",
      "==== INICIANDO CIFRAGEM ELGAMAL ====\n",
      "\n",
      "Lambda selecionado: 100-bits\n",
      "\n",
      "==== CHAVES GERADAS ====\n",
      "Chave Pública (p, q, g, g^s): \n",
      "(1248139363892158849556220127679, 624069681946079424778110063839, 13, 545918489800967976683817338128)\n",
      "Chave Privada (s): 350883497988038238129680359342\n",
      "===================\n",
      "\n",
      "\n",
      "==== CIFRAGEM ====\n",
      "Mensagem original: Hello World\n",
      "Criptograma gerado (γ, m * κ): (515506813419386164759758667661, 503024238050961923541091891775)\n",
      "===================\n",
      "\n",
      "\n",
      "==== DECIFRAGEM ====\n",
      "Mensagem Decifrada: Hello World\n",
      "\n",
      "Funcionou! A mensagem foi recuperada corretamente.\n",
      "\n",
      "==== Nucleo Deterministico ====\n",
      "c -> (515506813419386164759758667661, 503024238050961923541091891775) \n",
      "ElGamal_Dec(private_key, public_key, criptograma)\n"
     ]
    }
   ],
   "source": [
    "lambdaa = 100\n",
    "message = \"Hello World\"\n",
    "ElGamal_ex1(lambdaa, message)"
   ]
  },
  {
   "cell_type": "markdown",
   "id": "db27b383",
   "metadata": {},
   "source": [
    "## Part II"
   ]
  },
  {
   "cell_type": "markdown",
   "id": "1a6fedd2",
   "metadata": {},
   "source": [
    "### Foi seguida a seguinte informação presente no material da UC\n",
    "\n",
    "**Fujisaki-Okamoto**\n",
    "\n",
    "1. **Aleatoriedade**\n",
    "    1. Escolhe-se um Valor Aleatorio $r$ de tamanho $\\lambda$ em bits\n",
    "2. **Ofuscação da Mensagem $x$**\n",
    "    1. Gerar $y$ tal que $y=x \\oplus g(r)$\n",
    "3. **Derivação da Aleatoriedade Determinística**\n",
    "    1. $r$ é misturado com y numa outra hash $h$ tal que $r' = h(r,y)$\n",
    "4. **Cifra Assimétrica**\n",
    "    1. O par $(y,c)$ é o `novo criptograma`\n",
    "    2. $c = f(r,h(r,y))$ ou $c = f(r,r')$\n",
    "\n",
    "**NOTAS**\n",
    "1. $g$ é uma \"hash pseudoaleatória\" que mapeia $r$ para o mesmo tamanho $x$ \n",
    "2. $h$ é uma \"hash\" que deriva o $r$ e $y$ dando origem a $r'$\n",
    "3. $f$ é um Núcleo Determinístico"
   ]
  },
  {
   "cell_type": "markdown",
   "id": "2be4d7c1",
   "metadata": {},
   "source": [
    "## Funções"
   ]
  },
  {
   "cell_type": "markdown",
   "id": "524d38cd",
   "metadata": {},
   "source": [
    "1. É definido a função **func_g** mapeia $r$ para o mesmo tamanho $x$"
   ]
  },
  {
   "cell_type": "code",
   "execution_count": 16,
   "id": "bad4d24f",
   "metadata": {},
   "outputs": [],
   "source": [
    "def func_g(r, length):\n",
    "    digest = hashes.Hash(hashes.SHA256())\n",
    "    digest.update(str(r).encode('utf-8'))  \n",
    "    hash_output = digest.finalize()\n",
    "    return int.from_bytes(hash_output, 'big') % (2 ^ length)\n"
   ]
  },
  {
   "cell_type": "markdown",
   "id": "692d53d7",
   "metadata": {},
   "source": [
    "1. É definido a função **func_h** deriva $r$ e $y$"
   ]
  },
  {
   "cell_type": "code",
   "execution_count": 17,
   "id": "8b1c0d56",
   "metadata": {},
   "outputs": [],
   "source": [
    "def func_h(r, y, length):\n",
    "    digest = hashes.Hash(hashes.SHA256())\n",
    "    digest.update(str(r).encode('utf-8'))\n",
    "    digest.update(str(y).encode('utf-8'))\n",
    "    hash_output = digest.finalize()\n",
    "    return int.from_bytes(hash_output, 'big') % (2 ^ length)\n"
   ]
  },
  {
   "cell_type": "markdown",
   "id": "6d75f528",
   "metadata": {},
   "source": [
    "1. É definido a função **ElGamal_Enc_FO** que retorna o `criptograma` utilizando o metodo `Fujisaki-Okamoto (FO)`\n",
    "    1. obter elementos públicos  $\\,p,q,g,g^s \\,\\gets\\,\\mathsf{pk}$\n",
    "    2. gerar aleatoriamente  $r$ tal que $|r| = |\\lambda|$<br>\n",
    "    3. gerar $y$ tal que $y= mensagem \\oplus g(r)$\n",
    "    4. derivar $r' = h(r, y)$\n",
    "    5. calcular $c=f(r,r')$\n",
    "    5. construir  o criptograma $(y,f(r,r')) = (y,c)$"
   ]
  },
  {
   "cell_type": "code",
   "execution_count": 18,
   "id": "fe4f2b8a",
   "metadata": {},
   "outputs": [],
   "source": [
    "def ElGamal_Enc_FO(public_key, message, lambdaa):\n",
    "    p, q, g, gs = public_key\n",
    "    \n",
    "    message_int = string_to_int(message, p)\n",
    "    \n",
    "    # Gerar um número aleatório r\n",
    "    r = secrets.randbits(lambdaa)\n",
    "    r = (r % (q-1)) + 1\n",
    "    \n",
    "    # Calcular g(r) e y = message ⊕ g(r)\n",
    "    gr = func_g(r, message_int.bit_length())\n",
    "    y = message_int ^ gr\n",
    "    \n",
    "    # Derivar r' = h(r, y)\n",
    "    next_r = func_h(r, y, q)\n",
    "    \n",
    "    # Usar o core determinístico do ElGamal para cifrar r usando r'\n",
    "    #f(r,r')\n",
    "    gamma = pow(g, next_r, p)\n",
    "    kappa = pow(gs, next_r, p)\n",
    "    c = (gamma, (kappa * r) % p)\n",
    "    \n",
    "    # O criptograma final é (y, c)\n",
    "    return (y, c)\n"
   ]
  },
  {
   "cell_type": "markdown",
   "id": "6f22e981",
   "metadata": {},
   "source": [
    "1. É definido a função **ElGamal_Dec_FO** que retorna a mensagem original gerada pelo decifrador em `Fujisaki-Okamoto (FO)`\n",
    "    1. obter elementos públicos  $\\,p,q,g,g^s \\,\\gets\\,\\mathsf{pk}$\n",
    "    2. obter $y,c$ a partir do criptograma\n",
    "    3. fazer o inverso da crifragem feita em **ElGamal_Enc_FO**\n",
    "    4. verificar se a cifra é válida\n",
    "    5. se sim, retorna-la"
   ]
  },
  {
   "cell_type": "code",
   "execution_count": 19,
   "id": "45baacb3",
   "metadata": {},
   "outputs": [],
   "source": [
    "def ElGamal_Dec_FO(private_key, public_key, criptograma):\n",
    "    p, q, g, gs = public_key\n",
    "    y, c = criptograma\n",
    "    \n",
    "    # Decifrar r usando o ElGamal básico\n",
    "    gamma, enc_r = c\n",
    "    kappa = pow(gamma, private_key, p)\n",
    "    kappa_inv = inverse_mod(kappa, p)\n",
    "    r = (enc_r * kappa_inv) % p\n",
    "    \n",
    "    # Calcular g(r)\n",
    "    gr = func_g(r, y.bit_length())\n",
    "    \n",
    "    # Recuperar a mensagem original\n",
    "    message_int = y ^ gr\n",
    "    \n",
    "    # Verificar se a cifra é válida\n",
    "    r_prime = func_h(r, y, q)\n",
    "    expected_gamma = pow(g, r_prime, p)\n",
    "    \n",
    "    if gamma != expected_gamma:\n",
    "        raise ValueError(\"Criptograma inválido: verificação de integridade falhou\")\n",
    "    \n",
    "    return int_to_string(message_int)"
   ]
  },
  {
   "cell_type": "markdown",
   "id": "316e3891",
   "metadata": {},
   "source": [
    "### Correr Ex2"
   ]
  },
  {
   "cell_type": "code",
   "execution_count": 20,
   "id": "776d80a8",
   "metadata": {},
   "outputs": [],
   "source": [
    "def ElGamal_Ex2(lambdaa, message):\n",
    "    print(\"\\n==== INICIANDO CIFRAGEM ELGAMAL ====\\n\")\n",
    "    \n",
    "    # Verificar se a mensagem pode ser representada em Fp*\n",
    "    if string_to_int(message, 2**lambdaa) is None:\n",
    "        print(\"Erro: A mensagem não pode ser representada no espaço de Fp*. Aumente lambdaa.\")\n",
    "        return\n",
    "    \n",
    "    print(f\"Lambda selecionado: {lambdaa}-bits\")\n",
    "\n",
    "    # Gerar chaves pública e privada\n",
    "    public_key, private_key = ElGamal_GenKeys(lambdaa)\n",
    "    \n",
    "    print(\"\\n==== CHAVES GERADAS ====\")\n",
    "    print(f\"Chave Pública (p, q, g, g^s): \\n{public_key}\")\n",
    "    print(f\"Chave Privada (s): {private_key}\")\n",
    "    print(\"===================\\n\")\n",
    "    \n",
    "    # Cifrar a mensagem\n",
    "    criptograma = ElGamal_Enc_FO(public_key, message, lambdaa)\n",
    "    \n",
    "    print(\"\\n==== CIFRAGEM ====\")\n",
    "    print(f\"Mensagem original: {message}\")\n",
    "    print(f\"Criptograma gerado (y, c): {criptograma}\")\n",
    "    print(\"===================\\n\")\n",
    "    \n",
    "    # Decifrar a mensagem\n",
    "    mensagem_decifrada = ElGamal_Dec_FO(private_key, public_key, criptograma)\n",
    "    \n",
    "    print(\"\\n==== DECIFRAGEM ====\")\n",
    "    print(f\"Mensagem Decifrada: {mensagem_decifrada}\")\n",
    "    \n",
    "    # Verificar a Cifragem\n",
    "    if mensagem_decifrada == message:\n",
    "        print(\"\\nFuncionou! A mensagem foi recuperada corretamente.\")\n",
    "    else:\n",
    "        print(\"\\nErro! A decifração falhou.\")"
   ]
  },
  {
   "cell_type": "code",
   "execution_count": 21,
   "id": "86ce323d",
   "metadata": {},
   "outputs": [
    {
     "name": "stdout",
     "output_type": "stream",
     "text": [
      "\n",
      "==== INICIANDO CIFRAGEM ELGAMAL ====\n",
      "\n",
      "Lambda selecionado: 150-bits\n",
      "\n",
      "==== CHAVES GERADAS ====\n",
      "Chave Pública (p, q, g, g^s): \n",
      "(771891897421248003712694909221213449131224403, 385945948710624001856347454610606724565612201, 2, 129327235076526384777270866596214932034713221)\n",
      "Chave Privada (s): 40776406818361858230873864595538297407944047\n",
      "===================\n",
      "\n",
      "\n",
      "==== CIFRAGEM ====\n",
      "Mensagem original: Hello World FO\n",
      "Criptograma gerado (y, c): (1468369091346689468057626077054533, (101605745521358941262177938407810963308167126, 679468179947861130872090465598498206879224222))\n",
      "===================\n",
      "\n",
      "\n",
      "==== DECIFRAGEM ====\n",
      "Mensagem Decifrada: Hello World FO\n",
      "\n",
      "Funcionou! A mensagem foi recuperada corretamente.\n"
     ]
    }
   ],
   "source": [
    "lambdaa = 150\n",
    "message = \"Hello World FO\"\n",
    "ElGamal_Ex2(lambdaa, message)"
   ]
  },
  {
   "cell_type": "markdown",
   "id": "560882d6",
   "metadata": {},
   "source": [
    "## Part III"
   ]
  },
  {
   "cell_type": "markdown",
   "id": "213667a2",
   "metadata": {},
   "source": [
    "### Foi seguida a seguinte informação presente no material da UC\n",
    "\n",
    "**KEM-IND-CCA**\n",
    "\n",
    "1. **Aleatoriedade**\n",
    "    1. Escolhe-se um Valor Aleatorio $r$ de tamanho $\\lambda$ em bits\n",
    "2. **Ofuscação da Mensagem $x$**\n",
    "    1. gerar $y$ tal que $y=x \\oplus g(r)$\n",
    "3. **Gerar $e$ e $k$**\n",
    "    1. gerar o par $(e,k) = f(y || r)$\n",
    "4. **Ofuscação do $k$ com $r$**\n",
    "    1. gerar $c$ tal que $c=k \\oplus r$ \n",
    "5. **Criptograma**\n",
    "    1. o tuplo $(y,e,c)$ é o novo criptograma\n",
    "\n",
    "**NOTAS**\n",
    "1. $g$ é uma \"hash pseudoaleatória\" que mapeia $r$ para o mesmo tamanho $x$ \n",
    "2. $f$ é um Núcleo Determinístico"
   ]
  },
  {
   "cell_type": "markdown",
   "id": "b35039de",
   "metadata": {},
   "source": [
    "### Notas Importantes\n",
    "1. **KEM** é uma função tal que:\n",
    "    1. $KEM = f(r)$ onde $r$ é um ouput aleatorio\n",
    "2. **KRev** é uma função tal que:\n",
    "    1. $KRev(e) \\approx k \\Leftrightarrow (\\forall r | (e,k) = f(r)$ "
   ]
  },
  {
   "cell_type": "markdown",
   "id": "6418e9f9",
   "metadata": {},
   "source": [
    "## Funções"
   ]
  },
  {
   "cell_type": "markdown",
   "id": "ab3217b7",
   "metadata": {},
   "source": [
    "1. É definido a função **ElGamal_Enc_KEM_IND_CCA** que retorna o `criptograma` utilizando o metodo de `encapsulamento` e `seguro a CCA`\n",
    "    1. obter elementos públicos  $\\,p,q,g,g^s \\,\\gets\\,\\mathsf{pk}$\n",
    "    2. gerar aleatoriamente  $r$ tal que $|r| = h$<br> usando uma hash $h$ aleatória\n",
    "    3. gerar $y$ tal que $y= mensagem \\oplus g(r)$\n",
    "    4. gerar o par $(e,k) = f(y || r)$\n",
    "    5. gerar $c$ tal que $c=k \\oplus r$ \n",
    "    6. gerar o criptograma $(y,e,c)$"
   ]
  },
  {
   "cell_type": "code",
   "execution_count": 22,
   "id": "8fb5661d",
   "metadata": {},
   "outputs": [],
   "source": [
    "def ElGamal_Enc_KEM_IND_CCA(public_key, message, lambdaa):\n",
    "    p, q, g, gs = public_key\n",
    "    \n",
    "    message_int = string_to_int(message, p)\n",
    "    \n",
    "    # Gerar um número aleatório r\n",
    "    r = secrets.randbits(lambdaa)\n",
    "    r = (r % (q-1)) + 1\n",
    "    r = func_g(r, secrets.randbits(lambdaa))\n",
    "    \n",
    "    # Calcular g(r) e y = message ⊕ g(r)\n",
    "    gr = func_g(r, message_int.bit_length())\n",
    "    y = message_int ^ gr\n",
    "    \n",
    "    # gerar (e,k)\n",
    "    yORr = (y << (r.bit_length())) | r\n",
    "    e = pow(g, yORr, p)\n",
    "    k = pow(gs, yORr, p)\n",
    "    \n",
    "    # gerar c = k ⊕ r\n",
    "    c = k ^ r\n",
    "    \n",
    "    #Obter o criptograma final\n",
    "    return (y,e, c)\n"
   ]
  },
  {
   "cell_type": "markdown",
   "id": "ac7c91d6",
   "metadata": {},
   "source": [
    "1. É definido a função **ElGamal_Dec_KEM_IND_CCA** que retorna a mensagem original gerada pelo decifrador do método de encapsulamento e segura CCA\n",
    "    1. obter elementos públicos  $\\,p,q,g,g^s \\,\\gets\\,\\mathsf{pk}$\n",
    "    2. KRev(e)\n",
    "    3. recuperar $r$\n",
    "    4. fazer o inverso da crifragem feita em **ElGamal_Enc_FO**\n",
    "    5. verificar se a cifra é válida\n",
    "    6. se sim, retorna-la decifrada"
   ]
  },
  {
   "cell_type": "code",
   "execution_count": 23,
   "id": "66870bc6",
   "metadata": {},
   "outputs": [],
   "source": [
    "def ElGamal_Dec_KEM_IND_CCA(public_key, private_key, criptograma):\n",
    "    p, q, g, gs = public_key \n",
    "    y, e, c = criptograma\n",
    "\n",
    "    #KRev(e)\n",
    "    # Calcular k = e^s mod p\n",
    "    k = pow(e, private_key, p)\n",
    "    \n",
    "    # Recuperar r a partir de c\n",
    "    r = c ^ k\n",
    "    \n",
    "    # Validar a integridade\n",
    "    yORr = (y << (r.bit_length())) | r\n",
    "    if (e,k) != (pow(g, yORr, p), pow(gs, yORr, p)):\n",
    "        raise ValueError(\"Criptograma inválido: verificação de integridade falhou\")\n",
    "    \n",
    "\n",
    "    # Obter a mensagem decifrada\n",
    "    gr = func_g(r, y.bit_length())  \n",
    "    message_int = y ^ gr \n",
    "    message = int_to_string(message_int)\n",
    "\n",
    "    \n",
    "    return message\n"
   ]
  },
  {
   "cell_type": "markdown",
   "id": "5418b228",
   "metadata": {},
   "source": [
    "### Correr Ex3"
   ]
  },
  {
   "cell_type": "code",
   "execution_count": 24,
   "id": "7bd5e67d",
   "metadata": {},
   "outputs": [],
   "source": [
    "def ElGamal_Ex3(lambdaa, message):\n",
    "    print(\"\\n==== INICIANDO CIFRAGEM ELGAMAL ====\\n\")\n",
    "    \n",
    "    # Verificar se a mensagem pode ser representada em Fp*\n",
    "    if string_to_int(message, 2**lambdaa) is None:\n",
    "        print(\"Erro: A mensagem não pode ser representada no espaço de Fp*. Aumente lambdaa.\")\n",
    "        return\n",
    "    \n",
    "    print(f\"Lambda selecionado: {lambdaa}-bits\")\n",
    "\n",
    "    # Gerar chaves pública e privada\n",
    "    public_key, private_key = ElGamal_GenKeys(lambdaa)\n",
    "    \n",
    "    print(\"\\n==== CHAVES GERADAS ====\")\n",
    "    print(f\"Chave Pública (p, q, g, g^s): \\n{public_key}\")\n",
    "    print(f\"Chave Privada (s): {private_key}\")\n",
    "    print(\"===================\\n\")\n",
    "    \n",
    "    # Cifrar a mensagem\n",
    "    criptograma = ElGamal_Enc_KEM_IND_CCA(public_key, message, lambdaa)\n",
    "    \n",
    "    print(\"\\n==== CIFRAGEM ====\")\n",
    "    print(f\"Mensagem original: {message}\")\n",
    "    print(f\"Criptograma gerado (y, e, c): {criptograma}\")\n",
    "    print(\"===================\\n\")\n",
    "    \n",
    "    # Decifrar a mensagem\n",
    "    mensagem_decifrada = ElGamal_Dec_KEM_IND_CCA(public_key, private_key, criptograma)\n",
    "    \n",
    "    print(\"\\n==== DECIFRAGEM ====\")\n",
    "    print(f\"Mensagem Decifrada: {mensagem_decifrada}\")\n",
    "    \n",
    "    # Verificar a Cifragem\n",
    "    if mensagem_decifrada == message:\n",
    "        print(\"\\nFuncionou! A mensagem foi recuperada corretamente.\")\n",
    "    else:\n",
    "        print(\"\\nErro! A decifração falhou.\")"
   ]
  },
  {
   "cell_type": "code",
   "execution_count": 25,
   "id": "1a9bc5d5",
   "metadata": {},
   "outputs": [
    {
     "name": "stdout",
     "output_type": "stream",
     "text": [
      "\n",
      "==== INICIANDO CIFRAGEM ELGAMAL ====\n",
      "\n",
      "Lambda selecionado: 150-bits\n",
      "\n",
      "==== CHAVES GERADAS ====\n",
      "Chave Pública (p, q, g, g^s): \n",
      "(410277827537132413058315308670759877478991819, 205138913768566206529157654335379938739495909, 2, 341029145909774165989002300610431525377027111)\n",
      "Chave Privada (s): 196416548491400370778904146357193040758530796\n",
      "===================\n",
      "\n",
      "\n",
      "==== CIFRAGEM ====\n",
      "Mensagem original: Hello World KEM\n",
      "Criptograma gerado (y, e, c): (375902487384752503822752275726288213, 175087209005253636010831361767058232097479708, 622694375120658462601085100923803646670119141)\n",
      "===================\n",
      "\n",
      "\n",
      "==== DECIFRAGEM ====\n",
      "Mensagem Decifrada: Hello World KEM\n",
      "\n",
      "Funcionou! A mensagem foi recuperada corretamente.\n"
     ]
    }
   ],
   "source": [
    "lambdaa = 150\n",
    "message = \"Hello World KEM\"\n",
    "ElGamal_Ex3(lambdaa, message)"
   ]
  },
  {
   "cell_type": "markdown",
   "id": "5b3b8780",
   "metadata": {},
   "source": [
    "## Part IV"
   ]
  },
  {
   "cell_type": "markdown",
   "id": "98be660c",
   "metadata": {},
   "source": [
    "### Foi seguida a seguinte informação presente no material da UC\n",
    "\n",
    "**Oblivious Transfer $\\kappa$-out-of-$n$**\n",
    "\n",
    "O protocolo de 'Oblivious Transfer' (OT) κ-out-of-n é um mecanismo criptográfico que permite a um Receiver obter exatamente κ mensagens de um conjunto de n mensagens fornecidas por um Provider, sem que o Provider saiba quais foram escolhidas.\n",
    "\n",
    "1. **Critério**\n",
    "    1. O Provider gera o critério $\\mathcal{C}_{k,n}$\n",
    "    2. O Provider envia o critério ao Receiver\n",
    "\n",
    "2. **Gerar as Chaves**\n",
    "    1. O Receiver  escolhe um conjunto $\\mathcal{I} \\subset \\{1,n\\}$ de tamanho $\\#I = \\kappa $, que identifica os índices das mensagens que pretende recolher, \n",
    "    Seja $e$ a enumeração de $I$:  a função crescente $e : \\{1,\\kappa \\} \\rightarrow \\{1,n\\}$  cuja imagem é $I$.\n",
    "        1. Gera aleatoriamente um segredo $s$ e, usando um _XOF_ com $s$ como \"seed\", constroi $\\kappa$ chaves privadas $s_1,\\dots, s_{\\kappa}$\n",
    "        2. $\\forall i \\in \\{1,\\kappa \\}$, gera chaves públicas $pk(s_i)\\rightarrow v_i$ e atribui $v_i$ à componenete de ordem $e(i)$ do vector $p$\n",
    "        3. Gera uma \"tag\" de autenticação para a seleção $I$ e o segredo $s$ $$ hash(I,s) \\rightarrow \\tau$$ \n",
    "    2. Em seguida completa a def. de $p$ atribuindo à componentes $\\{p_j\\}_{j \\notin I}$ valores tais que o vetor de chaves públicas $p$ seja aceite pelo $\\mathcal{C}_{k,n}$\n",
    "    3. Finalmente o Receiver enviar ao Provider a \"tag\" $\\tau$ e o vetor $p$\n",
    "\n",
    "3. O Provider determina $\\mathcal{C}_{k,n}(p)$; se $p$ <u>não for aceite</u> pelo critério então aborta o protocolo. Se $p$ <u>for aceite</u>, então usa o seguinte método de cifragem **$E'_p (x,\\tau)$**:\n",
    "    1. $r \\leftarrow \\{0,1\\}^\\lambda$\n",
    "    2. $y \\leftarrow x \\oplus g(r)$\n",
    "    3. $r' \\leftarrow h(r,y,\\tau)$\n",
    "    4. $c \\leftarrow f_p(r,r')$\n",
    "    5. $(y,c)$\n",
    "\n",
    "cuja característica específica é o facto de se incluir o \"tag\" $\\tau$ no \"hash\" $h(r,y,\\tau)$ usado para construir a pseudo-aleatoriedade $r'$.\n",
    "\n",
    "Usando esta cifra o Provider constrói $n$ cripotrogramas $(y_i,c_i) \\leftarrow E'_{p_i}(m_i)$ com $i \\in \\{1,n\\}$ que envia para o Receiver\n",
    "    \n",
    "4. O Receiver decifra da seguinte forma **$D'_s(y,c,\\tau)$**:\n",
    "    1. $r \\leftarrow D_s(c)$\n",
    "    2. $r' \\leftarrow h(r,y,\\tau)$\n",
    "    3. if $c != f_p(r,r')$ then $\\perp$\n",
    "    4. else $ y \\oplus g(r)$\n",
    "\n",
    "uma vez mais a única caracteristica particular deste algoritmo é o uso \"tag\" de atutenticação $\\tau$ na construção da pseudo-aleatoriedade $r'\\leftarrow h(r,y,\\tau)$\n",
    "\n",
    "5. O agente Receiver:\n",
    "    1. conhece, porque criou, a \"tag\" $\\tau$ que autentica o conjunto de mensagens escolhidas $I$ e o respetivo conjunto de chaves públicas (\"boas chaves\")\n",
    "    2. conhece, porque gerou e armazenou num passo anterior, as chaves privadas $s_i$ para todos $i \\in I$\n",
    "    3. conhece, porque recebeu do Receiver, todos os criptogramas $\\{(y_i,c_i)\\}_{i \\in \\{1,n\\}}$\n",
    "\n",
    "Então, $\\forall i \\in I$, pode recuperar a mensagem $m_i \\leftarrow D_{s_i}(y_i,c_i,\\tau)$\n",
    "\n",
    "**NOTAS** \n",
    "1. O Receiver não pode decifrar criptogramas que não \"pediu\"\n",
    "2. O Provider não sabe quais mensagens enviou visto que enviou todas\n",
    "3. É possível fazer-se uma prova de honestidade contra `verificadores desonestos`"
   ]
  },
  {
   "cell_type": "markdown",
   "id": "c817dea8",
   "metadata": {},
   "source": [
    "## Funções\n",
    "\n"
   ]
  },
  {
   "cell_type": "markdown",
   "id": "da77230c",
   "metadata": {},
   "source": [
    "1. É definido a função **func_h** deriva $r$ e $y$ e $\\tau$"
   ]
  },
  {
   "cell_type": "code",
   "execution_count": 26,
   "id": "84605f48",
   "metadata": {},
   "outputs": [],
   "source": [
    "def func_h_ot(r, y, tau, length):  \n",
    "    digest = hashes.Hash(hashes.SHA256())\n",
    "    digest.update(str(r).encode('utf-8'))\n",
    "    digest.update(str(y).encode('utf-8'))\n",
    "    digest.update(str(tau).encode('utf-8'))\n",
    "    hash_output = digest.finalize()\n",
    "    return int.from_bytes(hash_output, 'big') % (2 ^ length)"
   ]
  },
  {
   "cell_type": "markdown",
   "id": "36415129",
   "metadata": {},
   "source": [
    "1. É definido a função **func_h** deriva $I$ e $s$ dando origem à \"tag\" $\\tau$"
   ]
  },
  {
   "cell_type": "code",
   "execution_count": 27,
   "id": "ac812dfd",
   "metadata": {},
   "outputs": [],
   "source": [
    "def func_tau(I,s):\n",
    "    digest = hashes.Hash(hashes.SHA256())\n",
    "    digest.update(str(I).encode('utf-8'))\n",
    "    digest.update(s)\n",
    "    return int.from_bytes(digest.finalize(), 'big')"
   ]
  },
  {
   "cell_type": "markdown",
   "id": "f57711f8",
   "metadata": {},
   "source": [
    "1. É definido a função **gerar_chaves_OT** que retorna o `o vetor com chaves boas`, `o vetor com todas as chaves`, `tag tau` e o `grupo matematico`\n",
    "    1. obter os parametros globais do grupo para gerar chaves\n",
    "    2. gerar $\\kappa$ chaves usando a função de ElGamal\n",
    "    3. gerar \"tag\" $\\tau$\n",
    "    4. gerar o vetor $p$ com todas as keys (boas e más)"
   ]
  },
  {
   "cell_type": "code",
   "execution_count": 28,
   "id": "6b39d037",
   "metadata": {},
   "outputs": [],
   "source": [
    "def gerar_chaves_OT(n, kappa, I, lambdaa):\n",
    "    p, q, g = find_p_q_g(lambdaa)  # Parâmetros globais do grupo para gerar chaves\n",
    "    keys = []\n",
    "\n",
    "    # Gerar kappa chaves\n",
    "    for _ in range(kappa):\n",
    "        _, private_key = ElGamal_GenKeys(lambdaa)  # Gera kappa chaves\n",
    "        public_key = (p, q, g, pow(g, private_key, p))\n",
    "        keys.append((public_key, private_key)) \n",
    "    \n",
    "    # Gera \"tag\" tau\n",
    "    s = secrets.token_bytes(16)\n",
    "    tau = func_tau(I, s)\n",
    "    \n",
    "    # Gerar vetor  p\n",
    "    p_vector = [0] * n\n",
    "    for idx, i in enumerate(I):\n",
    "        p_vector[i-1] = keys[idx][0][3]  # Usa g^s das chaves \"boas\"\n",
    "    \n",
    "    # Preencher o vetor com chaves \"más\"\n",
    "    for j in range(n):\n",
    "        if p_vector[j] == 0:\n",
    "            p_vector[j] = secrets.randbelow(q)  # Placeholder para chaves \"más\"\n",
    "    \n",
    "    return keys, p_vector, tau, (p, q, g)"
   ]
  },
  {
   "cell_type": "markdown",
   "id": "fd62351e",
   "metadata": {},
   "source": [
    "1. É definido a função **ElGamal_Enc_FO_OT** que retorna o `criptograma` utilizando o metodo `Fujisaki-Okamoto (FO)`\n",
    "    1. obter elementos públicos  $\\,p,q,g,g^s \\,\\gets\\,\\mathsf{pk}$\n",
    "    2. gerar aleatoriamente  $r$ tal que $|r| = |\\lambda|$<br>\n",
    "    3. gerar $y$ tal que $y= mensagem \\oplus g(r)$\n",
    "    4. derivar $r' = h(r, y)$ incluindo a \"tag\" $\\tau$ `OT`\n",
    "    5. calcular $c=f(r,r')$\n",
    "    5. construir  o criptograma $(y,f(r,r')) = (y,c)$"
   ]
  },
  {
   "cell_type": "code",
   "execution_count": 29,
   "id": "06fd437c",
   "metadata": {},
   "outputs": [],
   "source": [
    "def ElGamal_Enc_FO_OT(public_key, message, lambdaa, tau):\n",
    "    p, q, g, gs = public_key\n",
    "    message_int = string_to_int(message, p)\n",
    "    if message_int is None:\n",
    "        return None\n",
    "    \n",
    "    r = secrets.randbits(lambdaa) % (q-1) + 1\n",
    "    gr = func_g(r, message_int.bit_length())\n",
    "    y = message_int ^ gr\n",
    "    \n",
    "    next_r = func_h_ot(r, y, tau, q)  # Inclui tau\n",
    "    gamma = pow(g, next_r, p)\n",
    "    kappa = pow(gs, next_r, p)\n",
    "    c = (gamma, (kappa * r) % p)\n",
    "    return (y, c)\n"
   ]
  },
  {
   "cell_type": "markdown",
   "id": "6ff57a53",
   "metadata": {},
   "source": [
    "1. É definido a função **ElGamal_Dec_FO_OT** que retorna a mensagem original gerada pelo decifrador em `Fujisaki-Okamoto (FO)`\n",
    "    1. obter elementos públicos  $\\,p,q,g,g^s \\,\\gets\\,\\mathsf{pk}$\n",
    "    2. obter $y,c$ a partir do criptograma\n",
    "    3. fazer o inverso da crifragem feita em **ElGamal_Enc_FO** usando também a \"tag\" $\\tau$ `OT`\n",
    "    4. verificar se a cifra é válida\n",
    "    5. se sim, retorna-la"
   ]
  },
  {
   "cell_type": "code",
   "execution_count": 30,
   "id": "019d9413",
   "metadata": {},
   "outputs": [],
   "source": [
    "def ElGamal_Dec_FO_OT(private_key, public_key, criptograma, tau):\n",
    "    p, q, g, gs = public_key\n",
    "    y, c = criptograma\n",
    "    gamma, enc_r = c\n",
    "    \n",
    "    kappa = pow(gamma, private_key, p)\n",
    "    kappa_inv = inverse_mod(kappa, p)\n",
    "    r = (enc_r * kappa_inv) % p\n",
    "    \n",
    "    gr = func_g(r, y.bit_length())\n",
    "    message_int = y ^ gr\n",
    "    \n",
    "    r_prime = func_h_ot(r, y, tau, q)  # Inclui tau\n",
    "    expected_gamma = pow(g, r_prime, p)\n",
    "    if gamma != expected_gamma:\n",
    "        return None  # Criptograma inválido\n",
    "    \n",
    "    return int_to_string(message_int)"
   ]
  },
  {
   "cell_type": "markdown",
   "id": "01004c93",
   "metadata": {},
   "source": [
    "### Correr Ex4"
   ]
  },
  {
   "cell_type": "code",
   "execution_count": 31,
   "id": "25f9c3ac",
   "metadata": {},
   "outputs": [],
   "source": [
    "def oblivious_transfer_elgamal(n, kappa, I ,messages, lambdaa):\n",
    "    print(f\"\\n==== INICIANDO OT {kappa}-out-of-{n} ====\\n\")\n",
    "    \n",
    "    # Receiver escolhe I (exemplo fixo)\n",
    "    keys, p_vector, tau, grupo_math = gerar_chaves_OT(n, kappa, I, lambdaa)\n",
    "\n",
    "    #Print\n",
    "    print(f\"Parâmetros globais (p, q, g): {grupo_math}\")\n",
    "    print(f\"Vetor p: {p_vector}\")\n",
    "    print(f\"Tag tau: {tau}\")\n",
    "    \n",
    "    # Provider cifra mensagens\n",
    "    # grupo_math = (p, q, g)\n",
    "    criptogramas = []\n",
    "    for i, m in enumerate(messages):\n",
    "        public_key_i = (grupo_math[0], grupo_math[1], grupo_math[2], p_vector[i])\n",
    "        c_i = ElGamal_Enc_FO_OT(public_key_i, m, lambdaa, tau)\n",
    "        criptogramas.append(c_i)\n",
    "    \n",
    "    # Mostrar Criptogramas\n",
    "    print(\"\\n==== CRIPTOGRAMAS ====\")\n",
    "    for idx, i in enumerate(I):\n",
    "        print(f\"Criptograma {i}: {criptogramas[idx]}\")\n",
    "    \n",
    "    # Receiver decifra\n",
    "    recovered_messages = []\n",
    "    for idx, i in enumerate(I):\n",
    "        private_key_i = keys[idx][1]\n",
    "        public_key_i = (grupo_math[0], grupo_math[1], grupo_math[2], p_vector[i-1])\n",
    "        m_i = ElGamal_Dec_FO_OT(private_key_i, public_key_i, criptogramas[i-1], tau)\n",
    "        recovered_messages.append(m_i)\n",
    "    \n",
    "    # Mostrar mensagens recuperadas e Verificar\n",
    "    print(\"\\n==== MENSAGENS RECUPERADAS ====\")\n",
    "    for idx, i in enumerate(I):\n",
    "        if recovered_messages[idx] == messages[i-1]:\n",
    "            print(f\"Mensagem {i} OK: {recovered_messages[idx]}\")\n",
    "        else:\n",
    "            print(f\"Erro na mensagem {i}.\")\n",
    "        "
   ]
  },
  {
   "cell_type": "code",
   "execution_count": 32,
   "id": "24e7e421",
   "metadata": {},
   "outputs": [
    {
     "name": "stdout",
     "output_type": "stream",
     "text": [
      "\n",
      "==== INICIANDO OT 4-out-of-7 ====\n",
      "\n",
      "Parâmetros globais (p, q, g): (265127790856487397546272288279, 132563895428243698773136144139, 17)\n",
      "Vetor p: [157961865890575542613420104822, 102469778732385666792140682439, 221184220010339473365945015234, 51022154631339141650527313846, 95488695614658916461577946431, 51581304155811971976917225272, 71562749482044250160469728063]\n",
      "Tag tau: 54426864990801696041338498754966398854502129608832792959756540287158570062011\n",
      "\n",
      "==== CRIPTOGRAMAS ====\n",
      "Criptograma 2: (1299408676, (166753763441990808491028453259, 150324547387892866101115778158))\n",
      "Criptograma 7: (1299408686, (70711369854782437862600022196, 207699576152305595604818057460))\n",
      "Criptograma 3: (1299408702, (167355220012916278093970680826, 171952339847332613194329364340))\n",
      "Criptograma 1: (1299408703, (234114017913851973474162652283, 263846739002411341775168669856))\n",
      "\n",
      "==== MENSAGENS RECUPERADAS ====\n",
      "Mensagem 2 OK: Msg2\n",
      "Mensagem 7 OK: Msg7\n",
      "Mensagem 3 OK: Msg3\n",
      "Mensagem 1 OK: Msg1\n"
     ]
    }
   ],
   "source": [
    "# Teste\n",
    "lambdaa = 100\n",
    "I = [2,7,3,1] #mensagens a serem decifradas\n",
    "messages = [\"Msg1\", \"Msg2\", \"Msg3\", \"Msg4\", \"Msg5\", \"Msg6\", \"Msg7\"] #todas as mensagens\n",
    "\n",
    "kappa = len(I)\n",
    "n = len(messages)\n",
    "oblivious_transfer_elgamal(n, kappa, I,messages, lambdaa)"
   ]
  }
 ],
 "metadata": {
  "kernelspec": {
   "display_name": "Python (SageMath)",
   "language": "python",
   "name": "sagemath"
  },
  "language_info": {
   "codemirror_mode": {
    "name": "ipython",
    "version": 3
   },
   "file_extension": ".py",
   "mimetype": "text/x-python",
   "name": "python",
   "nbconvert_exporter": "python",
   "pygments_lexer": "ipython3",
   "version": "3.11.11"
  }
 },
 "nbformat": 4,
 "nbformat_minor": 5
}
