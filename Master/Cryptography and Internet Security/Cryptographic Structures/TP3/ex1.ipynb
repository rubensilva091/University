{
 "cells": [
  {
   "cell_type": "markdown",
   "id": "06914d97",
   "metadata": {},
   "source": [
    "# Exercício 1 - Trabalho Prático 3\n",
    "\n",
    "**Grupo 6:** \n",
    "\n",
    "\n",
    "Ruben Silva - pg57900\n",
    "\n",
    "Luís Costa - pg55970"
   ]
  },
  {
   "cell_type": "markdown",
   "id": "1ae76f17",
   "metadata": {},
   "source": [
    "# Problema: \n",
    "\n",
    "\n",
    "1. Pretende-se um protótipo protocolo $\\,{N\\choose{N-1}}\\,$-OT, usando a abordagem $\\,\\mathsf{LPN}\\,$ “Learning Parity with Noise” [+Capítulo 6d:  Oblivious Linear Evaluation](https://www.dropbox.com/scl/fi/s1kd7552j0vnyrvpdzbzj/Cap-tulo-6d_-Oblivious-Linear-Evaluation.paper?rlkey=48b3owgqxhtww65gsd7aegaj0&dl=0) para mensagens de $n$ bytes (i.e. $8 \\times n$ bits) que possa ser convertido para mensagens $\\,m\\in \\mathbb{F}_p^n\\,$ (vetores de $n$ componentes no corpo finito  $\\,\\mathbb{F}_p\\,$). Para isso:\n",
    "    1. Implemente um protótipo do protocolo $\\,\\mathsf{LPN}$ $\\,{N\\choose{N-1}}$-OT  para mensagens de $\\,n\\,$ bytes (i.e. $8 \\times n$ bits). Ver [+Capítulo 6d:  Oblivious Linear Evaluation](https://www.dropbox.com/scl/fi/s1kd7552j0vnyrvpdzbzj/Cap-tulo-6d_-Oblivious-Linear-Evaluation.paper?rlkey=48b3owgqxhtww65gsd7aegaj0&dl=0).\n",
    "    2. Codificando os elementos de um corpo primo $\\;\\mathbb{F}_p\\;$ em “arrays” de “bytes” , converta a solução anterior num protocolo $\\,{N\\choose{N-1}}$-OT em que as mensagens são  vetores $\\,\\mathbb{F}_p^\\ell\\,$.\n"
   ]
  },
  {
   "cell_type": "markdown",
   "id": "b8661fde",
   "metadata": {},
   "source": [
    "### imports"
   ]
  },
  {
   "cell_type": "code",
   "execution_count": 1,
   "id": "510975e1",
   "metadata": {},
   "outputs": [],
   "source": [
    "from sage.all import GF, vector, random_vector, ZZ\n",
    "import random\n",
    "from sage import *\n"
   ]
  },
  {
   "cell_type": "markdown",
   "id": "2c23cbe9",
   "metadata": {},
   "source": [
    "### Funções auxiliares"
   ]
  },
  {
   "cell_type": "markdown",
   "id": "fd4225c5",
   "metadata": {},
   "source": [
    "### Gerador Bernoulli\n",
    "\n",
    "$\\mathcal{B}(\\epsilon) \\;\\equiv\\;\\vartheta \\,w\\gets \\{0,1\\}^n\\,\\centerdot\\,\\mathsf{if}\\,\\;\\sum_{i=1}^n\\,w_i\\,2^{-i}\\,\\leq\\, \\varepsilon\\;\\,\\mathsf{then}\\,\\;1\\;\\,\\mathsf{else}\\,\\;0$"
   ]
  },
  {
   "cell_type": "code",
   "execution_count": 2,
   "id": "768f46af",
   "metadata": {},
   "outputs": [],
   "source": [
    "def bernoulli_generator(epsilon, n=64):\n",
    "    w = [random.randint(0, 1) for _ in range(n)]\n",
    "    hat_w = sum(w[i] * (2**-(i+1)) for i in range(n))\n",
    "    return 1 if hat_w <= epsilon else 0"
   ]
  },
  {
   "cell_type": "code",
   "execution_count": 3,
   "id": "746dfda2",
   "metadata": {},
   "outputs": [],
   "source": [
    "def error(l, epsilon):\n",
    "    F2 = GF(2)\n",
    "    e = [F2(0)] * l\n",
    "    for i in range(l):\n",
    "        e[i] = bernoulli_generator(epsilon)\n",
    "    return e"
   ]
  },
  {
   "cell_type": "code",
   "execution_count": 4,
   "id": "4fe53914",
   "metadata": {},
   "outputs": [],
   "source": [
    "def gerar_sk(size):\n",
    "    F2 = GF(2)\n",
    "    return [F2(random.randint(0, 1)) for _ in range(size)]\n"
   ]
  },
  {
   "cell_type": "markdown",
   "id": "50112b94",
   "metadata": {},
   "source": [
    "## Explicação do Protocolo: \n",
    "\n",
    "`Choose`($b$):\n",
    "* Neste protocolo $b \\in [N]$ denota o índice da mensagem que vai ser excluída das transferências legítimas; o criptograma $c_b$ não pode ser decifrado corretamente pelo **receiver** porque este agente não conhece uma chave privada que o permita.\n",
    "\n",
    "* O **sender** escolhe o par ($\\alpha$,$l$) e a função XOF e envia essa informação para o receiver; esta informação determina completamente a sequência $\\{(a_i, u_i)\\}_{i=1}^l$ que passa a formar o \"obvilious criterion\"; ambos os asgentes podem construir estes elementos.\n",
    "\n",
    "1. o **receiver** gera $N$ segredos $s_k \\leftarrow \\mathcal{B}^\\lambda$, se $k \\neq b$, e $s_b \\leftarrow \\bot :$\n",
    "\n",
    "    1. $\\forall k \\in [N]$ e $\\forall i \\in [l]:$\n",
    "    $$ t_{i,k}\\;\\gets\\;\\left\\{\\begin{array}{lcl}\\vartheta\\,e_{i,k}\\gets \\mathcal{B(\\epsilon)}\\,\\centerdot\\, a_i\\cdot \\mathsf{s}_k + e_{i,k} & \\text{se} & k\\neq b \\\\ u_i - \\sum_{j\\neq b}\\,t_{i,j} &\\text{se}& k=b\\end{array}\\right.$$\n",
    "Regista esta informação na sua memória. \n",
    "    \n",
    "2. Construímos, para cada $\\,i\\in[l]\\,$ , um vetor em $\\,\\mathcal{B}^N$\n",
    "    $$\\mathsf{t}_i\\,\\equiv\\,\\{t_{i,k} \\;|\\;k\\in [N]\\}\\,$$\n",
    "    e envia-os para o **sender** como chaves públicas.\n",
    "\n",
    "3. o sender   recolhe todas os vetores de chaves públicas $\\,\\mathsf{t_i}\\,$ e verifca as igualdades: \n",
    "$$\\sum_{k\\in [N]}\\,\\mathsf{t}_{i,k}\\;=\\; u_i$$ \n",
    "Se, para algum $\\,i\\in[l]\\,$  a igualdade não se verifica então termina em falha.\n",
    "\n",
    "Se se verificar a igualdade então  regista todos os $\\,\\mathsf{t}_i\\,$ na sua memória para transferência futura."
   ]
  },
  {
   "cell_type": "code",
   "execution_count": 5,
   "id": "b7242b32",
   "metadata": {},
   "outputs": [],
   "source": [
    "def receiver_choose(N, l, lambda_, epsilon, b, a_list, u_list):\n",
    "    F2 = GF(2)\n",
    "    s = [gerar_sk(lambda_) if k != b else None for k in range(N)]\n",
    "\n",
    "    t = [[F2(0) for _ in range(N)] for _ in range(l)]\n",
    "\n",
    "    for i in range(l):\n",
    "        sum_t = F2(0)\n",
    "        for k in range(N):\n",
    "            if k != b:\n",
    "                e_ik = F2(bernoulli_generator(epsilon))\n",
    "\n",
    "                a_i = F2(0)\n",
    "                for j in range(lambda_):\n",
    "                    a_i += a_list[i][j] * s[k][j]\n",
    "                \n",
    "                t[i][k] = a_i + e_ik\n",
    "                sum_t += t[i][k]\n",
    "\n",
    "            else:\n",
    "                t[i][k] = u_list[i] - sum(t[i][j] for j in range(N) if j != b)\n",
    "        t[i][b] = u_list[i] - sum_t\n",
    "\n",
    "    return s, t"
   ]
  },
  {
   "cell_type": "code",
   "execution_count": 6,
   "id": "1c4da146",
   "metadata": {},
   "outputs": [],
   "source": [
    "def verificar_igualdade(t, u_list):\n",
    "    F2 = GF(2)\n",
    "    for i in range(len(t)):\n",
    "        t_sum = F2(sum(t[i][k] for k in range(len(t[i]))))\n",
    "        if t_sum != F2(u_list[i]):\n",
    "            print(f\"Verification failed for i={i}: {t_sum} != {u_list[i]}\")\n",
    "            return False\n",
    "    print(\"Verification successful.\")\n",
    "    return True"
   ]
  },
  {
   "cell_type": "markdown",
   "id": "65d3e7b6",
   "metadata": {},
   "source": [
    "`transfer`$(m_o,m_1,... ,m_{N-1})$\n",
    "\n",
    "1. O **sender**  conhece as mensagens $\\,m_k \\in\\mathbb{F}_2 \\,,\\,k\\in [N] \\;$ e, para cada $\\,i\\in[l]\\,$ as chaves públicas $\\,\\mathsf{t}_i$\n",
    "Para as cifrar gera aleatoriamente uma sequência de bits $\\,\\{\\,r_i \\gets \\mathcal{B}\\,\\}_\n",
    "{i=0}^l\\,$ com um peso de Hamming (número de bits $1$) limitado a uma parâmetro $\\,\\delta\\,$, e calcula:\n",
    "$$ \\,a \\gets \\sum_i\\,r_i\\,a_i\\,\\quad$$ \n",
    "$$\\quad c_k \\gets m_k + \\sum_i\\,r_i\\cdot\\mathsf{t}_{i,k}\\quad$$\n",
    "* (O criptograma é o tuplo  $\\,\\langle\\,a\\,,\\,c_0\\,,\\,\\cdots\\,,\\,c_{N-1}\\,\\rangle$  que é enviado ao **receiver**.)\n",
    "\n",
    "2. O **receiver**  conhece os segredos $\\,\\mathsf{s}_k\\,$  para todo $\\,k\\in[N]$ . Sabe que $\\,\\mathsf{s}_b = \\bot\\,$ e que para todo $\\,k\\neq b\\,$ pode calcular $\\,a\\cdot \\mathsf{s}_k\\,$. Sabe também que se verifica, para todo $\\,k\\neq b\\,$, a relação:\n",
    "$$m_k \\;=\\; c_k + (a\\cdot\\mathsf{s}_k) + \\mathsf{error}_k$$"
   ]
  },
  {
   "cell_type": "code",
   "execution_count": 7,
   "id": "b541d038",
   "metadata": {},
   "outputs": [],
   "source": [
    "def sender_transfer(m, t, a_list, l, N, delta):\n",
    "    F2 = GF(2)\n",
    "    # calcular o vetor de erro\n",
    "    r = error(l, delta)\n",
    "\n",
    "    # Calcular vetor a\n",
    "    a = vector(F2, [0] * len(a_list[0]))\n",
    "    for i in range(l):\n",
    "        a+= r[i] * a_list[i]\n",
    "\n",
    "    # Calcular vetor c\n",
    "    c = []\n",
    "    for k in range(N):\n",
    "        c_k = m[k]\n",
    "        for i in range(l):\n",
    "            if r[i] == F2(1):\n",
    "                c_k += t[i][k] * r[i]\n",
    "        c.append(c_k)\n",
    "    return a, c"
   ]
  },
  {
   "cell_type": "code",
   "execution_count": 8,
   "id": "89d4ce87",
   "metadata": {},
   "outputs": [],
   "source": [
    "def receiver_decipher(a, c, s, b, l, N, epsilon):\n",
    "    F2 = GF(2)\n",
    "    m_recovered = [None] * N\n",
    "    for k in range(N):\n",
    "        if k != b and s[k] is not None:\n",
    "            a_sk = a * vector(F2, s[k])\n",
    "            m_recovered[k] = c[k] + a_sk \n",
    "    return m_recovered"
   ]
  },
  {
   "cell_type": "markdown",
   "id": "b25b07f6",
   "metadata": {},
   "source": [
    "Procedendo como no protocolo ${2\\choose{}1}$-OT , pode-se reforçar esta probabilidade, iterando ambas as operações $\\,t\\,$ vezes; para isso cifra-se usando  vetores $\\,r_i\\in \\mathcal{B}^t\\,$. As iterações são independentes e podem ser executadas em paralelo. A sender produz $\\,t\\,$ criptogramas distintos, um por iteraçao. \n",
    "O receiver toma este conjunto de criptogramas e calcula, para cada um, um resultado:\n",
    "\n",
    "$$m_k \\gets c_k + (a\\cdot s_k)\\quad, \\forall k \\neq b$$ \n",
    "\n",
    "\n",
    "Toma-se como resultado final de $\\,m_\\kappa\\,$ , para cada $k\\neq b\\,$, o valor em maioria nas diferentes iterações; assim  obtém-se, com elevada probabilidade,  o valor da mensagem inicial.\n",
    "\n",
    "\n",
    "Finalmente para mensagens $\\,\\{m_k\\}_{k\\in[N]}\\,$ de comprimento arbitrário, tal como no caso, $\\,{2\\choose{}1}$ OT, usa-se o protocolo de mensagens binárias para cada posição nas mensagens."
   ]
  },
  {
   "cell_type": "code",
   "execution_count": 9,
   "id": "0a420132",
   "metadata": {},
   "outputs": [],
   "source": [
    "def recuperar_bits(s, b, a_list, t, m, bits_per_message, N, l, t_iterations, delta, epsilon):\n",
    "    # Armazenar as estimativas dos bits recuperados\n",
    "    results = [[[] for _ in range(bits_per_message)] for _ in range(N)]\n",
    "\n",
    "    for bit_pos in range(bits_per_message):\n",
    "\n",
    "        # Extrai o bit na posição bit_pos de cada mensagem \n",
    "        m_bit = [m[k][bit_pos] for k in range(N)]\n",
    "\n",
    "        for _ in range(t_iterations):\n",
    "\n",
    "            a, c = sender_transfer(m_bit, t, a_list, l, N, delta)\n",
    "            m_rec = receiver_decipher(a, c, s, b, l, N, epsilon)\n",
    "\n",
    "            #Itera sobre cada mensagem k para armazenar a estimativa do bit\n",
    "            for k in range(N):\n",
    "                if m_rec[k] is not None:\n",
    "                    results[k][bit_pos].append(m_rec[k])\n",
    "    return results  "
   ]
  },
  {
   "cell_type": "code",
   "execution_count": 10,
   "id": "29f19bfa",
   "metadata": {},
   "outputs": [],
   "source": [
    "def votacao(b,resultado, bits_per_message, N):\n",
    "    F2 = GF(2)\n",
    "\n",
    "    # Armazenar as estimativas dos bits recuperados\n",
    "    m_final = [[None] * bits_per_message for _ in range(N)]\n",
    "    for k in range(N):\n",
    "\n",
    "        #conforme o protocolo, sb = NULL\n",
    "        if k != b:\n",
    "            for bit_pos in range(bits_per_message):\n",
    "                # Conta o número de estimativas iguais a 1 para o bit\n",
    "                ones = sum(1 for bit in resultado[k][bit_pos] if bit == 1)\n",
    "\n",
    "                # Conta o número de estimativas iguais a 0 para o bit\n",
    "                zeros = len(resultado[k][bit_pos]) - ones\n",
    "\n",
    "                # Se o número de estimativas iguais a 1 for maior que o número de estimativas iguais a 0,\n",
    "                # define o bit recuperado como 1, caso contrário, define como 0\n",
    "                m_final[k][bit_pos] = F2(1) if ones > zeros else F2(0)\n",
    "    return m_final"
   ]
  },
  {
   "cell_type": "markdown",
   "id": "8bb642d7",
   "metadata": {},
   "source": [
    "### Ex1"
   ]
  },
  {
   "cell_type": "code",
   "execution_count": 11,
   "id": "535d4584",
   "metadata": {},
   "outputs": [],
   "source": [
    "def ex1(N, l, lambda_, epsilon, delta, b, t_iterations, n_bytes=1):\n",
    "    F2 = GF(2)\n",
    "    # Gerar \n",
    "    a_list = [random_vector(F2, lambda_) for _ in range(l)] #Parte do Oblivious Criterion\n",
    "    u_list = [F2(random.randint(0, 1)) for _ in range(l)] #Parte para verificar as chaves públicas\n",
    "    \n",
    "    # n_bytes * 8 bits (PEDIDO PELO EXERCICIO)\n",
    "    bits_per_message = n_bytes * 8\n",
    "    m = [[F2(random.randint(0, 1)) for _ in range(bits_per_message)] for _ in range(N)]\n",
    "    print(f\"Mensagem Original: {m}\")\n",
    "    \n",
    "    # Receiver's choose\n",
    "    s, t = receiver_choose(N, l, lambda_, epsilon, b, a_list, u_list)\n",
    "    \n",
    "    # Sender's verification\n",
    "    if not verificar_igualdade(t, u_list):\n",
    "        return False, None\n",
    "    \n",
    "    # Tentar recuperar os bits\n",
    "    resultado = recuperar_bits(s, b, a_list, t, m, bits_per_message, N, l, t_iterations, delta, epsilon)\n",
    "    \n",
    "    # Votação para decidir o bit\n",
    "    m_final = votacao(b, resultado, bits_per_message, N)\n",
    "    \n",
    "    print(f\"Mensagem Recuperada: {m_final}\")\n",
    "    \n",
    "    # Verificar\n",
    "    correct = True\n",
    "    for k in range(N):\n",
    "        if k != b:\n",
    "            if m_final[k] != m[k]:\n",
    "                print(f\"Error: m_{k} incorrect, expected {m[k]}, got {m_final[k]}\")\n",
    "                correct = False\n",
    "        else:\n",
    "            if m_final[k] is not None and any(bit is not None for bit in m_final[k]):\n",
    "                print(f\"Error: m_{b} should not be recovered, got {m_final[k]}\")\n",
    "                correct = False\n",
    "    \n",
    "    return correct, m_final\n",
    "\n"
   ]
  },
  {
   "cell_type": "code",
   "execution_count": 12,
   "id": "d31452a5",
   "metadata": {},
   "outputs": [
    {
     "name": "stdout",
     "output_type": "stream",
     "text": [
      "Mensagem Original: [[0, 0, 1, 0, 1, 1, 1, 1], [0, 1, 0, 0, 0, 0, 0, 1], [1, 1, 0, 0, 1, 0, 0, 1]]\n",
      "Verification successful.\n",
      "Mensagem Recuperada: [[0, 0, 1, 0, 1, 1, 1, 1], [None, None, None, None, None, None, None, None], [1, 1, 0, 0, 1, 0, 0, 1]]\n",
      "Funcionou!\n"
     ]
    }
   ],
   "source": [
    "N, l, lambda_, epsilon, delta, b, t_iterations = 3, 12, 16, 0.005, 1, 1, 1000\n",
    "correct, m_final = ex1(N, l, lambda_, epsilon, delta, b, t_iterations)\n",
    "if correct:\n",
    "    print(\"Funcionou!\")\n",
    "else:\n",
    "    print(\"Falhou\")"
   ]
  },
  {
   "cell_type": "markdown",
   "id": "f583efbe",
   "metadata": {},
   "source": [
    "### Ex2"
   ]
  },
  {
   "cell_type": "code",
   "execution_count": 13,
   "id": "b4bc15af",
   "metadata": {},
   "outputs": [],
   "source": [
    "# Funções de conversão para F_p^ell\n",
    "def bytes_to_fp_vector(bytes_msg, p, ell):\n",
    "    Fp = GF(p)\n",
    "\n",
    "    # Caso a mensagem seja menor que ell, preenche com 0 (\\x00)\n",
    "    if len(bytes_msg) < ell:\n",
    "        bytes_msg = bytes_msg.ljust(ell, b'\\x00')\n",
    "\n",
    "    # Caso a mensagem seja maior que ell, corta\n",
    "    return vector(Fp, [bytes_msg[i] % p for i in range(ell)])\n",
    "\n",
    "def fp_vector_to_bytes(vector, p):\n",
    "\n",
    "    # Converte o vetor em uma sequência de bytes\n",
    "    #este valor pode ser reajustado em numeros de base 2\n",
    "    return bytes([int(x) % 256 for x in vector])"
   ]
  },
  {
   "cell_type": "code",
   "execution_count": 14,
   "id": "9c05b628",
   "metadata": {},
   "outputs": [],
   "source": [
    "def ex2(N, l, lambda_, epsilon, delta, b, t_iterations, p, ell):\n",
    "    F2 = GF(2)\n",
    "    Fp = GF(p)\n",
    "    a_list = [random_vector(F2, lambda_) for _ in range(l)]\n",
    "    u_list = [F2(random.randint(0, 1)) for _ in range(l)]\n",
    "    \n",
    "    # Gerar mensagens em F_p^ell\n",
    "    m_fp = [vector(Fp, [Fp(random.randint(0, p-1)) for _ in range(ell)]) for _ in range(N)]\n",
    "    print(f\"Mensagem Original (F_p): {m_fp}\")\n",
    "    \n",
    "    # Converter para bytes para protocolo binário\n",
    "    m_bytes = [fp_vector_to_bytes(m_k, p) for m_k in m_fp]\n",
    "    bits_per_message = ell * 8\n",
    "    m = [[F2((m_bytes[k][i // 8] >> (7 - (i % 8))) & 1) for i in range(bits_per_message)] for k in range(N)]\n",
    "    \n",
    "    # Receiver's choose\n",
    "    s, t = receiver_choose(N, l, lambda_, epsilon, b, a_list, u_list)\n",
    "    \n",
    "    # Sender's verification\n",
    "    if not verificar_igualdade(t, u_list):\n",
    "        return False, None\n",
    "    \n",
    "    # Recuperar bits\n",
    "    resultado = recuperar_bits(s, b, a_list, t, m, bits_per_message, N, l, t_iterations, delta, epsilon)\n",
    "    \n",
    "    # Votação\n",
    "    m_final = votacao(b, resultado, bits_per_message, N)\n",
    "    \n",
    "    # Converter bits recuperados para F_p^ell\n",
    "    m_final_fp = [None] * N\n",
    "    for k in range(N):\n",
    "        if k != b and m_final[k] is not None:\n",
    "            bytes_rec = bytearray(ell)\n",
    "            for i in range(bits_per_message):\n",
    "                if m_final[k][i] is not None:\n",
    "                    byte_idx = i // 8\n",
    "                    bit_idx = 7 - (i % 8)\n",
    "                    bytes_rec[byte_idx] |= (int(m_final[k][i]) << bit_idx)\n",
    "            m_final_fp[k] = bytes_to_fp_vector(bytes_rec, p, ell)\n",
    "    \n",
    "    print(f\"Mensagem Recuperada (F_p): {m_final_fp}\")\n",
    "    \n",
    "    # Verificar\n",
    "    correct = True\n",
    "    for k in range(N):\n",
    "        if k != b:\n",
    "            if m_final_fp[k] != m_fp[k]:\n",
    "                print(f\"Error: m_{k} incorrect, expected {m_fp[k]}, got {m_final_fp[k]}\")\n",
    "                correct = False\n",
    "        else:\n",
    "            if m_final_fp[k] is not None:\n",
    "                print(f\"Error: m_{b} should not be recovered, got {m_final_fp[k]}\")\n",
    "                correct = False\n",
    "    \n",
    "    return correct, m_final_fp\n"
   ]
  },
  {
   "cell_type": "code",
   "execution_count": 15,
   "id": "e50cd37a",
   "metadata": {},
   "outputs": [
    {
     "name": "stdout",
     "output_type": "stream",
     "text": [
      "Mensagem Original (F_p): [(244, 236, 244, 189), (85, 116, 204, 204), (14, 104, 192, 220)]\n",
      "Verification successful.\n",
      "Mensagem Recuperada (F_p): [(244, 236, 244, 189), None, (14, 104, 192, 220)]\n",
      "Funcionou!\n"
     ]
    }
   ],
   "source": [
    "p, ell = 257, 4\n",
    "N, l, lambda_, epsilon, delta, b, t_iterations = 3, 12, 16, 0.005, 1, 1, 1000\n",
    "correct, m_final = ex2(N, l, lambda_, epsilon, delta, b, t_iterations, p, ell)\n",
    "if correct:\n",
    "    print(\"Funcionou!\")\n",
    "else:\n",
    "    print(\"Falhou\")"
   ]
  }
 ],
 "metadata": {
  "kernelspec": {
   "display_name": "Python (SageMath)",
   "language": "python",
   "name": "sagemath"
  },
  "language_info": {
   "codemirror_mode": {
    "name": "ipython",
    "version": 3
   },
   "file_extension": ".py",
   "mimetype": "text/x-python",
   "name": "python",
   "nbconvert_exporter": "python",
   "pygments_lexer": "ipython3",
   "version": "3.11.11"
  }
 },
 "nbformat": 4,
 "nbformat_minor": 5
}
