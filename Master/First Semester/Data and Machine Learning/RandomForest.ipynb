{
 "cells": [
  {
   "cell_type": "markdown",
   "metadata": {},
   "source": [
    "## **Random Forest**"
   ]
  },
  {
   "cell_type": "code",
   "execution_count": 1,
   "metadata": {},
   "outputs": [],
   "source": [
    "import pandas as pd\n",
    "import numpy as np\n",
    "import seaborn as sns\n",
    "import matplotlib.pyplot as plt\n",
    "from sklearn.ensemble import RandomForestClassifier\n",
    "from sklearn.metrics import f1_score\n",
    "from sklearn.model_selection import cross_validate, StratifiedKFold, GridSearchCV"
   ]
  },
  {
   "cell_type": "code",
   "execution_count": 2,
   "metadata": {},
   "outputs": [],
   "source": [
    "#data_train = pd.read_csv('train_radiomics_hipocamp_mod.csv')\n",
    "#data_test = pd.read_csv('test_radiomics_hipocamp_mod.csv')\n",
    "\n",
    "#data_train = pd.read_csv('train_important_features.csv')\n",
    "#data_test = pd.read_csv('test_important_features.csv')\n",
    "\n",
    "data_train = pd.read_csv('train_important_features_correlated.csv')\n",
    "data_test = pd.read_csv('test_important_features_correlated.csv')"
   ]
  },
  {
   "cell_type": "code",
   "execution_count": 3,
   "metadata": {},
   "outputs": [],
   "source": [
    "# Dividir entre features e target\n",
    "X = data_train.drop('Transition', axis=1)\n",
    "y = data_train['Transition']"
   ]
  },
  {
   "cell_type": "code",
   "execution_count": 4,
   "metadata": {},
   "outputs": [],
   "source": [
    "# Definir o modelo\n",
    "rf = RandomForestClassifier(class_weight='balanced', random_state=2024)"
   ]
  },
  {
   "cell_type": "markdown",
   "metadata": {},
   "source": [
    "## Stratified K Fold Cross Validation ##"
   ]
  },
  {
   "cell_type": "code",
   "execution_count": 5,
   "metadata": {},
   "outputs": [
    {
     "name": "stdout",
     "output_type": "stream",
     "text": [
      "F1 Macro Scores: [0.30311435 0.28616142 0.25871937 0.29777778 0.34123188]\n",
      "Média do F1 Macro: 0.2974\n",
      "Desvio Padrão do F1 Macro: 0.0267\n"
     ]
    }
   ],
   "source": [
    "# Definir StratifiedKFold\n",
    "stratified_kfold = StratifiedKFold(n_splits=5, shuffle=True, random_state=2024)\n",
    "\n",
    "# Cross Validation\n",
    "scores = cross_validate(rf, X, y, cv=stratified_kfold, scoring='f1_macro')\n",
    "\n",
    "# Fit do modelo\n",
    "rf.fit(X, y)\n",
    "\n",
    "# Acede apenas aos valores do F1-Score Macro\n",
    "f1_macro_scores = scores['test_score']\n",
    "print(\"F1 Macro Scores:\", f1_macro_scores)\n",
    "\n",
    "# Média e desvio padrão do F1 Macro\n",
    "f1_macro_mean = f1_macro_scores.mean()\n",
    "f1_macro_std = f1_macro_scores.std()\n",
    "print(f\"Média do F1 Macro: {f1_macro_mean:.4f}\")\n",
    "print(f\"Desvio Padrão do F1 Macro: {f1_macro_std:.4f}\")"
   ]
  },
  {
   "cell_type": "code",
   "execution_count": null,
   "metadata": {},
   "outputs": [],
   "source": [
    "# Prever valores para o dataset de teste\n",
    "predictions = rf.predict(data_test)"
   ]
  },
  {
   "cell_type": "code",
   "execution_count": 5,
   "metadata": {},
   "outputs": [
    {
     "name": "stdout",
     "output_type": "stream",
     "text": [
      "Melhores parâmetros: {'max_depth': 5, 'max_features': 0.2, 'max_leaf_nodes': None, 'min_samples_leaf': 20, 'n_estimators': 200}\n",
      "Melhor F1-Score (média): 0.3777\n",
      "Desvio padrão do F1-Score: 0.0721\n"
     ]
    }
   ],
   "source": [
    "# Stratified K-Fold\n",
    "stratified_kfold = StratifiedKFold(n_splits=5, shuffle=True, random_state=2024)\n",
    "\n",
    "# Hiperparâmetros para o GridSearch\n",
    "param_grid = { \n",
    "    'n_estimators': [100, 200, 300], \n",
    "    'max_features': ['sqrt', 0.2, 0.3], \n",
    "    'max_depth': [5, 10, 12], \n",
    "    'max_leaf_nodes': [50, 100, None], \n",
    "    'min_samples_leaf': [5, 10, 20], \n",
    "}\n",
    "\n",
    "# GridSearch com StratifiedKFold\n",
    "grid_search = GridSearchCV(estimator=rf, param_grid=param_grid, cv=stratified_kfold, scoring='f1_macro', n_jobs=-1)\n",
    "\n",
    "# Fit do modelo\n",
    "grid_search.fit(X, y)\n",
    "\n",
    "# Melhor combinação de hiperparâmetros\n",
    "print(\"Melhores parâmetros:\", grid_search.best_params_)\n",
    "\n",
    "# Índice dos melhores parâmetros\n",
    "best_index = grid_search.best_index_\n",
    "\n",
    "# Melhor média e desvio padrão do F1-Score\n",
    "best_mean_f1 = grid_search.cv_results_['mean_test_score'][best_index]\n",
    "best_std_f1 = grid_search.cv_results_['std_test_score'][best_index]\n",
    "print(f\"Melhor F1-Score (média): {best_mean_f1:.4f}\")\n",
    "print(f\"Desvio padrão do F1-Score: {best_std_f1:.4f}\")\n"
   ]
  },
  {
   "cell_type": "code",
   "execution_count": 6,
   "metadata": {},
   "outputs": [],
   "source": [
    "# Prever valores para o dataset de teste\n",
    "predictions = grid_search.best_estimator_.predict(data_test)"
   ]
  },
  {
   "cell_type": "code",
   "execution_count": 6,
   "metadata": {},
   "outputs": [
    {
     "data": {
      "text/html": [
       "<div>\n",
       "<style scoped>\n",
       "    .dataframe tbody tr th:only-of-type {\n",
       "        vertical-align: middle;\n",
       "    }\n",
       "\n",
       "    .dataframe tbody tr th {\n",
       "        vertical-align: top;\n",
       "    }\n",
       "\n",
       "    .dataframe thead th {\n",
       "        text-align: right;\n",
       "    }\n",
       "</style>\n",
       "<table border=\"1\" class=\"dataframe\">\n",
       "  <thead>\n",
       "    <tr style=\"text-align: right;\">\n",
       "      <th></th>\n",
       "      <th>Feature</th>\n",
       "      <th>Importance</th>\n",
       "    </tr>\n",
       "  </thead>\n",
       "  <tbody>\n",
       "    <tr>\n",
       "      <th>191</th>\n",
       "      <td>wavelet-LLH_glszm_SizeZoneNonUniformityNormalized</td>\n",
       "      <td>0.018075</td>\n",
       "    </tr>\n",
       "    <tr>\n",
       "      <th>192</th>\n",
       "      <td>wavelet-LLH_glszm_SmallAreaEmphasis</td>\n",
       "      <td>0.016668</td>\n",
       "    </tr>\n",
       "    <tr>\n",
       "      <th>1861</th>\n",
       "      <td>lbp-3D-m1_glrlm_ShortRunEmphasis</td>\n",
       "      <td>0.011822</td>\n",
       "    </tr>\n",
       "    <tr>\n",
       "      <th>951</th>\n",
       "      <td>log-sigma-2-0-mm-3D_firstorder_InterquartileRange</td>\n",
       "      <td>0.011612</td>\n",
       "    </tr>\n",
       "    <tr>\n",
       "      <th>830</th>\n",
       "      <td>wavelet-LLL_glrlm_ShortRunEmphasis</td>\n",
       "      <td>0.011541</td>\n",
       "    </tr>\n",
       "    <tr>\n",
       "      <th>...</th>\n",
       "      <td>...</td>\n",
       "      <td>...</td>\n",
       "    </tr>\n",
       "    <tr>\n",
       "      <th>973</th>\n",
       "      <td>log-sigma-2-0-mm-3D_glcm_DifferenceVariance</td>\n",
       "      <td>0.000000</td>\n",
       "    </tr>\n",
       "    <tr>\n",
       "      <th>972</th>\n",
       "      <td>log-sigma-2-0-mm-3D_glcm_DifferenceEntropy</td>\n",
       "      <td>0.000000</td>\n",
       "    </tr>\n",
       "    <tr>\n",
       "      <th>971</th>\n",
       "      <td>log-sigma-2-0-mm-3D_glcm_DifferenceAverage</td>\n",
       "      <td>0.000000</td>\n",
       "    </tr>\n",
       "    <tr>\n",
       "      <th>969</th>\n",
       "      <td>log-sigma-2-0-mm-3D_glcm_Contrast</td>\n",
       "      <td>0.000000</td>\n",
       "    </tr>\n",
       "    <tr>\n",
       "      <th>1006</th>\n",
       "      <td>log-sigma-2-0-mm-3D_glrlm_HighGrayLevelRunEmph...</td>\n",
       "      <td>0.000000</td>\n",
       "    </tr>\n",
       "  </tbody>\n",
       "</table>\n",
       "<p>2013 rows × 2 columns</p>\n",
       "</div>"
      ],
      "text/plain": [
       "                                                Feature  Importance\n",
       "191   wavelet-LLH_glszm_SizeZoneNonUniformityNormalized    0.018075\n",
       "192                 wavelet-LLH_glszm_SmallAreaEmphasis    0.016668\n",
       "1861                   lbp-3D-m1_glrlm_ShortRunEmphasis    0.011822\n",
       "951   log-sigma-2-0-mm-3D_firstorder_InterquartileRange    0.011612\n",
       "830                  wavelet-LLL_glrlm_ShortRunEmphasis    0.011541\n",
       "...                                                 ...         ...\n",
       "973         log-sigma-2-0-mm-3D_glcm_DifferenceVariance    0.000000\n",
       "972          log-sigma-2-0-mm-3D_glcm_DifferenceEntropy    0.000000\n",
       "971          log-sigma-2-0-mm-3D_glcm_DifferenceAverage    0.000000\n",
       "969                   log-sigma-2-0-mm-3D_glcm_Contrast    0.000000\n",
       "1006  log-sigma-2-0-mm-3D_glrlm_HighGrayLevelRunEmph...    0.000000\n",
       "\n",
       "[2013 rows x 2 columns]"
      ]
     },
     "execution_count": 6,
     "metadata": {},
     "output_type": "execute_result"
    }
   ],
   "source": [
    "# Obter a importância das features\n",
    "feature_importances = grid_search.best_estimator_.feature_importances_\n",
    "\n",
    "# Organizar as importâncias em um DataFrame\n",
    "feature_importances_df = pd.DataFrame({\n",
    "    'Feature': X.columns,\n",
    "    'Importance': feature_importances\n",
    "}).sort_values(by='Importance', ascending=False)\n",
    "\n",
    "feature_importances_df"
   ]
  },
  {
   "cell_type": "code",
   "execution_count": 7,
   "metadata": {},
   "outputs": [],
   "source": [
    "# Salvar as features e a suas importâncias num arquivo csv\n",
    "feature_importances_df.to_csv(\"feature_importances.csv\", index=False)"
   ]
  },
  {
   "cell_type": "code",
   "execution_count": 8,
   "metadata": {},
   "outputs": [
    {
     "data": {
      "text/plain": [
       "1531                    logarithm_glcm_DifferenceVariance\n",
       "1935                         lbp-3D-k_firstorder_Variance\n",
       "1445                      squareroot_glcm_InverseVariance\n",
       "1932                         lbp-3D-k_firstorder_Skewness\n",
       "1447                          squareroot_glcm_JointEnergy\n",
       "                              ...                        \n",
       "973           log-sigma-2-0-mm-3D_glcm_DifferenceVariance\n",
       "972            log-sigma-2-0-mm-3D_glcm_DifferenceEntropy\n",
       "971            log-sigma-2-0-mm-3D_glcm_DifferenceAverage\n",
       "969                     log-sigma-2-0-mm-3D_glcm_Contrast\n",
       "1006    log-sigma-2-0-mm-3D_glrlm_HighGrayLevelRunEmph...\n",
       "Name: Feature, Length: 880, dtype: object"
      ]
     },
     "execution_count": 8,
     "metadata": {},
     "output_type": "execute_result"
    }
   ],
   "source": [
    "# Selecionar as features com importância igual a 0\n",
    "selected_features = feature_importances_df[feature_importances_df['Importance'] == 0]['Feature']\n",
    "selected_features"
   ]
  },
  {
   "cell_type": "code",
   "execution_count": 9,
   "metadata": {},
   "outputs": [],
   "source": [
    "# Remover as features com importância igual a 0\n",
    "train_important_features = data_train.drop(selected_features, axis=1)\n",
    "test_important_features = data_test.drop(selected_features, axis=1)"
   ]
  },
  {
   "cell_type": "code",
   "execution_count": 11,
   "metadata": {},
   "outputs": [
    {
     "data": {
      "image/png": "[encoded data removed]",
      "text/plain": [
       "<Figure size 800x600 with 1 Axes>"
      ]
     },
     "metadata": {},
     "output_type": "display_data"
    }
   ],
   "source": [
    "# Criar o boxplot\n",
    "plt.figure(figsize=(8, 6))\n",
    "sns.boxplot(x='Transition', y='Age', data=data_train)\n",
    "plt.title('Distribuição da Idade por Categoria de Transition')\n",
    "plt.xlabel('Transition')\n",
    "plt.ylabel('Idade')\n",
    "plt.xticks(rotation=45)\n",
    "plt.show()"
   ]
  },
  {
   "cell_type": "code",
   "execution_count": 12,
   "metadata": {},
   "outputs": [
    {
     "data": {
      "image/png": "[encoded data removed]",
      "text/plain": [
       "<Figure size 800x600 with 1 Axes>"
      ]
     },
     "metadata": {},
     "output_type": "display_data"
    }
   ],
   "source": [
    "plt.figure(figsize=(8, 6))\n",
    "plt.hist(data_train['Age'], bins=20, color='skyblue', edgecolor='black')\n",
    "plt.title('Distribuição da Idade')\n",
    "plt.xlabel('Idade')\n",
    "plt.ylabel('Frequência')\n",
    "plt.show()"
   ]
  },
  {
   "cell_type": "code",
   "execution_count": 10,
   "metadata": {},
   "outputs": [],
   "source": [
    "# Salvar os datasets com as features importantes\n",
    "train_important_features.to_csv(\"train_important_features.csv\", index=False)\n",
    "test_important_features.to_csv(\"test_important_features.csv\", index=False)"
   ]
  },
  {
   "cell_type": "code",
   "execution_count": 11,
   "metadata": {},
   "outputs": [
    {
     "ename": "NameError",
     "evalue": "name 'predictions' is not defined",
     "output_type": "error",
     "traceback": [
      "\u001b[0;31m---------------------------------------------------------------------------\u001b[0m",
      "\u001b[0;31mNameError\u001b[0m                                 Traceback (most recent call last)",
      "Cell \u001b[0;32mIn[11], line 2\u001b[0m\n\u001b[1;32m      1\u001b[0m \u001b[38;5;66;03m# Salvar as previsões num ficheiro csv\u001b[39;00m\n\u001b[0;32m----> 2\u001b[0m output \u001b[38;5;241m=\u001b[39m pd\u001b[38;5;241m.\u001b[39mDataFrame({\u001b[38;5;124m'\u001b[39m\u001b[38;5;124mRowId\u001b[39m\u001b[38;5;124m'\u001b[39m: data_test\u001b[38;5;241m.\u001b[39mindex \u001b[38;5;241m+\u001b[39m \u001b[38;5;241m1\u001b[39m, \u001b[38;5;124m'\u001b[39m\u001b[38;5;124mResult\u001b[39m\u001b[38;5;124m'\u001b[39m: predictions})\n\u001b[1;32m      3\u001b[0m output\u001b[38;5;241m.\u001b[39mto_csv(\u001b[38;5;124m'\u001b[39m\u001b[38;5;124mSubs/rf_test_predictions.csv\u001b[39m\u001b[38;5;124m'\u001b[39m, index\u001b[38;5;241m=\u001b[39m\u001b[38;5;28;01mFalse\u001b[39;00m)\n",
      "\u001b[0;31mNameError\u001b[0m: name 'predictions' is not defined"
     ]
    }
   ],
   "source": [
    "# Salvar as previsões num ficheiro csv\n",
    "output = pd.DataFrame({'RowId': data_test.index + 1, 'Result': predictions})\n",
    "output.to_csv('Subs/rf_test_predictions.csv', index=False)"
   ]
  }
 ],
 "metadata": {
  "kernelspec": {
   "display_name": "DAA",
   "language": "python",
   "name": "python3"
  },
  "language_info": {
   "codemirror_mode": {
    "name": "ipython",
    "version": 3
   },
   "file_extension": ".py",
   "mimetype": "text/x-python",
   "name": "python",
   "nbconvert_exporter": "python",
   "pygments_lexer": "ipython3",
   "version": "3.12.4"
  }
 },
 "nbformat": 4,
 "nbformat_minor": 2
}
