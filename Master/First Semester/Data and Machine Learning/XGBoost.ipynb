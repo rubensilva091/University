{
 "cells": [
  {
   "cell_type": "markdown",
   "metadata": {},
   "source": [
    "## **XGBoost**"
   ]
  },
  {
   "cell_type": "code",
   "execution_count": 1,
   "metadata": {},
   "outputs": [],
   "source": [
    "import pandas as pd\n",
    "from sklearn.preprocessing import LabelEncoder, StandardScaler\n",
    "from xgboost import XGBClassifier\n",
    "from sklearn.metrics import f1_score\n",
    "from sklearn.model_selection import cross_validate, StratifiedKFold"
   ]
  },
  {
   "cell_type": "code",
   "execution_count": 2,
   "metadata": {},
   "outputs": [],
   "source": [
    "data_train = pd.read_csv('train_radiomics_hipocamp_mod.csv')\n",
    "data_test = pd.read_csv('test_radiomics_hipocamp_mod.csv')\n",
    "data_control = pd.read_csv('train_radiomics_occipital_CONTROL_mod.csv')"
   ]
  },
  {
   "cell_type": "code",
   "execution_count": 3,
   "metadata": {},
   "outputs": [],
   "source": [
    "# Dividir entre features e target\n",
    "X = data_train.drop('Transition', axis=1)\n",
    "y = data_train['Transition']\n",
    "\n",
    "X_control = data_control.drop('Transition', axis=1)\n",
    "y_control = data_control['Transition']"
   ]
  },
  {
   "cell_type": "code",
   "execution_count": 4,
   "metadata": {},
   "outputs": [],
   "source": [
    "# Escalonar as features para média 0 e desvio padrão 1\n",
    "scaler = StandardScaler()\n",
    "\n",
    "X_scaled = scaler.fit_transform(X)\n",
    "data_test_scaled = scaler.transform(data_test)\n",
    "\n",
    "X_scaled_control = scaler.fit_transform(X_control)"
   ]
  },
  {
   "cell_type": "code",
   "execution_count": 5,
   "metadata": {},
   "outputs": [],
   "source": [
    "# Codificar a target feature com LabelEncoder\n",
    "le = LabelEncoder()\n",
    "y_encoded = le.fit_transform(y)\n",
    "\n",
    "y_encoded_control = le.transform(y_control)"
   ]
  },
  {
   "cell_type": "code",
   "execution_count": 6,
   "metadata": {},
   "outputs": [
    {
     "name": "stdout",
     "output_type": "stream",
     "text": [
      "F1 Macro Scores: [0.2641628  0.24462254 0.35477716 0.26022792 0.31411594]\n",
      "Média do F1 Macro: 0.2876\n",
      "Desvio Padrão do F1 Macro: 0.0409\n"
     ]
    }
   ],
   "source": [
    "# Definir o modelo\n",
    "xgb = XGBClassifier(booster='gbtree', num_class=5, eval_metric='mlogloss', random_state=2024)\n",
    "\n",
    "# Definir o StratifiedKFold\n",
    "stratified_kfold = StratifiedKFold(n_splits=5, shuffle=True, random_state=2024)\n",
    "\n",
    "# Cross Validation\n",
    "scores = cross_validate(xgb, X_scaled, y_encoded, cv=stratified_kfold, scoring='f1_macro')\n",
    "\n",
    "# Fit do modelo\n",
    "xgb.fit(X_scaled, y_encoded)\n",
    "\n",
    "# Acede apenas aos valores do F1-Score Macro\n",
    "f1_macro_scores = scores['test_score']\n",
    "print(\"F1 Macro Scores:\", f1_macro_scores)\n",
    "\n",
    "# Média e desvio padrão do F1 Macro\n",
    "f1_macro_mean = f1_macro_scores.mean()\n",
    "f1_macro_std = f1_macro_scores.std()\n",
    "print(f\"Média do F1 Macro: {f1_macro_mean:.4f}\")\n",
    "print(f\"Desvio Padrão do F1 Macro: {f1_macro_std:.4f}\")"
   ]
  },
  {
   "cell_type": "code",
   "execution_count": 7,
   "metadata": {},
   "outputs": [],
   "source": [
    "# Prever os valores para o dataset de teste\n",
    "predictions = xgb.predict(data_test)\n",
    "\n",
    "# Descodifica os rótulos de volta para as categorias originais\n",
    "predictions_decoded = le.inverse_transform(predictions)"
   ]
  },
  {
   "cell_type": "code",
   "execution_count": 8,
   "metadata": {},
   "outputs": [],
   "source": [
    "# Salvar as previsões num ficheiro csv\n",
    "output = pd.DataFrame({'RowId': data_test.index + 1, 'Result': predictions})\n",
    "output.to_csv('Subs/xgb_test_predictions.csv', index=False)"
   ]
  }
 ],
 "metadata": {
  "kernelspec": {
   "display_name": "DAA",
   "language": "python",
   "name": "python3"
  },
  "language_info": {
   "codemirror_mode": {
    "name": "ipython",
    "version": 3
   },
   "file_extension": ".py",
   "mimetype": "text/x-python",
   "name": "python",
   "nbconvert_exporter": "python",
   "pygments_lexer": "ipython3",
   "version": "3.12.4"
  }
 },
 "nbformat": 4,
 "nbformat_minor": 2
}
