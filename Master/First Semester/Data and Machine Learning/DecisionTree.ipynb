{
 "cells": [
  {
   "cell_type": "markdown",
   "metadata": {},
   "source": [
    "## **Decision Tree Classifier**"
   ]
  },
  {
   "cell_type": "code",
   "execution_count": 1,
   "metadata": {},
   "outputs": [],
   "source": [
    "import pandas as pd\n",
    "import numpy as np\n",
    "import matplotlib.pyplot as plt\n",
    "from sklearn.tree import DecisionTreeClassifier\n",
    "from sklearn.metrics import f1_score\n",
    "from sklearn.model_selection import train_test_split, cross_validate, StratifiedKFold"
   ]
  },
  {
   "cell_type": "code",
   "execution_count": 2,
   "metadata": {},
   "outputs": [],
   "source": [
    "data_train = pd.read_csv('train_radiomics_hipocamp_mod.csv')\n",
    "data_test = pd.read_csv('test_radiomics_hipocamp_mod.csv')\n",
    "data_control = pd.read_csv('train_radiomics_occipital_CONTROL_mod.csv')"
   ]
  },
  {
   "cell_type": "code",
   "execution_count": 3,
   "metadata": {},
   "outputs": [],
   "source": [
    "# Dividir entre features e target\n",
    "X = data_train.drop('Transition', axis=1)\n",
    "y = data_train['Transition']\n",
    "\n",
    "X_control = data_control.drop('Transition', axis=1)\n",
    "y_control = data_control['Transition']"
   ]
  },
  {
   "cell_type": "code",
   "execution_count": 4,
   "metadata": {},
   "outputs": [],
   "source": [
    "# Definir o modelo\n",
    "clf = DecisionTreeClassifier(random_state=2024)"
   ]
  },
  {
   "cell_type": "markdown",
   "metadata": {},
   "source": [
    "## Hold-Out Validation ##"
   ]
  },
  {
   "cell_type": "code",
   "execution_count": 5,
   "metadata": {},
   "outputs": [
    {
     "name": "stdout",
     "output_type": "stream",
     "text": [
      "F1-Score (macro): 0.22317266067266067\n"
     ]
    }
   ],
   "source": [
    "# Dividir a data em  conjunto de treino e teste\n",
    "X_train, X_test, y_train, y_test = train_test_split(X_control, y_control, test_size=0.2, random_state=2024, stratify=y)\n",
    "\n",
    "# Fit do modelo no conjunto de treino\n",
    "clf.fit(X_train, y_train)\n",
    "\n",
    "# Avalia o modelo no conjunto de teste\n",
    "y_pred = clf.predict(X_test)\n",
    "\n",
    "# Resultado do F1-Score (Macro)\n",
    "f1_macro = f1_score(y_test, y_pred, average='macro')\n",
    "print(\"F1-Score (macro):\", f1_macro)"
   ]
  },
  {
   "cell_type": "code",
   "execution_count": 5,
   "metadata": {},
   "outputs": [
    {
     "name": "stdout",
     "output_type": "stream",
     "text": [
      "F1-Score (macro): 0.31374613003095975\n"
     ]
    }
   ],
   "source": [
    "# Dividir a data em  conjunto de treino e teste\n",
    "X_train, X_test, y_train, y_test = train_test_split(X, y, test_size=0.2, random_state=2024, stratify=y)\n",
    "\n",
    "# Fit do modelo no conjunto de treino\n",
    "clf.fit(X_train, y_train)\n",
    "\n",
    "# Avalia o modelo no conjunto de teste\n",
    "y_pred = clf.predict(X_test)\n",
    "\n",
    "# Resultado do F1-Score (Macro)\n",
    "f1_macro = f1_score(y_test, y_pred, average='macro')\n",
    "print(\"F1-Score (macro):\", f1_macro)"
   ]
  },
  {
   "cell_type": "markdown",
   "metadata": {},
   "source": [
    "## Stratified K Fold Cross Validation ##"
   ]
  },
  {
   "cell_type": "code",
   "execution_count": 5,
   "metadata": {},
   "outputs": [
    {
     "name": "stdout",
     "output_type": "stream",
     "text": [
      "F1 Macro Scores: [0.30179724 0.26426317 0.21182807 0.27723315 0.23785425]\n",
      "Média do F1 Macro: 0.2586\n",
      "Desvio Padrão do F1 Macro: 0.0312\n"
     ]
    }
   ],
   "source": [
    "# Definir Stratified K-Fold\n",
    "stratified_kfold = StratifiedKFold(n_splits=5, shuffle=True, random_state=2024)\n",
    "\n",
    "# Cross Validation\n",
    "scores = cross_validate(clf, X, y, cv=stratified_kfold, scoring='f1_macro')\n",
    "\n",
    "# Fit do modelo\n",
    "clf.fit(X, y)\n",
    "\n",
    "# Acede apenas aos valores do F1-Score Macro\n",
    "f1_macro_scores = scores['test_score']\n",
    "print(\"F1 Macro Scores:\", f1_macro_scores)\n",
    "\n",
    "# Média e desvio padrão do F1 Macro\n",
    "f1_macro_mean = f1_macro_scores.mean()\n",
    "f1_macro_std = f1_macro_scores.std()\n",
    "print(f\"Média do F1 Macro: {f1_macro_mean:.4f}\")\n",
    "print(f\"Desvio Padrão do F1 Macro: {f1_macro_std:.4f}\")"
   ]
  },
  {
   "cell_type": "code",
   "execution_count": 6,
   "metadata": {},
   "outputs": [],
   "source": [
    "# Prever os valores para o dataset de teste\n",
    "predictions = clf.predict(data_test)"
   ]
  },
  {
   "cell_type": "code",
   "execution_count": 7,
   "metadata": {},
   "outputs": [],
   "source": [
    "# Salvar as previsões num ficheiro csv\n",
    "output = pd.DataFrame({'RowId': data_test.index + 1, 'Result': predictions})\n",
    "output.to_csv('Subs/clf_test_predictions.csv', index=False)"
   ]
  }
 ],
 "metadata": {
  "kernelspec": {
   "display_name": "DAA",
   "language": "python",
   "name": "python3"
  },
  "language_info": {
   "codemirror_mode": {
    "name": "ipython",
    "version": 3
   },
   "file_extension": ".py",
   "mimetype": "text/x-python",
   "name": "python",
   "nbconvert_exporter": "python",
   "pygments_lexer": "ipython3",
   "version": "3.12.4"
  }
 },
 "nbformat": 4,
 "nbformat_minor": 2
}
