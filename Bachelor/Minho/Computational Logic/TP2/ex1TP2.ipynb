{
 "cells": [
  {
   "cell_type": "markdown",
   "metadata": {},
   "source": [
    "# Exercício 1 (Control Flow Automaton) - Trabalho Prático 2\n",
    "\n",
    "**Grupo 4:**<br>Carlos  Costa-A94543<br>Ruben Silva-A9463"
   ]
  },
  {
   "cell_type": "markdown",
   "metadata": {},
   "source": [
    "# Problema: \n",
    "\n",
    "1. Um  programa imperativo pode ser descrito por um modelo do tipo Control Flow Automaton (CFA) como ilustrado no exemplo seguinte: (Não existe imagem)<br>\n",
    "Este programa implementa a multiplicação de dois inteiros $\\,a,b\\,$ , fornecidos como “input”,    e com precisão limitada a $\\,n\\,$ bits (fornecido como parâmetro do programa). <br>Note-se que: \n",
    "\n",
    "    - Existe a possibilidade de alguma das operações do programa produzir um erro de “overflow”. \n",
    "    - Os nós do grafo representam ações  que actuam sobre os “inputs” do nó e produzem um “output” com as operações indicadas\n",
    "    - Os ramos do grafo representam ligações que transferem o “output” de um nodo para o “input” do nodo seguinte. Esta transferência é condicionada pela satisfação da condição associada ao ramo\n",
    "\n",
    "\n",
    "    1. Construa um FOTS usando BitVector de tamanho $n$ que descreva o comportamento deste autómato. Para isso identifique as variáveis do modelo, o estado inicial e a relação de transição.\n",
    "    2. Verifique se $\\;$ $\\;\\mathsf{P}\\,\\equiv\\,(x*y + z = a*b)\\;$ $\\;$é um invariante deste comportamento."
   ]
  },
  {
   "cell_type": "markdown",
   "metadata": {},
   "source": [
    "# Análise do Problema\n",
    "Este é um problema sobre a criação de um \"Control Flow Automaton (CFA)\". \n",
    "* $pc ∈ \\mathbb{N_0}; \\rightarrow$ Program Counter\n",
    "* $x ∈ \\mathbb{N_0}; \\rightarrow$ Variável \"a\" do input do utilizador\n",
    "* $y ∈ \\mathbb{N_0}; \\rightarrow$ Variável \"b\" do input do utilizador\n",
    "* $z ∈ \\mathbb{N_0}; \\rightarrow$ Variável que dará o output\n",
    "* $x′ ∈ \\mathbb{N_0}; \\rightarrow$ Variável \"a′\" que representa o próximo número do traço\n",
    "* $y′ ∈ \\mathbb{N_0}; \\rightarrow$ Variável \"b′\" que representa o próximo número do traço\n",
    "* $z′ ∈ \\mathbb{N_0}; \\rightarrow$ Variável \"z′\" que representa o próximo número do traço\n",
    "* $n ∈ \\mathbb{N_0}; \\rightarrow$ Representa a precisão dos bits"
   ]
  },
  {
   "cell_type": "markdown",
   "metadata": {},
   "source": [
    "# Limitações e obrigações\n",
    "1. **Condições iniciais:**\n",
    "$$pc =0 ∧ 𝑥=a ∧ y=b ∧ z=0 ∧ b>=0$$ \n",
    "2. **Condição para parar o ciclo:**\n",
    "$$y=0 ∧ pc=0 ∧ pc′=1 ∧ x′=x ∧ y′=y ∧ z′=z$$\n",
    "3. **$y$!=0 e Par:**\n",
    "$$y!=0 ∧ mod(y)=0 ∧ x′=2*x ∧ y′=y/2 ∧ z′=z ∧ pc′= 0 ∧ pc=0$$\n",
    "4. **$y$!=0 e Impar:**\n",
    "$$y!=0 ∧ mod(y)=1 ∧ x′=2*x ∧ y′=y/2 ∧ z′=z ∧ pc′= 0 ∧ pc=0$$\n",
    "5. **Não fazer mais nada após o ciclo parar:**\n",
    "$$pc =1 ∧ pc′=1 ∧ x′=x ∧ y′=y ∧ z′=z$$\n",
    "6. **Invariante tem de ser sempre verdade para todos as iterações**\n",
    "$$(x*y + z = a*b)\\;$$"
   ]
  },
  {
   "cell_type": "markdown",
   "metadata": {},
   "source": [
    "# Implementaçao do Problema "
   ]
  },
  {
   "cell_type": "markdown",
   "metadata": {},
   "source": [
    "**Importar o solver**\n",
    "1. Instalar o z3-solver a partir da libraria do PyPi (pip)\n",
    "2. Importar o z3-solver"
   ]
  },
  {
   "cell_type": "code",
   "execution_count": 14,
   "metadata": {},
   "outputs": [
    {
     "name": "stdout",
     "output_type": "stream",
     "text": [
      "Requirement already satisfied: z3-solver in c:\\users\\ruben\\appdata\\local\\programs\\python\\python310\\lib\\site-packages (4.11.2.0)\n",
      "Note: you may need to restart the kernel to use updated packages.\n",
      "Requirement already satisfied: BitVector in c:\\users\\ruben\\appdata\\local\\programs\\python\\python310\\lib\\site-packages (3.5.0)\n",
      "Note: you may need to restart the kernel to use updated packages.\n"
     ]
    }
   ],
   "source": [
    "%pip install z3-solver\n",
    "from z3 import *\n",
    "\n"
   ]
  },
  {
   "cell_type": "markdown",
   "metadata": {},
   "source": [
    "# Resolver o codigo\n"
   ]
  },
  {
   "cell_type": "markdown",
   "metadata": {},
   "source": [
    "**Função \"declare\"**<br>\n",
    "Esta função é responsável pela declaração de todas as variáveis que serão utilizadas no solver.\n",
    "1. Parâmetros:\n",
    "    1. $i$ -> um inteiro que será responsável por dar o nr às variaveis\n",
    "2. Função:\n",
    "    1. Inicialmente criamos um dicionário para colocar todas as variáveis necessárias.\n",
    "    2. Criamos 4 variáveis: $pc$ (program counter), $x$, $y$, $z$ (parâmetros $a$, $b$, $z$ respetivamente).\n",
    "3. Return do novo dicionário com as variáveis"
   ]
  },
  {
   "cell_type": "code",
   "execution_count": 15,
   "metadata": {},
   "outputs": [],
   "source": [
    "def declare(i,nBits):\n",
    "    state = {}\n",
    "    state['pc'] = BitVec('pc'+str(i),nBits)\n",
    "    state['x'] = BitVec('x'+str(i),nBits)\n",
    "    state['y'] = BitVec('y'+str(i),nBits)\n",
    "    state['z'] = BitVec('z'+str(i),nBits)\n",
    "    return state\n"
   ]
  },
  {
   "cell_type": "markdown",
   "metadata": {},
   "source": [
    "**Função \"init\"**<br>\n",
    "Esta função é responsável pela inicialização do primeiro node do traço (Primeiro membro do dicionário principal da função) e algumas condições lógicas necessárias\n",
    "1. Parâmetros:\n",
    "    1. $state$ -> Primeiro membro do dicionário principal da função\n",
    "    2. $a$ -> Variável do input do utilizador\n",
    "    3. $b$ -> Variável do input do utilizador\n",
    "2. Return de um \"And\" com a seguinte condição lógica:  ($pc =0 ∧ 𝑥=a ∧ y=b ∧ z=0 ∧ b>=0$)"
   ]
  },
  {
   "cell_type": "code",
   "execution_count": 16,
   "metadata": {},
   "outputs": [],
   "source": [
    "def init(state, a, b):\n",
    "    # pc=0∧𝑥=a∧y=b∧z=0∧b>=0\n",
    "    return And(state['pc'] == 0, state['x'] == a, state['y'] == b, state[\"z\"] == 0, b >= 0)\n"
   ]
  },
  {
   "cell_type": "markdown",
   "metadata": {},
   "source": [
    "**Função \"trans\"**<br>\n",
    "Esta função é responsável pela criação das conexões lógicas necessárias para o FOTS fazer sentido e ser o pretendido\n",
    "1. Parâmetros:\n",
    "    1. $curr$ -> Membro atual do dicionário principal da função\n",
    "    2. $prox$ -> Membro seguinte ao atual do dicionário principal da função\n",
    "2. Função:\n",
    "    1. Inicialmente calculamos o número máximo de bits para conseguirmos fazer a condição de overflow\n",
    "    2. Criamos as condições lógicas chamadas transita:\n",
    "        1. transita01: $(y=0 ∧ pc=0 ∧ pc′=1 ∧ x′=x ∧ y′=y ∧ z′=z)$\n",
    "        2. transita02: $(y!=0 ∧ even(y) ∧ x′=2*x ∧ y′=y/2 ∧ z′=z ∧ pc′= 0 ∧ pc=0)$\n",
    "        3. transita03: $(y!=0 ∧ odd(y) ∧ x′=x ∧ y′=y-1 ∧ z′=z+x ∧ pc′=0 ∧ pc=0)$\n",
    "        4. transita04: $(pc =1 ∧ pc′=1 ∧ x′=x ∧ y′=y ∧ z′=z)$\n",
    "3. Return de um \"And\" com a seguinte condição lógica:  ($ transita01 \\vee transita02 \\vee transita03 \\vee transita04 $)"
   ]
  },
  {
   "cell_type": "code",
   "execution_count": 17,
   "metadata": {},
   "outputs": [],
   "source": [
    "def trans(curr, prox):\n",
    "    # (y=0 ∧ pc=0 ∧ pc′=1 ∧ x′=x ∧ y′=y ∧ z′=z)\n",
    "    transita01 = And(curr['y'] == 0, curr[\"pc\"] == 0,\n",
    "                     prox[\"x\"] == curr[\"x\"], prox[\"y\"] == curr[\"y\"], prox[\"z\"] == curr[\"z\"], prox[\"pc\"] == 1)\n",
    "\n",
    "    # if y!=0 ∧ even(y)  even=PAR\n",
    "    # (y!=0 ∧ even(y) ∧ x′=2*x ∧ y′=y/2 ∧ z′=z ∧ pc′= 0 ∧ pc=0, pc′ <= n)\n",
    "    # Aqui temos o overflow aqui\n",
    "    transita02 = And(curr['y'] != 0, (curr['y'] % 2) == 0, prox[\"x\"] == 2*curr[\"x\"], prox[\"y\"] ==\n",
    "                     curr[\"y\"]/2, prox[\"z\"] == curr[\"z\"], prox[\"pc\"] == 0, curr[\"pc\"] == 0)\n",
    "\n",
    "    # if y!=0 ∧ odd(y)   odd=Impar\n",
    "    # (y!=0 ∧ odd(y) ∧ x′=x ∧ y′=y-1 ∧ z′=z+x ∧ pc′=0 ∧ pc=0)\n",
    "    transita03 = And(curr['y'] != 0, (curr['y'] % 2) == 1, prox[\"x\"] == curr[\"x\"], prox[\"y\"] ==\n",
    "                     curr[\"y\"]-1, prox[\"z\"] == curr[\"z\"]+curr[\"x\"], prox[\"pc\"] == 0, curr[\"pc\"] == 0)\n",
    "\n",
    "    # Quebrar o ciclo ACHO\n",
    "    # (pc =1 ∧ pc′=1 ∧ x′=x ∧ y′=y ∧ z′=z)\n",
    "    transita04 = And(curr[\"pc\"] == 1, prox[\"pc\"] == 1, prox[\"y\"] ==\n",
    "                     curr[\"y\"], prox[\"x\"] == curr[\"x\"], prox[\"z\"] == curr[\"z\"])\n",
    "\n",
    "    return Or(transita01, transita02, transita03, transita04)\n"
   ]
  },
  {
   "cell_type": "markdown",
   "metadata": {},
   "source": [
    "**Função \"inv\"**<br>\n",
    "Esta função é responsável pela testagem do invariante em cada iteração.\n",
    "1. Parâmetros:\n",
    "    1. $state$ -> Membro do dicionário principal da função\n",
    "    2. $a$ -> Variável do input do utilizador\n",
    "    3. $b$ -> Variável do input do utilizador\n",
    "2. Return de um \"And\" com a seguinte condição lógica:  $(a*b = x*y + z)\\;$"
   ]
  },
  {
   "cell_type": "code",
   "execution_count": 18,
   "metadata": {},
   "outputs": [],
   "source": [
    "def inv(state, a, b):\n",
    "    # a*b== x*y + z\n",
    "    return And(a*b==(state[\"x\"]*state[\"y\"])+state[\"z\"])\n"
   ]
  },
  {
   "cell_type": "markdown",
   "metadata": {},
   "source": [
    "**Função \"algoritmo_encontrar_k\"**<br>\n",
    "Esta função calcula o tamanho máximo necessário de nodes do traço para a função funcionar a perfeitamente\n",
    "1. Parâmetros:\n",
    "    1. $n$ -> Variável \"$b$\" do input do utilizador\n",
    "2. Função:\n",
    "    1. Ciclo para ir dividindo ou decrementado se o número atual é par ou ímpar\n",
    "3. Return do counter do ciclo"
   ]
  },
  {
   "cell_type": "code",
   "execution_count": 19,
   "metadata": {},
   "outputs": [],
   "source": [
    "def algoritmo_encontrar_k(n):\n",
    "    n = abs(n)\n",
    "    counter = 1\n",
    "    while n:\n",
    "        if (n % 2 == 0):\n",
    "            n = n/2\n",
    "        else:\n",
    "            n = n-1\n",
    "        counter += 1\n",
    "    return counter+1\n"
   ]
  },
  {
   "cell_type": "markdown",
   "metadata": {},
   "source": [
    "**Função \"cfa\"**<br>\n",
    "Esta é a função principal e é a que irar juntar as funções todas e gerar o traço pretendido e com ele tabelar o output\n",
    "1. Parâmetros:\n",
    "    1. declare -> Função declare\n",
    "    2. init -> Função init\n",
    "    3. trans -> Função trans\n",
    "    4. $nBits$ -> Precisão de bits (input do utilizador)\n",
    "    5. $a$ -> Variável $a$ (input do utilizador)\n",
    "    6. $b$ -> Variável $b$ (input do utilizador)\n",
    "2. Função:\n",
    "    1. Iniciamos o Solver\n",
    "    2. Descobrimos o número máximo de nodes necessário para criar o traço da função\n",
    "    3. Criar as variáveis todas que serão usadas no solver\n",
    "    4. Inicializar as variáveis\n",
    "    5. Criar a conexão lógica entre os nodes do traço todos e adicionar ao solver\n",
    "    6. Testar o Invariante para todas as iterações\n",
    "    7. Correr o Solver e Tabelar o resultado"
   ]
  },
  {
   "cell_type": "code",
   "execution_count": 20,
   "metadata": {},
   "outputs": [],
   "source": [
    "def cfa(declare, init, trans, nBits, a, b):\n",
    "    s = Solver()\n",
    "\n",
    "    # Descobrimos o número máximo de nodes necessário para criar o traço da função\n",
    "    k = algoritmo_encontrar_k(b)\n",
    "\n",
    "    # Declarar todas as variaveis que serão usadas no solver\n",
    "    trace = [declare(i, nBits) for i in range(k)]\n",
    "\n",
    "    # inicializar o estado inicial a 0\n",
    "    s.add(init(trace[0], a, b))\n",
    "\n",
    "    # Criar a conexão lógica entre os nodes do traço todos e adicionar ao solver\n",
    "    for i in range(k-1):\n",
    "        s.add(trans(trace[i], trace[i+1]))\n",
    "\n",
    "    #Testar o invariante para todos os estagios\n",
    "    for i in range(k-1):\n",
    "        s.add(inv(trace[i],a,b))\n",
    "\n",
    "    # Correr o Solver e Tabelar o resultado\n",
    "    if s.check() == sat:\n",
    "        result = 0\n",
    "        m = s.model()\n",
    "\n",
    "        if (((2 ** nBits)-1) <= a*b):\n",
    "            print(\"Overflow!!!!\")\n",
    "        else:\n",
    "            for i in range(k):\n",
    "                print(\"\\nIteração -> \"+str(i))\n",
    "                for v in trace[i]:\n",
    "                    print(v + '=' + str(m[trace[i][v]]))\n",
    "                    result = m[trace[i][v]]\n",
    "    \n",
    "            print(\"\\n\\nPrecisão: \"+str(nBits)+\" bits\\n\" +\n",
    "                  str(a) + \" x \"+str(b) + \" = \" + str(result))\n",
    "\n",
    "    else:\n",
    "        if (b < 0):\n",
    "            print(\"Sem solução porque B é negativo!!!\")\n",
    "        else:\n",
    "            print(\"Sem Solução\")\n"
   ]
  },
  {
   "cell_type": "markdown",
   "metadata": {},
   "source": [
    "**Exemplo 1** (Overflow)<br>\n",
    "Exemplo que irá gerar overflow pois 2x4 = 8 e a precisão é de 3 bits"
   ]
  },
  {
   "cell_type": "code",
   "execution_count": 21,
   "metadata": {},
   "outputs": [
    {
     "name": "stdout",
     "output_type": "stream",
     "text": [
      "Overflow!!!!\n"
     ]
    }
   ],
   "source": [
    "a = 2\n",
    "b = 4\n",
    "k = 3   # nr max: 7\n",
    "cfa(declare, init, trans, k, a, b)\n"
   ]
  },
  {
   "cell_type": "markdown",
   "metadata": {},
   "source": [
    "**Exemplo 2** (Impossível/Overflow)<br>\n",
    "Exemplo que possui um B negativo (isto dá sem solução, pois em (y-1) vai ciclar infinitamente se y é negativo)"
   ]
  },
  {
   "cell_type": "code",
   "execution_count": 22,
   "metadata": {},
   "outputs": [
    {
     "name": "stdout",
     "output_type": "stream",
     "text": [
      "Sem solução porque B é negativo!!!\n"
     ]
    }
   ],
   "source": [
    "a = 5\n",
    "b = -4\n",
    "k = 10   # nr max: 1023\n",
    "cfa(declare, init, trans, k, a, b)\n"
   ]
  },
  {
   "cell_type": "markdown",
   "metadata": {},
   "source": [
    "**Exemplo 3** (Possível)<br>\n",
    "Exemplo simples"
   ]
  },
  {
   "cell_type": "code",
   "execution_count": 23,
   "metadata": {},
   "outputs": [
    {
     "name": "stdout",
     "output_type": "stream",
     "text": [
      "\n",
      "Iteração -> 0\n",
      "pc=0\n",
      "x=2\n",
      "y=4\n",
      "z=0\n",
      "\n",
      "Iteração -> 1\n",
      "pc=0\n",
      "x=4\n",
      "y=2\n",
      "z=0\n",
      "\n",
      "Iteração -> 2\n",
      "pc=0\n",
      "x=8\n",
      "y=1\n",
      "z=0\n",
      "\n",
      "Iteração -> 3\n",
      "pc=0\n",
      "x=8\n",
      "y=0\n",
      "z=8\n",
      "\n",
      "Iteração -> 4\n",
      "pc=1\n",
      "x=8\n",
      "y=0\n",
      "z=8\n",
      "\n",
      "\n",
      "Precisão: 7 bits\n",
      "2 x 4 = 8\n"
     ]
    }
   ],
   "source": [
    "a = 2\n",
    "b = 4\n",
    "k = 7 \n",
    "cfa(declare, init, trans, k, a, b)\n"
   ]
  },
  {
   "cell_type": "markdown",
   "metadata": {},
   "source": [
    "**Exemplo 4** (Possível)<br>\n",
    "Exemplo mais complexo"
   ]
  },
  {
   "cell_type": "code",
   "execution_count": 24,
   "metadata": {},
   "outputs": [
    {
     "name": "stdout",
     "output_type": "stream",
     "text": [
      "\n",
      "Iteração -> 0\n",
      "pc=0\n",
      "x=100000000\n",
      "y=10\n",
      "z=0\n",
      "\n",
      "Iteração -> 1\n",
      "pc=0\n",
      "x=200000000\n",
      "y=5\n",
      "z=0\n",
      "\n",
      "Iteração -> 2\n",
      "pc=0\n",
      "x=200000000\n",
      "y=4\n",
      "z=200000000\n",
      "\n",
      "Iteração -> 3\n",
      "pc=0\n",
      "x=400000000\n",
      "y=2\n",
      "z=200000000\n",
      "\n",
      "Iteração -> 4\n",
      "pc=0\n",
      "x=800000000\n",
      "y=1\n",
      "z=200000000\n",
      "\n",
      "Iteração -> 5\n",
      "pc=0\n",
      "x=800000000\n",
      "y=0\n",
      "z=1000000000\n",
      "\n",
      "Iteração -> 6\n",
      "pc=1\n",
      "x=800000000\n",
      "y=0\n",
      "z=1000000000\n",
      "\n",
      "\n",
      "Precisão: 32 bits\n",
      "100000000 x 10 = 1000000000\n"
     ]
    }
   ],
   "source": [
    "a = 100000000\n",
    "b = 10\n",
    "k = 32 \n",
    "cfa(declare, init, trans, k, a, b)\n"
   ]
  }
 ],
 "metadata": {
  "kernelspec": {
   "display_name": "Python 3.10.3 64-bit",
   "language": "python",
   "name": "python3"
  },
  "language_info": {
   "codemirror_mode": {
    "name": "ipython",
    "version": 3
   },
   "file_extension": ".py",
   "mimetype": "text/x-python",
   "name": "python",
   "nbconvert_exporter": "python",
   "pygments_lexer": "ipython3",
   "version": "3.10.3"
  },
  "orig_nbformat": 4,
  "vscode": {
   "interpreter": {
    "hash": "fa5e5e9a487e2dd76c7ea7823608b3e5576beb764152fabbf69ac7563ac3923b"
   }
  }
 },
 "nbformat": 4,
 "nbformat_minor": 2
}
