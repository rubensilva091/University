{
 "cells": [
  {
   "cell_type": "markdown",
   "metadata": {},
   "source": [
    "# Exercício 2 (Inversores) - Trabalho Prático 3\n",
    "\n",
    "**Grupo 4:**<br>Carlos  Costa-A94543<br>Ruben Silva-A94633"
   ]
  },
  {
   "attachments": {},
   "cell_type": "markdown",
   "metadata": {},
   "source": [
    "# Problema: \n",
    "\n",
    "1. O seguinte sistema dinâmico denota 4 inversores ($\\,A, B, C, D\\,$) que lêm um bit num canal input e escrevem num canal output uma transformação desse bit.\n",
    "      1. Cada inversor tem um bit $s$ de estado, inicializado  com um valor aleatório.\n",
    "      2. Cada inversor é regido pelas seguintes transformações<br>\n",
    "                     $\\mathbf{invert}\\mathtt(in,out)$<br>\n",
    "                        $x \\gets \\mathsf{read}(\\mathtt{in})$ <br>\n",
    "                        $s \\gets \\neg x\\;\\;\\|\\;\\; s\\gets s\\oplus x$       \n",
    "                     $\\mathsf{write}(\\mathtt{out},s)$<br>\n",
    "      3. A escolha neste comando é sempre determinística; isto é, em cada inversor a escolha do comando a executar é sempre a mesma. Porém qual é essa escolha é determinada aleatoriamente na inicializarão do sistema.\n",
    "      4. O estado do sistema é um duplo definido pelos 4 bits $s$, e é inicializado com um vetor aleatório em $\\{0,1\\}^4\\;$.\n",
    "      5. O sistema termina em ERRO quando o estado do sistema for $\\,(0,0,0,0)\\,$.\n",
    "2. Construa um SFOTS que descreva este sistema e implemente este sistema, numa abordagem BMC (“bouded model checker”) num traço com $\\,n\\,$ estados.\n",
    "3. Verifique se o sistema é seguro usando BMC, k-indução ou model checking com interpolantes."
   ]
  },
  {
   "attachments": {},
   "cell_type": "markdown",
   "metadata": {},
   "source": [
    "# Análise do Problema \n",
    "Este é um problema sobre um SFOTS para um sistema com 4 inversores $(A,B,C,D)$ que recebem um bit como input de um outro inversor. Cada inversor tem um funcionamento definido no início do programa:\n",
    "* $pc ∈ \\mathbb{N_0}; \\rightarrow$ Program Counter.\n",
    "* $a ∈ \\mathbb{N_0}; \\rightarrow$ Estado do funcionamento do inversor \"a\".\n",
    "* $b ∈ \\mathbb{N_0}; \\rightarrow$ Estado do funcionamento do inversor \"b\".\n",
    "* $c ∈ \\mathbb{N_0}; \\rightarrow$ Estado do funcionamento do inversor \"c\".\n",
    "* $d ∈ \\mathbb{N_0}; \\rightarrow$ Estado do funcionamento do inversor \"d\".\n",
    "* $a′ ∈ \\mathbb{N_0}; \\rightarrow$ Próximo estado do funcionamento do inversor \"a′\".\n",
    "* $b′ ∈ \\mathbb{N_0}; \\rightarrow$ Próximo estado do funcionamento do inversor \"b′\".\n",
    "* $c′ ∈ \\mathbb{N_0}; \\rightarrow$ Próximo estado do funcionamento do inversor \"c′\".\n",
    "* $d′ ∈ \\mathbb{N_0}; \\rightarrow$ Próximo estado do funcionamento do inversor \"d′\".\n",
    "* $x_a ∈ \\mathbb{N_0}; \\rightarrow$ bit do inversor \"a\".\n",
    "* $x_b ∈ \\mathbb{N_0}; \\rightarrow$ bit do inversor \"b\".\n",
    "* $x_c ∈ \\mathbb{N_0}; \\rightarrow$ bit do inversor \"c\".\n",
    "* $x_d ∈ \\mathbb{N_0}; \\rightarrow$ bit do inversor \"d\".\n",
    "* $x_a′ ∈ \\mathbb{N_0}; \\rightarrow$ próximo bit do inversor \"a\".\n",
    "* $x_b′ ∈ \\mathbb{N_0}; \\rightarrow$ próximo bit do inversor \"b\".\n",
    "* $x_c′ ∈ \\mathbb{N_0}; \\rightarrow$ próximo bit do inversor \"c\".\n",
    "* $x_d′ ∈ \\mathbb{N_0}; \\rightarrow$ próximo bit do inversor \"d\".\n",
    "* $x_{var} ∈ \\mathbb{N_0}; \\rightarrow$ bit do inversor atual.\n",
    "* $x_{var}′ ∈ \\mathbb{N_0}; \\rightarrow$ próximo bit do inversor atual.\n",
    "* $x_{varIn} ∈ \\mathbb{N_0}; \\rightarrow$ bit de entrada do inversor atual.\n",
    "* $x_{varIn}′ ∈ \\mathbb{N_0}; \\rightarrow$ próximo bit de entrada do inversor atual.\n",
    "* $aTc ∈ \\mathbb{N_0}; \\rightarrow$ Função lógica do inversor \"a\" que recebe bit do inversor \"c\"\n",
    "* $bTa ∈ \\mathbb{N_0}; \\rightarrow$ Função lógica do inversor \"b\" que recebe bit do inversor \"a\"\n",
    "* $dTb ∈ \\mathbb{N_0}; \\rightarrow$ Função lógica do inversor \"d\" que recebe bit do inversor \"b\"\n",
    "* $cTd ∈ \\mathbb{N_0}; \\rightarrow$ Função lógica do inversor \"c\" que recebe bit do inversor \"d\""
   ]
  },
  {
   "cell_type": "markdown",
   "metadata": {},
   "source": [
    "# Limitações e obrigações para o Inversor\n",
    "1. **Condições iniciais:**\n",
    "   1. inversor01: $$(a = 0 ∧ (( x_{var} = 1 ∧ x_{varIn} = 0) \\vee ( x_{var} = 0 ∧ x_{varIn} = 1)) )$$\n",
    "   2. inversor02: $$(a = 1 ∧ (( x_{var} = 0 ∧ x_{varIn} + x_{var} = 0) \\vee ( x_{var} = 1 ∧ x_{varIn} + x_{var} = 1) \\vee ( x_{var} = 0 ∧ x_{varIn} + x_{var} = 2)) )$$"
   ]
  },
  {
   "attachments": {},
   "cell_type": "markdown",
   "metadata": {},
   "source": [
    "# Limitações e obrigações para o SFTOS\n",
    "1. **Condições iniciais:**\n",
    "    1. aTc: $$(inversor_{ac} ∧ a′ = a)$$\n",
    "    2. bTa: $$(inversor_{ba} ∧ b′ = b)$$\n",
    "    3. dTb: $$(inversor_{db} ∧ d′ = d)$$\n",
    "    4. cTd: $$(inversor_{cd} ∧ c′ = c)$$\n",
    "    5. transita01: $$(aTc ∧ bTa ∧ dTb ∧ cTd ∧ pc = 0 ∧ pc′= pc)$$\n",
    "    6. transita02: $$(x_a′ = x_a ∧ x_b′ = x_b ∧ x_c′ = x_c ∧ x_d′ = x_d ∧ a′ = a ∧ b′ = b ∧ c′ = c ∧ d′ = d ∧ pc = 2 ∧ pc′= 2)$$\n",
    "    6. error01: $$(aTc ∧ bTa ∧ dTb ∧ cTd ∧ x_a = 0 ∧ x_b = 0 ∧ x_c = 0 ∧ x_d = 0 ∧ pc = 0 ∧ pc′= 2)$$"
   ]
  },
  {
   "cell_type": "markdown",
   "metadata": {},
   "source": [
    "# Implementaçao do Problema "
   ]
  },
  {
   "cell_type": "markdown",
   "metadata": {},
   "source": [
    "**Importar o solver**\n",
    "1. Importar o PySmt.\n",
    "2. Importar o itertools.\n",
    "3. Importar a função randint da libraria random."
   ]
  },
  {
   "cell_type": "code",
   "execution_count": 1,
   "metadata": {},
   "outputs": [],
   "source": [
    "import itertools \n",
    "from pysmt.shortcuts import *\n",
    "from pysmt.typing import INT\n",
    "from pysmt import *\n",
    "from random import randint"
   ]
  },
  {
   "cell_type": "markdown",
   "metadata": {},
   "source": [
    "# Resolver o codigo"
   ]
  },
  {
   "cell_type": "markdown",
   "metadata": {},
   "source": [
    "**Função \"gerarDadosInicias\"**<br>\n",
    "1. Return de uma lista de 4 inteiros entre 0 e 1"
   ]
  },
  {
   "cell_type": "code",
   "execution_count": 2,
   "metadata": {},
   "outputs": [],
   "source": [
    "def gerarDadosInicias():\n",
    "    return [randint(0,1),randint(0,1),randint(0,1),randint(0,1)]\n",
    "    "
   ]
  },
  {
   "cell_type": "markdown",
   "metadata": {},
   "source": [
    "**Função \"genState\"**<br>\n",
    "Esta função é responsável pela declaração de todas as variáveis que serão utilizadas no solver.\n",
    "1. Parâmetros:\n",
    "    1. $vars$ -> Conjunto de variáveis para o programa\n",
    "    2. $s$ -> O Nome do traço pretendido\n",
    "    3. $i$ -> um inteiro que será responsável por dar o nr às variaveis\n",
    "2. Função:\n",
    "    1. Inicialmente criamos um dicionário para colocar todas as variáveis necessárias.\n",
    "    2. Criamos v variáveis com o input do utilizador.\n",
    "3. Return do novo dicionário com as variáveis."
   ]
  },
  {
   "cell_type": "code",
   "execution_count": 3,
   "metadata": {},
   "outputs": [],
   "source": [
    "def genState(vars,s,i):\n",
    "    state = {}\n",
    "    for v in vars:\n",
    "        state[v] = Symbol(v+'!'+s+str(i), INT)\n",
    "    return state"
   ]
  },
  {
   "cell_type": "markdown",
   "metadata": {},
   "source": [
    "**Função \"init\"**<br>\n",
    "Esta função é responsável pela inicialização do primeiro estado do traço e algumas condições lógicas necessárias\n",
    "1. Parâmetros:\n",
    "    1. $state$ -> Primeiro estado do traço\n",
    "    2. $switch$ -> Lista com a inicialização do funcionamente de cada inversor\n",
    "    3. $inicial_n$ -> Lista com a inicialização do bit de cada inversor\n",
    "2. Return de um \"And\" com a seguinte condição lógica: ($pc =0 ∧ a = switch_0 ∧ b = switch_1 ∧ c = switch_2 ∧ d = switch_3 ∧ xa = n_0 ∧ xb =n_1 ∧ xc = n_2 ∧ xd = n_3$)"
   ]
  },
  {
   "cell_type": "code",
   "execution_count": 4,
   "metadata": {},
   "outputs": [],
   "source": [
    "def init(state, switch, inicial_n):\n",
    "    #Inicializar, tanto cada variavel, como determinar o funcionamento de cada função\n",
    "    return And(Equals(state['a'], Int(switch[0])), \n",
    "               Equals(state['b'], Int(switch[1])), \n",
    "               Equals(state['c'], Int(switch[2])), \n",
    "               Equals(state['d'], Int(switch[3])),\n",
    "               Equals(state['xa'], Int(inicial_n[0])), \n",
    "               Equals(state['xb'], Int(inicial_n[1])), \n",
    "               Equals(state['xc'], Int(inicial_n[2])), \n",
    "               Equals(state['xd'], Int(inicial_n[3])), \n",
    "               Equals(state['pc'], Int(0)))\n"
   ]
  },
  {
   "cell_type": "markdown",
   "metadata": {},
   "source": [
    "**Função \"error\"**<br>\n",
    "Esta função é responsável por: dado um  estado do programa, devolve um predicado do pySMT que testa se esse estado é um possível estado de erro do programa.\n",
    "1. Parâmetros:\n",
    "    1. $state$ -> Primeiro membro do dicionário principal da função\n",
    "2. Return de um \"And\" com a seguinte condição lógica:  ($pc =2$)"
   ]
  },
  {
   "cell_type": "code",
   "execution_count": 5,
   "metadata": {},
   "outputs": [],
   "source": [
    "def error(state):\n",
    "    return And(Equals(state[\"pc\"],Int(2)))"
   ]
  },
  {
   "cell_type": "markdown",
   "metadata": {},
   "source": [
    "**Função \"inversor\"**<br>\n",
    "Esta função é responsável pela criação das conexões lógicas necessárias para o FOTS fazer sentido e ser o pretendido\n",
    "1. Parâmetros:\n",
    "    1. $curr$ -> Membro atual do dicionário principal da função\n",
    "    2. $prox$ -> Membro seguinte ao atual do dicionário principal da função\n",
    "    3. $var$ -> Varíavel do inversor atual\n",
    "    4. $varIn$ -> Varíavel que está a passar o bit à atual\n",
    "2. Funções do inversor. Cada maneira de o inversor funcionar é determinado no inicio do programa e mantém-se durante toda a execução..\n",
    "    1. inversor01: $(a = 0 ∧ (( x_{var} = 1 ∧ x_{varIn} = 0) \\vee ( x_{var} = 0 ∧ x_{varIn} = 1)) )$\n",
    "    2. inversor02: $(a = 1 ∧ (( x_{var} = 0 ∧ x_{varIn} + x_{var} = 0) \\vee ( x_{var} = 1 ∧ x_{varIn} + x_{var} = 1) \\vee ( x_{var} = 0 ∧ x_{varIn} + x_{var} = 2)) )$\n",
    "3. Return de um \"And\" com a seguinte condição lógica:  ($ inversor01 \\vee inversor02$)"
   ]
  },
  {
   "cell_type": "code",
   "execution_count": 6,
   "metadata": {},
   "outputs": [],
   "source": [
    "def inversor(curr,prox, var, varIn):\n",
    "    #var Representa o inversor atual\n",
    "    #varIn representa o bit do inversor anterior\n",
    "\n",
    "    #~x\n",
    "    inversor01 = And(Equals(curr[var],Int(0)), \n",
    "                     Or(And(Equals(prox[\"x\"+var], Int(1)), Equals(curr[\"x\"+varIn],Int(0))),\n",
    "                        And(Equals(prox[\"x\"+var], Int(0)), Equals(curr[\"x\"+varIn],Int(1)))))\n",
    "\n",
    "    #x OP s\n",
    "    inversor02 = And(Equals(curr[var],Int(1)),\n",
    "                    Or(And(Equals(prox[\"x\"+var], Int(0)), Equals(Plus(curr[\"x\"+varIn],curr[\"x\"+var]),Int(0))),\n",
    "                        And(Equals(prox[\"x\"+var], Int(1)), Equals(Plus(curr[\"x\"+varIn],curr[\"x\"+var]),Int(1))),\n",
    "                        And(Equals(prox[\"x\"+var], Int(0)), Equals(Plus(curr[\"x\"+varIn],curr[\"x\"+var]),Int(2))))) \n",
    "\n",
    "    return Or(inversor01,inversor02)"
   ]
  },
  {
   "attachments": {},
   "cell_type": "markdown",
   "metadata": {},
   "source": [
    "**Função \"trans\"**<br>\n",
    "Esta função é responsável pela criação das conexões lógicas necessárias para o FOTS fazer sentido e ser o pretendido\n",
    "1. Parâmetros:\n",
    "    1. $curr$ -> Membro atual do dicionário principal da função\n",
    "    2. $prox$ -> Membro seguinte ao atual do dicionário principal da função\n",
    "2. Função:\n",
    "    1. Criamos as condições lógicas de cada inversor individualmente:\n",
    "        1. aTc: $(inversor_{ac} ∧ a′ = a)$\n",
    "        2. bTa: $(inversor_{ba} ∧ b′ = b)$ \n",
    "        3. dTb: $(inversor_{db} ∧ d′ = d)$\n",
    "        4. cTd: $(inversor_{cd} ∧ c′ = c)$\n",
    "    2. Criamos as condições lógicas chamadas transita:\n",
    "        1. transita01: $(aTc ∧ bTa ∧ dTb ∧ cTd ∧ pc = 0 ∧ pc′= pc)$\n",
    "        2. transita02: $(x_a′ = x_a ∧ x_b′ = x_b ∧ x_c′ = x_c ∧ x_d′ = x_d ∧ a′ = a ∧ b′ = b ∧ c′ = c ∧ d′ = d ∧ pc = 2 ∧ pc′= 2)$\n",
    "        3. erro01: $(aTc ∧ bTa ∧ dTb ∧ cTd ∧ x_a = 0 ∧ x_b = 0 ∧ x_c = 0 ∧ x_d = 0 ∧ pc = 0 ∧ pc′= 2)$\n",
    "3. Return de um \"And\" com a seguinte condição lógica:  ($ transita01 \\vee transita02 \\vee transita03$)"
   ]
  },
  {
   "cell_type": "code",
   "execution_count": 7,
   "metadata": {},
   "outputs": [],
   "source": [
    "def trans(curr, prox):\n",
    "    #esta 4 variáveis contem as condições lógica de cada inversor\n",
    "    aTc = And(inversor(curr,prox,\"a\",\"c\"), Equals(prox[\"a\"],curr[\"a\"]))\n",
    "    bTa = And(inversor(curr,prox,\"b\",\"a\"), Equals(prox[\"b\"],curr[\"b\"]))\n",
    "    dTb = And(inversor(curr,prox,\"d\",\"b\"), Equals(prox[\"d\"],curr[\"d\"]))\n",
    "    cTd = And(inversor(curr,prox,\"c\",\"d\"), Equals(prox[\"c\"],curr[\"c\"]))\n",
    "\n",
    "    #transita01 é responsável pela execução padrão do código\n",
    "    transita01 = And(aTc,bTa,dTb,cTd, \n",
    "                     Equals(curr[\"pc\"],Int(0)),\n",
    "                     Equals(prox[\"pc\"],curr[\"pc\"]))\n",
    "\n",
    "\n",
    "    #transita03 é responsável por manter o código parado caso passe pelo estado de erro\n",
    "    transita02 = And(Equals(prox[\"xa\"],curr[\"xa\"]),\n",
    "                     Equals(prox[\"xb\"],curr[\"xb\"]),\n",
    "                     Equals(prox[\"xc\"],curr[\"xc\"]),\n",
    "                     Equals(prox[\"xd\"],curr[\"xd\"]),\n",
    "                     Equals(prox[\"a\"],curr[\"a\"]),\n",
    "                     Equals(prox[\"b\"],curr[\"b\"]),\n",
    "                     Equals(prox[\"c\"],curr[\"c\"]),\n",
    "                     Equals(prox[\"d\"],curr[\"d\"]), \n",
    "                     Equals(curr[\"pc\"] , Int(2)),\n",
    "                     Equals(prox[\"pc\"] , Int(2)))\n",
    "\n",
    "    #transita02 é responsável por marcar os erros -> (0,0,0,0)\n",
    "    error01 = And(aTc,bTa,dTb,cTd, \n",
    "                     Equals(curr[\"xa\"] , Int(0)),\n",
    "                     Equals(curr[\"xb\"] , Int(0)),\n",
    "                     Equals(curr[\"xc\"] , Int(0)),\n",
    "                     Equals(curr[\"xd\"] , Int(0)), \n",
    "                     Equals(curr[\"pc\"] , Int(0)),\n",
    "                     Equals(prox[\"pc\"] , Int(2))) \n",
    "    return Or(transita01,transita02, error01)"
   ]
  },
  {
   "attachments": {},
   "cell_type": "markdown",
   "metadata": {},
   "source": [
    "**Função \"bmc\"**<br>\n",
    "Esta é a função para testar o algoritmo em BMC e gerar o traço pretendido e com ele tabelar o output\n",
    "1. Parâmetros:\n",
    "    1. $vars$ -> Variáveis do algoritmo\n",
    "    2. $init$ -> Função init\n",
    "    3. $trans$ -> Função trans\n",
    "    4. $error$ -> Função error\n",
    "    5. $n$ -> Quantidade de estados (input do utilizador)\n",
    "2. Função:\n",
    "    1. Iniciamos o Solver\n",
    "    2. Criamos uma lista com o estado inicial e o bit de cada inversor\n",
    "    3. Geramos o traço\n",
    "    5. Geramos o estado inicial do traço ($I$)\n",
    "    6. Geramos o resto do traço sem o init ($Tks$)\n",
    "    7. Resolvemos o problema com: $I ∧ Tks$"
   ]
  },
  {
   "cell_type": "code",
   "execution_count": 8,
   "metadata": {},
   "outputs": [],
   "source": [
    "def bmc(vars,init,trans,error,n):\n",
    "    #Escolhe aleatoriamente entre \n",
    "    # (~x) 0 \n",
    "    # (s OP x) 1\n",
    "    inicial_n = gerarDadosInicias()\n",
    "    \n",
    "    #Escolher aleatoriamente os bits de cada inversor\n",
    "    switch =gerarDadosInicias()\n",
    "    \n",
    "    with Solver(name=\"z3\") as s:\n",
    "\n",
    "        #Abordagem BMC\n",
    "        for n1 in range(1,n+1):\n",
    "\n",
    "            #Gerar o Traço inicial\n",
    "            X = [genState(vars,'X',i) for i in range(n1)]   # cria n+1 estados (com etiqueta X)\n",
    "\n",
    "            #Criar o Estado inicial e colocar-lo numa Constante\n",
    "            I = init(X[0], switch, inicial_n)\n",
    "\n",
    "            #Gerar o Traço\n",
    "            Tks = [trans(X[i],X[i+1]) for i in range(n1-1)]\n",
    "\n",
    "            #Testar o Traço com a constante que tem o estado inicial\n",
    "            if s.solve([I,And(Tks)]):      # testa se I /\\ T^n  é satisfazível\n",
    "                if (n1 == n):\n",
    "                    for i in range(n1):\n",
    "                        if s.get_value(X[i][\"pc\"])==Int(2):\n",
    "                            print(\"Error\")\n",
    "                            return\n",
    "                        print(\"Estado: \"+str(i))\n",
    "                        for v in X[i]:\n",
    "                            print(\"          \",v,'=',s.get_value(X[i][v]))\n"
   ]
  },
  {
   "attachments": {},
   "cell_type": "markdown",
   "metadata": {},
   "source": [
    "**Funções de auxílio**<br>\n",
    "Para auxiliar na implementação deste algoritmo, começamos por definir três funções.\n",
    "1. A função $baseName$ cria o nome base de uma fórmula\n",
    "2. A função $rename$ renomeia uma fórmula (sobre um estado) de acordo com um dado estado. \n",
    "3. A função $same$ testa se dois estados são iguais.\n",
    "4. A função $invert$ codifica a relação de transição e devolve a relação e transição inversa"
   ]
  },
  {
   "cell_type": "code",
   "execution_count": 9,
   "metadata": {},
   "outputs": [],
   "source": [
    "def baseName(s):\n",
    "    return ''.join(list(itertools.takewhile(lambda x: x!='!', s)))\n",
    "\n",
    "def rename(form,state):\n",
    "    vs = get_free_variables(form)\n",
    "    pairs = [ (x,state[baseName(x.symbol_name())]) for x in vs ]\n",
    "    return form.substitute(dict(pairs))\n",
    "\n",
    "def same(state1,state2):\n",
    "    return And([Equals(state1[x],state2[x]) for x in state1])\n",
    "\n",
    "def invert(trans):\n",
    "    return (lambda c, p: trans(p,c))"
   ]
  },
  {
   "attachments": {},
   "cell_type": "markdown",
   "metadata": {},
   "source": [
    "**Função \"model_checking\"**<br>\n",
    "Esta é para verificar a segurança do codigo\n",
    "1. Parâmetros:\n",
    "    1. $vars$ -> Variáveis do algoritmo\n",
    "    2. $genState$ -> Função genState\n",
    "    3. $init$ -> Função init\n",
    "    4. $trans$ -> Função trans\n",
    "    5. $error$ -> Função error\n",
    "    6. $n$ -> Quantidade de estados (input do utilizador)\n",
    "2. Função:\n",
    "    1. Segue a lógica da criação dos interpolantes usado no exercício anterior"
   ]
  },
  {
   "cell_type": "code",
   "execution_count": 10,
   "metadata": {},
   "outputs": [],
   "source": [
    "def model_checking(vars, genState, init, trans, error, N, M):\n",
    "    with Solver(name=\"z3\") as s:\n",
    "\n",
    "            switch =gerarDadosInicias()\n",
    "            inicial_n = gerarDadosInicias()\n",
    "\n",
    "            # Declarar todas as variaveis em cada traço especifico\n",
    "            traceA = [genState(vars, 'A', i) for i in range(N+1)]\n",
    "            traceB = [genState(vars, 'B', i) for i in range(M+1)]\n",
    "\n",
    "            # Estabelecer a ordem pela qual os pares (n,m) vão surgir. Por exemplo:\n",
    "            order = sorted([(a, b) for a in range(1, N+1)\n",
    "                           for b in range(1, M+1)], key=lambda tup: tup[0]+tup[1])\n",
    "\n",
    "            #Resolver o problema\n",
    "            #Passo 1 e 2\n",
    "            for (n, m) in order:\n",
    "                #Criar Rn\n",
    "                Tn = And([trans(traceA[i], traceA[i+1]) for i in range(n)])\n",
    "                I = init(traceA[0], switch, inicial_n)\n",
    "                Rn = And(I, Tn)\n",
    "\n",
    "                #Criar Bm\n",
    "                Bm = And([invert(trans)(traceB[i], traceB[i+1]) for i in range(m)])\n",
    "                E = error(traceB[0])\n",
    "                Um = And(E, Bm)\n",
    "\n",
    "                #Criar Vnm\n",
    "                Vnm = And(Rn, same(traceA[n], traceB[m]), Um)\n",
    "\n",
    "                if s.solve([Vnm]):\n",
    "                    print(\"unsafe\")\n",
    "                    return\n",
    "                else:\n",
    "                    C = binary_interpolant(And(Rn, same(traceA[n], traceB[m])), Um)\n",
    "                    #Interpolante nao existe\n",
    "                    if C is None:\n",
    "                        break\n",
    "                    C0 = rename(C, traceA[0])\n",
    "                    C1 = rename(C, traceA[1])\n",
    "                    T = trans(traceA[0], traceA[1])\n",
    "\n",
    "                    if not s.solve([C0, T, Not(C1)]):\n",
    "                        print(\"safe\")\n",
    "                        return\n",
    "                    else:\n",
    "                        S = rename(C, traceA[n])\n",
    "                        while True:\n",
    "                            A = And(S, trans(traceA[n], traceB[m]))\n",
    "                            if s.solve([A, Um]):\n",
    "                                print(\"Nao é possivel encontrar um majorante\")\n",
    "                                break\n",
    "                            else:\n",
    "                                Cnew = binary_interpolant(A, Um)\n",
    "                                Cn = rename(Cnew, traceA[n])\n",
    "                                if s.solve([Cn, Not(S)]):\n",
    "                                    S = Or(S, Cn)\n",
    "                                else:\n",
    "                                    print(\"safe\")\n",
    "                                    return"
   ]
  },
  {
   "cell_type": "code",
   "execution_count": 11,
   "metadata": {},
   "outputs": [
    {
     "name": "stdout",
     "output_type": "stream",
     "text": [
      "Estado: 0\n",
      "           a = 1\n",
      "           b = 1\n",
      "           c = 1\n",
      "           d = 0\n",
      "           pc = 0\n",
      "           xa = 0\n",
      "           xb = 0\n",
      "           xc = 0\n",
      "           xd = 1\n",
      "Estado: 1\n",
      "           a = 1\n",
      "           b = 1\n",
      "           c = 1\n",
      "           d = 0\n",
      "           pc = 0\n",
      "           xa = 0\n",
      "           xb = 0\n",
      "           xc = 1\n",
      "           xd = 1\n",
      "Estado: 2\n",
      "           a = 1\n",
      "           b = 1\n",
      "           c = 1\n",
      "           d = 0\n",
      "           pc = 0\n",
      "           xa = 1\n",
      "           xb = 0\n",
      "           xc = 0\n",
      "           xd = 1\n",
      "Estado: 3\n",
      "           a = 1\n",
      "           b = 1\n",
      "           c = 1\n",
      "           d = 0\n",
      "           pc = 0\n",
      "           xa = 1\n",
      "           xb = 1\n",
      "           xc = 1\n",
      "           xd = 1\n",
      "Estado: 4\n",
      "           a = 1\n",
      "           b = 1\n",
      "           c = 1\n",
      "           d = 0\n",
      "           pc = 0\n",
      "           xa = 0\n",
      "           xb = 0\n",
      "           xc = 0\n",
      "           xd = 0\n",
      "Estado: 5\n",
      "           a = 1\n",
      "           b = 1\n",
      "           c = 1\n",
      "           d = 0\n",
      "           pc = 0\n",
      "           xa = 0\n",
      "           xb = 0\n",
      "           xc = 0\n",
      "           xd = 1\n",
      "Estado: 6\n",
      "           a = 1\n",
      "           b = 1\n",
      "           c = 1\n",
      "           d = 0\n",
      "           pc = 0\n",
      "           xa = 0\n",
      "           xb = 0\n",
      "           xc = 1\n",
      "           xd = 1\n",
      "Estado: 7\n",
      "           a = 1\n",
      "           b = 1\n",
      "           c = 1\n",
      "           d = 0\n",
      "           pc = 0\n",
      "           xa = 1\n",
      "           xb = 0\n",
      "           xc = 0\n",
      "           xd = 1\n"
     ]
    }
   ],
   "source": [
    "vars = [\"a\",\"b\",\"c\",\"d\",\"pc\", \"xa\",\"xb\",\"xc\",\"xd\"]\n",
    "n = 8   #tamanho do traço\n",
    "bmc(vars, init, trans, error, n)"
   ]
  },
  {
   "cell_type": "code",
   "execution_count": 12,
   "metadata": {},
   "outputs": [
    {
     "ename": "NoSolverAvailableError",
     "evalue": "No Interpolator is available",
     "output_type": "error",
     "traceback": [
      "\u001b[1;31m---------------------------------------------------------------------------\u001b[0m",
      "\u001b[1;31mNoSolverAvailableError\u001b[0m                    Traceback (most recent call last)",
      "Cell \u001b[1;32mIn [12], line 4\u001b[0m\n\u001b[0;32m      2\u001b[0m n \u001b[39m=\u001b[39m \u001b[39m40\u001b[39m\n\u001b[0;32m      3\u001b[0m m\u001b[39m=\u001b[39m\u001b[39m40\u001b[39m\n\u001b[1;32m----> 4\u001b[0m model_checking(\u001b[39mvars\u001b[39m, genState, init, trans, error, n, m)\n",
      "Cell \u001b[1;32mIn [10], line 36\u001b[0m, in \u001b[0;36mmodel_checking\u001b[1;34m(vars, genState, init, trans, error, N, M)\u001b[0m\n\u001b[0;32m     34\u001b[0m     \u001b[39mreturn\u001b[39;00m\n\u001b[0;32m     35\u001b[0m \u001b[39melse\u001b[39;00m:\n\u001b[1;32m---> 36\u001b[0m     C \u001b[39m=\u001b[39m binary_interpolant(And(Rn, same(traceA[n], traceB[m])), Um)\n\u001b[0;32m     37\u001b[0m     \u001b[39m#Interpolante nao existe\u001b[39;00m\n\u001b[0;32m     38\u001b[0m     \u001b[39mif\u001b[39;00m C \u001b[39mis\u001b[39;00m \u001b[39mNone\u001b[39;00m:\n",
      "File \u001b[1;32mc:\\Users\\ruben\\AppData\\Local\\Programs\\Python\\Python310\\lib\\site-packages\\pysmt\\shortcuts.py:1153\u001b[0m, in \u001b[0;36mbinary_interpolant\u001b[1;34m(formula_a, formula_b, solver_name, logic)\u001b[0m\n\u001b[0;32m   1149\u001b[0m         warnings\u001b[39m.\u001b[39mwarn(\u001b[39m\"\u001b[39m\u001b[39mWarning: Contextualizing formula during \u001b[39m\u001b[39m\"\u001b[39m\n\u001b[0;32m   1150\u001b[0m                       \u001b[39m\"\u001b[39m\u001b[39mbinary_interpolant\u001b[39m\u001b[39m\"\u001b[39m)\n\u001b[0;32m   1151\u001b[0m         formulas[i] \u001b[39m=\u001b[39m env\u001b[39m.\u001b[39mformula_manager\u001b[39m.\u001b[39mnormalize(f)\n\u001b[1;32m-> 1153\u001b[0m \u001b[39mreturn\u001b[39;00m env\u001b[39m.\u001b[39;49mfactory\u001b[39m.\u001b[39;49mbinary_interpolant(formulas[\u001b[39m0\u001b[39;49m], formulas[\u001b[39m1\u001b[39;49m],\n\u001b[0;32m   1154\u001b[0m                                       solver_name\u001b[39m=\u001b[39;49msolver_name,\n\u001b[0;32m   1155\u001b[0m                                       logic\u001b[39m=\u001b[39;49mlogic)\n",
      "File \u001b[1;32mc:\\Users\\ruben\\AppData\\Local\\Programs\\Python\\Python310\\lib\\site-packages\\pysmt\\factory.py:562\u001b[0m, in \u001b[0;36mFactory.binary_interpolant\u001b[1;34m(self, formula_a, formula_b, solver_name, logic)\u001b[0m\n\u001b[0;32m    559\u001b[0m     _And \u001b[39m=\u001b[39m \u001b[39mself\u001b[39m\u001b[39m.\u001b[39menvironment\u001b[39m.\u001b[39mformula_manager\u001b[39m.\u001b[39mAnd\n\u001b[0;32m    560\u001b[0m     logic \u001b[39m=\u001b[39m get_logic(_And(formula_a, formula_b))\n\u001b[1;32m--> 562\u001b[0m \u001b[39mwith\u001b[39;00m \u001b[39mself\u001b[39;49m\u001b[39m.\u001b[39;49mInterpolator(name\u001b[39m=\u001b[39;49msolver_name, logic\u001b[39m=\u001b[39;49mlogic) \u001b[39mas\u001b[39;00m itp:\n\u001b[0;32m    563\u001b[0m     \u001b[39mreturn\u001b[39;00m itp\u001b[39m.\u001b[39mbinary_interpolant(formula_a, formula_b)\n",
      "File \u001b[1;32mc:\\Users\\ruben\\AppData\\Local\\Programs\\Python\\Python310\\lib\\site-packages\\pysmt\\factory.py:452\u001b[0m, in \u001b[0;36mFactory.Interpolator\u001b[1;34m(self, name, logic)\u001b[0m\n\u001b[0;32m    451\u001b[0m \u001b[39mdef\u001b[39;00m \u001b[39mInterpolator\u001b[39m(\u001b[39mself\u001b[39m, name\u001b[39m=\u001b[39m\u001b[39mNone\u001b[39;00m, logic\u001b[39m=\u001b[39m\u001b[39mNone\u001b[39;00m):\n\u001b[1;32m--> 452\u001b[0m     \u001b[39mreturn\u001b[39;00m \u001b[39mself\u001b[39;49m\u001b[39m.\u001b[39;49mget_interpolator(name\u001b[39m=\u001b[39;49mname, logic\u001b[39m=\u001b[39;49mlogic)\n",
      "File \u001b[1;32mc:\\Users\\ruben\\AppData\\Local\\Programs\\Python\\Python310\\lib\\site-packages\\pysmt\\factory.py:132\u001b[0m, in \u001b[0;36mFactory.get_interpolator\u001b[1;34m(self, name, logic)\u001b[0m\n\u001b[0;32m    130\u001b[0m \u001b[39mdef\u001b[39;00m \u001b[39mget_interpolator\u001b[39m(\u001b[39mself\u001b[39m, name\u001b[39m=\u001b[39m\u001b[39mNone\u001b[39;00m, logic\u001b[39m=\u001b[39m\u001b[39mNone\u001b[39;00m):\n\u001b[0;32m    131\u001b[0m     SolverClass, closer_logic \u001b[39m=\u001b[39m \\\n\u001b[1;32m--> 132\u001b[0m        \u001b[39mself\u001b[39;49m\u001b[39m.\u001b[39;49m_get_solver_class(solver_list\u001b[39m=\u001b[39;49m\u001b[39mself\u001b[39;49m\u001b[39m.\u001b[39;49m_all_interpolators,\n\u001b[0;32m    133\u001b[0m                               solver_type\u001b[39m=\u001b[39;49m\u001b[39m\"\u001b[39;49m\u001b[39mInterpolator\u001b[39;49m\u001b[39m\"\u001b[39;49m,\n\u001b[0;32m    134\u001b[0m                               preference_list\u001b[39m=\u001b[39;49m\u001b[39mself\u001b[39;49m\u001b[39m.\u001b[39;49minterpolation_preference_list,\n\u001b[0;32m    135\u001b[0m                               default_logic\u001b[39m=\u001b[39;49m\u001b[39mself\u001b[39;49m\u001b[39m.\u001b[39;49m_default_interpolation_logic,\n\u001b[0;32m    136\u001b[0m                               name\u001b[39m=\u001b[39;49mname,\n\u001b[0;32m    137\u001b[0m                               logic\u001b[39m=\u001b[39;49mlogic)\n\u001b[0;32m    139\u001b[0m     \u001b[39mreturn\u001b[39;00m SolverClass(environment\u001b[39m=\u001b[39m\u001b[39mself\u001b[39m\u001b[39m.\u001b[39menvironment,\n\u001b[0;32m    140\u001b[0m                        logic\u001b[39m=\u001b[39mcloser_logic)\n",
      "File \u001b[1;32mc:\\Users\\ruben\\AppData\\Local\\Programs\\Python\\Python310\\lib\\site-packages\\pysmt\\factory.py:146\u001b[0m, in \u001b[0;36mFactory._get_solver_class\u001b[1;34m(self, solver_list, solver_type, preference_list, default_logic, name, logic)\u001b[0m\n\u001b[0;32m    143\u001b[0m \u001b[39mdef\u001b[39;00m \u001b[39m_get_solver_class\u001b[39m(\u001b[39mself\u001b[39m, solver_list, solver_type, preference_list,\n\u001b[0;32m    144\u001b[0m                       default_logic, name\u001b[39m=\u001b[39m\u001b[39mNone\u001b[39;00m, logic\u001b[39m=\u001b[39m\u001b[39mNone\u001b[39;00m):\n\u001b[0;32m    145\u001b[0m     \u001b[39mif\u001b[39;00m \u001b[39mlen\u001b[39m(solver_list) \u001b[39m==\u001b[39m \u001b[39m0\u001b[39m:\n\u001b[1;32m--> 146\u001b[0m         \u001b[39mraise\u001b[39;00m NoSolverAvailableError(\u001b[39m\"\u001b[39m\u001b[39mNo \u001b[39m\u001b[39m%s\u001b[39;00m\u001b[39m is available\u001b[39m\u001b[39m\"\u001b[39m \u001b[39m%\u001b[39m solver_type)\n\u001b[0;32m    148\u001b[0m     logic \u001b[39m=\u001b[39m convert_logic_from_string(logic)\n\u001b[0;32m    149\u001b[0m     \u001b[39mif\u001b[39;00m name \u001b[39mis\u001b[39;00m \u001b[39mnot\u001b[39;00m \u001b[39mNone\u001b[39;00m:\n",
      "\u001b[1;31mNoSolverAvailableError\u001b[0m: No Interpolator is available"
     ]
    }
   ],
   "source": [
    "vars = [\"a\",\"b\",\"c\",\"d\",\"pc\", \"xa\",\"xb\",\"xc\",\"xd\"]\n",
    "n = 40\n",
    "m=40\n",
    "model_checking(vars, genState, init, trans, error, n, m)"
   ]
  }
 ],
 "metadata": {
  "kernelspec": {
   "display_name": "Python 3.10.3 64-bit",
   "language": "python",
   "name": "python3"
  },
  "language_info": {
   "codemirror_mode": {
    "name": "ipython",
    "version": 3
   },
   "file_extension": ".py",
   "mimetype": "text/x-python",
   "name": "python",
   "nbconvert_exporter": "python",
   "pygments_lexer": "ipython3",
   "version": "3.10.3 (tags/v3.10.3:a342a49, Mar 16 2022, 13:07:40) [MSC v.1929 64 bit (AMD64)]"
  },
  "orig_nbformat": 4,
  "vscode": {
   "interpreter": {
    "hash": "fa5e5e9a487e2dd76c7ea7823608b3e5576beb764152fabbf69ac7563ac3923b"
   }
  }
 },
 "nbformat": 4,
 "nbformat_minor": 2
}
