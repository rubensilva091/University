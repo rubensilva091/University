{
 "cells": [
  {
   "cell_type": "markdown",
   "metadata": {},
   "source": [
    "# Exercício 1 (Model-Checking) - Trabalho Prático 3\n",
    "\n",
    "**Grupo 4:**<br>Carlos  Costa-A94543<br>Ruben Silva-A94633"
   ]
  },
  {
   "cell_type": "markdown",
   "metadata": {},
   "source": [
    "# Problema: \n",
    "\n",
    "1. Pretende-se construir uma implementação simplificada do algoritmo “model checking” orientado aos interpolantes seguindo a estrutura apresentada nos apontamentos onde no passo $(n,m)\\,$ na impossibilidade de encontrar um interpolante invariante se dá ao utilizador a possibilidade de incrementar um dos índices $n$ e $m$ à sua escolha.\n",
    "    Pretende-se aplicar este algoritmo ao problema da da multiplicação de inteiros positivos em `BitVec`  (apresentado no TP2)."
   ]
  },
  {
   "cell_type": "markdown",
   "metadata": {},
   "source": [
    "# Análise do Problema\n",
    "Este é um problema sobre a desenvolvimento do Model-Checking usando o \"Control Flow Automaton (CFA)\" do trabalho prático 2.\n",
    "\n",
    "* $pc ∈ \\mathbb{N_0}; \\rightarrow$ Program Counter.\n",
    "* $x ∈ \\mathbb{N_0}; \\rightarrow$ Variável \"a\" do input do utilizador.\n",
    "* $y ∈ \\mathbb{N_0}; \\rightarrow$ Variável \"b\" do input do utilizador.\n",
    "* $z ∈ \\mathbb{N_0}; \\rightarrow$ Variável que dará o output.\n",
    "* $x′ ∈ \\mathbb{N_0}; \\rightarrow$ Variável \"a′\" que representa o próximo número do traço.\n",
    "* $y′ ∈ \\mathbb{N_0}; \\rightarrow$ Variável \"b′\" que representa o próximo número do traço.\n",
    "* $z′ ∈ \\mathbb{N_0}; \\rightarrow$ Variável \"z′\" que representa o próximo número do traço.\n",
    "* $n ∈ \\mathbb{N_0}; \\rightarrow$ Representa a precisão dos bits.\n",
    "* $maxN ∈ \\mathbb{N_0}; \\rightarrow$ Representa o número máximo possível com a precisão dada.\n",
    "* $OFlow ∈ \\mathbb{N_0}; \\rightarrow$ Condição lógica do overflow."
   ]
  },
  {
   "cell_type": "markdown",
   "metadata": {},
   "source": [
    "# Limitações e obrigações para o Control Flow Automation\n",
    "1. **Condições iniciais:**\n",
    "$$pc =0 ∧ 𝑥=a ∧ y=b ∧ z=0 ∧ b>=0$$\n",
    "2. **OFlow**\n",
    "$$x >= 2^n$$\n",
    "3. **Condição para parar o ciclo:**\n",
    "$$y=0 ∧ pc=0 ∧ pc′=1 ∧ x′=x ∧ y′=y ∧ z′=z$$\n",
    "4. **$y$!=0 e Par:**\n",
    "$$y!=0 ∧ mod(y)=0 ∧ x′=2*x ∧ y′=y/2 ∧ z′=z ∧ pc′= 3 ∧ pc=0$$\n",
    "5. **$y$!=0 e Impar:**\n",
    "$$y!=0 ∧ mod(y)=1 ∧ x′=x ∧ y′=y-1 ∧ z′=z+x ∧ pc′= 3 ∧ pc=0$$\n",
    "6. **Não fazer mais nada após o ciclo parar:**\n",
    "$$((pc =1 ∧ pc′=1) \\vee (pc =2 ∧ pc′=2)) ∧ x′=x ∧ y′=y ∧ z′=z$$\n",
    "7. **Decidir se existe overflow ou não**\n",
    "$$pc = 3 ∧ ((Oflow ∧ pc′=2) \\vee (!Oflow ∧ pc′=3)) ∧ x′=x ∧ y′=y ∧ z′=z$$"
   ]
  },
  {
   "cell_type": "markdown",
   "metadata": {},
   "source": [
    "# Lógica do Model-Checking\n",
    "O algoritmo de “model-checking” manipula as fórmulas $\\;\\mathsf{R}_n\\;\\equiv\\; \\mathsf{I}\\,\\land\\,\\mathsf{T}^n\\;$ e $\\;\\mathsf{U}_m\\equiv\\; \\mathsf{E}\\,\\land\\,\\mathsf{B}^m\\;$ fazendo crescer os índices $\\;n,m\\;$ de acordo  com as seguintes regras\n",
    "\n",
    "----------\n",
    "1. Inicia-se $n=0$, $\\;\\mathsf{R}_0 = \\mathsf{I}\\;$ e $\\;\\mathsf{U}_0 = \\mathsf{E}$.\n",
    "\n",
    "\n",
    "2.  No estado $\\,(n,m)\\,$  tem-se a certeza que em todos os estados anteriores não foi detectada nenhuma justificação para a insegurança do SFOTS. \n",
    "    Se $\\;\\mathsf{V}_{n,m}\\equiv\\;\\mathsf{R}_n\\land(X_n=Y_m)\\land\\mathsf{U}_m\\;$ é satisfazível o sistema é inseguro e o algoritmo termina com a mensagem **unsafe**.\n",
    "\n",
    "\n",
    "3. Se $\\;\\mathsf{V}_{n,m}\\equiv\\;\\mathsf{R}_n\\land(X_n=Y_m)\\land \\mathsf{U}_m\\;$ for insatisfazível calcula-se  $\\;{C}\\;$ como  o interpolante do par $\\,(\\mathsf{R}_n\\land(X_n=Y_m)\\,,\\,\\mathsf{U}_m)\\,$.\n",
    "     Neste caso verificam-se as tautologias    $\\mathsf{R}_n \\to C(X_n)\\;$  e $\\;\\mathsf{U}_m\\,\\to\\,\\neg\\, C(Y_m)\\;$.\n",
    "\n",
    "\n",
    "4. Testa-se a condição $\\;\\mathsf{SAT}(C\\land\\mathsf{T}\\land\\neg\\,C')=\\emptyset\\;$  para verificar se  $\\,C\\,$ é um invariante de $\\;\\mathsf{T}\\,$; se for invariante  então, pelo resultado anterior, sabe-se que $\\,\\mathsf{V}_{n',m'}\\;$ é insatisfazível para todo $\\,n'\\ge n\\,$ e $\\,m'\\ge n\\,$. O algoritmo termina com a mensagem **safe**.\n",
    "\n",
    "\n",
    "5. Se $\\,C\\,$ não for invariante de $\\,\\mathsf{T}\\,$ procura-se encontrar um majorante $\\,S \\supseteq C$ que verifique as condições do resultado referido: seja um invariante de $\\,\\mathsf{T}$   disjunto de $\\,\\mathsf{U}_m\\,$.\n",
    "\n",
    "\n",
    "6. Se for possível encontrar tal majorante $\\,S\\,$ então o algoritmo termina com a mensagem **safe**. Se não for possível encontrar o majorante pelo menos um dos índices $\\,n,m\\,$ é incrementado, os valores das fórmulas $\\,\\mathsf{R}_n\\,,\\,\\mathsf{U}_m\\,$ são actualizados e repete-se o processo a partir do passo 2.\n",
    "\n",
    "\n",
    "#### Para encontrar um majorante $S$\n",
    "A parte crítica é o passo 5. Várias estratégias são possíveis (veremos algumas mais tarde). \n",
    "Uma solução possível é um algoritmo iterativo que tenta encontrar um invariante $\\,S\\,$ pelos passos seguintes\n",
    "\n",
    "1. $S\\;$ é inicializado com $\\,C(X_n)$\n",
    "2. Faz-se $\\,A \\equiv S(X_n)\\,\\land\\,\\mathsf{T}(X_n,Y_m)\\,$ e verifica-se se  $\\,A\\land U_m\\;$ é insatisfazível. Se for satisfazível então não é possível encontrar o majorante e esta rotina termina sem sucesso.\n",
    "3. Se $\\,A \\land U_m\\;$ for insatisfazível calcula-se um novo interpolante $\\,C(Y_m)\\,$ deste par $(A,U_m)$.\n",
    "4. Se $\\,C(X_n)\\,\\to\\,S\\;$ for tautologia, o invariante pretendido está encontrado.\n",
    "5. Se $\\,C(X_n)\\,\\to\\,S\\;$ não é tautologia, actualiza-se $\\,S\\,$ com $\\,S \\,\\lor\\, C(X_n)\\,$ e repete-se o processo a partir do passo (1)."
   ]
  },
  {
   "cell_type": "markdown",
   "metadata": {},
   "source": [
    "# Implementaçao do Problema "
   ]
  },
  {
   "cell_type": "markdown",
   "metadata": {},
   "source": [
    "**Importar o solver**\n",
    "1. Importar itertools\n",
    "2. Importar pysmt"
   ]
  },
  {
   "cell_type": "code",
   "execution_count": 1,
   "metadata": {},
   "outputs": [],
   "source": [
    "import itertools \n",
    "from pysmt.shortcuts import *\n",
    "from pysmt.typing import INT\n"
   ]
  },
  {
   "cell_type": "markdown",
   "metadata": {},
   "source": [
    "# Resolver o codigo\n"
   ]
  },
  {
   "cell_type": "markdown",
   "metadata": {},
   "source": [
    "**Função \"genState\"**<br>\n",
    "Esta função é responsável pela declaração de todas as variáveis que serão utilizadas no solver.\n",
    "1. Parâmetros:\n",
    "    1. $vars$ -> Conjunto de variáveis para o programa\n",
    "    2. $nomeTraco$ -> O Nome do traço pretendido\n",
    "    3. $i$ -> um inteiro que será responsável por dar o nr às variaveis\n",
    "    4. $nBits$ -> Nr de Bits para o BitVec\n",
    "2. Função:\n",
    "    1. Inicialmente criamos um dicionário para colocar todas as variáveis necessárias.\n",
    "    2. Criamos v variáveis com o input do utilizador.\n",
    "3. Return do novo dicionário com as variáveis."
   ]
  },
  {
   "cell_type": "code",
   "execution_count": 2,
   "metadata": {},
   "outputs": [],
   "source": [
    "def genState(vars,nomeTraco,i):\n",
    "    state = {}\n",
    "    for v in vars:\n",
    "        state[v] = Symbol(v+'!'+nomeTraco+str(i),INT)\n",
    "    return state"
   ]
  },
  {
   "attachments": {},
   "cell_type": "markdown",
   "metadata": {},
   "source": [
    "**Função \"init\"**<br>\n",
    "Esta função é responsável pela inicialização do primeiro estado do traço e algumas condições lógicas necessárias\n",
    "1. Parâmetros:\n",
    "    1. $state$ -> Primeiro estado do traço\n",
    "    2. $a$ -> Variável do input do utilizador\n",
    "    3. $b$ -> Variável do input do utilizador\n",
    "    4. $nBits$ -> Nr de Bits para o BitVec\n",
    "2. Return de um \"And\" com a seguinte condição lógica:  ($pc =0 ∧ 𝑥=a ∧ y=b ∧ z=0 ∧ b>=0$)"
   ]
  },
  {
   "cell_type": "code",
   "execution_count": 3,
   "metadata": {},
   "outputs": [],
   "source": [
    "def init(state, a, b):\n",
    "    return And(\n",
    "        Equals(state['pc'], Int(0)),\n",
    "        Equals(state['x'], Int(a)),\n",
    "        Equals(state['y'], Int(b)),\n",
    "        Equals(state['z'], Int(0))\n",
    "    )\n"
   ]
  },
  {
   "cell_type": "markdown",
   "metadata": {},
   "source": [
    "**Função \"error\"**<br>\n",
    "Esta função é responsável por: dado um  estado do programa, devolve um predicado do pySMT que testa se esse estado é um possível estado de erro do programa.\n",
    "1. Parâmetros:\n",
    "    1. $state$ -> Primeiro membro do dicionário principal da função\n",
    "2. Return de um \"And\" com a seguinte condição lógica:  ($pc =2$)"
   ]
  },
  {
   "cell_type": "code",
   "execution_count": 4,
   "metadata": {},
   "outputs": [],
   "source": [
    "def error(state):\n",
    "    # pc=2\n",
    "    return And(Equals(state['pc'] , Int(2)))"
   ]
  },
  {
   "cell_type": "markdown",
   "metadata": {},
   "source": [
    "**Função \"trans\"**<br>\n",
    "Esta função é responsável pela criação das conexões lógicas necessárias para o FOTS fazer sentido e ser o pretendido\n",
    "1. Parâmetros:\n",
    "    1. $curr$ -> Membro atual do dicionário principal da função\n",
    "    2. $prox$ -> Membro seguinte ao atual do dicionário principal da função\n",
    "2. Função:\n",
    "    1. Inicialmente calculamos o número máximo de bits para conseguirmos fazer a condição de overflow\n",
    "    2. Criamos as condições lógicas chamadas transita:\n",
    "        1. transita01: $(y=0 ∧ pc=0 ∧ pc′=1 ∧ x′=x ∧ y′=y ∧ z′=z)$\n",
    "        2. transita02: $(y!=0 ∧ mod(y)=0 ∧ x′=2*x ∧ y′=y/2 ∧ z′=z ∧ pc′= 3 ∧ pc=0)$\n",
    "        3. transita03: $(y!=0 ∧ mod(y)=1 ∧ x′=x ∧ y′=y-1 ∧ z′=z+x ∧ pc′= 3 ∧ pc=0)$\n",
    "        4. transita04: $(((pc =1 ∧ pc′=1) \\vee (pc =2 ∧ pc′=2)) ∧ x′=x ∧ y′=y ∧ z′=z)$\n",
    "        5. transita05: $(pc = 3 ∧ ((Oflow ∧ pc′=2) \\vee (!Oflow ∧ pc′=3)) ∧ x′=x ∧ y′=y ∧ z′=z)$\n",
    "3. Return de um \"And\" com a seguinte condição lógica:  ($ transita01 \\vee transita02 \\vee transita03 \\vee transita04 \\vee transita05$)"
   ]
  },
  {
   "cell_type": "code",
   "execution_count": 5,
   "metadata": {},
   "outputs": [],
   "source": [
    "def trans(curr, prox, nBits):\n",
    "    overflow = GE(curr[\"x\"], Pow(Int(2), Int(nBits-1)))\n",
    "    odd = Equals(Div(Minus(curr[\"y\"],Int(1)),Int(2)), Div(curr[\"y\"], Int(2)))\n",
    "\n",
    "    #Parar o ciclo\n",
    "    transita01 = And(Equals(curr['y'], Int(0)), \n",
    "                     Equals(curr['pc'], Int(0)),\n",
    "                     Equals(prox[\"x\"], curr[\"x\"]), \n",
    "                     Equals(prox[\"y\"], curr[\"y\"]), \n",
    "                     Equals(prox[\"z\"], curr[\"z\"]), \n",
    "                     Equals(prox[\"pc\"], Int(1)))\n",
    "\n",
    "    #even=PAR\n",
    "    transita02 = And(NotEquals(curr['y'], Int(0)), \n",
    "                     Not(odd),  \n",
    "                     Equals(prox['x'], Times(curr['x'],Int(2))), \n",
    "                     Equals(prox[\"y\"],Div(curr['y'], Int(2))), \n",
    "                     Equals(prox['z'], curr['z']), \n",
    "                     Equals(prox[\"pc\"], Int(3)), \n",
    "                     Equals(curr[\"pc\"], Int(0)))\n",
    "\n",
    "    #odd=Impar\n",
    "    transita03 = And(NotEquals(curr['y'], Int(0)), \n",
    "                     odd,  \n",
    "                     Equals(prox['x'], curr['x']), \n",
    "                     Equals(prox['y'], Minus(curr['y'], Int(1))), \n",
    "                     Equals(prox['z'], Plus(curr['z'], curr['x'])),\n",
    "                     Equals(prox[\"pc\"],Int(3)), Equals(curr[\"pc\"], Int(0)))\n",
    "\n",
    "\n",
    "    # Manter o código parado\n",
    "    transita04 = And(Or(And(Equals(curr[\"pc\"], Int(1)), Equals(prox[\"pc\"], Int(1))),\n",
    "                        And(Equals(curr[\"pc\"], Int(2)), Equals(prox[\"pc\"], Int(2)))), \n",
    "                        Equals(prox[\"y\"],curr[\"y\"]), \n",
    "                        Equals(prox[\"x\"],curr[\"x\"]),\n",
    "                        Equals(prox[\"z\"],curr[\"z\"]))\n",
    "\n",
    "    # Detetar overflow\n",
    "    transita05 = And(Equals(prox[\"y\"],curr[\"y\"]), \n",
    "                     Equals(prox[\"x\"],curr[\"x\"]),\n",
    "                     Equals(prox[\"z\"],curr[\"z\"]), \n",
    "                     Equals(curr[\"pc\"],Int(3)),\n",
    "                     Or(And(overflow, Equals(prox[\"pc\"], Int(2))), And(Not(overflow), Equals(prox[\"pc\"], Int(0)))))\n",
    "\n",
    "    return Or(transita01, transita02, transita03, transita04, transita05)\n",
    "\n"
   ]
  },
  {
   "cell_type": "markdown",
   "metadata": {},
   "source": [
    "**Funções de auxílio**<br>\n",
    "Para auxiliar na implementação deste algoritmo, começamos por definir três funções.\n",
    "1. A função $baseName$ cria o nome base de uma fórmula\n",
    "2. A função $rename$ renomeia uma fórmula (sobre um estado) de acordo com um dado estado. \n",
    "3. A função $same$ testa se dois estados são iguais.\n",
    " "
   ]
  },
  {
   "cell_type": "code",
   "execution_count": 6,
   "metadata": {},
   "outputs": [],
   "source": [
    "def baseName(s):\n",
    "    return ''.join(list(itertools.takewhile(lambda x: x!='!', s)))\n",
    "\n",
    "def rename(form,state):\n",
    "    vs = get_free_variables(form)\n",
    "    pairs = [ (x,state[baseName(x.symbol_name())]) for x in vs ]\n",
    "    return form.substitute(dict(pairs))\n",
    "\n",
    "def same(state1,state2):\n",
    "    return And([Equals(state1[x],state2[x]) for x in state1])"
   ]
  },
  {
   "cell_type": "markdown",
   "metadata": {},
   "source": [
    "**Função \"invert\"**<br>\n",
    "Esta função recebe a função python que codifica a relação de transição e devolve a relação e transição inversa.\n",
    "1. Parâmetros:\n",
    "    1. $trans$ -> Função transição\n",
    "3. Return da inversão"
   ]
  },
  {
   "cell_type": "code",
   "execution_count": 7,
   "metadata": {},
   "outputs": [],
   "source": [
    "def invert(trans, nbits):\n",
    "    return (lambda c, p: trans(p,c, nbits))"
   ]
  },
  {
   "attachments": {},
   "cell_type": "markdown",
   "metadata": {},
   "source": [
    "**Função \"model_checking\"**<br>\n",
    "Esta é a função principal e é a que irar juntar as funções todas e gerar o traço pretendido e com ele tabelar o output\n",
    "1. Parâmetros:\n",
    "    1. $vars$ -> Variáveis do algoritmo\n",
    "    2. $genState$ -> Função genState\n",
    "    3. $init$ -> Função init\n",
    "    4. $trans$ -> Função trans\n",
    "    5. $error$ -> Função error\n",
    "    6. $nBits$ -> Precisão de bits (input do utilizador)\n",
    "    7. $a$ -> Variável $a$ (input do utilizador)\n",
    "    8. $b$ -> Variável $b$ (input do utilizador)\n",
    "2. Função:\n",
    "    1. Iniciamos o Solver\n",
    "    2. Criamos o Traço A e B\n",
    "    3. Estabelecemos a ordem do par (n,m)\n",
    "    4. Resolver o Problema"
   ]
  },
  {
   "cell_type": "code",
   "execution_count": 8,
   "metadata": {},
   "outputs": [],
   "source": [
    "def model_checking(vars, genState, init, trans, error, nBits, a, b, N, M):\n",
    "    nBits = nBits+1\n",
    "    with Solver(name=\"z3\") as s:\n",
    "\n",
    "        # Declarar todas as variaveis em cada traço especifico\n",
    "        traceA = [genState(vars, 'A', i) for i in range(N+1)]\n",
    "        traceB = [genState(vars, 'B', i) for i in range(M+1)]\n",
    "\n",
    "        # Estabelecer a ordem pela qual os pares (n,m) vão surgir. Por exemplo:\n",
    "        order = sorted([(a, b) for a in range(1, N+1)\n",
    "                       for b in range(1, M+1)], key=lambda tup: tup[0]+tup[1])\n",
    "\n",
    "        #Resolver o problema\n",
    "        #Passo 1 e 2\n",
    "        for (n, m) in order:\n",
    "            #Criar Rn\n",
    "            Tn = And([trans(traceA[i], traceA[i+1], nBits) for i in range(n)])\n",
    "            I = init(traceA[0], a ,b)\n",
    "            Rn = And(I, Tn)\n",
    "\n",
    "            #Criar Bm\n",
    "            Bm = And([invert(trans, nBits)(traceB[i], traceB[i+1]) for i in range(m)])\n",
    "            E = error(traceB[0])\n",
    "            Um = And(E, Bm)\n",
    "\n",
    "            #Criar Vnm\n",
    "            Vnm = And(Rn, same(traceA[n], traceB[m]), Um)\n",
    "\n",
    "            #Passo 3.1\n",
    "            if s.solve([Vnm]):\n",
    "                print(\"unsafe\")\n",
    "                return\n",
    "            else:\n",
    "                C = binary_interpolant(And(Rn, same(traceA[n], traceB[m])), Um)\n",
    "                #Interpolante nao existe\n",
    "                if C is None:\n",
    "                    #O Utilizador escolher qual indice incrementar\n",
    "                    escolha = input(\"Interpolante não existe, qual deseja incrementar:m,n\")\n",
    "                    if escolha==\"m\":\n",
    "                        m+=1\n",
    "                    if escolha == \"n\":\n",
    "                        n+=1\n",
    "                    continue\n",
    "                #Passo 3.2\n",
    "                C0 = rename(C, traceA[0])\n",
    "                C1 = rename(C, traceA[1])\n",
    "                T = trans(traceA[0], traceA[1], nBits)\n",
    "\n",
    "                #Passo4\n",
    "                if not s.solve([C0, T, Not(C1)]):\n",
    "                    print(\"safe\")\n",
    "                    return\n",
    "                else:\n",
    "                    S = rename(C, traceA[n])\n",
    "                    while True:\n",
    "                        A = And(S, trans(traceA[n], traceB[m], nBits))\n",
    "                        if s.solve([A, Um]):\n",
    "                            print(\"Nao é possivel encontrar um majorante\")\n",
    "                            break\n",
    "                        else:\n",
    "                            Cnew = binary_interpolant(A, Um)\n",
    "                            Cn = rename(Cnew, traceA[n])\n",
    "                            if s.solve([Cn, Not(S)]):\n",
    "                                S = Or(S, Cn)\n",
    "                            else:\n",
    "                                print(\"safe\")\n",
    "                                return\n"
   ]
  },
  {
   "cell_type": "markdown",
   "metadata": {},
   "source": [
    "**Exemplo 1** (Possível)<br>\n",
    "Exemplo simples"
   ]
  },
  {
   "cell_type": "code",
   "execution_count": 9,
   "metadata": {},
   "outputs": [
    {
     "ename": "NoSolverAvailableError",
     "evalue": "No Interpolator is available",
     "output_type": "error",
     "traceback": [
      "\u001b[1;31m---------------------------------------------------------------------------\u001b[0m",
      "\u001b[1;31mNoSolverAvailableError\u001b[0m                    Traceback (most recent call last)",
      "Cell \u001b[1;32mIn [9], line 7\u001b[0m\n\u001b[0;32m      5\u001b[0m M \u001b[39m=\u001b[39m \u001b[39m20\u001b[39m\n\u001b[0;32m      6\u001b[0m \u001b[39mvars\u001b[39m \u001b[39m=\u001b[39m [\u001b[39m'\u001b[39m\u001b[39mpc\u001b[39m\u001b[39m'\u001b[39m, \u001b[39m'\u001b[39m\u001b[39mx\u001b[39m\u001b[39m'\u001b[39m, \u001b[39m'\u001b[39m\u001b[39my\u001b[39m\u001b[39m'\u001b[39m,\u001b[39m'\u001b[39m\u001b[39mz\u001b[39m\u001b[39m'\u001b[39m]\n\u001b[1;32m----> 7\u001b[0m model_checking(\u001b[39mvars\u001b[39m,genState, init, trans,error, k, a, b, N,M)\n",
      "Cell \u001b[1;32mIn [8], line 34\u001b[0m, in \u001b[0;36mmodel_checking\u001b[1;34m(vars, genState, init, trans, error, nBits, a, b, N, M)\u001b[0m\n\u001b[0;32m     32\u001b[0m     \u001b[39mreturn\u001b[39;00m\n\u001b[0;32m     33\u001b[0m \u001b[39melse\u001b[39;00m:\n\u001b[1;32m---> 34\u001b[0m     C \u001b[39m=\u001b[39m binary_interpolant(And(Rn, same(traceA[n], traceB[m])), Um)\n\u001b[0;32m     35\u001b[0m     \u001b[39m#Interpolante nao existe\u001b[39;00m\n\u001b[0;32m     36\u001b[0m     \u001b[39mif\u001b[39;00m C \u001b[39mis\u001b[39;00m \u001b[39mNone\u001b[39;00m:\n\u001b[0;32m     37\u001b[0m         \u001b[39m#O Utilizador escolher qual indice incrementar\u001b[39;00m\n",
      "File \u001b[1;32mc:\\Users\\ruben\\AppData\\Local\\Programs\\Python\\Python310\\lib\\site-packages\\pysmt\\shortcuts.py:1153\u001b[0m, in \u001b[0;36mbinary_interpolant\u001b[1;34m(formula_a, formula_b, solver_name, logic)\u001b[0m\n\u001b[0;32m   1149\u001b[0m         warnings\u001b[39m.\u001b[39mwarn(\u001b[39m\"\u001b[39m\u001b[39mWarning: Contextualizing formula during \u001b[39m\u001b[39m\"\u001b[39m\n\u001b[0;32m   1150\u001b[0m                       \u001b[39m\"\u001b[39m\u001b[39mbinary_interpolant\u001b[39m\u001b[39m\"\u001b[39m)\n\u001b[0;32m   1151\u001b[0m         formulas[i] \u001b[39m=\u001b[39m env\u001b[39m.\u001b[39mformula_manager\u001b[39m.\u001b[39mnormalize(f)\n\u001b[1;32m-> 1153\u001b[0m \u001b[39mreturn\u001b[39;00m env\u001b[39m.\u001b[39;49mfactory\u001b[39m.\u001b[39;49mbinary_interpolant(formulas[\u001b[39m0\u001b[39;49m], formulas[\u001b[39m1\u001b[39;49m],\n\u001b[0;32m   1154\u001b[0m                                       solver_name\u001b[39m=\u001b[39;49msolver_name,\n\u001b[0;32m   1155\u001b[0m                                       logic\u001b[39m=\u001b[39;49mlogic)\n",
      "File \u001b[1;32mc:\\Users\\ruben\\AppData\\Local\\Programs\\Python\\Python310\\lib\\site-packages\\pysmt\\factory.py:562\u001b[0m, in \u001b[0;36mFactory.binary_interpolant\u001b[1;34m(self, formula_a, formula_b, solver_name, logic)\u001b[0m\n\u001b[0;32m    559\u001b[0m     _And \u001b[39m=\u001b[39m \u001b[39mself\u001b[39m\u001b[39m.\u001b[39menvironment\u001b[39m.\u001b[39mformula_manager\u001b[39m.\u001b[39mAnd\n\u001b[0;32m    560\u001b[0m     logic \u001b[39m=\u001b[39m get_logic(_And(formula_a, formula_b))\n\u001b[1;32m--> 562\u001b[0m \u001b[39mwith\u001b[39;00m \u001b[39mself\u001b[39;49m\u001b[39m.\u001b[39;49mInterpolator(name\u001b[39m=\u001b[39;49msolver_name, logic\u001b[39m=\u001b[39;49mlogic) \u001b[39mas\u001b[39;00m itp:\n\u001b[0;32m    563\u001b[0m     \u001b[39mreturn\u001b[39;00m itp\u001b[39m.\u001b[39mbinary_interpolant(formula_a, formula_b)\n",
      "File \u001b[1;32mc:\\Users\\ruben\\AppData\\Local\\Programs\\Python\\Python310\\lib\\site-packages\\pysmt\\factory.py:452\u001b[0m, in \u001b[0;36mFactory.Interpolator\u001b[1;34m(self, name, logic)\u001b[0m\n\u001b[0;32m    451\u001b[0m \u001b[39mdef\u001b[39;00m \u001b[39mInterpolator\u001b[39m(\u001b[39mself\u001b[39m, name\u001b[39m=\u001b[39m\u001b[39mNone\u001b[39;00m, logic\u001b[39m=\u001b[39m\u001b[39mNone\u001b[39;00m):\n\u001b[1;32m--> 452\u001b[0m     \u001b[39mreturn\u001b[39;00m \u001b[39mself\u001b[39;49m\u001b[39m.\u001b[39;49mget_interpolator(name\u001b[39m=\u001b[39;49mname, logic\u001b[39m=\u001b[39;49mlogic)\n",
      "File \u001b[1;32mc:\\Users\\ruben\\AppData\\Local\\Programs\\Python\\Python310\\lib\\site-packages\\pysmt\\factory.py:132\u001b[0m, in \u001b[0;36mFactory.get_interpolator\u001b[1;34m(self, name, logic)\u001b[0m\n\u001b[0;32m    130\u001b[0m \u001b[39mdef\u001b[39;00m \u001b[39mget_interpolator\u001b[39m(\u001b[39mself\u001b[39m, name\u001b[39m=\u001b[39m\u001b[39mNone\u001b[39;00m, logic\u001b[39m=\u001b[39m\u001b[39mNone\u001b[39;00m):\n\u001b[0;32m    131\u001b[0m     SolverClass, closer_logic \u001b[39m=\u001b[39m \\\n\u001b[1;32m--> 132\u001b[0m        \u001b[39mself\u001b[39;49m\u001b[39m.\u001b[39;49m_get_solver_class(solver_list\u001b[39m=\u001b[39;49m\u001b[39mself\u001b[39;49m\u001b[39m.\u001b[39;49m_all_interpolators,\n\u001b[0;32m    133\u001b[0m                               solver_type\u001b[39m=\u001b[39;49m\u001b[39m\"\u001b[39;49m\u001b[39mInterpolator\u001b[39;49m\u001b[39m\"\u001b[39;49m,\n\u001b[0;32m    134\u001b[0m                               preference_list\u001b[39m=\u001b[39;49m\u001b[39mself\u001b[39;49m\u001b[39m.\u001b[39;49minterpolation_preference_list,\n\u001b[0;32m    135\u001b[0m                               default_logic\u001b[39m=\u001b[39;49m\u001b[39mself\u001b[39;49m\u001b[39m.\u001b[39;49m_default_interpolation_logic,\n\u001b[0;32m    136\u001b[0m                               name\u001b[39m=\u001b[39;49mname,\n\u001b[0;32m    137\u001b[0m                               logic\u001b[39m=\u001b[39;49mlogic)\n\u001b[0;32m    139\u001b[0m     \u001b[39mreturn\u001b[39;00m SolverClass(environment\u001b[39m=\u001b[39m\u001b[39mself\u001b[39m\u001b[39m.\u001b[39menvironment,\n\u001b[0;32m    140\u001b[0m                        logic\u001b[39m=\u001b[39mcloser_logic)\n",
      "File \u001b[1;32mc:\\Users\\ruben\\AppData\\Local\\Programs\\Python\\Python310\\lib\\site-packages\\pysmt\\factory.py:146\u001b[0m, in \u001b[0;36mFactory._get_solver_class\u001b[1;34m(self, solver_list, solver_type, preference_list, default_logic, name, logic)\u001b[0m\n\u001b[0;32m    143\u001b[0m \u001b[39mdef\u001b[39;00m \u001b[39m_get_solver_class\u001b[39m(\u001b[39mself\u001b[39m, solver_list, solver_type, preference_list,\n\u001b[0;32m    144\u001b[0m                       default_logic, name\u001b[39m=\u001b[39m\u001b[39mNone\u001b[39;00m, logic\u001b[39m=\u001b[39m\u001b[39mNone\u001b[39;00m):\n\u001b[0;32m    145\u001b[0m     \u001b[39mif\u001b[39;00m \u001b[39mlen\u001b[39m(solver_list) \u001b[39m==\u001b[39m \u001b[39m0\u001b[39m:\n\u001b[1;32m--> 146\u001b[0m         \u001b[39mraise\u001b[39;00m NoSolverAvailableError(\u001b[39m\"\u001b[39m\u001b[39mNo \u001b[39m\u001b[39m%s\u001b[39;00m\u001b[39m is available\u001b[39m\u001b[39m\"\u001b[39m \u001b[39m%\u001b[39m solver_type)\n\u001b[0;32m    148\u001b[0m     logic \u001b[39m=\u001b[39m convert_logic_from_string(logic)\n\u001b[0;32m    149\u001b[0m     \u001b[39mif\u001b[39;00m name \u001b[39mis\u001b[39;00m \u001b[39mnot\u001b[39;00m \u001b[39mNone\u001b[39;00m:\n",
      "\u001b[1;31mNoSolverAvailableError\u001b[0m: No Interpolator is available"
     ]
    }
   ],
   "source": [
    "a = 5\n",
    "b = 5\n",
    "k = 15\n",
    "N = 20\n",
    "M = 20\n",
    "vars = ['pc', 'x', 'y','z']\n",
    "model_checking(vars,genState, init, trans,error, k, a, b, N,M)\n"
   ]
  }
 ],
 "metadata": {
  "kernelspec": {
   "display_name": "Python 3.10.3 64-bit",
   "language": "python",
   "name": "python3"
  },
  "language_info": {
   "codemirror_mode": {
    "name": "ipython",
    "version": 3
   },
   "file_extension": ".py",
   "mimetype": "text/x-python",
   "name": "python",
   "nbconvert_exporter": "python",
   "pygments_lexer": "ipython3",
   "version": "3.10.3 (tags/v3.10.3:a342a49, Mar 16 2022, 13:07:40) [MSC v.1929 64 bit (AMD64)]"
  },
  "orig_nbformat": 4,
  "vscode": {
   "interpreter": {
    "hash": "fa5e5e9a487e2dd76c7ea7823608b3e5576beb764152fabbf69ac7563ac3923b"
   }
  }
 },
 "nbformat": 4,
 "nbformat_minor": 2
}
