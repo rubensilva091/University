{
 "cells": [
  {
   "attachments": {},
   "cell_type": "markdown",
   "metadata": {},
   "source": [
    "# Exercício 1 (ABS) - Trabalho Prático 4\n",
    "\n",
    "**Grupo 4:**<br>Carlos  Costa-A94543<br>Ruben Silva-A94633"
   ]
  },
  {
   "attachments": {},
   "cell_type": "markdown",
   "metadata": {},
   "source": [
    "# Problema: \n",
    "No contexto do sistema de travagem ABS (“Anti-Lock Breaking System”), pretende-se construir um autómato híbrido que descreva o sistema e que  possa ser usado para verificar as suas propriedades dinâmicas.\n",
    "\n",
    "    \n",
    "- A componente discreta do autómato contém os modos:  Start,  Free,  Stopping, Blocked, e Stopped. No modo Free  não existe qualquer força de travagem; no modo Stopping aplica-se a força de travagem alta; no modo Blocked as rodas estão bloqueadas em relação ao corpo mas o veículo  move-se (i.e. derrapa); no modo Stopped o veículo está imobilizado.\n",
    "- A componente contínua  do autómato usa variáveis contínuas $\\,V,v\\,$ para descrever a  velocidade do corpo   e a velocidade linear das rodas  ambas em relação so solo.\n",
    "- Assume-se que o sistema de travagem exerce uma força de atrito proporcional à diferença das duas velocidades.  A dinâmica contínua, as equações de fluxo, está descrita  abaixo.\n",
    "- Os “switchs” são a componente de projeto deste trabalho; cabe ao aluno definir quais devem ser  de modo a que o sistema tenha um comportamento desejável: imobilize-se depressa e não “derrape” muito.\n",
    "- É imprescindível evitar que o sistema tenha “trajetórias de Zenão”. Isto é, sequências  infinitas de transições  entre dois modos em intervalos de tempo  que tendem para zero mas nunca alcançam zero.\n",
    "Faça \n",
    "\n",
    "1. Defina um autómato híbrido que descreva a dinâmica do sistema segundo as notas abaixo indicadas e com os “switchs” por si escolhidos.\n",
    "2. Modele em lógica temporal linear LT  propriedades que caracterizam o comportamento desejável do sistema. Nomeadamente \n",
    "        1. ”o veículo imobiliza-se completamente em menos de $t$ segundos” \n",
    "        2. “a velocidade $V$ diminui sempre com o tempo”.\n",
    "3. Codifique em SMT’s o modelo que definiu em 1.\n",
    "4. Codifique em SMT’s a verificação das propriedades temporais que definiu em"
   ]
  },
  {
   "attachments": {},
   "cell_type": "markdown",
   "metadata": {},
   "source": [
    "**Equações de Fluxo**\n",
    "\n",
    "1. Durante  a travagem não existe qualquer  força no sistema excepto as forças de atrito. Quando uma superfície se desloca em relação à outra, a força de atrito  é proporcional à força de compressão entre elas. \n",
    "2. No contacto rodas/solo o atrito é constante porque a força de compressão é o peso; tem-se $f = a\\, P$ sendo  $a$ a constante de atrito e $P$ o peso. Ambos são fixos e independentes do modo.\n",
    "3. No contacto corpo/rodas,  a força de compressão é a força de travagem que aqui se assume como proporcional à diferença de velocidades\n",
    "\n",
    "$$F =  c\\, (V-v)$$\n",
    "A  constante de proporcionalidade $c$ depende do modo: é elevada no modo Stopping e baixa nos outros.\n",
    "\n",
    "4. As  equações que traduzem a dinâmica  do sistema são, em todos os modo excepto Blocked,\n",
    "\n",
    "$$(\\dot{V} \\,=\\, -F)\\,\\land\\, (\\dot{v} \\,=\\, -a\\, P  + F)$$ \n",
    "e , no modo Blocked,  a dinâmica do sistema é  regida por\n",
    "$$(V = v) \\;\\land\\; (\\,\\dot{v}\\,=\\, -a\\, P\\,)$$\n",
    "\n",
    "6. Tanto no modo Blocked  como no modo Free  existe um “timer” que impede que o controlo aí permaneça mais do que $\\,\\tau\\,$ segundos.  Os     $\\mathsf{switch}(V,v,t,V',v',t')\\,$  nesses modos devem forçar esta condição. \n",
    "7. Todos os “switchs” devem ser construídos de  modo a impedir a existência de trajetórias de Zenão.\n",
    "8. No instante inicial assume-se $\\,V = v\\,=\\,V_0$  ,  em que a velocidade $V_0$ é o “input” do problema."
   ]
  },
  {
   "attachments": {},
   "cell_type": "markdown",
   "metadata": {},
   "source": [
    "# Análise do Problema\n",
    "Este é um problema sobre um sistema Híbrido em que é necessário travar um carro. Para a resolução de tal, vamos usar as seguintes varíaveis:\n",
    "\n",
    "* $m ∈ (START, FREE, STOPPING, BLOCKED, STOPPED) \\rightarrow$ Switcher\n",
    "* $v ∈ \\mathbb{R} \\rightarrow$ Velocidade do veículo\n",
    "* $r ∈ \\mathbb{R} \\rightarrow$ Velocidade das rodas do veículo\n",
    "* $t ∈ \\mathbb{R} \\rightarrow$ Tempo atual da travagem\n",
    "* $timer ∈ \\mathbb{R} \\rightarrow$ Contador para evitar que o algoritmo fique sempre no BLOCKED ou no FREE\n",
    "* $v′ ∈ \\mathbb{R} \\rightarrow$ Próxima velocidade do veículo\n",
    "* $r′ ∈ \\mathbb{R} \\rightarrow$ Próxima velocidade das rodas do veículoas\n",
    "* $t′ ∈ \\mathbb{R} \\rightarrow$ Próximo tempo da travagem\n",
    "* $timer′ ∈ \\mathbb{R} \\rightarrow$ Próximo Contador para evitar que o algoritmo fique sempre no BLOCKED ou no FREE\n",
    "* $a ∈ \\mathbb{R} \\rightarrow$ Constante do atrito\n",
    "* $fc1 ∈ \\mathbb{R} \\rightarrow$ Constante da força de compressão em todos os estados, menos no STOPPING\n",
    "* $fc2 ∈ \\mathbb{R} \\rightarrow$ Constante da força de compressão do STOPPING\n",
    "* $p ∈ \\mathbb{R} \\rightarrow$ Constante do peso do veículo\n",
    "* $dt ∈ \\mathbb{R} \\rightarrow$ Constante do delta tempo\n",
    "* $tbf ∈ \\mathbb{R} \\rightarrow$ Constante do timer para os estados do BLOCKED e FREE\n",
    "* $tm ∈ \\mathbb{R} \\rightarrow$ Constante do tempo máximo de travagem\n",
    "* $vi ∈ \\mathbb{R} \\rightarrow$ Constante da velocidade inicial\n",
    "* $pv ∈ \\mathbb{R} \\rightarrow$ Constante da precisão da velocidade (evitar trajetórias de Zenão)\n",
    "* $i ∈ \\mathbb{N_0} \\rightarrow$ Variavel utilizada na granularidade\n"
   ]
  },
  {
   "attachments": {},
   "cell_type": "markdown",
   "metadata": {},
   "source": [
    "# Condições do trans para o ABS (untimed)\n",
    "1. **start_stopping**\n",
    "$$m = START ∧ m′ = STOPPING ∧ t′=t ∧ v′=v ∧ r′=r$$ \n",
    "2. **stopping_blocked**\n",
    "$$m = STOPPING ∧ m′ = BLOCKED ∧ v > 0 ∧ r >= 0 ∧ timer′ = 0 ∧ v-r < pv ∧t′=t ∧ v′=v ∧ r′=r  $$ \n",
    "3. **all_stoped**\n",
    "$$(m = STOPPING \\vee m = BLOCKED\\vee m = FREE )∧ m′ = STOPPED ∧ v < pv ∧ r < pv ∧ v′= 0 ∧ r′=0  ∧ t′=t  $$\n",
    "4. **blocked_free**\n",
    "$$m = BLOCKED ∧ m′ = FREE ∧ v > 0 ∧ r >= 0 ∧ timer >= tbf ∧ timer′ = 0 ∧ t′=t ∧ v′=v ∧ r′=r  $$\n",
    "5. **free_stopping**\n",
    "$$m = FREE ∧ m′ = STOPPING ∧ v > 0 ∧ r >= 0 ∧ timer >= tbf ∧ t′=t ∧ v′=v ∧ r′=r  $$"
   ]
  },
  {
   "attachments": {},
   "cell_type": "markdown",
   "metadata": {},
   "source": [
    "# Condições do trans para o ABS (timed)\n",
    "1. **stopping (com granularidade)**\n",
    "$$m = STOPPING ∧ m′ = STOPPING ∧ t′>t ∧ v-r >= pv ∧ r′-v′ >= 0 ∧ v >= 0 ∧ r >=0∧ v′ >= 0∧ r′>=0 ∧ v-r < i + 0.5 ∧ v-r => i - 0.5  ∧ v′ = v + (-fc2 * i) * (t′-t) ∧ r′ = r + (-a*p + fc2 * i) * (t′-t) $$ \n",
    "2. **free (com granularidade)**\n",
    "$$m = FREE ∧ m′ = FREE ∧ t′>t ∧ v-r >= pv ∧ r′-v′ >= 0 ∧ v >= 0 ∧ r >=0∧ v′ >= 0∧ r′>=0∧ timer′ <= tbf ∧ timer′ = timer + t′ - t ∧ v-r < i + 0.5 ∧ v-r => i - 0.5  ∧ v′ = v + (-fc1 * i) * (t′-t) ∧ r′ = r + (-a*p + fc1 * i) * (t′-t) $$ \n",
    "3. **blocked**\n",
    "$$m = BLOCKED ∧ m′ = BLOCKED ∧ t′>t  ∧ v >= 0 ∧ r >=0 ∧ v′ >= 0 ∧ r′>=0 ∧ timer′ <= tbf ∧ timer′ = timer + t′ - t ∧ v′ = v + (-a*p) * (t′-t) ∧ r′ = r + (-a*p + fc1 * i) * (t′-t) $$ "
   ]
  },
  {
   "attachments": {},
   "cell_type": "markdown",
   "metadata": {},
   "source": [
    "# Autómato híbrido "
   ]
  },
  {
   "attachments": {},
   "cell_type": "markdown",
   "metadata": {},
   "source": [
    "![Final](Final.png)\n"
   ]
  },
  {
   "attachments": {},
   "cell_type": "markdown",
   "metadata": {},
   "source": [
    "# Propriedades que caracterizam o comportamento desejável do sistema"
   ]
  },
  {
   "attachments": {},
   "cell_type": "markdown",
   "metadata": {},
   "source": [
    "1. ”o veículo imobiliza-se completamente em menos de $t$ segundos” \n",
    "$$ t >= tm \\implies m = STOPPED $$\n",
    "2. “a velocidade $V$ diminui sempre com o tempo”\n",
    "$$ t < t′ \\implies v > v′"
   ]
  },
  {
   "attachments": {},
   "cell_type": "markdown",
   "metadata": {},
   "source": [
    "# Codificação do Problema "
   ]
  },
  {
   "attachments": {},
   "cell_type": "markdown",
   "metadata": {},
   "source": [
    "**Importar o solver**\n",
    "1. Importar o z3-solver"
   ]
  },
  {
   "cell_type": "code",
   "execution_count": 92,
   "metadata": {},
   "outputs": [],
   "source": [
    "from z3 import *"
   ]
  },
  {
   "attachments": {},
   "cell_type": "markdown",
   "metadata": {},
   "source": [
    "**Mode**\n",
    "1. Criar os \"Mode\" com a função $EnumSort$ para utilizarmos no FOTS"
   ]
  },
  {
   "cell_type": "code",
   "execution_count": 93,
   "metadata": {},
   "outputs": [],
   "source": [
    "Mode, (START, FREE, STOPPING, BLOCKED, STOPPED) = EnumSort(\n",
    "    \"Mode\", (\"START\", \"FREE\", \"STOPPING\", \"BLOCKED\", \"STOPPED\"))"
   ]
  },
  {
   "attachments": {},
   "cell_type": "markdown",
   "metadata": {},
   "source": [
    "**Constantes**\n",
    "1. Declarar as constantes do FOTS relacionadas com o ABS"
   ]
  },
  {
   "cell_type": "code",
   "execution_count": 94,
   "metadata": {},
   "outputs": [],
   "source": [
    "# Contanste das formulas\n",
    "atrito = 0.02\n",
    "\n",
    "\n",
    "forca_compressao_1 = 0\n",
    "\n",
    "#usado somento no stopping\n",
    "forca_compressao_2 = 7\n",
    "\n",
    "peso_veiculo = 1000\n",
    "\n",
    "delta_tempo = 0.1\n",
    "tempo_block_free = 0.3\n",
    "tempo_maximo = 20\n",
    "\n",
    "velocidade_inicial = 20\n",
    "\n",
    "\n",
    "# Esta constante existe para não entrarmos num infinito de nunca chegar a velocidade 0\n",
    "precisão_velocidade = 0.5"
   ]
  },
  {
   "attachments": {},
   "cell_type": "markdown",
   "metadata": {},
   "source": [
    "**Função \"declare\"**<br>\n",
    "Esta função é responsável pela declaração de todas as variáveis que serão utilizadas no solver.\n",
    "1. Parâmetros:\n",
    "    1. $i$ -> um inteiro que será responsável por dar o nr às variaveis\n",
    "2. Função:\n",
    "    1. Inicialmente criamos um dicionário para colocar todas as variáveis necessárias.\n",
    "    2. Criamos 5 variáveis: $m$ (switcher), $v$, $r$, $t$ e $timer$\n",
    "3. Return do novo dicionário com as variáveis"
   ]
  },
  {
   "cell_type": "code",
   "execution_count": 95,
   "metadata": {},
   "outputs": [],
   "source": [
    "def declare(i):\n",
    "    state = {}\n",
    "    state[\"t\"] = Real(\"t\"+str(i))  \n",
    "    state[\"v\"] = Real(\"v\"+str(i))  \n",
    "    state[\"r\"] = Real(\"r\"+str(i))  \n",
    "    state[\"m\"] = Const(\"m\"+str(i), Mode)  \n",
    "    state[\"timer\"] = Real(\"timer\"+str(i))\n",
    "    return state\n"
   ]
  },
  {
   "attachments": {},
   "cell_type": "markdown",
   "metadata": {},
   "source": [
    "**Função \"init\"**<br>\n",
    "Esta função é responsável pela inicialização do primeiro node do traço.\n",
    "1. Parâmetros:\n",
    "    1. $state$ -> Primeiro membro do dicionário principal da função\n",
    "2. Return de um \"And\" com a seguinte condição lógica:  ($t =0 ∧ v= vi ∧ r=vi ∧ m=START$)"
   ]
  },
  {
   "cell_type": "code",
   "execution_count": 96,
   "metadata": {},
   "outputs": [],
   "source": [
    "def init(state):\n",
    "    return And(state[\"t\"] == 0,\n",
    "               state[\"v\"] == velocidade_inicial,\n",
    "               state[\"r\"] == velocidade_inicial,\n",
    "               state[\"m\"] == START)\n"
   ]
  },
  {
   "attachments": {},
   "cell_type": "markdown",
   "metadata": {},
   "source": [
    "**Função \"trans\"**<br>\n",
    "Esta função é responsável pela criação das conexões lógicas necessárias para o FOTS.\n",
    "1. Parâmetros:\n",
    "    1. $curr$ -> Membro atual do traço\n",
    "    2. $prox$ -> Membro seguinte ao atual do traço\n",
    "2. Função:\n",
    "    1. Criamos as condições lógicas do untimed:\n",
    "        1. start_stopping: $(m = START ∧ m′ = STOPPING ∧ t′=t ∧ v′=v ∧ r′=r)$\n",
    "        2. stopping_blocked: $(m = STOPPING ∧ m′ = BLOCKED ∧ v > 0 ∧ r >= 0 ∧ timer′ = 0 ∧ v-r < pv ∧t′=t ∧ v′=v ∧ r′=r)$\n",
    "        3. all_stopped: $(m = STOPPING \\vee m = BLOCKED\\vee m = FREE )∧ m′ = STOPPED ∧ v < pv ∧ r < pv ∧ v′= 0 ∧ r′=0  ∧ t′=t)$\n",
    "        4. blocked_free: $(m = BLOCKED ∧ m′ = FREE ∧ v > 0 ∧ r >= 0 ∧ timer >= tbf ∧ timer′ = 0 ∧ t′=t ∧ v′=v ∧ r′=r)$\n",
    "        5. free_stopping: $(m = FREE ∧ m′ = STOPPING ∧ v > 0 ∧ r >= 0 ∧ timer >= tbf ∧ t′=t ∧ v′=v ∧ r′=r)$\n",
    "    2. Criamos as condições lógicas do timed:\n",
    "        1. stopping: $(m = STOPPING ∧ m′ = STOPPING ∧ t′>t ∧ v-r >= pv ∧ r′-v′ >= 0 ∧ v >= 0 ∧ r >=0∧ v′ >= 0∧ r′>=0 ∧ v-r < i + 0.5 ∧ v-r => i - 0.5  ∧ v′ = v + (-fc2 * i) * (t′-t) ∧ r′ = r + (-a*p + fc2 * i) * (t′-t))$\n",
    "        2. free: $(m = FREE ∧ m′ = FREE ∧ t′>t ∧ v-r >= pv ∧ r′-v′ >= 0 ∧ v >= 0 ∧ r >=0∧ v′ >= 0∧ r′>=0∧ timer′ <= tbf ∧ timer′ = timer + t′ - t ∧ v-r < i + 0.5 ∧ v-r => i - 0.5  ∧ v′ = v + (-fc1 * i) * (t′-t) ∧ r′ = r + (-a*p + fc1 * i) * (t′-t))$\n",
    "        3. blocked: $(m = BLOCKED ∧ m′ = BLOCKED ∧ t′>t  ∧ v >= 0 ∧ r >=0 ∧ v′ >= 0 ∧ r′>=0 ∧ timer′ <= tbf ∧ timer′ = timer + t′ - t ∧ v′ = v + (-a*p) * (t′-t) ∧ r′ = r + (-a*p + fc1 * i) * (t′-t))$\n",
    "    3. Condição Lógica para parar o algoritmo:\n",
    "        1. end: $(m = STOPPED ∧ m′ = STOPPED ∧ t′=t ∧ v′=v ∧ r′=r)$\n",
    "3. Return de um \"And\" com a seguinte condição lógica:  ($ transita01 \\vee transita02 \\vee transita03 \\vee transita04 $)"
   ]
  },
  {
   "cell_type": "code",
   "execution_count": 97,
   "metadata": {},
   "outputs": [],
   "source": [
    "def trans(curr, prox):\n",
    "\n",
    "    # Estado atual igual ao futuro\n",
    "    tt = (curr[\"t\"] == prox[\"t\"])\n",
    "    vv = (curr[\"v\"] == prox[\"v\"])\n",
    "    rr = (curr[\"r\"] == prox[\"r\"])\n",
    "\n",
    "    # untimed\n",
    "    start_stopping = And(curr[\"m\"] == START,\n",
    "                         prox[\"m\"] == STOPPING,\n",
    "                         tt, vv, rr)\n",
    "\n",
    "    stopping_blocked = And(curr[\"m\"] == STOPPING,\n",
    "                           prox[\"m\"] == BLOCKED,\n",
    "                           curr[\"v\"] > 0,\n",
    "                           curr[\"r\"] >= 0,\n",
    "                           prox[\"timer\"] == 0,\n",
    "                           curr[\"v\"]-curr[\"r\"] < precisão_velocidade,\n",
    "                           tt, vv, rr)\n",
    "\n",
    "    all_stopped = And(Or(curr[\"m\"] == STOPPING,\n",
    "                         curr[\"m\"] == BLOCKED,\n",
    "                         curr[\"m\"] == FREE),\n",
    "                      prox[\"m\"] == STOPPED,\n",
    "                      curr[\"v\"] < precisão_velocidade,\n",
    "                      curr[\"r\"] < precisão_velocidade,\n",
    "                      prox[\"v\"] == 0,\n",
    "                      prox[\"r\"] == 0,\n",
    "                      tt)\n",
    "\n",
    "    blocked_free = And(curr[\"m\"] == BLOCKED,\n",
    "                       prox[\"m\"] == FREE,\n",
    "                       curr[\"v\"] > 0,\n",
    "                       curr[\"r\"] >= 0,\n",
    "                       curr[\"timer\"] >= tempo_block_free,\n",
    "                       prox[\"timer\"] == 0,\n",
    "                       tt, vv, rr)\n",
    "\n",
    "    free_stopping = And(curr[\"m\"] == FREE,\n",
    "                        prox[\"m\"] == STOPPING,\n",
    "                        curr[\"v\"] > 0,\n",
    "                        curr[\"r\"] >= 0,\n",
    "                        curr[\"timer\"] >= tempo_block_free,\n",
    "                        tt, vv, rr)\n",
    "\n",
    "    # timed\n",
    "    stopping = Or([And(curr[\"m\"] == STOPPING,\n",
    "                       prox[\"m\"] == STOPPING,\n",
    "                       prox[\"t\"] > curr[\"t\"],\n",
    "                       curr[\"v\"]-curr[\"r\"] >= precisão_velocidade,\n",
    "                       prox[\"v\"]-prox[\"r\"] >= 0,\n",
    "                       curr[\"v\"] >= 0,\n",
    "                       curr[\"r\"] >= 0,\n",
    "                       prox[\"v\"] >= 0,\n",
    "                       prox[\"r\"] >= 0,\n",
    "                       curr[\"v\"]-curr[\"r\"] < i+0.5,\n",
    "                       curr[\"v\"]-curr[\"r\"] >= i-0.5,\n",
    "\n",
    "                       # Equaçoes do stopping/free\n",
    "                       prox[\"v\"] == (curr[\"v\"]+((-forca_compressao_2*i))*(prox[\"t\"]-curr[\"t\"])),\n",
    "                       prox[\"r\"] == (curr[\"r\"]+(-atrito*peso_veiculo + forca_compressao_2*i)*(prox[\"t\"]-curr[\"t\"]))) for i in range(velocidade_inicial+1)])\n",
    "\n",
    "    free = Or([And(curr[\"m\"] == FREE,\n",
    "                   prox[\"m\"] == FREE,\n",
    "                   prox[\"t\"] > curr[\"t\"],\n",
    "                   prox[\"v\"]-prox[\"r\"] >= 0,\n",
    "                   curr[\"v\"] >= 0,\n",
    "                   curr[\"r\"] >= 0,\n",
    "                   prox[\"v\"] >= 0,\n",
    "                   prox[\"r\"] >= 0,\n",
    "                   prox[\"timer\"] <= tempo_block_free,\n",
    "                   prox[\"timer\"] == curr[\"timer\"]+prox[\"t\"]-curr[\"t\"],\n",
    "                   curr[\"v\"]-prox[\"r\"] < i+0.5,\n",
    "                   curr[\"r\"]-prox[\"r\"] >= i-0.5,\n",
    "\n",
    "                   # Equaçoes do stopping/free\n",
    "                   prox[\"v\"] == (curr[\"v\"]+(-forca_compressao_1*i)*(prox[\"t\"]-curr[\"t\"])),\n",
    "                   prox[\"r\"] == (curr[\"r\"]+(-atrito*peso_veiculo + forca_compressao_1*i)*(prox[\"t\"]-curr[\"t\"])))for i in range(velocidade_inicial+1)])\n",
    "\n",
    "    blocked = And(curr[\"m\"] == BLOCKED,\n",
    "                  prox[\"m\"] == BLOCKED,\n",
    "                  prox[\"t\"] > curr[\"t\"],\n",
    "                  curr[\"v\"] >= 0,\n",
    "                  curr[\"r\"] >= 0,\n",
    "                  prox[\"v\"] >= 0,\n",
    "                  prox[\"r\"] >= 0,\n",
    "                  prox[\"timer\"] <= tempo_block_free,\n",
    "                  prox[\"timer\"] == curr[\"timer\"]+prox[\"t\"]-curr[\"t\"],\n",
    "\n",
    "                  # Equaçoes do blocked\n",
    "                  prox[\"v\"] == curr[\"v\"] + (-atrito*peso_veiculo) * (prox[\"t\"]-curr[\"t\"]),\n",
    "                  prox[\"r\"] == curr[\"r\"] + (-atrito*peso_veiculo) * (prox[\"t\"]-curr[\"t\"]))\n",
    "\n",
    "    # Acabou\n",
    "    end = And(curr[\"m\"] == STOPPED,\n",
    "              prox[\"m\"] == STOPPED,\n",
    "              tt, vv, rr)\n",
    "\n",
    "    return Or(start_stopping, stopping_blocked, all_stopped, blocked_free, free_stopping, stopping, free, blocked, end)\n"
   ]
  },
  {
   "attachments": {},
   "cell_type": "markdown",
   "metadata": {},
   "source": [
    "**Função \"gera_traço\"**<br>\n",
    "Esta é a função principal e é a que irar juntar as funções todas e gerar o traço pretendido e com ele tabelar o output\n",
    "1. Parâmetros:\n",
    "    1. $declare$ -> Função declare\n",
    "    2. $init$ -> Função init\n",
    "    3. $trans$ -> Função trans\n",
    "    4. $k$ -> Tamanho do traço (input do utilizador)\n",
    "2. Função:\n",
    "    1. Iniciamos o Solver\n",
    "    2. Criar o traço com as variáveis\n",
    "    3. Inicializar as variáveis essencias no primeiro node do traço\n",
    "    4. Criar a conexão lógica entre os nodes do traço todos e adicionar ao solver\n",
    "    5. Correr o Solver e tabelar o resultado\n"
   ]
  },
  {
   "cell_type": "code",
   "execution_count": 98,
   "metadata": {},
   "outputs": [],
   "source": [
    "def gera_traco(declare, init, trans, k):\n",
    "    s = Solver()\n",
    "    \n",
    "    #Gerar o traço\n",
    "    trace = [declare(i) for i in range(k)]\n",
    "\n",
    "    #Gerar o primeiro estado\n",
    "    s.add(init(trace[0]))\n",
    "\n",
    "    #Gerar as condições lógicas do traço\n",
    "    for i in range(k-1):\n",
    "        s.add(trans(trace[i], trace[i+1]))\n",
    "\n",
    "    if s.check() == sat:\n",
    "        m = s.model()\n",
    "        for i in range(k):\n",
    "            print(i)         \n",
    "            for v in trace[i]:\n",
    "                if v != \"timer\":\n",
    "                    if trace[i][v].sort() == RealSort():\n",
    "                        print(v, '=', m[trace[i][v]].numerator_as_long()/m[trace[i][v]].denominator_as_long())\n",
    "                    else:\n",
    "                        print(v, \"=\", m[trace[i][v]])\n"
   ]
  },
  {
   "attachments": {},
   "cell_type": "markdown",
   "metadata": {},
   "source": [
    "**Função das propriedades**\n",
    "1. Propriedade: ”o veículo imobiliza-se completamente em menos de $t$ segundos” \n",
    "2. Propriedade: “a velocidade $V$ diminui sempre com o tempo”\n"
   ]
  },
  {
   "cell_type": "code",
   "execution_count": 99,
   "metadata": {},
   "outputs": [],
   "source": [
    "def propriedade1(state):\n",
    "    return Implies(state[\"t\"]>=tempo_maximo,\n",
    "                   state[\"m\"]==STOPPED)\n",
    "\n",
    "\n",
    "def propriedade2(curr,prox):\n",
    "    return Implies(curr[\"t\"]<prox[\"t\"],\n",
    "                   curr[\"v\"]>prox[\"v\"])"
   ]
  },
  {
   "attachments": {},
   "cell_type": "markdown",
   "metadata": {},
   "source": [
    "**Função \"bmc\"**<br>\n",
    "Esta é a função é responsável por verificar as propriedades. Em suma, faz o mesmo que a gera traço, mas adiciona algumas propriedades lógicas necessárias para a verificação.\n",
    "1. Parâmetros:\n",
    "    1. $declare$ -> Função declare\n",
    "    2. $init$ -> Função init\n",
    "    3. $trans$ -> Função trans\n",
    "    4. $propriedade1$ -> Propriedade do problema\n",
    "    5. $propriedade2$ -> Propriedade do problema\n",
    "    6. $k$ -> Tamanho do traço (input do utilizador)\n",
    "2. Função:\n",
    "    1. Iniciamos o Solver\n",
    "    2. Criar o traço com as variáveis\n",
    "    3. Inicializar as variáveis essencias no primeiro node do traço\n",
    "    4. Criar a conexão lógica entre os nodes do traço todos e adicionar ao solver\n",
    "        1. Neste passo, também adicionar a propriedade 2 negada\n",
    "    5. Adicionar a propriedade 1 negada\n",
    "    6. Correr o Solver e verificar\n"
   ]
  },
  {
   "cell_type": "code",
   "execution_count": 100,
   "metadata": {},
   "outputs": [],
   "source": [
    "def bmc(declare,init,trans,propriedade1,propriedade2,K):\n",
    "    for k in range(1, K+1):\n",
    "        s = Solver()\n",
    "\n",
    "        #Gerar o traço\n",
    "        trace = [declare(i) for i in range(k)]\n",
    "\n",
    "        #Gerar o primeiro estado\n",
    "        s.add(init(trace[0]))\n",
    "\n",
    "        #Gerar as condições lógicas do traço\n",
    "        for i in range(k-1):\n",
    "            s.add(trans(trace[i],trace[i+1]))\n",
    "\n",
    "            #Propriedade2\n",
    "            s.add(Or(Not(propriedade2(trace[i],trace[i+1]))))\n",
    "        \n",
    "        #Propriedade1\n",
    "        s.add(Or(Not(propriedade1(trace[k-1]))))\n",
    "\n",
    "\n",
    "        if s.check() == sat:\n",
    "            print(\"Propriedades falsas\")\n",
    "            return\n",
    "\n",
    "    print(\"Propriedades verdadeiras\")\n"
   ]
  },
  {
   "attachments": {},
   "cell_type": "markdown",
   "metadata": {},
   "source": [
    "**Executar o código**"
   ]
  },
  {
   "cell_type": "code",
   "execution_count": 101,
   "metadata": {},
   "outputs": [
    {
     "name": "stdout",
     "output_type": "stream",
     "text": [
      "Propriedades verdadeiras\n",
      "0\n",
      "t = 0.0\n",
      "v = 20.0\n",
      "r = 20.0\n",
      "m = START\n",
      "1\n",
      "t = 0.0\n",
      "v = 20.0\n",
      "r = 20.0\n",
      "m = STOPPING\n",
      "2\n",
      "t = 0.0\n",
      "v = 20.0\n",
      "r = 20.0\n",
      "m = BLOCKED\n",
      "3\n",
      "t = 0.3\n",
      "v = 14.0\n",
      "r = 14.0\n",
      "m = BLOCKED\n",
      "4\n",
      "t = 0.3\n",
      "v = 14.0\n",
      "r = 14.0\n",
      "m = FREE\n",
      "5\n",
      "t = 0.6\n",
      "v = 13.25\n",
      "r = 8.75\n",
      "m = FREE\n",
      "6\n",
      "t = 0.6\n",
      "v = 13.25\n",
      "r = 8.75\n",
      "m = STOPPING\n",
      "7\n",
      "t = 0.6601411145658933\n",
      "v = 11.145060990193734\n",
      "r = 9.6521167184884\n",
      "m = STOPPING\n",
      "8\n",
      "t = 1.4020688830423345\n",
      "v = 5.951566610858646\n",
      "r = 0.007055728294666348\n",
      "m = STOPPING\n",
      "9\n",
      "t = 1.487359857091605\n",
      "v = 2.369345700789285\n",
      "r = 1.8834571573786176\n",
      "m = STOPPING\n",
      "10\n",
      "t = 1.487359857091605\n",
      "v = 2.369345700789285\n",
      "r = 1.8834571573786176\n",
      "m = BLOCKED\n",
      "11\n",
      "t = 1.5811799285458024\n",
      "v = 0.49294427170533367\n",
      "r = 0.007055728294666348\n",
      "m = BLOCKED\n",
      "12\n",
      "t = 1.5811799285458024\n",
      "v = 0.0\n",
      "r = 0.0\n",
      "m = STOPPED\n",
      "13\n",
      "t = 1.5811799285458024\n",
      "v = 0.0\n",
      "r = 0.0\n",
      "m = STOPPED\n",
      "14\n",
      "t = 1.5811799285458024\n",
      "v = 0.0\n",
      "r = 0.0\n",
      "m = STOPPED\n",
      "15\n",
      "t = 1.5811799285458024\n",
      "v = 0.0\n",
      "r = 0.0\n",
      "m = STOPPED\n",
      "16\n",
      "t = 1.5811799285458024\n",
      "v = 0.0\n",
      "r = 0.0\n",
      "m = STOPPED\n",
      "17\n",
      "t = 1.5811799285458024\n",
      "v = 0.0\n",
      "r = 0.0\n",
      "m = STOPPED\n",
      "18\n",
      "t = 1.5811799285458024\n",
      "v = 0.0\n",
      "r = 0.0\n",
      "m = STOPPED\n",
      "19\n",
      "t = 1.5811799285458024\n",
      "v = 0.0\n",
      "r = 0.0\n",
      "m = STOPPED\n"
     ]
    }
   ],
   "source": [
    "bmc(declare,init,trans,propriedade1,propriedade2,10) #Verificar as propriedades do exercício\n",
    "gera_traco(declare, init, trans, 20)                 #Correr o Código\n"
   ]
  }
 ],
 "metadata": {
  "kernelspec": {
   "display_name": "Python 3",
   "language": "python",
   "name": "python3"
  },
  "language_info": {
   "codemirror_mode": {
    "name": "ipython",
    "version": 3
   },
   "file_extension": ".py",
   "mimetype": "text/x-python",
   "name": "python",
   "nbconvert_exporter": "python",
   "pygments_lexer": "ipython3",
   "version": "3.10.3 (tags/v3.10.3:a342a49, Mar 16 2022, 13:07:40) [MSC v.1929 64 bit (AMD64)]"
  },
  "orig_nbformat": 4,
  "vscode": {
   "interpreter": {
    "hash": "fa5e5e9a487e2dd76c7ea7823608b3e5576beb764152fabbf69ac7563ac3923b"
   }
  }
 },
 "nbformat": 4,
 "nbformat_minor": 2
}
