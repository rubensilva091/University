{
 "cells": [
  {
   "attachments": {},
   "cell_type": "markdown",
   "metadata": {},
   "source": [
    "# Exercício 2 (Correção Bubble Sort) - Trabalho Prático 4\n",
    "\n",
    "**Grupo 4:**<br>Carlos  Costa-A94543<br>Ruben Silva-A94633"
   ]
  },
  {
   "attachments": {},
   "cell_type": "markdown",
   "metadata": {},
   "source": [
    "# Problema: \n",
    "O programa Python seguinte implementa o algoritmo de bubble sort para ordenação in situ de um array de inteiros seq.\n",
    "\n",
    "\n",
    "    seq = [-2,1,2,-1,4,-4,-3,3]\n",
    "    changed = True\n",
    "    while changed:\n",
    "        changed = False\n",
    "        for i in range(len(seq) - 1):\n",
    "            if seq[i] > seq[i+1]:\n",
    "                seq[i], seq[i+1] = seq[i+1], seq[i]\n",
    "                changed = True\n",
    "    pass     \n",
    "\n",
    "\n",
    "1. Defina a pré-condição e a pós-condição que descrevem a especificação deste algoritmo.\n",
    "2. Sugira um invariante.\n",
    "3. O ciclo for pode ser descrito por uma transição $\\,\\mathtt{seq}\\gets \\mathit{exp}(\\mathtt{seq})\\,$. Construa uma relação de transição $\\;\\mathsf{trans}(\\mathtt{seq},\\mathtt{seq}')\\,$ que modele esta atribuição.\n",
    "4. Usando a técnica que lhe parecer mais conveniente verifique a correção do algoritmo."
   ]
  },
  {
   "attachments": {},
   "cell_type": "markdown",
   "metadata": {},
   "source": [
    "# Análise do Problema\n",
    "Este é um problema sobre um a correção de um algoritmo, neste caso especificio, um BubbleSort.<br>\n",
    "Para o resolução teorica do problema foi usada as seguintes variáveis:\n",
    "\n",
    "* $seq \\rightarrow$ Array\n",
    "* $n ∈ \\mathbb{N} \\rightarrow$ Indice atual do array\n"
   ]
  },
  {
   "attachments": {},
   "cell_type": "markdown",
   "metadata": {},
   "source": [
    "# Condições do trans para o trans(seq,seq′)\n",
    "1. **same_list**\n",
    "$$\\forall_{n}:seq_n′ = seq_n$$ \n",
    "2. **trans01**\n",
    "$$seq_n > seq_{n+1} ∧ seq_n′ = seq_{n+1} ∧ seq_{n+1}′ = seq_n ∧ samelist$$ \n",
    "3. **trans02**\n",
    "$$seq_n <= seq_{n+1} ∧ seq_n′ = seq_{n} ∧ seq_{n+1}′ = seq_{n+1} ∧ samelist$$"
   ]
  },
  {
   "attachments": {},
   "cell_type": "markdown",
   "metadata": {},
   "source": [
    "# Pré e Pós Condições \n",
    "1. Pré-Condição:<br>\n",
    "Esta pré condição garante-nos que a lista tem o minímo de elementos para ser possível fazer uma comparação\n",
    "$$ n >=2$$\n",
    "2. Pós-Condição:<br>\n",
    "Esta pré condição garante-nos que a cada membro da lista é menor que o seu sucessor\n",
    "$$\\forall_{i < n}: seq[i] \\le seq[i+1]$$"
   ]
  },
  {
   "attachments": {},
   "cell_type": "markdown",
   "metadata": {},
   "source": [
    "# Codificação do Algoritmo"
   ]
  },
  {
   "attachments": {},
   "cell_type": "markdown",
   "metadata": {},
   "source": [
    "**Importar o solver**\n",
    "1. Importar o z3-solver"
   ]
  },
  {
   "cell_type": "code",
   "execution_count": 1,
   "metadata": {},
   "outputs": [],
   "source": [
    "from z3 import *"
   ]
  },
  {
   "attachments": {},
   "cell_type": "markdown",
   "metadata": {},
   "source": [
    "**Função \"declare\"**<br>\n",
    "Esta função é responsável pela declaração de todas as variáveis que serão utilizadas no solver.\n",
    "1. Parâmetros:\n",
    "    1. $i$ -> um inteiro que será responsável por dar o nr às variaveis\n",
    "    2. $size$ -> Tamanho do array\n",
    "2. Função:\n",
    "    1. Inicialmente criamos um dicionário para colocar todas as variáveis necessárias.\n",
    "    2. Criamos $n$ variáveis: (todos os membros do array)\n",
    "3. Return do novo dicionário com as variáveis"
   ]
  },
  {
   "cell_type": "code",
   "execution_count": 2,
   "metadata": {},
   "outputs": [],
   "source": [
    "def declare(i, size):\n",
    "    state = {}\n",
    "    for n in range(size):\n",
    "        state[\"seq\"+str(n)] = Int(\"seq\"+str(n)+\"frame\"+str(i))\n",
    "    return state"
   ]
  },
  {
   "attachments": {},
   "cell_type": "markdown",
   "metadata": {},
   "source": [
    "**Função \"init\"**<br>\n",
    "Esta função é responsável pela inicialização do primeiro node do traço.\n",
    "1. Parâmetros:\n",
    "    1. $state$ -> Primeiro node do traço\n",
    "    2. $sequence$ -> Array para usar no FOTS\n",
    "2. Return de um \"And\" com a seguinte condição lógica: todos os membros do traço inicial com o mesmo valor do $sequence$"
   ]
  },
  {
   "cell_type": "code",
   "execution_count": 3,
   "metadata": {},
   "outputs": [],
   "source": [
    "def init(state, sequence):\n",
    "    init_list = []\n",
    "    for n in range(len(sequence)):\n",
    "        init_list.append(state[\"seq\"+str(n)] == sequence[n])\n",
    "    return And(init_list)"
   ]
  },
  {
   "attachments": {},
   "cell_type": "markdown",
   "metadata": {},
   "source": [
    "**Função \"trans\"**<br>\n",
    "Esta função é responsável pela criação das conexões lógicas necessárias para o FOTS.\n",
    "1. Parâmetros:\n",
    "    1. $curr$ -> Membro atual do traço\n",
    "    2. $prox$ -> Membro seguinte ao atual do traço\n",
    "    3. $n$ -> Index atual do array\n",
    "    4. $size$ -> Tamanho do array\n",
    "2. Função:\n",
    "    1. Criamos as condições lógicas:\n",
    "        1. trans01: $(seq_n > seq_{n+1} ∧ seq_n′ = seq_{n+1} ∧ seq_{n+1}′ = seq_n ∧ samelist)$\n",
    "        2. trans02: $(seq_n <= seq_{n+1} ∧ seq_n′ = seq_{n} ∧ seq_{n+1}′ = seq_{n+1} ∧ samelist)$\n",
    "3. Return de um \"Or\" com a seguinte condição lógica:  ($ trans01 \\vee trans02$)"
   ]
  },
  {
   "cell_type": "code",
   "execution_count": 4,
   "metadata": {},
   "outputs": [],
   "source": [
    "def trans(curr, prox, n, size):\n",
    "    same_list = []\n",
    "    if (n+1!=size):\n",
    "        for i in range (size):\n",
    "            if i != n and i != n+1:\n",
    "                same_list.append(prox[\"seq\"+str(i)] == curr[\"seq\"+str(i)])\n",
    "\n",
    "\n",
    "        trans01 = And(curr[\"seq\"+str(n)] > curr[\"seq\"+str(n+1)],\n",
    "                      prox[\"seq\"+str(n)] == curr[\"seq\"+str(n+1)],\n",
    "                      prox[\"seq\"+str(n+1)] == curr[\"seq\"+str(n)],\n",
    "                      And(same_list))\n",
    "\n",
    "        trans02 = And(curr[\"seq\"+str(n)] <= curr[\"seq\"+str(n+1)],\n",
    "                      prox[\"seq\"+str(n)] == curr[\"seq\"+str(n)],\n",
    "                      prox[\"seq\"+str(n+1)] == curr[\"seq\"+str(n+1)],\n",
    "                      And(same_list))\n",
    "\n",
    "        \n",
    "\n",
    "        return Or(trans01,trans02)\n",
    "\n",
    "    for i in range (size):\n",
    "        same_list.append(prox[\"seq\"+str(i)] == curr[\"seq\"+str(i)])\n",
    "    return And(same_list)"
   ]
  },
  {
   "attachments": {},
   "cell_type": "markdown",
   "metadata": {},
   "source": [
    "**Função \"traço\"**<br>\n",
    "Esta é a função principal e é a que irá juntar as funções todas e gerar o traço pretendido e com ele tabelar o output\n",
    "1. Parâmetros:\n",
    "    1. $declare$ -> Função declare\n",
    "    2. $init$ -> Função init\n",
    "    3. $trans$ -> Função trans\n",
    "    4. $sequence$ -> Array para usar no FOTS\n",
    "2. Função:\n",
    "    1. Iniciamos o Solver\n",
    "    2. Calculamos o tamanho do traço\n",
    "    3. Criar o traço com as variáveis\n",
    "    4. Inicializar as variáveis essenciais no primeiro node do traço\n",
    "    5. Criar a conexão lógica entre os nodes do traço todos e adicionar ao solver\n",
    "    6. Correr o Solver e tabelar o resultado"
   ]
  },
  {
   "cell_type": "code",
   "execution_count": 5,
   "metadata": {},
   "outputs": [],
   "source": [
    "def traco(declare, init, trans, sequence):\n",
    "    s = Solver()\n",
    "    size = len(sequence)\n",
    "    k = size*size\n",
    "\n",
    "    #Gerar o traço\n",
    "    trace = [declare(i, size) for i in range(k)]\n",
    "\n",
    "    #Gerar o primeiro estado\n",
    "    s.add(init(trace[0], sequence))\n",
    "\n",
    "    #Gerar as condições lógicas do traço\n",
    "    for i in range(k-1):\n",
    "        s.add(trans(trace[i], trace[i+1], i%size, size))\n",
    "\n",
    "    old_sequence =[]\n",
    "    if s.check() == sat:\n",
    "        m = s.model()\n",
    "        for i in range(k):\n",
    "            sequence_var= []\n",
    "            for v in trace[i]:\n",
    "                sequence_var.append(m[trace[i][v]])\n",
    "            if i%size==0:\n",
    "                if old_sequence == sequence_var :\n",
    "                    return\n",
    "                print(\"Frame: \"+ str(i)) \n",
    "                print(sequence_var)\n",
    "                old_sequence=sequence_var\n"
   ]
  },
  {
   "attachments": {},
   "cell_type": "markdown",
   "metadata": {},
   "source": [
    "# Correção do Algoritmo"
   ]
  },
  {
   "attachments": {},
   "cell_type": "markdown",
   "metadata": {},
   "source": [
    "**Pré/Pós-condição**\n"
   ]
  },
  {
   "cell_type": "code",
   "execution_count": 6,
   "metadata": {},
   "outputs": [],
   "source": [
    "def pre(sequence):\n",
    "    return And(len(sequence)>=2)\n",
    "\n",
    "def pos(curr,sequence):\n",
    "    return And([curr[\"seq\"+str(i)]<=curr[\"seq\"+str(i+1)] for i in range(len(sequence)-2)])\n"
   ]
  },
  {
   "attachments": {},
   "cell_type": "markdown",
   "metadata": {},
   "source": [
    "### Strongest post-condition\n",
    "\n",
    "Na abordagem SPC a denotação de um fluxo com um comando de atribuição introduz um quantificador existencial, o que não é adequado à verificação com SMT solvers: \n",
    "$ \\quad [ C \\; ; x = e ] \\; =  \\; \\exists a. (x = e[a/x]) \\wedge [C][a/x] $\n",
    "\n",
    "Para lidar com este problema pode-se converter o programa original ao formato \"*single assignment*\" (SA).\n",
    "Num programa SA cada variável só pode ser usada depois de ser atribuida e só pode ser atribuída uma única vez.\n",
    "\n",
    "Um programa (onde variáveis são atribuídas mais do que uma vez) pode ser reescrito num programa SA criando \"clones\" distintos das variáveis de forma a que seja possível fazer uma atribuição única a cada instância.\n",
    "\n",
    "Neste caso, a denotação `[C]` associa a cada fluxo `C` um predicado que caracteriza a sua correcção em termos lógicos (a sua VC) segundo a técnica SPC, sendo calculada pelas seguintes regras.\n",
    "\n",
    "$\n",
    "\\begin{array}{l}\n",
    "[{\\sf skip}] = True \\\\\n",
    "[{\\sf assume}\\:\\phi] = \\phi \\\\\n",
    "[{\\sf assert}\\:\\phi] = \\phi \\\\\n",
    "[x = e ] = (x = e)\\\\\n",
    "[(C_1 || C_2)] = [C_1] \\vee [C_2] \\\\\n",
    "\\\\\n",
    "[C \\, ; {\\sf skip}\\;] = [C] \\\\\n",
    "[C \\, ;{\\sf assume}\\:\\phi] = [C] \\wedge \\phi \\\\\n",
    "[C \\, ;{\\sf assert}\\:\\phi] = [C] \\to \\phi \\\\\n",
    "[ C \\, ; x = e ] = [C] \\wedge (x = e)\\\\\n",
    "[C\\,; (C_1 || C_2)] = [(C ; C_1) || (C; C_2)]\n",
    "\\end{array}\n",
    "$\n",
    "\n"
   ]
  },
  {
   "cell_type": "code",
   "execution_count": 7,
   "metadata": {},
   "outputs": [],
   "source": [
    "def strongestPostCondition(declare, init, trans, sequence):\n",
    "    s = Solver()\n",
    "    size = len(sequence)\n",
    "    k = size*size\n",
    "\n",
    "    #Pre-Condição\n",
    "    pre_Condition = pre(sequence)\n",
    "\n",
    "    #Gerar o traço\n",
    "    trace = [declare(i, size) for i in range(k)]\n",
    "\n",
    "    #Variavel para fazer as condições logicas do programa\n",
    "    prog = []\n",
    "\n",
    "    #Gerar o primeiro estado\n",
    "    prog.append(And(init(trace[0], sequence)))\n",
    "\n",
    "    #Gerar as condições lógicas do traço\n",
    "    for i in range(k-1):\n",
    "        prog.append(And(trans(trace[i], trace[i+1], i%size, size)))\n",
    "\n",
    "    #Pos-Condição\n",
    "    pos_Condition = pos(trace[len(prog)-1], sequence)\n",
    "\n",
    "    \n",
    "    #Formula final do strongest post condition\n",
    "    #Transformar a lista numa sequencia lógica\n",
    "    prog = And(prog)\n",
    "\n",
    "    #Funfção final do SPC\n",
    "    spc = Not(Implies(And(pre_Condition,prog), pos_Condition))\n",
    "\n",
    "    #Adicionar o spc ao solver\n",
    "    s.add(spc)\n",
    "\n",
    "    #Correr\n",
    "    if s.check() == sat:\n",
    "        print(\"Falhou\")\n",
    "    print(\"Correção do Algoritmo provado com sucesso!!!\\n\")"
   ]
  },
  {
   "attachments": {},
   "cell_type": "markdown",
   "metadata": {},
   "source": [
    "**Executar o código**"
   ]
  },
  {
   "cell_type": "code",
   "execution_count": 8,
   "metadata": {},
   "outputs": [
    {
     "name": "stdout",
     "output_type": "stream",
     "text": [
      "Correção do Algoritmo provado com sucesso\n",
      "\n",
      "Frame: 0\n",
      "[-2, 1, 2, -1, 4, -4, -3, 3]\n",
      "Frame: 8\n",
      "[-2, 1, -1, 2, -4, -3, 3, 4]\n",
      "Frame: 16\n",
      "[-2, -1, 1, -4, -3, 2, 3, 4]\n",
      "Frame: 24\n",
      "[-2, -1, -4, -3, 1, 2, 3, 4]\n",
      "Frame: 32\n",
      "[-2, -4, -3, -1, 1, 2, 3, 4]\n",
      "Frame: 40\n",
      "[-4, -3, -2, -1, 1, 2, 3, 4]\n"
     ]
    }
   ],
   "source": [
    "sequence = [-2,1,2,-1,4,-4,-3,3]\n",
    "strongestPostCondition(declare, init, trans, sequence)\n",
    "traco(declare, init, trans, sequence)\n"
   ]
  }
 ],
 "metadata": {
  "kernelspec": {
   "display_name": "Python 3",
   "language": "python",
   "name": "python3"
  },
  "language_info": {
   "codemirror_mode": {
    "name": "ipython",
    "version": 3
   },
   "file_extension": ".py",
   "mimetype": "text/x-python",
   "name": "python",
   "nbconvert_exporter": "python",
   "pygments_lexer": "ipython3",
   "version": "3.10.3 (tags/v3.10.3:a342a49, Mar 16 2022, 13:07:40) [MSC v.1929 64 bit (AMD64)]"
  },
  "orig_nbformat": 4,
  "vscode": {
   "interpreter": {
    "hash": "fa5e5e9a487e2dd76c7ea7823608b3e5576beb764152fabbf69ac7563ac3923b"
   }
  }
 },
 "nbformat": 4,
 "nbformat_minor": 2
}
