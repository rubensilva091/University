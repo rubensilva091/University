{
 "cells": [
  {
   "cell_type": "markdown",
   "metadata": {},
   "source": [
    "# Exercício 2 (Hard Lattices) - Trabalho Prático 1\n",
    "\n",
    "**Grupo 4:**<br>Carlos  Costa-A94543 <br>Ruben Silva-A94633"
   ]
  },
  {
   "cell_type": "markdown",
   "metadata": {},
   "source": [
    "# Problema: \n",
    "\n",
    "Na criptografia pós-quântica os reticulados inteiros (“hard lattices”) e os problemas a eles associados são uma componente essencial. Um reticulado inteiro pode ser definido por uma matriz $\\;\\mathsf{L} \\in \\mathbb{Z}^{m\\times n}\\;$ (com $\\;m > n\\;$) de inteiros e por um inteiro primo $\\;q\\geq 3\\;$.\n",
    "<br>O chamado problema do vetor curto  (SVP) consiste  no cálculo de um vetor de inteiros\n",
    "                                               $\\;e\\in \\{-1,0,1\\}^m\\;$\n",
    "não nulo que  verifique a seguinte relação matricial\n",
    "                                     $$\\forall\\,i < n\\,\\centerdot\\,\\sum_{j< m}\\,e_j\\,\\times\\,\\mathsf{L}_{j,i}\\;\\equiv\\;0\\mod q$$\n",
    "1. Pretende-se resolver o SVP por programação inteira dentro das seguintes condições\n",
    "    1. Os valores  $\\,m\\,,\\,n\\,,\\,q\\,$ são escolhidos com $\\,n > 30\\,$, $\\,|m| > 1 + |n|\\;$ e $\\,|q| > |m|\\,$. \n",
    "    2. Os elementos $\\;\\mathsf{L}_{j,i}\\;$ são gerados aleatória e uniformemente no intervalo inteiro $\\,\\{-d \\cdots d\\}$ sendo  $\\;d\\equiv (q-1)/2\\;$.\n",
    "2. Pretende-se determinar em, em primeiro lugar, se existe um vetor $\\,e\\,$ não nulo (pelo menos um dos $\\,e_j\\,$é diferente de zero). Se existir $\\,e\\,$ pretende-se calcular o vetor que minimiza o número de componentes não nulas.\n",
    "\n",
    "Notas:                  \n",
    "\n",
    "1. Se $\\;x \\ge 0\\;$, representa-se por $\\,|x|\\,$ o tamanho de $\\,x\\,$ em bits:  o menor $\\,\\ell\\,$ tal que $\\,x < 2^\\ell$ .\n",
    "2. Um inteiro $\\;x\\;$ verifica $\\;x \\equiv 0 \\mod q\\;$  sse $x$ é um múltiplo de $q$.\n",
    "$$x \\equiv 0 \\mod q \\;\\quad \\iff \\quad\\; \\exists\\,k\\in \\mathbb{Z}\\,\\centerdot\\, x \\,=\\,q\\times k.$$\n",
    "$\\>$ $\\>$ $\\>$ $\\>$ $\\>$ Por isso, escrito de forma matricial, as relações que  determinam o vetor $\\;e\\neq 0\\;$ são:\n",
    "$$\\left\\{\\begin{array}{rcl}\\exists\\,e\\in \\{-1,0,1\\}^m\\,\\centerdot\\,\\exists\\,k\\in \\mathbb{Z}^n &\\centerdot & e\\times \\mathsf{L} \\;=\\; q\\,k \\\\ \\exists\\,i < n &\\centerdot & e_i \\,\\neq\\, 0 \\end{array}\\right.$$"
   ]
  },
  {
   "cell_type": "markdown",
   "metadata": {},
   "source": [
    "# Análise do problema\n",
    "Este é problema sobre SVP que possui uma relação matricial que tem de ser respeitada.<br>\n",
    "Para se resolver este problema é necessário um dicionário com uma matriz $L^ {m × n}$<br>\n",
    "Também será necessário desenvolver um algoritmo que faça a multiplicação tanto entre Vetor e Matriz, como valor e Vetor.<br><br>\n",
    "Algumas variáveis que useramos para descrever as limitações e as obrigações do nosso problema:\n",
    "* $e ∈ \\{-1,0,1\\}^m\\; \\rightarrow$ Vetor de inteiros não nulo\n",
    "* $q ∈ \\mathbb{P} \\geq 3; \\rightarrow$ Numero inteiro primo maior que 3\n",
    "* $m ∈ \\mathbb{N}; \\rightarrow$ Linhas\n",
    "* $n ∈ \\mathbb{N}; \\rightarrow$ Colunas\n",
    "* $j ∈ \\mathbb{N}; \\rightarrow$ Linhas\n",
    "* $i ∈ \\mathbb{N}; \\rightarrow$ Colunas\n",
    "* $x = (\\forall_{i < n}:\\sum_{j< m}\\,e_j\\,\\times\\,\\mathsf{L}_{j,i}\\;) \\rightarrow$ Simplificação do Somatório\n"
   ]
  },
  {
   "cell_type": "markdown",
   "metadata": {},
   "source": [
    "# Limitações e obrigações\n",
    "\n",
    "**1.  A seguinte relação matricial tem de ser respeitada**<br>\n",
    " $$\\forall_{i < n}:\\sum_{j< m}\\,e_j\\,\\times\\,\\mathsf{L}_{j,i}\\;\\equiv\\;0\\mod  q \\iff \\exists k \\in \\mathbb{Z} \\centerdot  x \\;=\\; q\\,k \\\\$$ \n",
    "\n",
    "**2. A seguinte equação paramétrica tem de ser respeitada**<br>\n",
    "$$\\left\\{\\begin{array}{rcl}\\exists\\,e\\in \\{-1,0,1\\}^m\\,\\centerdot\\,\\exists\\,k\\in \\mathbb{Z}^n &\\centerdot & e\\times \\mathsf{L} \\;=\\; q\\,k \\\\ \\exists\\,i < n\\centerdot & e_i \\,\\neq\\, 0 \\end{array}\\right.$$\n",
    "                                \n",
    " "
   ]
  },
  {
   "cell_type": "markdown",
   "metadata": {},
   "source": [
    "# Implementaçao do Problema \n",
    "**Importar o solver**\n",
    "1. Instalar o o ortools a partir da libraria do PyPi (pip)\n",
    "2. Importar o cp_model do ortools (contem o solver que iremos usar neste problema)\n",
    "3. Importar o next_prime do ortools (contem o solver que iremos usar neste problema)"
   ]
  },
  {
   "cell_type": "code",
   "execution_count": null,
   "metadata": {},
   "outputs": [],
   "source": [
    "!pip install ortools\n",
    "!pip install gmpy2\n",
    "from ortools.sat.python import cp_model\n",
    "from random import randint\n",
    "from gmpy2 import next_prime\n"
   ]
  },
  {
   "cell_type": "markdown",
   "metadata": {},
   "source": [
    "**Função Auxiliar para visualizar a matriz formada**"
   ]
  },
  {
   "cell_type": "code",
   "execution_count": null,
   "metadata": {},
   "outputs": [],
   "source": [
    "#Função Para visualizar a matriz\n",
    "def print_array(L, m, n):\n",
    "    for j in range(m):\n",
    "        str1 = \"Row: \"+str(j+1)+\" -> \"\n",
    "        for i in range(n):\n",
    "            str1 += str(L[j, i])+\" \"\n"
   ]
  },
  {
   "cell_type": "markdown",
   "metadata": {},
   "source": [
    "**Função para multiplicar matriz e vetores**<br>\n",
    "Este função tem o parâmetro \"valor\" que tem como objeto servir de flag e transportar o valor de  $q$.<br>\n",
    "Se este valor for 0 (por default), então será uma multiplicação de matrizes, se for diferente de 0, então é a multiplicação de um vetor por $q$<br>\n"
   ]
  },
  {
   "cell_type": "code",
   "execution_count": null,
   "metadata": {},
   "outputs": [],
   "source": [
    "def multiplicar_matriz_vetor(matriz, j, i, vetor, valor=0):\n",
    "\n",
    "    # So pode entrar aqui um vetor de cada vez\n",
    "    #Se 0, entao é Vetor x Matriz\n",
    "    #Se !=0, então é Valor \"q\" x Matriz\n",
    "\n",
    "    #NAO FUNCIONA\n",
    "    if valor == 0:\n",
    "        final = [0]*i\n",
    "        for i1 in range(i):\n",
    "            #final[i1] = sum(vetor[j1] * matriz[j1, i1] for j1 in range(j))\n",
    "            final[i1] = sum(vetor * matriz[j1, i1] for j1 in range(j))\n",
    "        return final\n",
    "    if valor != 0:\n",
    "        final = [0]*j\n",
    "        for j1 in range(j):\n",
    "            #final[j1] = valor * vetor[j1]\n",
    "            final[j1] = valor * vetor\n",
    "        return final\n",
    "    return 0\n"
   ]
  },
  {
   "cell_type": "markdown",
   "metadata": {},
   "source": [
    "**Função que resolve o problema geral (hard_lattices)**\n",
    "1. Criar o model\n",
    "2. Criar a Matriz ${L}^{m \\times n}$\n",
    "3. Criar o Vetor $e$ e o vetor $u$\n",
    "4. Adicionar ao model todas Limitaçôes e Obrigações\n",
    "5. Criar o solver, usar o nosso model e no fim executá-lo"
   ]
  },
  {
   "cell_type": "code",
   "execution_count": null,
   "metadata": {},
   "outputs": [],
   "source": [
    "def hard_lattices(n, m, q, d):\n",
    "    model = cp_model.CpModel()\n",
    "\n",
    "    #Criação da Matriz Inicial\n",
    "    L = {}\n",
    "    for j in range(m):\n",
    "        for i in range(n):\n",
    "            L[j, i] = randint(-d, d+1)\n",
    "\n",
    "    # Vetor de alocação\n",
    "    e = [model.NewIntVar(-1, 1, f\"e[{j}]\") for j in range(m)]\n",
    "    # Vetor Booleano\n",
    "    u = [model.NewIntVar(0, 1, f'U[{j}]') for j in range(m)]\n",
    "    for j in range(m):\n",
    "        model.AddAbsEquality(u[j], e[j])\n",
    "\n",
    "    # Limitação/Obrigação 1\n",
    "    for i in range(n):\n",
    "        K = model.NewIntVar(0, q, f'k[{i}]')\n",
    "        model.Add(sum(e[j] * L[j, i] for j in range(m)) == K * q)\n",
    "\n",
    "    # Limitação/Obrigação 2.1 (Parte Superior da Paramétrica)\n",
    "    K1 = [model.NewIntVar(-q, q, f'K1[{i}]') for j in range(m)]\n",
    "    p1 = []\n",
    "    p2 = []\n",
    "    for j in range(m):\n",
    "        p1.append(multiplicar_matriz_vetor(L, j, i, e[j]))\n",
    "        p2.append(multiplicar_matriz_vetor(L, j, i, K1[j], q))\n",
    "    model.Add((p1[j1] for j1 in range(m)) == (p2[j2] for j2 in range(m)))\n",
    "\n",
    "    # Limitação/Obrigação 2.2 (Parte Inferior da Paramétrica)\n",
    "    model.Add(sum(u) >= 1)\n",
    "\n",
    "    #Executar o solver\n",
    "    model.Minimize(sum(u))\n",
    "    solver = cp_model.CpSolver()\n",
    "    status = solver.Solve(model)\n",
    "    if status == cp_model.OPTIMAL or status == cp_model.FEASIBLE:\n",
    "        print('e = ', end='')\n",
    "        for j in range(m):\n",
    "            print(solver.Value(e[j]), end=' ')\n",
    "        print()\n",
    "\n",
    "        print('u = ', end='')\n",
    "        for j in range(m):\n",
    "            print(solver.Value(u[j]), end=' ')\n",
    "\n",
    "        print()\n",
    "    else:\n",
    "        print('Sem solução!')\n"
   ]
  },
  {
   "cell_type": "markdown",
   "metadata": {},
   "source": [
    "# Vetores Finais"
   ]
  },
  {
   "cell_type": "code",
   "execution_count": null,
   "metadata": {},
   "outputs": [],
   "source": [
    "n = next_prime(2)\n",
    "m = next_prime(8)\n",
    "q = next_prime(11)\n",
    "d = (q - 1) // 2\n",
    "\n",
    "hard_lattices(n, m, q, d)\n"
   ]
  }
 ],
 "metadata": {
  "kernelspec": {
   "display_name": "Python 3.10.3 64-bit",
   "language": "python",
   "name": "python3"
  },
  "language_info": {
   "codemirror_mode": {
    "name": "ipython",
    "version": 3
   },
   "file_extension": ".py",
   "mimetype": "text/x-python",
   "name": "python",
   "nbconvert_exporter": "python",
   "pygments_lexer": "ipython3",
   "version": "3.10.3"
  },
  "orig_nbformat": 4,
  "vscode": {
   "interpreter": {
    "hash": "fa5e5e9a487e2dd76c7ea7823608b3e5576beb764152fabbf69ac7563ac3923b"
   }
  }
 },
 "nbformat": 4,
 "nbformat_minor": 2
}
